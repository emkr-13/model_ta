{
 "cells": [
  {
   "cell_type": "code",
   "execution_count": 1,
   "metadata": {},
   "outputs": [
    {
     "data": {
      "text/html": [
       "<div>\n",
       "<style scoped>\n",
       "    .dataframe tbody tr th:only-of-type {\n",
       "        vertical-align: middle;\n",
       "    }\n",
       "\n",
       "    .dataframe tbody tr th {\n",
       "        vertical-align: top;\n",
       "    }\n",
       "\n",
       "    .dataframe thead th {\n",
       "        text-align: right;\n",
       "    }\n",
       "</style>\n",
       "<table border=\"1\" class=\"dataframe\">\n",
       "  <thead>\n",
       "    <tr style=\"text-align: right;\">\n",
       "      <th></th>\n",
       "      <th>title</th>\n",
       "      <th>sentimen</th>\n",
       "      <th>link_berita</th>\n",
       "    </tr>\n",
       "  </thead>\n",
       "  <tbody>\n",
       "    <tr>\n",
       "      <th>0</th>\n",
       "      <td>PAN x JakCloth! Pesta Anak Nongkrong Sambangi ...</td>\n",
       "      <td>1</td>\n",
       "      <td>https://20.detik.com/advertorial/20231109-2311...</td>\n",
       "    </tr>\n",
       "    <tr>\n",
       "      <th>1</th>\n",
       "      <td>Strategi Sleman Dorong Ekonomi Pakai Batik dan...</td>\n",
       "      <td>1</td>\n",
       "      <td>https://20.detik.com/blak-blakan/20231204-2312...</td>\n",
       "    </tr>\n",
       "    <tr>\n",
       "      <th>2</th>\n",
       "      <td>Greysia Polii Ajak Anak Muda Terus Melangkah R...</td>\n",
       "      <td>1</td>\n",
       "      <td>https://20.detik.com/demi-indonesia/20231027-2...</td>\n",
       "    </tr>\n",
       "    <tr>\n",
       "      <th>3</th>\n",
       "      <td>Kapolri Bicara Arti Sumpah Pemuda di #DemiIndo...</td>\n",
       "      <td>1</td>\n",
       "      <td>https://20.detik.com/demi-indonesia/20231027-2...</td>\n",
       "    </tr>\n",
       "    <tr>\n",
       "      <th>4</th>\n",
       "      <td>Erick Thohir Ajak Muda untuk Tak Mager Demi In...</td>\n",
       "      <td>1</td>\n",
       "      <td>https://20.detik.com/demi-indonesia/20231027-2...</td>\n",
       "    </tr>\n",
       "  </tbody>\n",
       "</table>\n",
       "</div>"
      ],
      "text/plain": [
       "                                               title  sentimen  \\\n",
       "0  PAN x JakCloth! Pesta Anak Nongkrong Sambangi ...         1   \n",
       "1  Strategi Sleman Dorong Ekonomi Pakai Batik dan...         1   \n",
       "2  Greysia Polii Ajak Anak Muda Terus Melangkah R...         1   \n",
       "3  Kapolri Bicara Arti Sumpah Pemuda di #DemiIndo...         1   \n",
       "4  Erick Thohir Ajak Muda untuk Tak Mager Demi In...         1   \n",
       "\n",
       "                                         link_berita  \n",
       "0  https://20.detik.com/advertorial/20231109-2311...  \n",
       "1  https://20.detik.com/blak-blakan/20231204-2312...  \n",
       "2  https://20.detik.com/demi-indonesia/20231027-2...  \n",
       "3  https://20.detik.com/demi-indonesia/20231027-2...  \n",
       "4  https://20.detik.com/demi-indonesia/20231027-2...  "
      ]
     },
     "execution_count": 1,
     "metadata": {},
     "output_type": "execute_result"
    }
   ],
   "source": [
    "import pandas as pd\n",
    "\n",
    "# Read the original dataset\n",
    "dataset = pd.read_csv(\"raw_title.csv\")\n",
    "dataset.head()\n",
    "# # Group the dataset by the 'link_berita' column and aggregate other columns\n",
    "# aggregated_data = dataset.groupby('link_berita').agg({\n",
    "#     'title':'first',\n",
    "#     'tanggal_berita': 'first',  \n",
    "#     'content': 'first', \n",
    "#     'sentimen': 'first', \n",
    "#     'nama_berita': 'first'       \n",
    "# }).reset_index()\n",
    "\n",
    "# # Save the aggregated data to a CSV file\n",
    "# aggregated_data.to_csv(\"unique_data_all.csv\", index=False)\n",
    "\n",
    "# # Print the length of the original dataset and the length of unique values\n",
    "# print(\"Original dataset length:\", len(dataset))\n",
    "# print(\"Unique data length:\", len(aggregated_data))"
   ]
  },
  {
   "cell_type": "code",
   "execution_count": null,
   "metadata": {},
   "outputs": [],
   "source": []
  }
 ],
 "metadata": {
  "kernelspec": {
   "display_name": "env",
   "language": "python",
   "name": "python3"
  },
  "language_info": {
   "codemirror_mode": {
    "name": "ipython",
    "version": 3
   },
   "file_extension": ".py",
   "mimetype": "text/x-python",
   "name": "python",
   "nbconvert_exporter": "python",
   "pygments_lexer": "ipython3",
   "version": "3.11.5"
  }
 },
 "nbformat": 4,
 "nbformat_minor": 2
}
