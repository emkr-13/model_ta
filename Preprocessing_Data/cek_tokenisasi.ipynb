{
 "cells": [
  {
   "cell_type": "markdown",
   "metadata": {},
   "source": [
    "# Perbandingan Metode Tokenisasi"
   ]
  },
  {
   "cell_type": "markdown",
   "metadata": {},
   "source": [
    "# ----------------------------------------------------------------\n"
   ]
  },
  {
   "cell_type": "markdown",
   "metadata": {},
   "source": [
    "## Mengunakaan Libary Sastrawi"
   ]
  },
  {
   "cell_type": "code",
   "execution_count": 1,
   "metadata": {},
   "outputs": [],
   "source": [
    "# from Sastrawi.Tokenization.Tokenizer import Tokenizer\n",
    "\n",
    "# teks = \"bakal calon presiden dari koalisi indonesia maju (kim) prabowo subianto tak khawatir atas bujet yang bakal disediakan untuk program makan gratis pelajar dan juga kenaikan gaji guru, asn, maupun aparatur negara lainnya.\"\n",
    "\n",
    "# tokenizer = Tokenizer()\n",
    "# tokens = tokenizer.tokenize(teks)\n",
    "\n",
    "# print(tokens)\n"
   ]
  },
  {
   "cell_type": "markdown",
   "metadata": {},
   "source": [
    "## Mengunakaan Libary NLTK"
   ]
  },
  {
   "cell_type": "code",
   "execution_count": 2,
   "metadata": {},
   "outputs": [
    {
     "name": "stderr",
     "output_type": "stream",
     "text": [
      "[nltk_data] Downloading package punkt to /home/krisna/nltk_data...\n",
      "[nltk_data]   Package punkt is already up-to-date!\n"
     ]
    },
    {
     "data": {
      "text/plain": [
       "True"
      ]
     },
     "execution_count": 2,
     "metadata": {},
     "output_type": "execute_result"
    }
   ],
   "source": [
    "import nltk\n",
    "nltk.download('punkt')\n",
    "\n",
    "# from nltk.tokenize import word_tokenize, sent_tokenize\n",
    "\n",
    "# teks = \"bakal calon presiden dari koalisi indonesia maju (kim) prabowo subianto tak khawatir atas bujet yang bakal disediakan untuk program makan gratis pelajar dan juga kenaikan gaji guru, asn, maupun aparatur negara lainnya. dalam seminar yang diadakan oleh institute madani nusantara pada sabtu (30/9) di hotel bidakara, jakarta selatan, prabowo optimistis bahwa dana tersebut selalu tersedia jika alur perputaran uang di indonesia terjadi secara sehat. nanti ada yang bertanya, 'memangnya ada uangnya?' ada uangnya, kata prabowo memastikan. yang bocor-bocor harus kita tutup kebocorannya. yang maling-maling kita tutup malingnya. yang mark-up, yang gelembung-gelembung, kita tutup, sambungnya. prabowo menegaskan, ia juga tak segan untuk menekan para wajib pajak agar dapat membayarkan tanggung jawab sesuai porsi mereka. yang enggak mau bayar pajak, kita bayar supaya bayar pajak. kalau bisa, kita hilangkan penyelundupan juga, kata prabowo. penjelasan tersebut merupakan kiat-kiat dari prabowo untuk melaksanakan program pengentasan kemiskinan yang bakal dilakukan jika ia nanti terpilih menjadi presiden ri 2024-2029. salah satu program yang diutamakan adalah jatah makan siang gratis untuk anak sekolah di seluruh indonesia. salah satu program dalam pemberantasan kemiskinan adalah memperkuat anak-anak indonesia, kata prabowo subianto. kami akan memberi makan siang dan susu gratis di semua sekolah dan pesantren di seluruh indonesia, ujarnya. selain itu, prabowo juga menjanjikan kenaikan gaji bagi guru, asn, anggota tni, polri, serta seluruh perangkat abdi masyarakat lainnya. kami juga akan menaikkan gaji guru, asn, anggota tni, polri, kades, dan perangkat desa serta rt-rw di seluruh indonesia, seru prabowo. salah satu kebijakan elementer yang menurutnya juga perlu segera dikerjakan adalah bantuan gizi untuk balita dan ibu hamil. akses bantuan tersebut nantinya dijanjikan dapat tersedia di pos pelayanan terpadu di seluruh penjuru indonesia. kami juga akan memberi bantuan gizi untuk anak-anak balita dan ibu-ibu hamil, klaim prabowo. berarti posyandu-posyandu akan kita hidupkan semua di desa dan dusun seluruh indonesia, kata prabowo. ia optimistis dapat menyediakan anggaran yang diperlukan untuk seluruh janji tersebut, bersamaan dengan pemberantasan hal lain yang selama ini dianggap mengurangi pendapatan negara. pertanyaannya bukanlah apakah bisa, tapi ini harus bisa kalau kita mau maju sebagai negara. dan saya yakin kita bisa, tegasnya. saat ini prabowo subianto telah mendapat dukungan dari gerindra, golkar, pan, pbb, demokrat, gelora dan garuda sebagai bakal calon presiden di pilpres 2024. belum ada cawapres yang ditentukan. kpu baru membuka masa pendaftaran capres-cawapres pada oktober mendatang. pada jumat (29/9), wakil ketua dewan pembina partai gerindra hashim djojohadikusumo menyebutkan kandidat cawapres pendamping prabowo subianto di pilpres 2024 yang masih dipertimbangkan.\"\n",
    "\n",
    "# # Tokenisasi kalimat\n",
    "# kalimat_token = sent_tokenize(teks, language='indonesian')\n",
    "# print(\"Tokenisasi kalimat:\")\n",
    "# print(kalimat_token)\n",
    "\n",
    "# # Tokenisasi kata\n",
    "# kata_token = word_tokenize(teks, language='indonesian')\n",
    "# print(\"\\nTokenisasi kata:\")\n",
    "# print(kata_token)\n"
   ]
  },
  {
   "cell_type": "code",
   "execution_count": 3,
   "metadata": {},
   "outputs": [
    {
     "name": "stdout",
     "output_type": "stream",
     "text": [
      "Tokenisasi kalimat:\n",
      "['bakal calon presiden dari koalisi indonesia maju (kim) prabowo subianto tak khawatir atas bujet yang bakal disediakan untuk program makan gratis pelajar dan juga kenaikan gaji guru, asn, maupun aparatur negara lainnya.', 'dalam seminar yang diadakan oleh institute madani nusantara pada sabtu (30/9) di hotel bidakara, jakarta selatan, prabowo optimistis bahwa dana tersebut selalu tersedia jika alur perputaran uang di indonesia terjadi secara sehat.', \"nanti ada yang bertanya, 'memangnya ada uangnya?'\", 'ada uangnya, kata prabowo memastikan.', 'yang bocor-bocor harus kita tutup kebocorannya.', 'yang maling-maling kita tutup malingnya.', 'yang mark-up, yang gelembung-gelembung, kita tutup, sambungnya.', 'prabowo menegaskan, ia juga tak segan untuk menekan para wajib pajak agar dapat membayarkan tanggung jawab sesuai porsi mereka.', 'yang enggak mau bayar pajak, kita bayar supaya bayar pajak.', 'kalau bisa, kita hilangkan penyelundupan juga, kata prabowo.', 'penjelasan tersebut merupakan kiat-kiat dari prabowo untuk melaksanakan program pengentasan kemiskinan yang bakal dilakukan jika ia nanti terpilih menjadi presiden ri 2024-2029. salah satu program yang diutamakan adalah jatah makan siang gratis untuk anak sekolah di seluruh indonesia.', 'salah satu program dalam pemberantasan kemiskinan adalah memperkuat anak-anak indonesia, kata prabowo subianto.', 'kami akan memberi makan siang dan susu gratis di semua sekolah dan pesantren di seluruh indonesia, ujarnya.', 'selain itu, prabowo juga menjanjikan kenaikan gaji bagi guru, asn, anggota tni, polri, serta seluruh perangkat abdi masyarakat lainnya.', 'kami juga akan menaikkan gaji guru, asn, anggota tni, polri, kades, dan perangkat desa serta rt-rw di seluruh indonesia, seru prabowo.', 'salah satu kebijakan elementer yang menurutnya juga perlu segera dikerjakan adalah bantuan gizi untuk balita dan ibu hamil.', 'akses bantuan tersebut nantinya dijanjikan dapat tersedia di pos pelayanan terpadu di seluruh penjuru indonesia.', 'kami juga akan memberi bantuan gizi untuk anak-anak balita dan ibu-ibu hamil, klaim prabowo.', 'berarti posyandu-posyandu akan kita hidupkan semua di desa dan dusun seluruh indonesia, kata prabowo.', 'ia optimistis dapat menyediakan anggaran yang diperlukan untuk seluruh janji tersebut, bersamaan dengan pemberantasan hal lain yang selama ini dianggap mengurangi pendapatan negara.', 'pertanyaannya bukanlah apakah bisa, tapi ini harus bisa kalau kita mau maju sebagai negara.', 'dan saya yakin kita bisa, tegasnya.', 'saat ini prabowo subianto telah mendapat dukungan dari gerindra, golkar, pan, pbb, demokrat, gelora dan garuda sebagai bakal calon presiden di pilpres 2024. belum ada cawapres yang ditentukan.', 'kpu baru membuka masa pendaftaran capres-cawapres pada oktober mendatang.', 'pada jumat (29/9), wakil ketua dewan pembina partai gerindra hashim djojohadikusumo menyebutkan kandidat cawapres pendamping prabowo subianto di pilpres 2024 yang masih dipertimbangkan.']\n",
      "\n",
      "Tokenisasi kata:\n",
      "['bakal', 'calon', 'presiden', 'dari', 'koalisi', 'indonesia', 'maju', '(', 'kim', ')', 'prabowo', 'subianto', 'tak', 'khawatir', 'atas', 'bujet', 'yang', 'bakal', 'disediakan', 'untuk', 'program', 'makan', 'gratis', 'pelajar', 'dan', 'juga', 'kenaikan', 'gaji', 'guru', ',', 'asn', ',', 'maupun', 'aparatur', 'negara', 'lainnya', '.', 'dalam', 'seminar', 'yang', 'diadakan', 'oleh', 'institute', 'madani', 'nusantara', 'pada', 'sabtu', '(', '30/9', ')', 'di', 'hotel', 'bidakara', ',', 'jakarta', 'selatan', ',', 'prabowo', 'optimistis', 'bahwa', 'dana', 'tersebut', 'selalu', 'tersedia', 'jika', 'alur', 'perputaran', 'uang', 'di', 'indonesia', 'terjadi', 'secara', 'sehat', '.', 'nanti', 'ada', 'yang', 'bertanya', ',', \"'memangnya\", 'ada', 'uangnya', '?', \"'\", 'ada', 'uangnya', ',', 'kata', 'prabowo', 'memastikan', '.', 'yang', 'bocor-bocor', 'harus', 'kita', 'tutup', 'kebocorannya', '.', 'yang', 'maling-maling', 'kita', 'tutup', 'malingnya', '.', 'yang', 'mark-up', ',', 'yang', 'gelembung-gelembung', ',', 'kita', 'tutup', ',', 'sambungnya', '.', 'prabowo', 'menegaskan', ',', 'ia', 'juga', 'tak', 'segan', 'untuk', 'menekan', 'para', 'wajib', 'pajak', 'agar', 'dapat', 'membayarkan', 'tanggung', 'jawab', 'sesuai', 'porsi', 'mereka', '.', 'yang', 'enggak', 'mau', 'bayar', 'pajak', ',', 'kita', 'bayar', 'supaya', 'bayar', 'pajak', '.', 'kalau', 'bisa', ',', 'kita', 'hilangkan', 'penyelundupan', 'juga', ',', 'kata', 'prabowo', '.', 'penjelasan', 'tersebut', 'merupakan', 'kiat-kiat', 'dari', 'prabowo', 'untuk', 'melaksanakan', 'program', 'pengentasan', 'kemiskinan', 'yang', 'bakal', 'dilakukan', 'jika', 'ia', 'nanti', 'terpilih', 'menjadi', 'presiden', 'ri', '2024-2029.', 'salah', 'satu', 'program', 'yang', 'diutamakan', 'adalah', 'jatah', 'makan', 'siang', 'gratis', 'untuk', 'anak', 'sekolah', 'di', 'seluruh', 'indonesia', '.', 'salah', 'satu', 'program', 'dalam', 'pemberantasan', 'kemiskinan', 'adalah', 'memperkuat', 'anak-anak', 'indonesia', ',', 'kata', 'prabowo', 'subianto', '.', 'kami', 'akan', 'memberi', 'makan', 'siang', 'dan', 'susu', 'gratis', 'di', 'semua', 'sekolah', 'dan', 'pesantren', 'di', 'seluruh', 'indonesia', ',', 'ujarnya', '.', 'selain', 'itu', ',', 'prabowo', 'juga', 'menjanjikan', 'kenaikan', 'gaji', 'bagi', 'guru', ',', 'asn', ',', 'anggota', 'tni', ',', 'polri', ',', 'serta', 'seluruh', 'perangkat', 'abdi', 'masyarakat', 'lainnya', '.', 'kami', 'juga', 'akan', 'menaikkan', 'gaji', 'guru', ',', 'asn', ',', 'anggota', 'tni', ',', 'polri', ',', 'kades', ',', 'dan', 'perangkat', 'desa', 'serta', 'rt-rw', 'di', 'seluruh', 'indonesia', ',', 'seru', 'prabowo', '.', 'salah', 'satu', 'kebijakan', 'elementer', 'yang', 'menurutnya', 'juga', 'perlu', 'segera', 'dikerjakan', 'adalah', 'bantuan', 'gizi', 'untuk', 'balita', 'dan', 'ibu', 'hamil', '.', 'akses', 'bantuan', 'tersebut', 'nantinya', 'dijanjikan', 'dapat', 'tersedia', 'di', 'pos', 'pelayanan', 'terpadu', 'di', 'seluruh', 'penjuru', 'indonesia', '.', 'kami', 'juga', 'akan', 'memberi', 'bantuan', 'gizi', 'untuk', 'anak-anak', 'balita', 'dan', 'ibu-ibu', 'hamil', ',', 'klaim', 'prabowo', '.', 'berarti', 'posyandu-posyandu', 'akan', 'kita', 'hidupkan', 'semua', 'di', 'desa', 'dan', 'dusun', 'seluruh', 'indonesia', ',', 'kata', 'prabowo', '.', 'ia', 'optimistis', 'dapat', 'menyediakan', 'anggaran', 'yang', 'diperlukan', 'untuk', 'seluruh', 'janji', 'tersebut', ',', 'bersamaan', 'dengan', 'pemberantasan', 'hal', 'lain', 'yang', 'selama', 'ini', 'dianggap', 'mengurangi', 'pendapatan', 'negara', '.', 'pertanyaannya', 'bukanlah', 'apakah', 'bisa', ',', 'tapi', 'ini', 'harus', 'bisa', 'kalau', 'kita', 'mau', 'maju', 'sebagai', 'negara', '.', 'dan', 'saya', 'yakin', 'kita', 'bisa', ',', 'tegasnya', '.', 'saat', 'ini', 'prabowo', 'subianto', 'telah', 'mendapat', 'dukungan', 'dari', 'gerindra', ',', 'golkar', ',', 'pan', ',', 'pbb', ',', 'demokrat', ',', 'gelora', 'dan', 'garuda', 'sebagai', 'bakal', 'calon', 'presiden', 'di', 'pilpres', '2024.', 'belum', 'ada', 'cawapres', 'yang', 'ditentukan', '.', 'kpu', 'baru', 'membuka', 'masa', 'pendaftaran', 'capres-cawapres', 'pada', 'oktober', 'mendatang', '.', 'pada', 'jumat', '(', '29/9', ')', ',', 'wakil', 'ketua', 'dewan', 'pembina', 'partai', 'gerindra', 'hashim', 'djojohadikusumo', 'menyebutkan', 'kandidat', 'cawapres', 'pendamping', 'prabowo', 'subianto', 'di', 'pilpres', '2024', 'yang', 'masih', 'dipertimbangkan', '.']\n"
     ]
    }
   ],
   "source": [
    "from nltk.tokenize import word_tokenize, sent_tokenize\n",
    "\n",
    "teks = \"bakal calon presiden dari koalisi indonesia maju (kim) prabowo subianto tak khawatir atas bujet yang bakal disediakan untuk program makan gratis pelajar dan juga kenaikan gaji guru, asn, maupun aparatur negara lainnya. dalam seminar yang diadakan oleh institute madani nusantara pada sabtu (30/9) di hotel bidakara, jakarta selatan, prabowo optimistis bahwa dana tersebut selalu tersedia jika alur perputaran uang di indonesia terjadi secara sehat. nanti ada yang bertanya, 'memangnya ada uangnya?' ada uangnya, kata prabowo memastikan. yang bocor-bocor harus kita tutup kebocorannya. yang maling-maling kita tutup malingnya. yang mark-up, yang gelembung-gelembung, kita tutup, sambungnya. prabowo menegaskan, ia juga tak segan untuk menekan para wajib pajak agar dapat membayarkan tanggung jawab sesuai porsi mereka. yang enggak mau bayar pajak, kita bayar supaya bayar pajak. kalau bisa, kita hilangkan penyelundupan juga, kata prabowo. penjelasan tersebut merupakan kiat-kiat dari prabowo untuk melaksanakan program pengentasan kemiskinan yang bakal dilakukan jika ia nanti terpilih menjadi presiden ri 2024-2029. salah satu program yang diutamakan adalah jatah makan siang gratis untuk anak sekolah di seluruh indonesia. salah satu program dalam pemberantasan kemiskinan adalah memperkuat anak-anak indonesia, kata prabowo subianto. kami akan memberi makan siang dan susu gratis di semua sekolah dan pesantren di seluruh indonesia, ujarnya. selain itu, prabowo juga menjanjikan kenaikan gaji bagi guru, asn, anggota tni, polri, serta seluruh perangkat abdi masyarakat lainnya. kami juga akan menaikkan gaji guru, asn, anggota tni, polri, kades, dan perangkat desa serta rt-rw di seluruh indonesia, seru prabowo. salah satu kebijakan elementer yang menurutnya juga perlu segera dikerjakan adalah bantuan gizi untuk balita dan ibu hamil. akses bantuan tersebut nantinya dijanjikan dapat tersedia di pos pelayanan terpadu di seluruh penjuru indonesia. kami juga akan memberi bantuan gizi untuk anak-anak balita dan ibu-ibu hamil, klaim prabowo. berarti posyandu-posyandu akan kita hidupkan semua di desa dan dusun seluruh indonesia, kata prabowo. ia optimistis dapat menyediakan anggaran yang diperlukan untuk seluruh janji tersebut, bersamaan dengan pemberantasan hal lain yang selama ini dianggap mengurangi pendapatan negara. pertanyaannya bukanlah apakah bisa, tapi ini harus bisa kalau kita mau maju sebagai negara. dan saya yakin kita bisa, tegasnya. saat ini prabowo subianto telah mendapat dukungan dari gerindra, golkar, pan, pbb, demokrat, gelora dan garuda sebagai bakal calon presiden di pilpres 2024. belum ada cawapres yang ditentukan. kpu baru membuka masa pendaftaran capres-cawapres pada oktober mendatang. pada jumat (29/9), wakil ketua dewan pembina partai gerindra hashim djojohadikusumo menyebutkan kandidat cawapres pendamping prabowo subianto di pilpres 2024 yang masih dipertimbangkan.\"\n",
    "\n",
    "# Tokenisasi kalimat\n",
    "kalimat_token = sent_tokenize(teks)\n",
    "print(\"Tokenisasi kalimat:\")\n",
    "print(kalimat_token)\n",
    "\n",
    "# Tokenisasi kata\n",
    "kata_token = word_tokenize(teks)\n",
    "print(\"\\nTokenisasi kata:\")\n",
    "print(kata_token)"
   ]
  },
  {
   "cell_type": "markdown",
   "metadata": {},
   "source": [
    "## Mengunakaan Libary Spacy"
   ]
  },
  {
   "cell_type": "code",
   "execution_count": 5,
   "metadata": {},
   "outputs": [
    {
     "ename": "OSError",
     "evalue": "[E050] Can't find model 'id_core_news_sm'. It doesn't seem to be a Python package or a valid path to a data directory.",
     "output_type": "error",
     "traceback": [
      "\u001b[0;31m---------------------------------------------------------------------------\u001b[0m",
      "\u001b[0;31mOSError\u001b[0m                                   Traceback (most recent call last)",
      "Cell \u001b[0;32mIn[5], line 4\u001b[0m\n\u001b[1;32m      1\u001b[0m \u001b[38;5;28;01mimport\u001b[39;00m \u001b[38;5;21;01mspacy\u001b[39;00m\n\u001b[1;32m      3\u001b[0m \u001b[38;5;66;03m# Load model bahasa Indonesia\u001b[39;00m\n\u001b[0;32m----> 4\u001b[0m nlp \u001b[38;5;241m=\u001b[39m \u001b[43mspacy\u001b[49m\u001b[38;5;241;43m.\u001b[39;49m\u001b[43mload\u001b[49m\u001b[43m(\u001b[49m\u001b[38;5;124;43m\"\u001b[39;49m\u001b[38;5;124;43mid_core_news_sm\u001b[39;49m\u001b[38;5;124;43m\"\u001b[39;49m\u001b[43m)\u001b[49m\n\u001b[1;32m      6\u001b[0m \u001b[38;5;66;03m# Teks yang akan di-tokenisasi\u001b[39;00m\n\u001b[1;32m      7\u001b[0m teks \u001b[38;5;241m=\u001b[39m \u001b[38;5;124m\"\u001b[39m\u001b[38;5;124mbakal calon presiden dari koalisi indonesia maju (kim) prabowo subianto tak khawatir atas bujet yang bakal disediakan untuk program makan gratis pelajar dan juga kenaikan gaji guru, asn, maupun aparatur negara lainnya. dalam seminar yang diadakan oleh institute madani nusantara pada sabtu (30/9) di hotel bidakara, jakarta selatan, prabowo optimistis bahwa dana tersebut selalu tersedia jika alur perputaran uang di indonesia terjadi secara sehat. nanti ada yang bertanya, \u001b[39m\u001b[38;5;124m'\u001b[39m\u001b[38;5;124mmemangnya ada uangnya?\u001b[39m\u001b[38;5;124m'\u001b[39m\u001b[38;5;124m ada uangnya, kata prabowo memastikan. yang bocor-bocor harus kita tutup kebocorannya. yang maling-maling kita tutup malingnya. yang mark-up, yang gelembung-gelembung, kita tutup, sambungnya. prabowo menegaskan, ia juga tak segan untuk menekan para wajib pajak agar dapat membayarkan tanggung jawab sesuai porsi mereka. yang enggak mau bayar pajak, kita bayar supaya bayar pajak. kalau bisa, kita hilangkan penyelundupan juga, kata prabowo. penjelasan tersebut merupakan kiat-kiat dari prabowo untuk melaksanakan program pengentasan kemiskinan yang bakal dilakukan jika ia nanti terpilih menjadi presiden ri 2024-2029. salah satu program yang diutamakan adalah jatah makan siang gratis untuk anak sekolah di seluruh indonesia. salah satu program dalam pemberantasan kemiskinan adalah memperkuat anak-anak indonesia, kata prabowo subianto. kami akan memberi makan siang dan susu gratis di semua sekolah dan pesantren di seluruh indonesia, ujarnya. selain itu, prabowo juga menjanjikan kenaikan gaji bagi guru, asn, anggota tni, polri, serta seluruh perangkat abdi masyarakat lainnya. kami juga akan menaikkan gaji guru, asn, anggota tni, polri, kades, dan perangkat desa serta rt-rw di seluruh indonesia, seru prabowo. salah satu kebijakan elementer yang menurutnya juga perlu segera dikerjakan adalah bantuan gizi untuk balita dan ibu hamil. akses bantuan tersebut nantinya dijanjikan dapat tersedia di pos pelayanan terpadu di seluruh penjuru indonesia. kami juga akan memberi bantuan gizi untuk anak-anak balita dan ibu-ibu hamil, klaim prabowo. berarti posyandu-posyandu akan kita hidupkan semua di desa dan dusun seluruh indonesia, kata prabowo. ia optimistis dapat menyediakan anggaran yang diperlukan untuk seluruh janji tersebut, bersamaan dengan pemberantasan hal lain yang selama ini dianggap mengurangi pendapatan negara. pertanyaannya bukanlah apakah bisa, tapi ini harus bisa kalau kita mau maju sebagai negara. dan saya yakin kita bisa, tegasnya. saat ini prabowo subianto telah mendapat dukungan dari gerindra, golkar, pan, pbb, demokrat, gelora dan garuda sebagai bakal calon presiden di pilpres 2024. belum ada cawapres yang ditentukan. kpu baru membuka masa pendaftaran capres-cawapres pada oktober mendatang. pada jumat (29/9), wakil ketua dewan pembina partai gerindra hashim djojohadikusumo menyebutkan kandidat cawapres pendamping prabowo subianto di pilpres 2024 yang masih dipertimbangkan.\u001b[39m\u001b[38;5;124m\"\u001b[39m\n",
      "File \u001b[0;32m~/ProjectTA/model_ta/env/lib/python3.11/site-packages/spacy/__init__.py:51\u001b[0m, in \u001b[0;36mload\u001b[0;34m(name, vocab, disable, enable, exclude, config)\u001b[0m\n\u001b[1;32m     27\u001b[0m \u001b[38;5;28;01mdef\u001b[39;00m \u001b[38;5;21mload\u001b[39m(\n\u001b[1;32m     28\u001b[0m     name: Union[\u001b[38;5;28mstr\u001b[39m, Path],\n\u001b[1;32m     29\u001b[0m     \u001b[38;5;241m*\u001b[39m,\n\u001b[0;32m   (...)\u001b[0m\n\u001b[1;32m     34\u001b[0m     config: Union[Dict[\u001b[38;5;28mstr\u001b[39m, Any], Config] \u001b[38;5;241m=\u001b[39m util\u001b[38;5;241m.\u001b[39mSimpleFrozenDict(),\n\u001b[1;32m     35\u001b[0m ) \u001b[38;5;241m-\u001b[39m\u001b[38;5;241m>\u001b[39m Language:\n\u001b[1;32m     36\u001b[0m \u001b[38;5;250m    \u001b[39m\u001b[38;5;124;03m\"\"\"Load a spaCy model from an installed package or a local path.\u001b[39;00m\n\u001b[1;32m     37\u001b[0m \n\u001b[1;32m     38\u001b[0m \u001b[38;5;124;03m    name (str): Package name or model path.\u001b[39;00m\n\u001b[0;32m   (...)\u001b[0m\n\u001b[1;32m     49\u001b[0m \u001b[38;5;124;03m    RETURNS (Language): The loaded nlp object.\u001b[39;00m\n\u001b[1;32m     50\u001b[0m \u001b[38;5;124;03m    \"\"\"\u001b[39;00m\n\u001b[0;32m---> 51\u001b[0m     \u001b[38;5;28;01mreturn\u001b[39;00m \u001b[43mutil\u001b[49m\u001b[38;5;241;43m.\u001b[39;49m\u001b[43mload_model\u001b[49m\u001b[43m(\u001b[49m\n\u001b[1;32m     52\u001b[0m \u001b[43m        \u001b[49m\u001b[43mname\u001b[49m\u001b[43m,\u001b[49m\n\u001b[1;32m     53\u001b[0m \u001b[43m        \u001b[49m\u001b[43mvocab\u001b[49m\u001b[38;5;241;43m=\u001b[39;49m\u001b[43mvocab\u001b[49m\u001b[43m,\u001b[49m\n\u001b[1;32m     54\u001b[0m \u001b[43m        \u001b[49m\u001b[43mdisable\u001b[49m\u001b[38;5;241;43m=\u001b[39;49m\u001b[43mdisable\u001b[49m\u001b[43m,\u001b[49m\n\u001b[1;32m     55\u001b[0m \u001b[43m        \u001b[49m\u001b[43menable\u001b[49m\u001b[38;5;241;43m=\u001b[39;49m\u001b[43menable\u001b[49m\u001b[43m,\u001b[49m\n\u001b[1;32m     56\u001b[0m \u001b[43m        \u001b[49m\u001b[43mexclude\u001b[49m\u001b[38;5;241;43m=\u001b[39;49m\u001b[43mexclude\u001b[49m\u001b[43m,\u001b[49m\n\u001b[1;32m     57\u001b[0m \u001b[43m        \u001b[49m\u001b[43mconfig\u001b[49m\u001b[38;5;241;43m=\u001b[39;49m\u001b[43mconfig\u001b[49m\u001b[43m,\u001b[49m\n\u001b[1;32m     58\u001b[0m \u001b[43m    \u001b[49m\u001b[43m)\u001b[49m\n",
      "File \u001b[0;32m~/ProjectTA/model_ta/env/lib/python3.11/site-packages/spacy/util.py:472\u001b[0m, in \u001b[0;36mload_model\u001b[0;34m(name, vocab, disable, enable, exclude, config)\u001b[0m\n\u001b[1;32m    470\u001b[0m \u001b[38;5;28;01mif\u001b[39;00m name \u001b[38;5;129;01min\u001b[39;00m OLD_MODEL_SHORTCUTS:\n\u001b[1;32m    471\u001b[0m     \u001b[38;5;28;01mraise\u001b[39;00m \u001b[38;5;167;01mIOError\u001b[39;00m(Errors\u001b[38;5;241m.\u001b[39mE941\u001b[38;5;241m.\u001b[39mformat(name\u001b[38;5;241m=\u001b[39mname, full\u001b[38;5;241m=\u001b[39mOLD_MODEL_SHORTCUTS[name]))  \u001b[38;5;66;03m# type: ignore[index]\u001b[39;00m\n\u001b[0;32m--> 472\u001b[0m \u001b[38;5;28;01mraise\u001b[39;00m \u001b[38;5;167;01mIOError\u001b[39;00m(Errors\u001b[38;5;241m.\u001b[39mE050\u001b[38;5;241m.\u001b[39mformat(name\u001b[38;5;241m=\u001b[39mname))\n",
      "\u001b[0;31mOSError\u001b[0m: [E050] Can't find model 'id_core_news_sm'. It doesn't seem to be a Python package or a valid path to a data directory."
     ]
    }
   ],
   "source": [
    "import spacy\n",
    "\n",
    "# Load model bahasa Indonesia\n",
    "nlp = spacy.load(\"id_core_news_sm\")\n",
    "\n",
    "# Teks yang akan di-tokenisasi\n",
    "teks = \"bakal calon presiden dari koalisi indonesia maju (kim) prabowo subianto tak khawatir atas bujet yang bakal disediakan untuk program makan gratis pelajar dan juga kenaikan gaji guru, asn, maupun aparatur negara lainnya. dalam seminar yang diadakan oleh institute madani nusantara pada sabtu (30/9) di hotel bidakara, jakarta selatan, prabowo optimistis bahwa dana tersebut selalu tersedia jika alur perputaran uang di indonesia terjadi secara sehat. nanti ada yang bertanya, 'memangnya ada uangnya?' ada uangnya, kata prabowo memastikan. yang bocor-bocor harus kita tutup kebocorannya. yang maling-maling kita tutup malingnya. yang mark-up, yang gelembung-gelembung, kita tutup, sambungnya. prabowo menegaskan, ia juga tak segan untuk menekan para wajib pajak agar dapat membayarkan tanggung jawab sesuai porsi mereka. yang enggak mau bayar pajak, kita bayar supaya bayar pajak. kalau bisa, kita hilangkan penyelundupan juga, kata prabowo. penjelasan tersebut merupakan kiat-kiat dari prabowo untuk melaksanakan program pengentasan kemiskinan yang bakal dilakukan jika ia nanti terpilih menjadi presiden ri 2024-2029. salah satu program yang diutamakan adalah jatah makan siang gratis untuk anak sekolah di seluruh indonesia. salah satu program dalam pemberantasan kemiskinan adalah memperkuat anak-anak indonesia, kata prabowo subianto. kami akan memberi makan siang dan susu gratis di semua sekolah dan pesantren di seluruh indonesia, ujarnya. selain itu, prabowo juga menjanjikan kenaikan gaji bagi guru, asn, anggota tni, polri, serta seluruh perangkat abdi masyarakat lainnya. kami juga akan menaikkan gaji guru, asn, anggota tni, polri, kades, dan perangkat desa serta rt-rw di seluruh indonesia, seru prabowo. salah satu kebijakan elementer yang menurutnya juga perlu segera dikerjakan adalah bantuan gizi untuk balita dan ibu hamil. akses bantuan tersebut nantinya dijanjikan dapat tersedia di pos pelayanan terpadu di seluruh penjuru indonesia. kami juga akan memberi bantuan gizi untuk anak-anak balita dan ibu-ibu hamil, klaim prabowo. berarti posyandu-posyandu akan kita hidupkan semua di desa dan dusun seluruh indonesia, kata prabowo. ia optimistis dapat menyediakan anggaran yang diperlukan untuk seluruh janji tersebut, bersamaan dengan pemberantasan hal lain yang selama ini dianggap mengurangi pendapatan negara. pertanyaannya bukanlah apakah bisa, tapi ini harus bisa kalau kita mau maju sebagai negara. dan saya yakin kita bisa, tegasnya. saat ini prabowo subianto telah mendapat dukungan dari gerindra, golkar, pan, pbb, demokrat, gelora dan garuda sebagai bakal calon presiden di pilpres 2024. belum ada cawapres yang ditentukan. kpu baru membuka masa pendaftaran capres-cawapres pada oktober mendatang. pada jumat (29/9), wakil ketua dewan pembina partai gerindra hashim djojohadikusumo menyebutkan kandidat cawapres pendamping prabowo subianto di pilpres 2024 yang masih dipertimbangkan.\"\n",
    "\n",
    "# Tokenisasi teks\n",
    "doc = nlp(teks)\n",
    "\n",
    "# Menampilkan token\n",
    "for token in doc:\n",
    "    print(token.text)\n"
   ]
  },
  {
   "cell_type": "markdown",
   "metadata": {},
   "source": [
    "## Mengunakaan Libary Stanza"
   ]
  }
 ],
 "metadata": {
  "kernelspec": {
   "display_name": "env",
   "language": "python",
   "name": "python3"
  },
  "language_info": {
   "codemirror_mode": {
    "name": "ipython",
    "version": 3
   },
   "file_extension": ".py",
   "mimetype": "text/x-python",
   "name": "python",
   "nbconvert_exporter": "python",
   "pygments_lexer": "ipython3",
   "version": "3.11.5"
  }
 },
 "nbformat": 4,
 "nbformat_minor": 2
}
