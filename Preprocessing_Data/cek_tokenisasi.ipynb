{
 "cells": [
  {
   "cell_type": "markdown",
   "metadata": {},
   "source": [
    "# Perbandingan Metode Tokenisasi"
   ]
  },
  {
   "cell_type": "markdown",
   "metadata": {},
   "source": [
    "# ----------------------------------------------------------------\n"
   ]
  },
  {
   "cell_type": "markdown",
   "metadata": {},
   "source": [
    "## Mengunakaan Libary Sastrawi"
   ]
  },
  {
   "cell_type": "code",
   "execution_count": 1,
   "metadata": {},
   "outputs": [],
   "source": [
    "# from Sastrawi.Tokenization.Tokenizer import Tokenizer\n",
    "\n",
    "# teks = \"bakal calon presiden dari koalisi indonesia maju (kim) prabowo subianto tak khawatir atas bujet yang bakal disediakan untuk program makan gratis pelajar dan juga kenaikan gaji guru, asn, maupun aparatur negara lainnya.\"\n",
    "\n",
    "# tokenizer = Tokenizer()\n",
    "# tokens = tokenizer.tokenize(teks)\n",
    "\n",
    "# print(tokens)\n"
   ]
  },
  {
   "cell_type": "markdown",
   "metadata": {},
   "source": [
    "## Mengunakaan Libary NLTK"
   ]
  },
  {
   "cell_type": "code",
   "execution_count": 2,
   "metadata": {},
   "outputs": [
    {
     "name": "stderr",
     "output_type": "stream",
     "text": [
      "[nltk_data] Downloading package punkt to /home/krisna/nltk_data...\n",
      "[nltk_data]   Package punkt is already up-to-date!\n"
     ]
    },
    {
     "data": {
      "text/plain": [
       "True"
      ]
     },
     "execution_count": 2,
     "metadata": {},
     "output_type": "execute_result"
    }
   ],
   "source": [
    "import nltk\n",
    "nltk.download('punkt')\n",
    "\n",
    "# from nltk.tokenize import word_tokenize, sent_tokenize\n",
    "\n",
    "# teks = \"bakal calon presiden dari koalisi indonesia maju (kim) prabowo subianto tak khawatir atas bujet yang bakal disediakan untuk program makan gratis pelajar dan juga kenaikan gaji guru, asn, maupun aparatur negara lainnya. dalam seminar yang diadakan oleh institute madani nusantara pada sabtu (30/9) di hotel bidakara, jakarta selatan, prabowo optimistis bahwa dana tersebut selalu tersedia jika alur perputaran uang di indonesia terjadi secara sehat. nanti ada yang bertanya, 'memangnya ada uangnya?' ada uangnya, kata prabowo memastikan. yang bocor-bocor harus kita tutup kebocorannya. yang maling-maling kita tutup malingnya. yang mark-up, yang gelembung-gelembung, kita tutup, sambungnya. prabowo menegaskan, ia juga tak segan untuk menekan para wajib pajak agar dapat membayarkan tanggung jawab sesuai porsi mereka. yang enggak mau bayar pajak, kita bayar supaya bayar pajak. kalau bisa, kita hilangkan penyelundupan juga, kata prabowo. penjelasan tersebut merupakan kiat-kiat dari prabowo untuk melaksanakan program pengentasan kemiskinan yang bakal dilakukan jika ia nanti terpilih menjadi presiden ri 2024-2029. salah satu program yang diutamakan adalah jatah makan siang gratis untuk anak sekolah di seluruh indonesia. salah satu program dalam pemberantasan kemiskinan adalah memperkuat anak-anak indonesia, kata prabowo subianto. kami akan memberi makan siang dan susu gratis di semua sekolah dan pesantren di seluruh indonesia, ujarnya. selain itu, prabowo juga menjanjikan kenaikan gaji bagi guru, asn, anggota tni, polri, serta seluruh perangkat abdi masyarakat lainnya. kami juga akan menaikkan gaji guru, asn, anggota tni, polri, kades, dan perangkat desa serta rt-rw di seluruh indonesia, seru prabowo. salah satu kebijakan elementer yang menurutnya juga perlu segera dikerjakan adalah bantuan gizi untuk balita dan ibu hamil. akses bantuan tersebut nantinya dijanjikan dapat tersedia di pos pelayanan terpadu di seluruh penjuru indonesia. kami juga akan memberi bantuan gizi untuk anak-anak balita dan ibu-ibu hamil, klaim prabowo. berarti posyandu-posyandu akan kita hidupkan semua di desa dan dusun seluruh indonesia, kata prabowo. ia optimistis dapat menyediakan anggaran yang diperlukan untuk seluruh janji tersebut, bersamaan dengan pemberantasan hal lain yang selama ini dianggap mengurangi pendapatan negara. pertanyaannya bukanlah apakah bisa, tapi ini harus bisa kalau kita mau maju sebagai negara. dan saya yakin kita bisa, tegasnya. saat ini prabowo subianto telah mendapat dukungan dari gerindra, golkar, pan, pbb, demokrat, gelora dan garuda sebagai bakal calon presiden di pilpres 2024. belum ada cawapres yang ditentukan. kpu baru membuka masa pendaftaran capres-cawapres pada oktober mendatang. pada jumat (29/9), wakil ketua dewan pembina partai gerindra hashim djojohadikusumo menyebutkan kandidat cawapres pendamping prabowo subianto di pilpres 2024 yang masih dipertimbangkan.\"\n",
    "\n",
    "# # Tokenisasi kalimat\n",
    "# kalimat_token = sent_tokenize(teks, language='indonesian')\n",
    "# print(\"Tokenisasi kalimat:\")\n",
    "# print(kalimat_token)\n",
    "\n",
    "# # Tokenisasi kata\n",
    "# kata_token = word_tokenize(teks, language='indonesian')\n",
    "# print(\"\\nTokenisasi kata:\")\n",
    "# print(kata_token)\n"
   ]
  },
  {
   "cell_type": "code",
   "execution_count": 3,
   "metadata": {},
   "outputs": [
    {
     "name": "stdout",
     "output_type": "stream",
     "text": [
      "Tokenisasi kalimat:\n",
      "['bakal calon presiden dari koalisi indonesia maju (kim) prabowo subianto tak khawatir atas bujet yang bakal disediakan untuk program makan gratis pelajar dan juga kenaikan gaji guru, asn, maupun aparatur negara lainnya.', 'dalam seminar yang diadakan oleh institute madani nusantara pada sabtu (30/9) di hotel bidakara, jakarta selatan, prabowo optimistis bahwa dana tersebut selalu tersedia jika alur perputaran uang di indonesia terjadi secara sehat.', \"nanti ada yang bertanya, 'memangnya ada uangnya?'\", 'ada uangnya, kata prabowo memastikan.', 'yang bocor-bocor harus kita tutup kebocorannya.', 'yang maling-maling kita tutup malingnya.', 'yang mark-up, yang gelembung-gelembung, kita tutup, sambungnya.', 'prabowo menegaskan, ia juga tak segan untuk menekan para wajib pajak agar dapat membayarkan tanggung jawab sesuai porsi mereka.', 'yang enggak mau bayar pajak, kita bayar supaya bayar pajak.', 'kalau bisa, kita hilangkan penyelundupan juga, kata prabowo.', 'penjelasan tersebut merupakan kiat-kiat dari prabowo untuk melaksanakan program pengentasan kemiskinan yang bakal dilakukan jika ia nanti terpilih menjadi presiden ri 2024-2029. salah satu program yang diutamakan adalah jatah makan siang gratis untuk anak sekolah di seluruh indonesia.', 'salah satu program dalam pemberantasan kemiskinan adalah memperkuat anak-anak indonesia, kata prabowo subianto.', 'kami akan memberi makan siang dan susu gratis di semua sekolah dan pesantren di seluruh indonesia, ujarnya.', 'selain itu, prabowo juga menjanjikan kenaikan gaji bagi guru, asn, anggota tni, polri, serta seluruh perangkat abdi masyarakat lainnya.', 'kami juga akan menaikkan gaji guru, asn, anggota tni, polri, kades, dan perangkat desa serta rt-rw di seluruh indonesia, seru prabowo.', 'salah satu kebijakan elementer yang menurutnya juga perlu segera dikerjakan adalah bantuan gizi untuk balita dan ibu hamil.', 'akses bantuan tersebut nantinya dijanjikan dapat tersedia di pos pelayanan terpadu di seluruh penjuru indonesia.', 'kami juga akan memberi bantuan gizi untuk anak-anak balita dan ibu-ibu hamil, klaim prabowo.', 'berarti posyandu-posyandu akan kita hidupkan semua di desa dan dusun seluruh indonesia, kata prabowo.', 'ia optimistis dapat menyediakan anggaran yang diperlukan untuk seluruh janji tersebut, bersamaan dengan pemberantasan hal lain yang selama ini dianggap mengurangi pendapatan negara.', 'pertanyaannya bukanlah apakah bisa, tapi ini harus bisa kalau kita mau maju sebagai negara.', 'dan saya yakin kita bisa, tegasnya.', 'saat ini prabowo subianto telah mendapat dukungan dari gerindra, golkar, pan, pbb, demokrat, gelora dan garuda sebagai bakal calon presiden di pilpres 2024. belum ada cawapres yang ditentukan.', 'kpu baru membuka masa pendaftaran capres-cawapres pada oktober mendatang.', 'pada jumat (29/9), wakil ketua dewan pembina partai gerindra hashim djojohadikusumo menyebutkan kandidat cawapres pendamping prabowo subianto di pilpres 2024 yang masih dipertimbangkan.']\n",
      "\n",
      "Tokenisasi kata:\n",
      "['bakal', 'calon', 'presiden', 'dari', 'koalisi', 'indonesia', 'maju', '(', 'kim', ')', 'prabowo', 'subianto', 'tak', 'khawatir', 'atas', 'bujet', 'yang', 'bakal', 'disediakan', 'untuk', 'program', 'makan', 'gratis', 'pelajar', 'dan', 'juga', 'kenaikan', 'gaji', 'guru', ',', 'asn', ',', 'maupun', 'aparatur', 'negara', 'lainnya', '.', 'dalam', 'seminar', 'yang', 'diadakan', 'oleh', 'institute', 'madani', 'nusantara', 'pada', 'sabtu', '(', '30/9', ')', 'di', 'hotel', 'bidakara', ',', 'jakarta', 'selatan', ',', 'prabowo', 'optimistis', 'bahwa', 'dana', 'tersebut', 'selalu', 'tersedia', 'jika', 'alur', 'perputaran', 'uang', 'di', 'indonesia', 'terjadi', 'secara', 'sehat', '.', 'nanti', 'ada', 'yang', 'bertanya', ',', \"'memangnya\", 'ada', 'uangnya', '?', \"'\", 'ada', 'uangnya', ',', 'kata', 'prabowo', 'memastikan', '.', 'yang', 'bocor-bocor', 'harus', 'kita', 'tutup', 'kebocorannya', '.', 'yang', 'maling-maling', 'kita', 'tutup', 'malingnya', '.', 'yang', 'mark-up', ',', 'yang', 'gelembung-gelembung', ',', 'kita', 'tutup', ',', 'sambungnya', '.', 'prabowo', 'menegaskan', ',', 'ia', 'juga', 'tak', 'segan', 'untuk', 'menekan', 'para', 'wajib', 'pajak', 'agar', 'dapat', 'membayarkan', 'tanggung', 'jawab', 'sesuai', 'porsi', 'mereka', '.', 'yang', 'enggak', 'mau', 'bayar', 'pajak', ',', 'kita', 'bayar', 'supaya', 'bayar', 'pajak', '.', 'kalau', 'bisa', ',', 'kita', 'hilangkan', 'penyelundupan', 'juga', ',', 'kata', 'prabowo', '.', 'penjelasan', 'tersebut', 'merupakan', 'kiat-kiat', 'dari', 'prabowo', 'untuk', 'melaksanakan', 'program', 'pengentasan', 'kemiskinan', 'yang', 'bakal', 'dilakukan', 'jika', 'ia', 'nanti', 'terpilih', 'menjadi', 'presiden', 'ri', '2024-2029.', 'salah', 'satu', 'program', 'yang', 'diutamakan', 'adalah', 'jatah', 'makan', 'siang', 'gratis', 'untuk', 'anak', 'sekolah', 'di', 'seluruh', 'indonesia', '.', 'salah', 'satu', 'program', 'dalam', 'pemberantasan', 'kemiskinan', 'adalah', 'memperkuat', 'anak-anak', 'indonesia', ',', 'kata', 'prabowo', 'subianto', '.', 'kami', 'akan', 'memberi', 'makan', 'siang', 'dan', 'susu', 'gratis', 'di', 'semua', 'sekolah', 'dan', 'pesantren', 'di', 'seluruh', 'indonesia', ',', 'ujarnya', '.', 'selain', 'itu', ',', 'prabowo', 'juga', 'menjanjikan', 'kenaikan', 'gaji', 'bagi', 'guru', ',', 'asn', ',', 'anggota', 'tni', ',', 'polri', ',', 'serta', 'seluruh', 'perangkat', 'abdi', 'masyarakat', 'lainnya', '.', 'kami', 'juga', 'akan', 'menaikkan', 'gaji', 'guru', ',', 'asn', ',', 'anggota', 'tni', ',', 'polri', ',', 'kades', ',', 'dan', 'perangkat', 'desa', 'serta', 'rt-rw', 'di', 'seluruh', 'indonesia', ',', 'seru', 'prabowo', '.', 'salah', 'satu', 'kebijakan', 'elementer', 'yang', 'menurutnya', 'juga', 'perlu', 'segera', 'dikerjakan', 'adalah', 'bantuan', 'gizi', 'untuk', 'balita', 'dan', 'ibu', 'hamil', '.', 'akses', 'bantuan', 'tersebut', 'nantinya', 'dijanjikan', 'dapat', 'tersedia', 'di', 'pos', 'pelayanan', 'terpadu', 'di', 'seluruh', 'penjuru', 'indonesia', '.', 'kami', 'juga', 'akan', 'memberi', 'bantuan', 'gizi', 'untuk', 'anak-anak', 'balita', 'dan', 'ibu-ibu', 'hamil', ',', 'klaim', 'prabowo', '.', 'berarti', 'posyandu-posyandu', 'akan', 'kita', 'hidupkan', 'semua', 'di', 'desa', 'dan', 'dusun', 'seluruh', 'indonesia', ',', 'kata', 'prabowo', '.', 'ia', 'optimistis', 'dapat', 'menyediakan', 'anggaran', 'yang', 'diperlukan', 'untuk', 'seluruh', 'janji', 'tersebut', ',', 'bersamaan', 'dengan', 'pemberantasan', 'hal', 'lain', 'yang', 'selama', 'ini', 'dianggap', 'mengurangi', 'pendapatan', 'negara', '.', 'pertanyaannya', 'bukanlah', 'apakah', 'bisa', ',', 'tapi', 'ini', 'harus', 'bisa', 'kalau', 'kita', 'mau', 'maju', 'sebagai', 'negara', '.', 'dan', 'saya', 'yakin', 'kita', 'bisa', ',', 'tegasnya', '.', 'saat', 'ini', 'prabowo', 'subianto', 'telah', 'mendapat', 'dukungan', 'dari', 'gerindra', ',', 'golkar', ',', 'pan', ',', 'pbb', ',', 'demokrat', ',', 'gelora', 'dan', 'garuda', 'sebagai', 'bakal', 'calon', 'presiden', 'di', 'pilpres', '2024.', 'belum', 'ada', 'cawapres', 'yang', 'ditentukan', '.', 'kpu', 'baru', 'membuka', 'masa', 'pendaftaran', 'capres-cawapres', 'pada', 'oktober', 'mendatang', '.', 'pada', 'jumat', '(', '29/9', ')', ',', 'wakil', 'ketua', 'dewan', 'pembina', 'partai', 'gerindra', 'hashim', 'djojohadikusumo', 'menyebutkan', 'kandidat', 'cawapres', 'pendamping', 'prabowo', 'subianto', 'di', 'pilpres', '2024', 'yang', 'masih', 'dipertimbangkan', '.']\n"
     ]
    }
   ],
   "source": [
    "from nltk.tokenize import word_tokenize, sent_tokenize\n",
    "\n",
    "teks = \"bakal calon presiden dari koalisi indonesia maju (kim) prabowo subianto tak khawatir atas bujet yang bakal disediakan untuk program makan gratis pelajar dan juga kenaikan gaji guru, asn, maupun aparatur negara lainnya. dalam seminar yang diadakan oleh institute madani nusantara pada sabtu (30/9) di hotel bidakara, jakarta selatan, prabowo optimistis bahwa dana tersebut selalu tersedia jika alur perputaran uang di indonesia terjadi secara sehat. nanti ada yang bertanya, 'memangnya ada uangnya?' ada uangnya, kata prabowo memastikan. yang bocor-bocor harus kita tutup kebocorannya. yang maling-maling kita tutup malingnya. yang mark-up, yang gelembung-gelembung, kita tutup, sambungnya. prabowo menegaskan, ia juga tak segan untuk menekan para wajib pajak agar dapat membayarkan tanggung jawab sesuai porsi mereka. yang enggak mau bayar pajak, kita bayar supaya bayar pajak. kalau bisa, kita hilangkan penyelundupan juga, kata prabowo. penjelasan tersebut merupakan kiat-kiat dari prabowo untuk melaksanakan program pengentasan kemiskinan yang bakal dilakukan jika ia nanti terpilih menjadi presiden ri 2024-2029. salah satu program yang diutamakan adalah jatah makan siang gratis untuk anak sekolah di seluruh indonesia. salah satu program dalam pemberantasan kemiskinan adalah memperkuat anak-anak indonesia, kata prabowo subianto. kami akan memberi makan siang dan susu gratis di semua sekolah dan pesantren di seluruh indonesia, ujarnya. selain itu, prabowo juga menjanjikan kenaikan gaji bagi guru, asn, anggota tni, polri, serta seluruh perangkat abdi masyarakat lainnya. kami juga akan menaikkan gaji guru, asn, anggota tni, polri, kades, dan perangkat desa serta rt-rw di seluruh indonesia, seru prabowo. salah satu kebijakan elementer yang menurutnya juga perlu segera dikerjakan adalah bantuan gizi untuk balita dan ibu hamil. akses bantuan tersebut nantinya dijanjikan dapat tersedia di pos pelayanan terpadu di seluruh penjuru indonesia. kami juga akan memberi bantuan gizi untuk anak-anak balita dan ibu-ibu hamil, klaim prabowo. berarti posyandu-posyandu akan kita hidupkan semua di desa dan dusun seluruh indonesia, kata prabowo. ia optimistis dapat menyediakan anggaran yang diperlukan untuk seluruh janji tersebut, bersamaan dengan pemberantasan hal lain yang selama ini dianggap mengurangi pendapatan negara. pertanyaannya bukanlah apakah bisa, tapi ini harus bisa kalau kita mau maju sebagai negara. dan saya yakin kita bisa, tegasnya. saat ini prabowo subianto telah mendapat dukungan dari gerindra, golkar, pan, pbb, demokrat, gelora dan garuda sebagai bakal calon presiden di pilpres 2024. belum ada cawapres yang ditentukan. kpu baru membuka masa pendaftaran capres-cawapres pada oktober mendatang. pada jumat (29/9), wakil ketua dewan pembina partai gerindra hashim djojohadikusumo menyebutkan kandidat cawapres pendamping prabowo subianto di pilpres 2024 yang masih dipertimbangkan.\"\n",
    "\n",
    "# Tokenisasi kalimat\n",
    "kalimat_token = sent_tokenize(teks)\n",
    "print(\"Tokenisasi kalimat:\")\n",
    "print(kalimat_token)\n",
    "\n",
    "# Tokenisasi kata\n",
    "kata_token = word_tokenize(teks)\n",
    "print(\"\\nTokenisasi kata:\")\n",
    "print(kata_token)"
   ]
  },
  {
   "cell_type": "markdown",
   "metadata": {},
   "source": [
    "## Mengunakaan Libary Spacy"
   ]
  },
  {
   "cell_type": "code",
   "execution_count": 4,
   "metadata": {},
   "outputs": [],
   "source": [
    "# import spacy\n",
    "\n",
    "# # Load model bahasa Indonesia\n",
    "# nlp = spacy.load(\"id_core_news_sm\")\n",
    "\n",
    "# # Teks yang akan di-tokenisasi\n",
    "# teks = \"bakal calon presiden dari koalisi indonesia maju (kim) prabowo subianto tak khawatir atas bujet yang bakal disediakan untuk program makan gratis pelajar dan juga kenaikan gaji guru, asn, maupun aparatur negara lainnya. dalam seminar yang diadakan oleh institute madani nusantara pada sabtu (30/9) di hotel bidakara, jakarta selatan, prabowo optimistis bahwa dana tersebut selalu tersedia jika alur perputaran uang di indonesia terjadi secara sehat. nanti ada yang bertanya, 'memangnya ada uangnya?' ada uangnya, kata prabowo memastikan. yang bocor-bocor harus kita tutup kebocorannya. yang maling-maling kita tutup malingnya. yang mark-up, yang gelembung-gelembung, kita tutup, sambungnya. prabowo menegaskan, ia juga tak segan untuk menekan para wajib pajak agar dapat membayarkan tanggung jawab sesuai porsi mereka. yang enggak mau bayar pajak, kita bayar supaya bayar pajak. kalau bisa, kita hilangkan penyelundupan juga, kata prabowo. penjelasan tersebut merupakan kiat-kiat dari prabowo untuk melaksanakan program pengentasan kemiskinan yang bakal dilakukan jika ia nanti terpilih menjadi presiden ri 2024-2029. salah satu program yang diutamakan adalah jatah makan siang gratis untuk anak sekolah di seluruh indonesia. salah satu program dalam pemberantasan kemiskinan adalah memperkuat anak-anak indonesia, kata prabowo subianto. kami akan memberi makan siang dan susu gratis di semua sekolah dan pesantren di seluruh indonesia, ujarnya. selain itu, prabowo juga menjanjikan kenaikan gaji bagi guru, asn, anggota tni, polri, serta seluruh perangkat abdi masyarakat lainnya. kami juga akan menaikkan gaji guru, asn, anggota tni, polri, kades, dan perangkat desa serta rt-rw di seluruh indonesia, seru prabowo. salah satu kebijakan elementer yang menurutnya juga perlu segera dikerjakan adalah bantuan gizi untuk balita dan ibu hamil. akses bantuan tersebut nantinya dijanjikan dapat tersedia di pos pelayanan terpadu di seluruh penjuru indonesia. kami juga akan memberi bantuan gizi untuk anak-anak balita dan ibu-ibu hamil, klaim prabowo. berarti posyandu-posyandu akan kita hidupkan semua di desa dan dusun seluruh indonesia, kata prabowo. ia optimistis dapat menyediakan anggaran yang diperlukan untuk seluruh janji tersebut, bersamaan dengan pemberantasan hal lain yang selama ini dianggap mengurangi pendapatan negara. pertanyaannya bukanlah apakah bisa, tapi ini harus bisa kalau kita mau maju sebagai negara. dan saya yakin kita bisa, tegasnya. saat ini prabowo subianto telah mendapat dukungan dari gerindra, golkar, pan, pbb, demokrat, gelora dan garuda sebagai bakal calon presiden di pilpres 2024. belum ada cawapres yang ditentukan. kpu baru membuka masa pendaftaran capres-cawapres pada oktober mendatang. pada jumat (29/9), wakil ketua dewan pembina partai gerindra hashim djojohadikusumo menyebutkan kandidat cawapres pendamping prabowo subianto di pilpres 2024 yang masih dipertimbangkan.\"\n",
    "\n",
    "# # Tokenisasi teks\n",
    "# doc = nlp(teks)\n",
    "\n",
    "# # Menampilkan token\n",
    "# for token in doc:\n",
    "#     print(token.text)\n"
   ]
  },
  {
   "cell_type": "markdown",
   "metadata": {},
   "source": [
    "## Mengunakaan Libary Stanza"
   ]
  },
  {
   "cell_type": "code",
   "execution_count": 5,
   "metadata": {},
   "outputs": [
    {
     "name": "stderr",
     "output_type": "stream",
     "text": [
      "/home/krisna/ProjectTA/model_ta/env/lib/python3.11/site-packages/tqdm/auto.py:21: TqdmWarning: IProgress not found. Please update jupyter and ipywidgets. See https://ipywidgets.readthedocs.io/en/stable/user_install.html\n",
      "  from .autonotebook import tqdm as notebook_tqdm\n",
      "Downloading https://raw.githubusercontent.com/stanfordnlp/stanza-resources/main/resources_1.8.0.json: 373kB [00:00, 9.35MB/s]                    \n",
      "2024-03-17 07:35:29 INFO: Downloaded file to /home/krisna/stanza_resources/resources.json\n",
      "2024-03-17 07:35:29 INFO: Downloading default packages for language: id (Indonesian) ...\n",
      "Downloading https://huggingface.co/stanfordnlp/stanza-id/resolve/v1.8.0/models/default.zip: 100%|██████████| 395M/395M [02:15<00:00, 2.93MB/s] \n",
      "2024-03-17 07:37:47 INFO: Downloaded file to /home/krisna/stanza_resources/id/default.zip\n",
      "2024-03-17 07:37:50 INFO: Finished downloading models and saved to /home/krisna/stanza_resources\n",
      "2024-03-17 07:37:50 INFO: Checking for updates to resources.json in case models have been updated.  Note: this behavior can be turned off with download_method=None or download_method=DownloadMethod.REUSE_RESOURCES\n",
      "Downloading https://raw.githubusercontent.com/stanfordnlp/stanza-resources/main/resources_1.8.0.json: 373kB [00:00, 6.52MB/s]                    \n",
      "2024-03-17 07:37:52 INFO: Downloaded file to /home/krisna/stanza_resources/resources.json\n",
      "2024-03-17 07:37:53 INFO: Loading these models for language: id (Indonesian):\n",
      "===============================\n",
      "| Processor    | Package      |\n",
      "-------------------------------\n",
      "| tokenize     | gsd          |\n",
      "| mwt          | gsd          |\n",
      "| pos          | gsd_charlm   |\n",
      "| lemma        | gsd_nocharlm |\n",
      "| constituency | icon_charlm  |\n",
      "| depparse     | gsd_charlm   |\n",
      "===============================\n",
      "\n",
      "2024-03-17 07:37:53 INFO: Using device: cpu\n",
      "2024-03-17 07:37:53 INFO: Loading: tokenize\n",
      "2024-03-17 07:37:54 INFO: Loading: mwt\n",
      "2024-03-17 07:37:54 INFO: Loading: pos\n",
      "2024-03-17 07:37:54 INFO: Loading: lemma\n",
      "2024-03-17 07:37:54 INFO: Loading: constituency\n",
      "2024-03-17 07:37:55 INFO: Loading: depparse\n",
      "2024-03-17 07:37:55 INFO: Done loading processors!\n"
     ]
    },
    {
     "name": "stdout",
     "output_type": "stream",
     "text": [
      "Tokenisasi kalimat:\n",
      "['bakal calon presiden dari koalisi indonesia maju (kim) prabowo subianto tak khawatir atas bujet yang bakal disediakan untuk program makan gratis pelajar dan juga kenaikan gaji guru, asn, maupun aparatur negara lainnya.', 'dalam seminar yang diadakan oleh institute madani nusantara pada sabtu (30/9) di hotel bidakara, jakarta selatan, prabowo optimistis bahwa dana tersebut selalu tersedia jika alur perputaran uang di indonesia terjadi secara sehat.', \"nanti ada yang bertanya, 'memangnya ada uangnya?' ada uangnya, kata prabowo memastikan.\", 'yang bocor-bocor harus kita tutup kebocorannya.', 'yang maling-maling kita tutup malingnya.', 'yang mark-up, yang gelembung-gelembung, kita tutup, sambungnya.', 'prabowo menegaskan, ia juga tak segan untuk menekan para wajib pajak agar dapat membayarkan tanggung jawab sesuai porsi mereka.', 'yang enggak mau bayar pajak, kita bayar supaya bayar pajak.', 'kalau bisa, kita hilangkan penyelundupan juga, kata prabowo.', 'penjelasan tersebut merupakan kiat-kiat dari prabowo untuk melaksanakan program pengentasan kemiskinan yang bakal dilakukan jika ia nanti terpilih menjadi presiden ri 2024-2029.', 'salah satu program yang diutamakan adalah jatah makan siang gratis untuk anak sekolah di seluruh indonesia.', 'salah satu program dalam pemberantasan kemiskinan adalah memperkuat anak-anak indonesia, kata prabowo subianto.', 'kami akan memberi makan siang dan susu gratis di semua sekolah dan pesantren di seluruh indonesia, ujarnya.', 'selain itu, prabowo juga menjanjikan kenaikan gaji bagi guru, asn, anggota tni, polri, serta seluruh perangkat abdi masyarakat lainnya.', 'kami juga akan menaikkan gaji guru, asn, anggota tni, polri, kades, dan perangkat desa serta rt-rw di seluruh indonesia, seru prabowo.', 'salah satu kebijakan elementer yang menurutnya juga perlu segera dikerjakan adalah bantuan gizi untuk balita dan ibu hamil.', 'akses bantuan tersebut nantinya dijanjikan dapat tersedia di pos pelayanan terpadu di seluruh penjuru indonesia.', 'kami juga akan memberi bantuan gizi untuk anak-anak balita dan ibu-ibu hamil, klaim prabowo.', 'berarti posyandu-posyandu akan kita hidupkan semua di desa dan dusun seluruh indonesia, kata prabowo.', 'ia optimistis dapat menyediakan anggaran yang diperlukan untuk seluruh janji tersebut, bersamaan dengan pemberantasan hal lain yang selama ini dianggap mengurangi pendapatan negara.', 'pertanyaannya bukanlah apakah bisa, tapi ini harus bisa kalau kita mau maju sebagai negara.', 'dan saya yakin kita bisa, tegasnya.', 'saat ini prabowo subianto telah mendapat dukungan dari gerindra, golkar, pan, pbb, demokrat, gelora dan garuda sebagai bakal calon presiden di pilpres 2024.', 'belum ada cawapres yang ditentukan.', 'kpu baru membuka masa pendaftaran capres-cawapres pada oktober mendatang.', 'pada jumat (29/9), wakil ketua dewan pembina partai gerindra hashim djojohadikusumo menyebutkan kandidat cawapres pendamping prabowo subianto di pilpres 2024 yang masih dipertimbangkan.']\n",
      "\n",
      "Tokenisasi kata:\n",
      "['bakal', 'calon', 'presiden', 'dari', 'koalisi', 'indonesia', 'maju', '(', 'kim', ')', 'prabowo', 'subianto', 'tak', 'khawatir', 'atas', 'bujet', 'yang', 'bakal', 'disediakan', 'untuk', 'program', 'makan', 'gratis', 'pelajar', 'dan', 'juga', 'kenaikan', 'gaji', 'guru', ',', 'asn', ',', 'mau', 'pun', 'aparatur', 'negara', 'lainnya', '.', 'dalam', 'seminar', 'yang', 'diadakan', 'oleh', 'institute', 'madani', 'nusantara', 'pada', 'sabtu', '(', '30/9', ')', 'di', 'hotel', 'bidakara', ',', 'jakarta', 'selatan', ',', 'prabowo', 'optimistis', 'bahwa', 'dana', 'tersebut', 'selalu', 'tersedia', 'jika', 'alur', 'perputaran', 'uang', 'di', 'indonesia', 'terjadi', 'secara', 'sehat', '.', 'nanti', 'ada', 'yang', 'bertanya', ',', \"'\", 'memangnya', 'ada', 'uang', 'nya', '?', \"'\", 'ada', 'uang', 'nya', ',', 'kata', 'prabowo', 'memastikan', '.', 'yang', 'bocor-bocor', 'harus', 'kita', 'tutup', 'kebocoran', 'nya', '.', 'yang', 'maling-maling', 'kita', 'tutup', 'maling', 'nya', '.', 'yang', 'mark-up', ',', 'yang', 'gelembung-gelembung', ',', 'kita', 'tutup', ',', 'sambung', 'nya', '.', 'prabowo', 'menegaskan', ',', 'ia', 'juga', 'tak', 'segan', 'untuk', 'menekan', 'para', 'wajib', 'pajak', 'agar', 'dapat', 'membayarkan', 'tanggung', 'jawab', 'sesuai', 'porsi', 'mereka', '.', 'yang', 'enggak', 'mau', 'bayar', 'pajak', ',', 'kita', 'bayar', 'supaya', 'bayar', 'pajak', '.', 'kalau', 'bisa', ',', 'kita', 'hilangkan', 'penyelundupan', 'juga', ',', 'kata', 'prabowo', '.', 'penjelasan', 'tersebut', 'merupakan', 'kiat-kiat', 'dari', 'prabowo', 'untuk', 'melaksanakan', 'program', 'pengentasan', 'kemiskinan', 'yang', 'bakal', 'dilakukan', 'jika', 'ia', 'nanti', 'terpilih', 'menjadi', 'presiden', 'ri', '2024', '-2029', '.', 'salah', 'satu', 'program', 'yang', 'diutamakan', 'adalah', 'jatah', 'makan', 'siang', 'gratis', 'untuk', 'anak', 'sekolah', 'di', 'seluruh', 'indonesia', '.', 'salah', 'satu', 'program', 'dalam', 'pemberantasan', 'kemiskinan', 'adalah', 'memperkuat', 'anak-anak', 'indonesia', ',', 'kata', 'prabowo', 'subianto', '.', 'kami', 'akan', 'memberi', 'makan', 'siang', 'dan', 'susu', 'gratis', 'di', 'semua', 'sekolah', 'dan', 'pesantren', 'di', 'seluruh', 'indonesia', ',', 'ujar', 'nya', '.', 'selain', 'itu', ',', 'prabowo', 'juga', 'menjanjikan', 'kenaikan', 'gaji', 'bagi', 'guru', ',', 'asn', ',', 'anggota', 'tni', ',', 'polri', ',', 'serta', 'seluruh', 'perangkat', 'abdi', 'masyarakat', 'lainnya', '.', 'kami', 'juga', 'akan', 'menaikkan', 'gaji', 'guru', ',', 'asn', ',', 'anggota', 'tni', ',', 'polri', ',', 'kades', ',', 'dan', 'perangkat', 'desa', 'serta', 'rt-rw', 'di', 'seluruh', 'indonesia', ',', 'seru', 'prabowo', '.', 'salah', 'satu', 'kebijakan', 'elementer', 'yang', 'menurut', 'nya', 'juga', 'perlu', 'segera', 'dikerjakan', 'adalah', 'bantuan', 'gizi', 'untuk', 'balita', 'dan', 'ibu', 'hamil', '.', 'akses', 'bantuan', 'tersebut', 'nanti', 'nya', 'dijanjikan', 'dapat', 'tersedia', 'di', 'pos', 'pelayanan', 'terpadu', 'di', 'seluruh', 'penjuru', 'indonesia', '.', 'kami', 'juga', 'akan', 'memberi', 'bantuan', 'gizi', 'untuk', 'anak-anak', 'balita', 'dan', 'ibu-ibu', 'hamil', ',', 'klaim', 'prabowo', '.', 'berarti', 'posyandu-posyandu', 'akan', 'kita', 'hidupkan', 'semua', 'di', 'desa', 'dan', 'dusun', 'seluruh', 'indonesia', ',', 'kata', 'prabowo', '.', 'ia', 'optimistis', 'dapat', 'menyediakan', 'anggaran', 'yang', 'diperlukan', 'untuk', 'seluruh', 'janji', 'tersebut', ',', 'bersamaan', 'dengan', 'pemberantasan', 'hal', 'lain', 'yang', 'selama', 'ini', 'dianggap', 'mengurangi', 'pendapatan', 'negara', '.', 'pertanyaan', 'nya', 'bukan', 'lah', 'apa', 'kah', 'bisa', ',', 'tapi', 'ini', 'harus', 'bisa', 'kalau', 'kita', 'mau', 'maju', 'sebagai', 'negara', '.', 'dan', 'saya', 'yakin', 'kita', 'bisa', ',', 'tegas', 'nya', '.', 'saat', 'ini', 'prabowo', 'subianto', 'telah', 'mendapat', 'dukungan', 'dari', 'gerindra', ',', 'golkar', ',', 'pan', ',', 'pbb', ',', 'demokrat', ',', 'gelora', 'dan', 'garuda', 'sebagai', 'bakal', 'calon', 'presiden', 'di', 'pilpres', '2024', '.', 'belum', 'ada', 'cawapres', 'yang', 'ditentukan', '.', 'kpu', 'baru', 'membuka', 'masa', 'pendaftaran', 'capres-cawapres', 'pada', 'oktober', 'mendatang', '.', 'pada', 'jumat', '(', '29/9', ')', ',', 'wakil', 'ketua', 'dewan', 'pembina', 'partai', 'gerindra', 'hashim', 'djojohadikusumo', 'menyebutkan', 'kandidat', 'cawapres', 'pendamping', 'prabowo', 'subianto', 'di', 'pilpres', '2024', 'yang', 'masih', 'dipertimbangkan', '.']\n"
     ]
    }
   ],
   "source": [
    "import stanza\n",
    "\n",
    "# Download the Indonesian language model if not already downloaded\n",
    "stanza.download('id')\n",
    "\n",
    "# Initialize the stanza pipeline\n",
    "nlp = stanza.Pipeline('id')\n",
    "\n",
    "# Process the text\n",
    "doc = nlp(teks)\n",
    "\n",
    "# Tokenize sentences\n",
    "kalimat_token = [sentence.text for sentence in doc.sentences]\n",
    "print(\"Tokenisasi kalimat:\")\n",
    "print(kalimat_token)\n",
    "\n",
    "# Tokenize words\n",
    "kata_token = [word.text for sentence in doc.sentences for word in sentence.words]\n",
    "print(\"\\nTokenisasi kata:\")\n",
    "print(kata_token)\n"
   ]
  },
  {
   "cell_type": "code",
   "execution_count": null,
   "metadata": {},
   "outputs": [],
   "source": []
  }
 ],
 "metadata": {
  "kernelspec": {
   "display_name": "env",
   "language": "python",
   "name": "python3"
  },
  "language_info": {
   "codemirror_mode": {
    "name": "ipython",
    "version": 3
   },
   "file_extension": ".py",
   "mimetype": "text/x-python",
   "name": "python",
   "nbconvert_exporter": "python",
   "pygments_lexer": "ipython3",
   "version": "3.11.5"
  }
 },
 "nbformat": 4,
 "nbformat_minor": 2
}
