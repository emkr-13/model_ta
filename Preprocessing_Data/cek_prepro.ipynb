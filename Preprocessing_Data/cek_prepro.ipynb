{
 "cells": [
  {
   "cell_type": "code",
   "execution_count": 1,
   "metadata": {},
   "outputs": [
    {
     "name": "stdout",
     "output_type": "stream",
     "text": [
      "['aku', 'aku', 'salah', 'milu']\n"
     ]
    }
   ],
   "source": [
    "from Sastrawi.StopWordRemover.StopWordRemoverFactory import StopWordRemoverFactory\n",
    "from Sastrawi.Stemmer.StemmerFactory import StemmerFactory\n",
    "import re\n",
    "\n",
    "# Teks awal\n",
    "teks = \"Aku mengakui Kesalahan Pemilu\"\n",
    "\n",
    "# Menghapus karakter non-alfanumerik\n",
    "teks = re.sub(r'[^a-zA-Z0-9\\s]', '', teks)\n",
    "\n",
    "# Case folding\n",
    "teks = teks.lower()\n",
    "\n",
    "# Menghapus stopwords\n",
    "factory = StopWordRemoverFactory()\n",
    "stopword = factory.create_stop_word_remover()\n",
    "teks = stopword.remove(teks)\n",
    "\n",
    "# Stemming\n",
    "factory = StemmerFactory()\n",
    "stemmer = factory.create_stemmer()\n",
    "teks = stemmer.stem(teks)\n",
    "\n",
    "# Tokenisasi\n",
    "tokens = teks.split()\n",
    "\n",
    "print(tokens)"
   ]
  },
  {
   "cell_type": "code",
   "execution_count": 2,
   "metadata": {},
   "outputs": [
    {
     "name": "stderr",
     "output_type": "stream",
     "text": [
      "[nltk_data] Downloading package punkt to /home/krisna/nltk_data...\n",
      "[nltk_data]   Package punkt is already up-to-date!\n",
      "[nltk_data] Downloading package stopwords to /home/krisna/nltk_data...\n",
      "[nltk_data]   Package stopwords is already up-to-date!\n",
      "[nltk_data] Downloading package wordnet to /home/krisna/nltk_data...\n",
      "[nltk_data]   Package wordnet is already up-to-date!\n"
     ]
    },
    {
     "data": {
      "text/plain": [
       "True"
      ]
     },
     "execution_count": 2,
     "metadata": {},
     "output_type": "execute_result"
    }
   ],
   "source": [
    "import nltk\n",
    "nltk.download('punkt')\n",
    "nltk.download('stopwords')\n",
    "nltk.download('wordnet')\n"
   ]
  },
  {
   "cell_type": "code",
   "execution_count": 3,
   "metadata": {},
   "outputs": [
    {
     "name": "stdout",
     "output_type": "stream",
     "text": [
      "['mengakui', 'kesalahan', 'pemilu']\n"
     ]
    }
   ],
   "source": [
    "import re\n",
    "from nltk.corpus import stopwords\n",
    "from nltk.tokenize import word_tokenize\n",
    "from nltk.stem import WordNetLemmatizer\n",
    "\n",
    "# Teks awal\n",
    "teks = \"Aku mengakui Kesalahan Pemilu\"\n",
    "\n",
    "# Menghapus karakter non-alfanumerik\n",
    "teks = re.sub(r'[^a-zA-Z0-9\\s]', '', teks)\n",
    "\n",
    "# Case folding\n",
    "teks = teks.lower()\n",
    "\n",
    "# Menghapus stopwords\n",
    "stop_words = set(stopwords.words('indonesian'))\n",
    "tokens = word_tokenize(teks)\n",
    "filtered_tokens = [word for word in tokens if word not in stop_words]\n",
    "\n",
    "# Lemmatization using NLTK\n",
    "lemmatizer = WordNetLemmatizer()\n",
    "lemmatized_tokens = [lemmatizer.lemmatize(word) for word in filtered_tokens]\n",
    "\n",
    "print(lemmatized_tokens)\n"
   ]
  },
  {
   "cell_type": "code",
   "execution_count": 4,
   "metadata": {},
   "outputs": [
    {
     "name": "stdout",
     "output_type": "stream",
     "text": [
      "Lemmatized tokens: ['mengakui', 'kesalahan', 'pemilu']\n",
      "Stemmed tokens: ['mengakui', 'kesalahan', 'pemilu']\n"
     ]
    }
   ],
   "source": [
    "import re\n",
    "from nltk.corpus import stopwords\n",
    "from nltk.tokenize import word_tokenize\n",
    "from nltk.stem import WordNetLemmatizer, PorterStemmer\n",
    "\n",
    "# Teks awal\n",
    "teks = \"Aku mengakui Kesalahan Pemilu\"\n",
    "\n",
    "# Menghapus karakter non-alfanumerik\n",
    "teks = re.sub(r'[^a-zA-Z0-9\\s]', '', teks)\n",
    "\n",
    "# Case folding\n",
    "teks = teks.lower()\n",
    "\n",
    "# Menghapus stopwords\n",
    "stop_words = set(stopwords.words('indonesian'))\n",
    "tokens = word_tokenize(teks)\n",
    "filtered_tokens = [word for word in tokens if word not in stop_words]\n",
    "\n",
    "# Lemmatization using NLTK\n",
    "lemmatizer = WordNetLemmatizer()\n",
    "lemmatized_tokens = [lemmatizer.lemmatize(word) for word in filtered_tokens]\n",
    "\n",
    "# Stemming using NLTK\n",
    "stemmer = PorterStemmer()\n",
    "stemmed_tokens = [stemmer.stem(word) for word in filtered_tokens]\n",
    "\n",
    "print(\"Lemmatized tokens:\", lemmatized_tokens)\n",
    "print(\"Stemmed tokens:\", stemmed_tokens)\n"
   ]
  },
  {
   "cell_type": "code",
   "execution_count": 5,
   "metadata": {},
   "outputs": [
    {
     "name": "stdout",
     "output_type": "stream",
     "text": [
      "Lemmatized tokens: ['aku', 'mengakui', 'kesalahan', 'pemilu']\n",
      "Stemmed tokens: ['aku', 'mengakui', 'kesalahan', 'pemilu']\n"
     ]
    }
   ],
   "source": [
    "import re\n",
    "from nltk.tokenize import word_tokenize\n",
    "from nltk.stem import WordNetLemmatizer, PorterStemmer\n",
    "from Sastrawi.StopWordRemover.StopWordRemoverFactory import StopWordRemoverFactory\n",
    "\n",
    "# Teks awal\n",
    "teks = \"Aku mengakui Kesalahan Pemilu\"\n",
    "\n",
    "# Menghapus karakter non-alfanumerik\n",
    "teks = re.sub(r'[^a-zA-Z0-9\\s]', '', teks)\n",
    "\n",
    "# Case folding\n",
    "teks = teks.lower()\n",
    "\n",
    "# Menghapus stopwords menggunakan Sastrawi\n",
    "factory = StopWordRemoverFactory()\n",
    "stopword = factory.create_stop_word_remover()\n",
    "teks = stopword.remove(teks)\n",
    "\n",
    "# Tokenisasi menggunakan NLTK\n",
    "tokens = word_tokenize(teks)\n",
    "\n",
    "# Lemmatization using NLTK\n",
    "lemmatizer = WordNetLemmatizer()\n",
    "lemmatized_tokens = [lemmatizer.lemmatize(word) for word in tokens]\n",
    "\n",
    "# Stemming using NLTK\n",
    "stemmer = PorterStemmer()\n",
    "stemmed_tokens = [stemmer.stem(word) for word in tokens]\n",
    "\n",
    "print(\"Lemmatized tokens:\", lemmatized_tokens)\n",
    "print(\"Stemmed tokens:\", stemmed_tokens)\n"
   ]
  },
  {
   "cell_type": "code",
   "execution_count": 6,
   "metadata": {},
   "outputs": [
    {
     "name": "stdout",
     "output_type": "stream",
     "text": [
      "['mengakui', 'kesalahan', 'pemilu']\n"
     ]
    }
   ],
   "source": [
    "import re\n",
    "from nltk.tokenize import word_tokenize\n",
    "from nltk.stem import WordNetLemmatizer, PorterStemmer\n",
    "from nltk.corpus import stopwords\n",
    "\n",
    "# Teks awal\n",
    "teks = \"Aku mengakui Kesalahan Pemilu\"\n",
    "\n",
    "# Menghapus karakter non-alfanumerik\n",
    "teks = re.sub(r'[^a-zA-Z0-9\\s]', '', teks)\n",
    "\n",
    "# Case folding\n",
    "teks = teks.lower()\n",
    "\n",
    "# Menghapus stopwords menggunakan NLTK\n",
    "stop_words = set(stopwords.words('indonesian'))\n",
    "tokens = word_tokenize(teks)\n",
    "filtered_tokens = [word for word in tokens if word not in stop_words]\n",
    "teks = ' '.join(filtered_tokens)\n",
    "\n",
    "# Stemming menggunakan NLTK\n",
    "stemmer = PorterStemmer()\n",
    "teks = ' '.join([stemmer.stem(word) for word in filtered_tokens])\n",
    "\n",
    "# Lemmatization menggunakan NLTK\n",
    "lemmatizer = WordNetLemmatizer()\n",
    "teks = ' '.join([lemmatizer.lemmatize(word) for word in filtered_tokens])\n",
    "\n",
    "# Tokenisasi\n",
    "tokens = teks.split()\n",
    "\n",
    "print(tokens)\n"
   ]
  },
  {
   "cell_type": "code",
   "execution_count": 8,
   "metadata": {},
   "outputs": [
    {
     "name": "stdout",
     "output_type": "stream",
     "text": [
      "['mengakui', 'kesalahan', 'pemilu']\n"
     ]
    },
    {
     "name": "stderr",
     "output_type": "stream",
     "text": [
      "[nltk_data] Downloading package punkt to /home/krisna/nltk_data...\n",
      "[nltk_data]   Package punkt is already up-to-date!\n",
      "[nltk_data] Downloading package stopwords to /home/krisna/nltk_data...\n",
      "[nltk_data]   Package stopwords is already up-to-date!\n"
     ]
    }
   ],
   "source": [
    "import nltk\n",
    "from nltk.corpus import stopwords\n",
    "from nltk.tokenize import word_tokenize\n",
    "from nltk.stem import PorterStemmer\n",
    "import re\n",
    "\n",
    "nltk.download('punkt')\n",
    "nltk.download('stopwords')\n",
    "# Teks awal\n",
    "teks = \"Aku mengakui Kesalahan Pemilu\"\n",
    "\n",
    "# Menghapus karakter non-alfanumerik\n",
    "teks = re.sub(r'[^a-zA-Z0-9\\s]', '', teks)\n",
    "\n",
    "# Case folding\n",
    "teks = teks.lower()\n",
    "\n",
    "# Tokenisasi\n",
    "tokens = word_tokenize(teks)\n",
    "\n",
    "# Menghapus stopwords\n",
    "stop_words = set(stopwords.words('indonesian'))\n",
    "filtered_tokens = [word for word in tokens if word not in stop_words]\n",
    "\n",
    "# Stemming\n",
    "stemmer = PorterStemmer()\n",
    "stemmed_tokens = [stemmer.stem(word) for word in filtered_tokens]\n",
    "\n",
    "print(stemmed_tokens)\n"
   ]
  },
  {
   "cell_type": "code",
   "execution_count": 9,
   "metadata": {},
   "outputs": [
    {
     "name": "stdout",
     "output_type": "stream",
     "text": [
      "['aku', 'mengakui', 'kesalahan', 'pemilu']\n"
     ]
    },
    {
     "name": "stderr",
     "output_type": "stream",
     "text": [
      "[nltk_data] Downloading package punkt to /home/krisna/nltk_data...\n",
      "[nltk_data]   Package punkt is already up-to-date!\n"
     ]
    }
   ],
   "source": [
    "import nltk\n",
    "from Sastrawi.StopWordRemover.StopWordRemoverFactory import StopWordRemoverFactory\n",
    "from nltk.tokenize import word_tokenize\n",
    "from nltk.stem import PorterStemmer\n",
    "import re\n",
    "\n",
    "nltk.download('punkt')\n",
    "\n",
    "# Teks awal\n",
    "teks = \"Aku mengakui Kesalahan Pemilu\"\n",
    "\n",
    "# Menghapus karakter non-alfanumerik\n",
    "teks = re.sub(r'[^a-zA-Z0-9\\s]', '', teks)\n",
    "\n",
    "# Case folding\n",
    "teks = teks.lower()\n",
    "\n",
    "# Tokenisasi\n",
    "tokens = word_tokenize(teks)\n",
    "\n",
    "# Stopword removal using Sastrawi\n",
    "factory = StopWordRemoverFactory()\n",
    "stopword = factory.create_stop_word_remover()\n",
    "filtered_tokens = stopword.remove(' '.join(tokens)).split()\n",
    "\n",
    "# Stemming\n",
    "stemmer = PorterStemmer()\n",
    "stemmed_tokens = [stemmer.stem(word) for word in filtered_tokens]\n",
    "\n",
    "print(stemmed_tokens)\n"
   ]
  },
  {
   "cell_type": "code",
   "execution_count": 10,
   "metadata": {},
   "outputs": [
    {
     "name": "stdout",
     "output_type": "stream",
     "text": [
      "['aku', 'mengakui', 'kesalahan', 'pemilu']\n"
     ]
    },
    {
     "name": "stderr",
     "output_type": "stream",
     "text": [
      "[nltk_data] Downloading package punkt to /home/krisna/nltk_data...\n",
      "[nltk_data]   Package punkt is already up-to-date!\n"
     ]
    }
   ],
   "source": [
    "import nltk\n",
    "from Sastrawi.StopWordRemover.StopWordRemoverFactory import StopWordRemoverFactory\n",
    "from nltk.tokenize import word_tokenize\n",
    "from nltk.stem import PorterStemmer\n",
    "import re\n",
    "\n",
    "nltk.download('punkt')\n",
    "\n",
    "# Teks awal\n",
    "teks = \"Aku mengakui Kesalahan Pemilu\"\n",
    "\n",
    "# Menghapus karakter non-alfanumerik\n",
    "teks = re.sub(r'[^a-zA-Z0-9\\s]', '', teks)\n",
    "\n",
    "# Case folding\n",
    "teks = teks.lower()\n",
    "\n",
    "# Tokenisasi\n",
    "tokens = word_tokenize(teks)\n",
    "\n",
    "# Stopword removal using Sastrawi\n",
    "factory = StopWordRemoverFactory()\n",
    "stopword = factory.create_stop_word_remover()\n",
    "filtered_tokens = stopword.remove(' '.join(tokens)).split()\n",
    "\n",
    "# Stemming using NLTK PorterStemmer (not optimal for Bahasa Indonesia)\n",
    "stemmer = PorterStemmer()\n",
    "stemmed_tokens = [stemmer.stem(word) for word in filtered_tokens]\n",
    "\n",
    "print(stemmed_tokens)\n"
   ]
  },
  {
   "cell_type": "code",
   "execution_count": null,
   "metadata": {},
   "outputs": [],
   "source": []
  }
 ],
 "metadata": {
  "kernelspec": {
   "display_name": "env",
   "language": "python",
   "name": "python3"
  },
  "language_info": {
   "codemirror_mode": {
    "name": "ipython",
    "version": 3
   },
   "file_extension": ".py",
   "mimetype": "text/x-python",
   "name": "python",
   "nbconvert_exporter": "python",
   "pygments_lexer": "ipython3",
   "version": "3.11.5"
  }
 },
 "nbformat": 4,
 "nbformat_minor": 2
}
