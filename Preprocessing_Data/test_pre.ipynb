{
 "cells": [
  {
   "cell_type": "code",
   "execution_count": 6,
   "metadata": {},
   "outputs": [
    {
     "name": "stdout",
     "output_type": "stream",
     "text": [
      "['aku', 'salah', 'milu']\n"
     ]
    }
   ],
   "source": [
    "from Sastrawi.StopWordRemover.StopWordRemoverFactory import StopWordRemoverFactory\n",
    "from Sastrawi.Stemmer.StemmerFactory import StemmerFactory\n",
    "import re\n",
    "\n",
    "# Teks awal\n",
    "teks = \"Aku mengakui Kesalahan Pemilu\"\n",
    "\n",
    "# Menghapus karakter non-alfanumerik\n",
    "teks = re.sub(r'[^a-zA-Z0-9\\s]', '', teks)\n",
    "\n",
    "# Case folding\n",
    "teks = teks.lower()\n",
    "\n",
    "# Menghapus stopwords\n",
    "factory = StopWordRemoverFactory()\n",
    "stopword = factory.create_stop_word_remover()\n",
    "teks = stopword.remove(teks)\n",
    "\n",
    "# Stemming\n",
    "factory = StemmerFactory()\n",
    "stemmer = factory.create_stemmer()\n",
    "teks = stemmer.stem(teks)\n",
    "\n",
    "# Tokenisasi\n",
    "tokens = teks.split()\n",
    "\n",
    "print(tokens)"
   ]
  },
  {
   "cell_type": "code",
   "execution_count": 5,
   "metadata": {},
   "outputs": [
    {
     "name": "stdout",
     "output_type": "stream",
     "text": [
      "aku aku salah milu\n",
      "mereka tiru\n"
     ]
    }
   ],
   "source": [
    "from Sastrawi.Stemmer.StemmerFactory import StemmerFactory\n",
    "\n",
    "# create stemmer\n",
    "factory = StemmerFactory()\n",
    "stemmer = factory.create_stemmer()\n",
    "\n",
    "# stemming process\n",
    "sentence = 'Aku mengakui Kesalahan Pemilu'\n",
    "output   = stemmer.stem(sentence)\n",
    "\n",
    "print(output)\n",
    "# ekonomi indonesia sedang dalam tumbuh yang bangga\n",
    "\n",
    "print(stemmer.stem('Mereka meniru-nirukannya'))"
   ]
  },
  {
   "cell_type": "code",
   "execution_count": 8,
   "metadata": {},
   "outputs": [
    {
     "name": "stdout",
     "output_type": "stream",
     "text": [
      "['mengakui', 'kesalahan', 'pemilu']\n"
     ]
    }
   ],
   "source": [
    "from Sastrawi.StopWordRemover.StopWordRemoverFactory import StopWordRemoverFactory\n",
    "from Sastrawi.Stemmer.StemmerFactory import StemmerFactory\n",
    "import re\n",
    "\n",
    "# Teks awal\n",
    "teks = \"Aku mengakui Kesalahan Pemilu\"\n",
    "\n",
    "# Menghapus karakter non-alfanumerik\n",
    "teks = re.sub(r'[^a-zA-Z0-9\\s]', '', teks)\n",
    "\n",
    "# Case folding\n",
    "teks = teks.lower()\n",
    "\n",
    "# Menghapus stopwords\n",
    "factory = StopWordRemoverFactory()\n",
    "stopword = factory.create_stop_word_remover()\n",
    "teks = stopword.remove(teks)\n",
    "\n",
    "# Stemming\n",
    "# factory = StemmerFactory()\n",
    "# stemmer = factory.create_stemmer()\n",
    "# teks = stemmer.stem(teks)\n",
    "\n",
    "# Tokenisasi\n",
    "tokens = teks.split()\n",
    "\n",
    "print(tokens)"
   ]
  },
  {
   "cell_type": "code",
   "execution_count": null,
   "metadata": {},
   "outputs": [],
   "source": []
  }
 ],
 "metadata": {
  "kernelspec": {
   "display_name": "env",
   "language": "python",
   "name": "python3"
  },
  "language_info": {
   "codemirror_mode": {
    "name": "ipython",
    "version": 3
   },
   "file_extension": ".py",
   "mimetype": "text/x-python",
   "name": "python",
   "nbconvert_exporter": "python",
   "pygments_lexer": "ipython3",
   "version": "3.11.5"
  }
 },
 "nbformat": 4,
 "nbformat_minor": 2
}
