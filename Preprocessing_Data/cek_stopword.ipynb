{
 "cells": [
  {
   "cell_type": "markdown",
   "metadata": {},
   "source": [
    "# Perbandingan Metode Stopword"
   ]
  },
  {
   "cell_type": "markdown",
   "metadata": {},
   "source": [
    "# ----------------------------------------------------------------\n"
   ]
  },
  {
   "cell_type": "markdown",
   "metadata": {},
   "source": [
    "## Mengunakaan Libary Sastrawi"
   ]
  },
  {
   "cell_type": "code",
   "execution_count": 2,
   "metadata": {},
   "outputs": [
    {
     "name": "stdout",
     "output_type": "stream",
     "text": [
      "Teks tanpa stopwords:\n",
      "bakal calon presiden koalisi indonesia maju (kim) prabowo subianto tak khawatir atas bujet bakal disediakan program makan gratis pelajar kenaikan gaji guru, asn, maupun aparatur negara lainnya. seminar diadakan institute madani nusantara sabtu (30/9) hotel bidakara, jakarta selatan, prabowo optimistis dana tersebut selalu tersedia alur perputaran uang indonesia terjadi sehat. bertanya, 'memangnya uangnya?' ada uangnya, kata prabowo memastikan. bocor-bocor tutup kebocorannya. maling-maling tutup malingnya. mark-up, gelembung-gelembung, tutup, sambungnya. prabowo menegaskan, tak segan menekan wajib pajak membayarkan tanggung jawab sesuai porsi mereka. enggak mau bayar pajak, bayar bayar pajak. kalau bisa, hilangkan penyelundupan juga, kata prabowo. penjelasan tersebut merupakan kiat-kiat prabowo melaksanakan program pengentasan kemiskinan bakal dilakukan terpilih menjadi presiden ri 2024-2029. salah satu program diutamakan jatah makan siang gratis anak sekolah seluruh indonesia. salah satu program pemberantasan kemiskinan memperkuat anak-anak indonesia, kata prabowo subianto. memberi makan siang susu gratis semua sekolah pesantren seluruh indonesia, ujarnya. itu, prabowo juga menjanjikan kenaikan gaji guru, asn, anggota tni, polri, seluruh perangkat abdi masyarakat lainnya. juga menaikkan gaji guru, asn, anggota tni, polri, kades, perangkat desa rt-rw seluruh indonesia, seru prabowo. salah satu kebijakan elementer menurutnya juga perlu segera dikerjakan bantuan gizi balita ibu hamil. akses bantuan tersebut nantinya dijanjikan tersedia pos pelayanan terpadu seluruh penjuru indonesia. juga memberi bantuan gizi anak-anak balita ibu-ibu hamil, klaim prabowo. berarti posyandu-posyandu akan hidupkan semua desa dusun seluruh indonesia, kata prabowo. ia optimistis dapat menyediakan anggaran diperlukan seluruh janji tersebut, bersamaan pemberantasan lain selama dianggap mengurangi pendapatan negara. pertanyaannya bukanlah bisa, ini bisa kalau kita mau maju negara. saya yakin kita bisa, tegasnya. ini prabowo subianto mendapat dukungan gerindra, golkar, pan, pbb, demokrat, gelora garuda bakal calon presiden pilpres 2024. ada cawapres ditentukan. kpu baru membuka masa pendaftaran capres-cawapres oktober mendatang. jumat (29/9), wakil ketua dewan pembina partai gerindra hashim djojohadikusumo menyebutkan kandidat cawapres pendamping prabowo subianto pilpres 2024 masih dipertimbangkan.\n"
     ]
    }
   ],
   "source": [
    "from Sastrawi.StopWordRemover.StopWordRemoverFactory import StopWordRemoverFactory\n",
    "teks = \"bakal calon presiden dari koalisi indonesia maju (kim) prabowo subianto tak khawatir atas bujet yang bakal disediakan untuk program makan gratis pelajar dan juga kenaikan gaji guru, asn, maupun aparatur negara lainnya. dalam seminar yang diadakan oleh institute madani nusantara pada sabtu (30/9) di hotel bidakara, jakarta selatan, prabowo optimistis bahwa dana tersebut selalu tersedia jika alur perputaran uang di indonesia terjadi secara sehat. nanti ada yang bertanya, 'memangnya ada uangnya?' ada uangnya, kata prabowo memastikan. yang bocor-bocor harus kita tutup kebocorannya. yang maling-maling kita tutup malingnya. yang mark-up, yang gelembung-gelembung, kita tutup, sambungnya. prabowo menegaskan, ia juga tak segan untuk menekan para wajib pajak agar dapat membayarkan tanggung jawab sesuai porsi mereka. yang enggak mau bayar pajak, kita bayar supaya bayar pajak. kalau bisa, kita hilangkan penyelundupan juga, kata prabowo. penjelasan tersebut merupakan kiat-kiat dari prabowo untuk melaksanakan program pengentasan kemiskinan yang bakal dilakukan jika ia nanti terpilih menjadi presiden ri 2024-2029. salah satu program yang diutamakan adalah jatah makan siang gratis untuk anak sekolah di seluruh indonesia. salah satu program dalam pemberantasan kemiskinan adalah memperkuat anak-anak indonesia, kata prabowo subianto. kami akan memberi makan siang dan susu gratis di semua sekolah dan pesantren di seluruh indonesia, ujarnya. selain itu, prabowo juga menjanjikan kenaikan gaji bagi guru, asn, anggota tni, polri, serta seluruh perangkat abdi masyarakat lainnya. kami juga akan menaikkan gaji guru, asn, anggota tni, polri, kades, dan perangkat desa serta rt-rw di seluruh indonesia, seru prabowo. salah satu kebijakan elementer yang menurutnya juga perlu segera dikerjakan adalah bantuan gizi untuk balita dan ibu hamil. akses bantuan tersebut nantinya dijanjikan dapat tersedia di pos pelayanan terpadu di seluruh penjuru indonesia. kami juga akan memberi bantuan gizi untuk anak-anak balita dan ibu-ibu hamil, klaim prabowo. berarti posyandu-posyandu akan kita hidupkan semua di desa dan dusun seluruh indonesia, kata prabowo. ia optimistis dapat menyediakan anggaran yang diperlukan untuk seluruh janji tersebut, bersamaan dengan pemberantasan hal lain yang selama ini dianggap mengurangi pendapatan negara. pertanyaannya bukanlah apakah bisa, tapi ini harus bisa kalau kita mau maju sebagai negara. dan saya yakin kita bisa, tegasnya. saat ini prabowo subianto telah mendapat dukungan dari gerindra, golkar, pan, pbb, demokrat, gelora dan garuda sebagai bakal calon presiden di pilpres 2024. belum ada cawapres yang ditentukan. kpu baru membuka masa pendaftaran capres-cawapres pada oktober mendatang. pada jumat (29/9), wakil ketua dewan pembina partai gerindra hashim djojohadikusumo menyebutkan kandidat cawapres pendamping prabowo subianto di pilpres 2024 yang masih dipertimbangkan.\"\n",
    "# Create a StopWordRemoverFactory\n",
    "factory = StopWordRemoverFactory()\n",
    "\n",
    "# Get a Sastrawi stopword remover\n",
    "stopword_remover = factory.create_stop_word_remover()\n",
    "\n",
    "# Remove stopwords from the text\n",
    "teks_without_stopwords = stopword_remover.remove(teks)\n",
    "\n",
    "print(\"Teks tanpa stopwords:\")\n",
    "print(teks_without_stopwords)"
   ]
  },
  {
   "cell_type": "markdown",
   "metadata": {},
   "source": [
    "## Mengunakaan Libary NLTK"
   ]
  },
  {
   "cell_type": "markdown",
   "metadata": {},
   "source": [
    "## Mengunakaan Libary Spacy"
   ]
  },
  {
   "cell_type": "markdown",
   "metadata": {},
   "source": [
    "## Mengunakaan Libary Stanza"
   ]
  }
 ],
 "metadata": {
  "kernelspec": {
   "display_name": "env",
   "language": "python",
   "name": "python3"
  },
  "language_info": {
   "codemirror_mode": {
    "name": "ipython",
    "version": 3
   },
   "file_extension": ".py",
   "mimetype": "text/x-python",
   "name": "python",
   "nbconvert_exporter": "python",
   "pygments_lexer": "ipython3",
   "version": "3.11.5"
  }
 },
 "nbformat": 4,
 "nbformat_minor": 2
}
