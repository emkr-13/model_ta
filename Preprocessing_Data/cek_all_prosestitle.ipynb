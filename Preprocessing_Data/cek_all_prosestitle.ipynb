{
 "cells": [
  {
   "cell_type": "markdown",
   "metadata": {},
   "source": [
    "# Perbandingan Metode Prepro"
   ]
  },
  {
   "cell_type": "markdown",
   "metadata": {},
   "source": [
    "# ----------------------------------------------------------------\n"
   ]
  },
  {
   "cell_type": "markdown",
   "metadata": {},
   "source": [
    "## Mengunakaan Libary Sastrawi"
   ]
  },
  {
   "cell_type": "code",
   "execution_count": 1,
   "metadata": {},
   "outputs": [
    {
     "name": "stdout",
     "output_type": "stream",
     "text": [
      "['daftar', 'kpu', 'prabowo', 'pemilu', 'sejukrukun']\n"
     ]
    }
   ],
   "source": [
    "from Sastrawi.StopWordRemover.StopWordRemoverFactory import StopWordRemoverFactory\n",
    "from Sastrawi.Stemmer.StemmerFactory import StemmerFactory\n",
    "import re\n",
    "\n",
    "# Teks awal\n",
    "teks = \"Daftar ke KPU, Prabowo: Kita Ingin Pemilu yang Sejuk-Rukun\"\n",
    "\n",
    "# Menghapus karakter non-alfanumerik\n",
    "teks = re.sub(r'[^a-zA-Z0-9\\s]', '', teks)\n",
    "\n",
    "# Case folding\n",
    "teks = teks.lower()\n",
    "\n",
    "# Menghapus stopwords\n",
    "factory = StopWordRemoverFactory()\n",
    "stopword = factory.create_stop_word_remover()\n",
    "teks = stopword.remove(teks)\n",
    "\n",
    "# Stemming\n",
    "# factory = StemmerFactory()\n",
    "# stemmer = factory.create_stemmer()\n",
    "# teks = stemmer.stem(teks)\n",
    "\n",
    "# Tokenisasi\n",
    "tokens = teks.split()\n",
    "\n",
    "print(tokens)"
   ]
  },
  {
   "cell_type": "markdown",
   "metadata": {},
   "source": [
    "## Mengunakaan Libary NLTK"
   ]
  },
  {
   "cell_type": "code",
   "execution_count": 2,
   "metadata": {},
   "outputs": [
    {
     "name": "stdout",
     "output_type": "stream",
     "text": [
      "['daftar', 'kpu', 'prabowo', 'pemilu', 'sejukrukun']\n"
     ]
    },
    {
     "name": "stderr",
     "output_type": "stream",
     "text": [
      "[nltk_data] Downloading package punkt to /home/krisna/nltk_data...\n",
      "[nltk_data]   Package punkt is already up-to-date!\n",
      "[nltk_data] Downloading package stopwords to /home/krisna/nltk_data...\n",
      "[nltk_data]   Package stopwords is already up-to-date!\n"
     ]
    }
   ],
   "source": [
    "import nltk\n",
    "from nltk.tokenize import word_tokenize\n",
    "from nltk.corpus import stopwords\n",
    "from Sastrawi.Stemmer.StemmerFactory import StemmerFactory\n",
    "import re\n",
    "\n",
    "# Download resource untuk NLTK\n",
    "nltk.download('punkt')\n",
    "nltk.download('stopwords')\n",
    "\n",
    "# Teks awal\n",
    "teks = \"Daftar ke KPU, Prabowo: Kita Ingin Pemilu yang Sejuk-Rukun\"\n",
    "\n",
    "# Menghapus karakter non-alfanumerik\n",
    "teks = re.sub(r'[^a-zA-Z0-9\\s]', '', teks)\n",
    "\n",
    "# Case folding\n",
    "teks = teks.lower()\n",
    "\n",
    "# Tokenisasi\n",
    "tokens = word_tokenize(teks)\n",
    "\n",
    "# Menghapus stopwords\n",
    "stop_words = set(stopwords.words('indonesian'))\n",
    "tokens = [word for word in tokens if word not in stop_words]\n",
    "\n",
    "# Stemming\n",
    "# factory = StemmerFactory()\n",
    "# stemmer = factory.create_stemmer()\n",
    "# stemmed_tokens = [stemmer.stem(token) for token in tokens]\n",
    "\n",
    "print(tokens)\n"
   ]
  },
  {
   "cell_type": "markdown",
   "metadata": {},
   "source": [
    "## Mengunakaan Libary Spacy"
   ]
  },
  {
   "cell_type": "markdown",
   "metadata": {},
   "source": [
    "## Mengunakaan Libary Stanza"
   ]
  },
  {
   "cell_type": "code",
   "execution_count": 3,
   "metadata": {},
   "outputs": [
    {
     "name": "stderr",
     "output_type": "stream",
     "text": [
      "/home/krisna/ProjectTA/model_ta/env/lib/python3.11/site-packages/tqdm/auto.py:21: TqdmWarning: IProgress not found. Please update jupyter and ipywidgets. See https://ipywidgets.readthedocs.io/en/stable/user_install.html\n",
      "  from .autonotebook import tqdm as notebook_tqdm\n",
      "2024-03-17 18:01:10 INFO: Checking for updates to resources.json in case models have been updated.  Note: this behavior can be turned off with download_method=None or download_method=DownloadMethod.REUSE_RESOURCES\n",
      "Downloading https://raw.githubusercontent.com/stanfordnlp/stanza-resources/main/resources_1.8.0.json: 373kB [00:00, 10.8MB/s]                    \n",
      "2024-03-17 18:01:10 INFO: Downloaded file to /home/krisna/stanza_resources/resources.json\n",
      "2024-03-17 18:01:10 WARNING: Language id package default expects mwt, which has been added\n",
      "2024-03-17 18:01:10 INFO: Loading these models for language: id (Indonesian):\n",
      "=======================\n",
      "| Processor | Package |\n",
      "-----------------------\n",
      "| tokenize  | gsd     |\n",
      "| mwt       | gsd     |\n",
      "=======================\n",
      "\n",
      "2024-03-17 18:01:11 INFO: Using device: cpu\n",
      "2024-03-17 18:01:11 INFO: Loading: tokenize\n",
      "2024-03-17 18:01:11 INFO: Loading: mwt\n",
      "2024-03-17 18:01:12 INFO: Done loading processors!\n"
     ]
    },
    {
     "name": "stdout",
     "output_type": "stream",
     "text": [
      "['daftar', 'kpu', 'prabowo', 'pemilu', 'sejukrukun']\n"
     ]
    }
   ],
   "source": [
    "import stanza\n",
    "from Sastrawi.StopWordRemover.StopWordRemoverFactory import StopWordRemoverFactory\n",
    "from Sastrawi.Stemmer.StemmerFactory import StemmerFactory\n",
    "import re\n",
    "\n",
    "# Download model Bahasa Indonesia jika belum diunduh\n",
    "#stanza.download('id')\n",
    "\n",
    "# Inisialisasi prosesor untuk Bahasa Indonesia\n",
    "nlp = stanza.Pipeline(lang='id', processors='tokenize')\n",
    "\n",
    "# Teks awal\n",
    "teks = \"Daftar ke KPU, Prabowo: Kita Ingin Pemilu yang Sejuk-Rukun\"\n",
    "\n",
    "# Menghapus karakter non-alfanumerik\n",
    "teks = re.sub(r'[^a-zA-Z0-9\\s]', '', teks)\n",
    "\n",
    "# Case folding\n",
    "teks = teks.lower()\n",
    "\n",
    "# Tokenisasi dengan Stanza\n",
    "doc = nlp(teks)\n",
    "tokens = [word.text for sent in doc.sentences for word in sent.words]\n",
    "\n",
    "# Menghapus stopwords\n",
    "factory = StopWordRemoverFactory()\n",
    "stopword = factory.create_stop_word_remover()\n",
    "tokens = stopword.remove(' '.join(tokens)).split()\n",
    "\n",
    "# Stemming\n",
    "# factory = StemmerFactory()\n",
    "# stemmer = factory.create_stemmer()\n",
    "# stemmed_tokens = [stemmer.stem(token) for token in tokens]\n",
    "\n",
    "print(tokens)\n"
   ]
  },
  {
   "cell_type": "code",
   "execution_count": 4,
   "metadata": {},
   "outputs": [
    {
     "name": "stderr",
     "output_type": "stream",
     "text": [
      "2024-03-17 18:01:12 INFO: Checking for updates to resources.json in case models have been updated.  Note: this behavior can be turned off with download_method=None or download_method=DownloadMethod.REUSE_RESOURCES\n",
      "Downloading https://raw.githubusercontent.com/stanfordnlp/stanza-resources/main/resources_1.8.0.json: 373kB [00:00, 15.2MB/s]                    \n",
      "2024-03-17 18:01:12 INFO: Downloaded file to /home/krisna/stanza_resources/resources.json\n",
      "2024-03-17 18:01:12 WARNING: Language id package default expects mwt, which has been added\n",
      "2024-03-17 18:01:12 INFO: Loading these models for language: id (Indonesian):\n",
      "=======================\n",
      "| Processor | Package |\n",
      "-----------------------\n",
      "| tokenize  | gsd     |\n",
      "| mwt       | gsd     |\n",
      "=======================\n",
      "\n",
      "2024-03-17 18:01:12 INFO: Using device: cpu\n",
      "2024-03-17 18:01:12 INFO: Loading: tokenize\n",
      "2024-03-17 18:01:12 INFO: Loading: mwt\n",
      "2024-03-17 18:01:12 INFO: Done loading processors!\n"
     ]
    },
    {
     "name": "stdout",
     "output_type": "stream",
     "text": [
      "['daftar', 'kpu', 'prabowo', 'pemilu', 'sejukrukun']\n"
     ]
    }
   ],
   "source": [
    "import stanza\n",
    "from nltk.corpus import stopwords\n",
    "from nltk.stem import PorterStemmer\n",
    "import re\n",
    "\n",
    "# Download model Bahasa Indonesia jika belum diunduh\n",
    "#stanza.download('id')\n",
    "\n",
    "# Inisialisasi prosesor untuk Bahasa Indonesia\n",
    "nlp = stanza.Pipeline(lang='id', processors='tokenize')\n",
    "\n",
    "# Teks awal\n",
    "teks = \"Daftar ke KPU, Prabowo: Kita Ingin Pemilu yang Sejuk-Rukun\"\n",
    "\n",
    "# Menghapus karakter non-alfanumerik\n",
    "teks = re.sub(r'[^a-zA-Z0-9\\s]', '', teks)\n",
    "\n",
    "# Case folding\n",
    "teks = teks.lower()\n",
    "\n",
    "# Tokenisasi dengan Stanza\n",
    "doc = nlp(teks)\n",
    "tokens = [word.text for sent in doc.sentences for word in sent.words]\n",
    "\n",
    "# Menghapus stopwords\n",
    "stop_words = set(stopwords.words('indonesian'))\n",
    "filtered_tokens = [token for token in tokens if token not in stop_words]\n",
    "\n",
    "# Stemming\n",
    "stemmer = PorterStemmer()\n",
    "stemmed_tokens = [stemmer.stem(token) for token in filtered_tokens]\n",
    "\n",
    "print(stemmed_tokens)\n"
   ]
  }
 ],
 "metadata": {
  "kernelspec": {
   "display_name": "env",
   "language": "python",
   "name": "python3"
  },
  "language_info": {
   "codemirror_mode": {
    "name": "ipython",
    "version": 3
   },
   "file_extension": ".py",
   "mimetype": "text/x-python",
   "name": "python",
   "nbconvert_exporter": "python",
   "pygments_lexer": "ipython3",
   "version": "3.11.5"
  }
 },
 "nbformat": 4,
 "nbformat_minor": 2
}
