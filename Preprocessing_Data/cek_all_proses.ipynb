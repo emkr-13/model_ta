{
 "cells": [
  {
   "cell_type": "markdown",
   "metadata": {},
   "source": [
    "# Perbandingan Metode Prepro"
   ]
  },
  {
   "cell_type": "markdown",
   "metadata": {},
   "source": [
    "# ----------------------------------------------------------------\n"
   ]
  },
  {
   "cell_type": "markdown",
   "metadata": {},
   "source": [
    "## Mengunakaan Libary Sastrawi"
   ]
  },
  {
   "cell_type": "code",
   "execution_count": 1,
   "metadata": {},
   "outputs": [
    {
     "name": "stdout",
     "output_type": "stream",
     "text": [
      "['jakarta', 'kompascom', 'penjabat', 'pj', 'gubernur', 'dki', 'jakarta', 'heru', 'budi', 'hartono', 'mengakui', 'jumlah', 'puskesmas', 'rusunawa', 'nagrak', 'jakarta', 'utara', 'kurang', 'heru', 'memastikan', 'pemerintah', 'provinsi', 'pemprov', 'dki', 'jakarta', 'menambah', 'puskesmas', 'sana', 'kesehatan', 'anak', 'puskesmas', 'minta', 'dokter', 'kan', 'satu', 'puskesmas', 'mungkin', 'kurang', 'ujar', 'heru', 'rusunawa', 'nagrak', 'kamis', '26102023', 'karena', 'berapa', 'tower', 'sini', '14', 'tower', 'kurang', 'kalau', '1', 'tadi', 'keluhan', 'atas', 'terlalu', 'jauh', 'lanjut', 'baca', 'soal', 'relokasi', 'eks', 'warga', 'kampung', 'bayam', 'ksb', 'heru', 'budi', 'katanya', 'betah', 'rusun', 'nagrak', 'puskesmas', 'heru', 'menegaskan', 'pemprov', 'dki', 'menyediakan', 'berbagai', 'fasilitas', 'dibutuhkan', 'penghuni', 'rusunawa', 'nagrak', 'tadi', 'keluhan', 'warga', 'melalui', 'pak', 'johnny', 'wifi', 'puskesmas', 'semua', 'keluhan', 'wajar', 'sebuah', 'kehidupan', 'paling', 'mendasar', 'jadi', 'puskesmas', 'sekolah', 'paud', 'wifi', 'perpustakaan', 'taman', 'cepat', 'penuhi', 'kami', 'penuhi', 'ungkap', 'adapun', 'heru', 'menyambangi', 'rusunawa', 'nagrak', 'kamis', 'heru', 'bertemu', 'eks', 'warga', 'kampung', 'bayam', 'direlokasi', 'rusunawa', 'nagrak', 'tower', 'iii', 'lantai', '13', 'mengenakan', 'kemeja', 'putih', 'celana', 'hitam', 'heru', 'berdialog', 'penghuni', 'unit', '11', '12', 'toiroh', '51', 'shirley', '41', 'baca', 'heru', 'budi', 'eks', 'warga', 'kampung', 'bayam', 'keluhkan', 'ketersediaan', 'klinik', 'kursi', 'roda', 'rusunawa', 'nagrak', 'berbincang', 'shirley', 'eks', 'wali', 'kota', 'jakarta', 'utara', 'mendapatkan', 'keluhan', 'mengenai', 'ketersediaan', 'klinik', 'rusunawa', 'nagrak', 'sama', 'dong', 'pak', 'klinik', 'jangan', 'cuma', 'ujung', 'kata', 'shirley', 'kepada', 'heru', 'budi', 'heru', 'kemudian', 'diinformasikan', 'baru', 'satu', 'klinik', 'di', 'rusunawa', 'nagrak', 'di', 'tower', '14', 'saya', 'suruh', 'deh', 'ucap', 'heru', 'merespons', 'keluhan', 'shirley', 'shirley', 'mengeluhkan', 'ketersediaan', 'kursi', 'roda', 'di', 'tower', 'rusunawa', 'nagrak', 'sama', 'setiap', 'tower', 'kalau', 'bisa', 'ada', 'kursi', 'roda', 'pak', 'kalau', 'tibatiba', 'ada', 'yang', 'sakit', 'siapkan', 'kursi', 'roda', 'tutur', 'shirley', 'iya', 'iya', 'saya', 'siapkan', 'banyak', 'kursi', 'roda', 'kemarin', 'ada', 'yang', 'kasih', 'kursi', 'roda', 'siapa', 'ya', 'gampanglah', 'timpal', 'heru']\n"
     ]
    }
   ],
   "source": [
    "from Sastrawi.StopWordRemover.StopWordRemoverFactory import StopWordRemoverFactory\n",
    "from Sastrawi.Stemmer.StemmerFactory import StemmerFactory\n",
    "import re\n",
    "\n",
    "# Teks awal\n",
    "teks = \"JAKARTA, KOMPAS.com - Penjabat (Pj) Gubernur DKI Jakarta Heru Budi Hartono mengakui bahwa jumlah puskesmas di Rusunawa Nagrak, Jakarta Utara, masih kurang. Oleh karena itu, Heru memastikan, Pemerintah Provinsi (Pemprov) DKI Jakarta akan menambah puskesmas di sana. Untuk kesehatan anak, puskesmas nanti kami minta dokter. Kan sudah ada satu puskesmas, mungkin masih kurang, ujar Heru di Rusunawa Nagrak, Kamis (26/10/2023). Karena, ada berapa tower ya di sini? 14 tower. Masih kurang kalau 1. Tadi ada keluhan juga di atas, terlalu jauh, lanjut dia. Baca juga: Soal Relokasi Eks Warga Kampung Bayam ke KSB, Heru Budi: Katanya Betah di Rusun Nagrak Selain puskesmas, Heru menegaskan bahwa Pemprov DKI akan menyediakan berbagai fasilitas yang dibutuhkan penghuni Rusunawa Nagrak. Tadi keluhan warga melalui Pak Johnny, ada WiFi, puskesmas. Semua keluhan itu wajar untuk sebuah kehidupan yang paling mendasar. Jadi, puskesmas, (sekolah) PAUD, WiFi, dan perpustakaan, taman. Yang bisa cepat kami penuhi, kami penuhi, ungkap dia. Adapun Heru menyambangi Rusunawa Nagrak pada Kamis. Heru bertemu eks warga Kampung Bayam yang direlokasi ke Rusunawa Nagrak, Tower III, Lantai 13. Mengenakan kemeja putih dan celana hitam, Heru berdialog dengan penghuni unit 11 dan 12, yakni Toiroh (51) dan Shirley (41). Baca juga: Kepada Heru Budi, Eks Warga Kampung Bayam Keluhkan Ketersediaan Klinik dan Kursi Roda di Rusunawa Nagrak Saat berbincang dengan Shirley, eks Wali Kota Jakarta Utara itu mendapatkan keluhan mengenai ketersediaan klinik di Rusunawa Nagrak. Sama ini dong, Pak, klinik. Jangan cuma di ujung saja, kata Shirley kepada Heru Budi. Heru kemudian diinformasikan bahwa baru ada satu klinik di Rusunawa Nagrak, yakni di Tower 14. Nanti saya suruh deh, ucap Heru merespons keluhan Shirley. Shirley juga mengeluhkan ketersediaan kursi roda di setiap tower Rusunawa Nagrak. Sama setiap tower, kalau bisa ada kursi roda, Pak. Kalau tiba-tiba ada yang sakit, siapkan kursi roda, tutur Shirley. Iya, iya, nanti saya (siapkan). Banyak kursi roda. Kemarin ada yang kasih kursi roda, siapa ya? Ya gampanglah itu, timpal Heru.\"\n",
    "\n",
    "# Menghapus karakter non-alfanumerik\n",
    "teks = re.sub(r'[^a-zA-Z0-9\\s]', '', teks)\n",
    "\n",
    "# Case folding\n",
    "teks = teks.lower()\n",
    "\n",
    "# Menghapus stopwords\n",
    "factory = StopWordRemoverFactory()\n",
    "stopword = factory.create_stop_word_remover()\n",
    "teks = stopword.remove(teks)\n",
    "\n",
    "# Stemming\n",
    "factory = StemmerFactory()\n",
    "stemmer = factory.create_stemmer()\n",
    "# teks = stemmer.stem(teks)\n",
    "\n",
    "# Tokenisasi\n",
    "tokens = teks.split()\n",
    "\n",
    "print(tokens)"
   ]
  },
  {
   "cell_type": "markdown",
   "metadata": {},
   "source": [
    "## Mengunakaan Libary NLTK"
   ]
  },
  {
   "cell_type": "code",
   "execution_count": 2,
   "metadata": {},
   "outputs": [
    {
     "name": "stdout",
     "output_type": "stream",
     "text": [
      "['jakarta', 'kompascom', 'penjabat', 'pj', 'gubernur', 'dki', 'jakarta', 'heru', 'budi', 'hartono', 'mengakui', 'puskesmas', 'rusunawa', 'nagrak', 'jakarta', 'utara', 'heru', 'pemerintah', 'provinsi', 'pemprov', 'dki', 'jakarta', 'menambah', 'puskesmas', 'kesehatan', 'anak', 'puskesmas', 'dokter', 'puskesmas', 'heru', 'rusunawa', 'nagrak', 'kamis', '26102023', 'tower', 'ya', '14', 'tower', '1', 'keluhan', 'baca', 'relokasi', 'eks', 'warga', 'kampung', 'bayam', 'ksb', 'heru', 'budi', 'betah', 'rusun', 'nagrak', 'puskesmas', 'heru', 'pemprov', 'dki', 'menyediakan', 'fasilitas', 'dibutuhkan', 'penghuni', 'rusunawa', 'nagrak', 'keluhan', 'warga', 'johnny', 'wifi', 'puskesmas', 'keluhan', 'wajar', 'kehidupan', 'mendasar', 'puskesmas', 'sekolah', 'paud', 'wifi', 'perpustakaan', 'taman', 'cepat', 'penuhi', 'penuhi', 'heru', 'menyambangi', 'rusunawa', 'nagrak', 'kamis', 'heru', 'bertemu', 'eks', 'warga', 'kampung', 'bayam', 'direlokasi', 'rusunawa', 'nagrak', 'tower', 'iii', 'lantai', '13', 'mengenakan', 'kemeja', 'putih', 'celana', 'hitam', 'heru', 'berdialog', 'penghuni', 'unit', '11', '12', 'toiroh', '51', 'shirley', '41', 'baca', 'heru', 'budi', 'eks', 'warga', 'kampung', 'bayam', 'keluhkan', 'ketersediaan', 'klinik', 'kursi', 'roda', 'rusunawa', 'nagrak', 'berbincang', 'shirley', 'eks', 'wali', 'kota', 'jakarta', 'utara', 'keluhan', 'ketersediaan', 'klinik', 'rusunawa', 'nagrak', 'klinik', 'ujung', 'shirley', 'heru', 'budi', 'heru', 'diinformasikan', 'klinik', 'rusunawa', 'nagrak', 'tower', '14', 'suruh', 'deh', 'heru', 'merespons', 'keluhan', 'shirley', 'shirley', 'mengeluhkan', 'ketersediaan', 'kursi', 'roda', 'tower', 'rusunawa', 'nagrak', 'tower', 'kursi', 'roda', 'tibatiba', 'sakit', 'siapkan', 'kursi', 'roda', 'shirley', 'iya', 'iya', 'siapkan', 'kursi', 'roda', 'kemarin', 'kasih', 'kursi', 'roda', 'ya', 'ya', 'gampanglah', 'timpal', 'heru']\n"
     ]
    },
    {
     "name": "stderr",
     "output_type": "stream",
     "text": [
      "[nltk_data] Downloading package punkt to /home/krisna/nltk_data...\n",
      "[nltk_data]   Package punkt is already up-to-date!\n",
      "[nltk_data] Downloading package stopwords to /home/krisna/nltk_data...\n",
      "[nltk_data]   Package stopwords is already up-to-date!\n"
     ]
    }
   ],
   "source": [
    "import nltk\n",
    "from nltk.tokenize import word_tokenize\n",
    "from nltk.corpus import stopwords\n",
    "from Sastrawi.Stemmer.StemmerFactory import StemmerFactory\n",
    "import re\n",
    "\n",
    "# Download resource untuk NLTK\n",
    "nltk.download('punkt')\n",
    "nltk.download('stopwords')\n",
    "\n",
    "# Teks awal\n",
    "teks = \"JAKARTA, KOMPAS.com - Penjabat (Pj) Gubernur DKI Jakarta Heru Budi Hartono mengakui bahwa jumlah puskesmas di Rusunawa Nagrak, Jakarta Utara, masih kurang. Oleh karena itu, Heru memastikan, Pemerintah Provinsi (Pemprov) DKI Jakarta akan menambah puskesmas di sana. Untuk kesehatan anak, puskesmas nanti kami minta dokter. Kan sudah ada satu puskesmas, mungkin masih kurang, ujar Heru di Rusunawa Nagrak, Kamis (26/10/2023). Karena, ada berapa tower ya di sini? 14 tower. Masih kurang kalau 1. Tadi ada keluhan juga di atas, terlalu jauh, lanjut dia. Baca juga: Soal Relokasi Eks Warga Kampung Bayam ke KSB, Heru Budi: Katanya Betah di Rusun Nagrak Selain puskesmas, Heru menegaskan bahwa Pemprov DKI akan menyediakan berbagai fasilitas yang dibutuhkan penghuni Rusunawa Nagrak. Tadi keluhan warga melalui Pak Johnny, ada WiFi, puskesmas. Semua keluhan itu wajar untuk sebuah kehidupan yang paling mendasar. Jadi, puskesmas, (sekolah) PAUD, WiFi, dan perpustakaan, taman. Yang bisa cepat kami penuhi, kami penuhi, ungkap dia. Adapun Heru menyambangi Rusunawa Nagrak pada Kamis. Heru bertemu eks warga Kampung Bayam yang direlokasi ke Rusunawa Nagrak, Tower III, Lantai 13. Mengenakan kemeja putih dan celana hitam, Heru berdialog dengan penghuni unit 11 dan 12, yakni Toiroh (51) dan Shirley (41). Baca juga: Kepada Heru Budi, Eks Warga Kampung Bayam Keluhkan Ketersediaan Klinik dan Kursi Roda di Rusunawa Nagrak Saat berbincang dengan Shirley, eks Wali Kota Jakarta Utara itu mendapatkan keluhan mengenai ketersediaan klinik di Rusunawa Nagrak. Sama ini dong, Pak, klinik. Jangan cuma di ujung saja, kata Shirley kepada Heru Budi. Heru kemudian diinformasikan bahwa baru ada satu klinik di Rusunawa Nagrak, yakni di Tower 14. Nanti saya suruh deh, ucap Heru merespons keluhan Shirley. Shirley juga mengeluhkan ketersediaan kursi roda di setiap tower Rusunawa Nagrak. Sama setiap tower, kalau bisa ada kursi roda, Pak. Kalau tiba-tiba ada yang sakit, siapkan kursi roda, tutur Shirley. Iya, iya, nanti saya (siapkan). Banyak kursi roda. Kemarin ada yang kasih kursi roda, siapa ya? Ya gampanglah itu, timpal Heru.\"\n",
    "\n",
    "# Menghapus karakter non-alfanumerik\n",
    "teks = re.sub(r'[^a-zA-Z0-9\\s]', '', teks)\n",
    "\n",
    "# Case folding\n",
    "teks = teks.lower()\n",
    "\n",
    "# Tokenisasi\n",
    "tokens = word_tokenize(teks)\n",
    "\n",
    "# Menghapus stopwords\n",
    "stop_words = set(stopwords.words('indonesian'))\n",
    "tokens = [word for word in tokens if word not in stop_words]\n",
    "\n",
    "# Stemming\n",
    "# factory = StemmerFactory()\n",
    "# stemmer = factory.create_stemmer()\n",
    "# stemmed_tokens = [stemmer.stem(token) for token in tokens]\n",
    "\n",
    "print(tokens)\n"
   ]
  },
  {
   "cell_type": "markdown",
   "metadata": {},
   "source": [
    "## Mengunakaan Libary Spacy"
   ]
  },
  {
   "cell_type": "markdown",
   "metadata": {},
   "source": [
    "## Mengunakaan Libary Stanza"
   ]
  },
  {
   "cell_type": "code",
   "execution_count": 3,
   "metadata": {},
   "outputs": [
    {
     "name": "stderr",
     "output_type": "stream",
     "text": [
      "/home/krisna/ProjectTA/model_ta/env/lib/python3.11/site-packages/tqdm/auto.py:21: TqdmWarning: IProgress not found. Please update jupyter and ipywidgets. See https://ipywidgets.readthedocs.io/en/stable/user_install.html\n",
      "  from .autonotebook import tqdm as notebook_tqdm\n",
      "2024-03-17 09:29:54 INFO: Checking for updates to resources.json in case models have been updated.  Note: this behavior can be turned off with download_method=None or download_method=DownloadMethod.REUSE_RESOURCES\n",
      "Downloading https://raw.githubusercontent.com/stanfordnlp/stanza-resources/main/resources_1.8.0.json: 373kB [00:00, 12.1MB/s]                    \n",
      "2024-03-17 09:29:55 INFO: Downloaded file to /home/krisna/stanza_resources/resources.json\n",
      "2024-03-17 09:29:55 WARNING: Language id package default expects mwt, which has been added\n",
      "2024-03-17 09:29:55 INFO: Loading these models for language: id (Indonesian):\n",
      "=======================\n",
      "| Processor | Package |\n",
      "-----------------------\n",
      "| tokenize  | gsd     |\n",
      "| mwt       | gsd     |\n",
      "=======================\n",
      "\n",
      "2024-03-17 09:29:55 INFO: Using device: cpu\n",
      "2024-03-17 09:29:55 INFO: Loading: tokenize\n",
      "2024-03-17 09:29:56 INFO: Loading: mwt\n",
      "2024-03-17 09:29:56 INFO: Done loading processors!\n"
     ]
    },
    {
     "name": "stdout",
     "output_type": "stream",
     "text": [
      "['jakarta', 'kompascom', 'penjabat', 'pj', 'gubernur', 'dki', 'jakarta', 'heru', 'budi', 'hartono', 'mengakui', 'jumlah', 'puskesmas', 'rusunawa', 'nagrak', 'jakarta', 'utara', 'kurang', 'heru', 'memastikan', 'pemerintah', 'provinsi', 'pemprov', 'dki', 'jakarta', 'menambah', 'puskesmas', 'sana', 'kesehatan', 'anak', 'puskesmas', 'minta', 'dokter', 'kan', 'satu', 'puskesmas', 'mungkin', 'kurang', 'ujar', 'heru', 'rusunawa', 'nagrak', 'kamis', '26102023', 'karena', 'berapa', 'tower', 'sini', '14', 'tower', 'kurang', 'kalau', '1', 'tadi', 'keluhan', 'atas', 'terlalu', 'jauh', 'lanjut', 'baca', 'soal', 'relokasi', 'eks', 'warga', 'kampung', 'bayam', 'ksb', 'heru', 'budi', 'kata', 'nya', 'betah', 'rusun', 'nagrak', 'puskesmas', 'heru', 'menegaskan', 'pemprov', 'dki', 'menyediakan', 'berbagai', 'fasilitas', 'dibutuhkan', 'penghuni', 'rusunawa', 'nagrak', 'tadi', 'keluhan', 'warga', 'melalui', 'pak', 'johnny', 'wifi', 'puskesmas', 'semua', 'keluhan', 'wajar', 'sebuah', 'kehidupan', 'paling', 'mendasar', 'jadi', 'puskesmas', 'sekolah', 'paud', 'wifi', 'perpustakaan', 'taman', 'cepat', 'penuhi', 'kami', 'penuhi', 'ungkap', 'heru', 'menyambangi', 'rusunawa', 'nagrak', 'kamis', 'heru', 'bertemu', 'eks', 'warga', 'kampung', 'bayam', 'direlokasi', 'rusunawa', 'nagrak', 'tower', 'iii', 'lantai', '13', 'mengenakan', 'kemeja', 'putih', 'celana', 'hitam', 'heru', 'berdialog', 'penghuni', 'unit', '11', '12', 'toiroh', '51', 'shirley', '41', 'baca', 'heru', 'budi', 'eks', 'warga', 'kampung', 'bayam', 'keluhkan', 'ketersediaan', 'klinik', 'kursi', 'roda', 'rusunawa', 'nagrak', 'berbincang', 'shirley', 'eks', 'wali', 'kota', 'jakarta', 'utara', 'mendapatkan', 'keluhan', 'mengenai', 'ketersediaan', 'klinik', 'rusunawa', 'nagrak', 'sama', 'dong', 'pak', 'klinik', 'jangan', 'cuma', 'ujung', 'kata', 'shirley', 'kepada', 'heru', 'budi', 'heru', 'kemudian', 'diinformasikan', 'baru', 'ada', 'satu', 'klinik', 'di', 'rusunawa', 'nagrak', 'di', 'tower', '14', 'saya', 'suruh', 'deh', 'ucap', 'heru', 'merespons', 'keluhan', 'shirley', 'shirley', 'mengeluhkan', 'ketersediaan', 'kursi', 'roda', 'di', 'tower', 'rusunawa', 'nagrak', 'sama', 'setiap', 'tower', 'kalau', 'bisa', 'ada', 'kursi', 'roda', 'pak', 'kalau', 'tibatiba', 'ada', 'yang', 'sakit', 'siapkan', 'kursi', 'roda', 'tutur', 'shirley', 'iya', 'iya', 'saya', 'siapkan', 'banyak', 'kursi', 'roda', 'kemarin', 'ada', 'yang', 'kasih', 'kursi', 'roda', 'siapa', 'ya', 'gampan', 'glah', 'timpal', 'heru']\n"
     ]
    }
   ],
   "source": [
    "import stanza\n",
    "from Sastrawi.StopWordRemover.StopWordRemoverFactory import StopWordRemoverFactory\n",
    "from Sastrawi.Stemmer.StemmerFactory import StemmerFactory\n",
    "import re\n",
    "\n",
    "# Download model Bahasa Indonesia jika belum diunduh\n",
    "#stanza.download('id')\n",
    "\n",
    "# Inisialisasi prosesor untuk Bahasa Indonesia\n",
    "nlp = stanza.Pipeline(lang='id', processors='tokenize')\n",
    "\n",
    "# Teks awal\n",
    "teks = \"JAKARTA, KOMPAS.com - Penjabat (Pj) Gubernur DKI Jakarta Heru Budi Hartono mengakui bahwa jumlah puskesmas di Rusunawa Nagrak, Jakarta Utara, masih kurang. Oleh karena itu, Heru memastikan, Pemerintah Provinsi (Pemprov) DKI Jakarta akan menambah puskesmas di sana. Untuk kesehatan anak, puskesmas nanti kami minta dokter. Kan sudah ada satu puskesmas, mungkin masih kurang, ujar Heru di Rusunawa Nagrak, Kamis (26/10/2023). Karena, ada berapa tower ya di sini? 14 tower. Masih kurang kalau 1. Tadi ada keluhan juga di atas, terlalu jauh, lanjut dia. Baca juga: Soal Relokasi Eks Warga Kampung Bayam ke KSB, Heru Budi: Katanya Betah di Rusun Nagrak Selain puskesmas, Heru menegaskan bahwa Pemprov DKI akan menyediakan berbagai fasilitas yang dibutuhkan penghuni Rusunawa Nagrak. Tadi keluhan warga melalui Pak Johnny, ada WiFi, puskesmas. Semua keluhan itu wajar untuk sebuah kehidupan yang paling mendasar. Jadi, puskesmas, (sekolah) PAUD, WiFi, dan perpustakaan, taman. Yang bisa cepat kami penuhi, kami penuhi, ungkap dia. Adapun Heru menyambangi Rusunawa Nagrak pada Kamis. Heru bertemu eks warga Kampung Bayam yang direlokasi ke Rusunawa Nagrak, Tower III, Lantai 13. Mengenakan kemeja putih dan celana hitam, Heru berdialog dengan penghuni unit 11 dan 12, yakni Toiroh (51) dan Shirley (41). Baca juga: Kepada Heru Budi, Eks Warga Kampung Bayam Keluhkan Ketersediaan Klinik dan Kursi Roda di Rusunawa Nagrak Saat berbincang dengan Shirley, eks Wali Kota Jakarta Utara itu mendapatkan keluhan mengenai ketersediaan klinik di Rusunawa Nagrak. Sama ini dong, Pak, klinik. Jangan cuma di ujung saja, kata Shirley kepada Heru Budi. Heru kemudian diinformasikan bahwa baru ada satu klinik di Rusunawa Nagrak, yakni di Tower 14. Nanti saya suruh deh, ucap Heru merespons keluhan Shirley. Shirley juga mengeluhkan ketersediaan kursi roda di setiap tower Rusunawa Nagrak. Sama setiap tower, kalau bisa ada kursi roda, Pak. Kalau tiba-tiba ada yang sakit, siapkan kursi roda, tutur Shirley. Iya, iya, nanti saya (siapkan). Banyak kursi roda. Kemarin ada yang kasih kursi roda, siapa ya? Ya gampanglah itu, timpal Heru.\"\n",
    "\n",
    "# Menghapus karakter non-alfanumerik\n",
    "teks = re.sub(r'[^a-zA-Z0-9\\s]', '', teks)\n",
    "\n",
    "# Case folding\n",
    "teks = teks.lower()\n",
    "\n",
    "# Tokenisasi dengan Stanza\n",
    "doc = nlp(teks)\n",
    "tokens = [word.text for sent in doc.sentences for word in sent.words]\n",
    "\n",
    "# Menghapus stopwords\n",
    "factory = StopWordRemoverFactory()\n",
    "stopword = factory.create_stop_word_remover()\n",
    "tokens = stopword.remove(' '.join(tokens)).split()\n",
    "\n",
    "# Stemming\n",
    "factory = StemmerFactory()\n",
    "stemmer = factory.create_stemmer()\n",
    "# stemmed_tokens = [stemmer.stem(token) for token in tokens]\n",
    "\n",
    "print(tokens)\n"
   ]
  }
 ],
 "metadata": {
  "kernelspec": {
   "display_name": "env",
   "language": "python",
   "name": "python3"
  },
  "language_info": {
   "codemirror_mode": {
    "name": "ipython",
    "version": 3
   },
   "file_extension": ".py",
   "mimetype": "text/x-python",
   "name": "python",
   "nbconvert_exporter": "python",
   "pygments_lexer": "ipython3",
   "version": "3.11.5"
  }
 },
 "nbformat": 4,
 "nbformat_minor": 2
}
