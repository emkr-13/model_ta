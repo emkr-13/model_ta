{
 "cells": [
  {
   "cell_type": "markdown",
   "metadata": {},
   "source": [
    "# Perbandingan Metode Cleaning Data"
   ]
  },
  {
   "cell_type": "markdown",
   "metadata": {},
   "source": [
    "# ----------------------------------------------------------------\n"
   ]
  },
  {
   "cell_type": "markdown",
   "metadata": {},
   "source": [
    "## Mengunakaan Libary Sastrawi"
   ]
  },
  {
   "cell_type": "markdown",
   "metadata": {},
   "source": [
    "# ----------------------------------------------------------------\n"
   ]
  },
  {
   "cell_type": "code",
   "execution_count": 1,
   "metadata": {},
   "outputs": [
    {
     "name": "stdout",
     "output_type": "stream",
     "text": [
      "Title: PAN x JakCloth! Pesta Anak Nongkrong Sambangi Barudak Bandung\n",
      "Content: Bakal calon presiden dari Koalisi Indonesia Maju (KIM) Prabowo Subianto tak khawatir atas bujet yang bakal disediakan untuk program makan gratis pelajar dan juga kenaikan gaji guru, ASN, maupun aparatur negara lainnya.Dalam seminar yang diadakan oleh Institute Madani Nusantara pada Sabtu (30/9) di Hotel Bidakara, Jakarta Selatan, Prabowo optimistis bahwa dana tersebut selalu tersedia jika alur perputaran uang di Indonesia terjadi secara sehat.Nanti ada yang bertanya, 'memangnya ada uangnya?' Ada uangnya, kata Prabowo memastikan.Yang bocor-bocor harus kita tutup kebocorannya. Yang maling-maling kita tutup malingnya. Yang mark-up, yang gelembung-gelembung, kita tutup, sambungnya.Prabowo menegaskan, ia juga tak segan untuk menekan para wajib pajak agar dapat membayarkan tanggung jawab sesuai porsi mereka.Yang enggak mau bayar pajak, kita bayar supaya bayar pajak. Kalau bisa, kita hilangkan penyelundupan juga, kata Prabowo.Penjelasan tersebut merupakan kiat-kiat dari Prabowo untuk melaksanakan program pengentasan kemiskinan yang bakal dilakukan jika ia nanti terpilih menjadi Presiden RI 2024-2029.Salah satu program yang diutamakan adalah jatah makan siang gratis untuk anak sekolah di seluruh Indonesia.Salah satu program dalam pemberantasan kemiskinan adalah memperkuat anak-anak Indonesia, kata Prabowo Subianto.Kami akan memberi makan siang dan susu gratis di semua sekolah dan pesantren di seluruh Indonesia, ujarnya.Selain itu, Prabowo juga menjanjikan kenaikan gaji bagi guru, ASN, anggota TNI, Polri, serta seluruh perangkat abdi masyarakat lainnya.Kami juga akan menaikkan gaji guru, ASN, anggota TNI, Polri, Kades, dan perangkat desa serta RT-RW di seluruh Indonesia, seru Prabowo.Salah satu kebijakan elementer yang menurutnya juga perlu segera dikerjakan adalah bantuan gizi untuk balita dan ibu hamil.Akses bantuan tersebut nantinya dijanjikan dapat tersedia di Pos Pelayanan Terpadu di seluruh penjuru Indonesia.Kami juga akan memberi bantuan gizi untuk anak-anak balita dan ibu-ibu hamil, klaim Prabowo.Berarti posyandu-posyandu akan kita hidupkan semua di desa dan dusun seluruh Indonesia, kata Prabowo.Ia optimistis dapat menyediakan anggaran yang diperlukan untuk seluruh janji tersebut, bersamaan dengan pemberantasan hal lain yang selama ini dianggap mengurangi pendapatan negara.Pertanyaannya bukanlah apakah bisa, tapi ini harus bisa kalau kita mau maju sebagai negara. Dan saya yakin kita bisa, tegasnya.Saat ini Prabowo Subianto telah mendapat dukungan dari Gerindra, Golkar, PAN, PBB, Demokrat, Gelora dan Garuda sebagai bakal calon presiden di Pilpres 2024.Belum ada cawapres yang ditentukan. KPU baru membuka masa pendaftaran capres-cawapres pada Oktober mendatang.Pada Jumat (29/9), Wakil Ketua Dewan Pembina Partai Gerindra Hashim Djojohadikusumo menyebutkan kandidat cawapres pendamping Prabowo Subianto di Pilpres 2024 yang masih dipertimbangkan.\n"
     ]
    }
   ],
   "source": [
    "import re\n",
    "\n",
    "# Data mentah\n",
    "title = \"PAN x JakCloth! Pesta Anak Nongkrong Sambangi Barudak Bandung\"\n",
    "content = \"Bakal calon presiden dari Koalisi Indonesia Maju (KIM) Prabowo Subianto tak khawatir atas bujet yang bakal disediakan untuk program makan gratis pelajar dan juga kenaikan gaji guru, ASN, maupun aparatur negara lainnya.Dalam seminar yang diadakan oleh Institute Madani Nusantara pada Sabtu (30/9) di Hotel Bidakara, Jakarta Selatan, Prabowo optimistis bahwa dana tersebut selalu tersedia jika alur perputaran uang di Indonesia terjadi secara sehat.\"\"Nanti ada yang bertanya, 'memangnya ada uangnya?' Ada uangnya,\"\" kata Prabowo memastikan.\"\"Yang bocor-bocor harus kita tutup kebocorannya. Yang maling-maling kita tutup malingnya. Yang mark-up, yang gelembung-gelembung, kita tutup,\"\" sambungnya.ADVERTISEMENTPrabowo menegaskan, ia juga tak segan untuk menekan para wajib pajak agar dapat membayarkan tanggung jawab sesuai porsi mereka.\"\"Yang enggak mau bayar pajak, kita bayar supaya bayar pajak. Kalau bisa, kita hilangkan penyelundupan juga,\"\" kata Prabowo.Penjelasan tersebut merupakan kiat-kiat dari Prabowo untuk melaksanakan program pengentasan kemiskinan yang bakal dilakukan jika ia nanti terpilih menjadi Presiden RI 2024-2029.Salah satu program yang diutamakan adalah jatah makan siang gratis untuk anak sekolah di seluruh Indonesia.\"\"Salah satu program dalam pemberantasan kemiskinan adalah memperkuat anak-anak Indonesia,\"\" kata Prabowo Subianto.\"\"Kami akan memberi makan siang dan susu gratis di semua sekolah dan pesantren di seluruh Indonesia,\"\" ujarnya.Selain itu, Prabowo juga menjanjikan kenaikan gaji bagi guru, ASN, anggota TNI, Polri, serta seluruh perangkat abdi masyarakat lainnya.\"\"Kami juga akan menaikkan gaji guru, ASN, anggota TNI, Polri, Kades, dan perangkat desa serta RT-RW di seluruh Indonesia,\"\" seru Prabowo.Salah satu kebijakan elementer yang menurutnya juga perlu segera dikerjakan adalah bantuan gizi untuk balita dan ibu hamil.Akses bantuan tersebut nantinya dijanjikan dapat tersedia di Pos Pelayanan Terpadu di seluruh penjuru Indonesia.\"\"Kami juga akan memberi bantuan gizi untuk anak-anak balita dan ibu-ibu hamil,\"\" klaim Prabowo.\"\"Berarti posyandu-posyandu akan kita hidupkan semua di desa dan dusun seluruh Indonesia,\"\" kata Prabowo.Ia optimistis dapat menyediakan anggaran yang diperlukan untuk seluruh janji tersebut, bersamaan dengan pemberantasan hal lain yang selama ini dianggap mengurangi pendapatan negara.\"\"Pertanyaannya bukanlah apakah bisa, tapi ini harus bisa kalau kita mau maju sebagai negara. Dan saya yakin kita bisa,\"\" tegasnya.Saat ini Prabowo Subianto telah mendapat dukungan dari Gerindra, Golkar, PAN, PBB, Demokrat, Gelora dan Garuda sebagai bakal calon presiden di Pilpres 2024.Belum ada cawapres yang ditentukan. KPU baru membuka masa pendaftaran capres-cawapres pada Oktober mendatang.Pada Jumat (29/9), Wakil Ketua Dewan Pembina Partai Gerindra Hashim Djojohadikusumo menyebutkan kandidat cawapres pendamping Prabowo Subianto di Pilpres 2024 yang masih dipertimbangkan.\"\n",
    "\n",
    "# Membersihkan iklan\n",
    "content_cleaned = re.sub(r'ADVERTISEMENT', '', content)\n",
    "\n",
    "# Menampilkan hasil\n",
    "print(\"Title:\", title)\n",
    "print(\"Content:\", content_cleaned)"
   ]
  },
  {
   "cell_type": "code",
   "execution_count": 2,
   "metadata": {},
   "outputs": [
    {
     "name": "stdout",
     "output_type": "stream",
     "text": [
      "Title: pan x jakcloth! pesta anak nongkrong sambangi barudak bandung\n",
      "Content: bakal calon presiden dari koalisi indonesia maju (kim) prabowo subianto tak khawatir atas bujet yang bakal disediakan untuk program makan gratis pelajar dan juga kenaikan gaji guru, asn, maupun aparatur negara lainnya.dalam seminar yang diadakan oleh institute madani nusantara pada sabtu (30/9) di hotel bidakara, jakarta selatan, prabowo optimistis bahwa dana tersebut selalu tersedia jika alur perputaran uang di indonesia terjadi secara sehat.nanti ada yang bertanya, 'memangnya ada uangnya?' ada uangnya, kata prabowo memastikan.yang bocor-bocor harus kita tutup kebocorannya. yang maling-maling kita tutup malingnya. yang mark-up, yang gelembung-gelembung, kita tutup, sambungnya.advertisementprabowo menegaskan, ia juga tak segan untuk menekan para wajib pajak agar dapat membayarkan tanggung jawab sesuai porsi mereka.yang enggak mau bayar pajak, kita bayar supaya bayar pajak. kalau bisa, kita hilangkan penyelundupan juga, kata prabowo.penjelasan tersebut merupakan kiat-kiat dari prabowo untuk melaksanakan program pengentasan kemiskinan yang bakal dilakukan jika ia nanti terpilih menjadi presiden ri 2024-2029.salah satu program yang diutamakan adalah jatah makan siang gratis untuk anak sekolah di seluruh indonesia.salah satu program dalam pemberantasan kemiskinan adalah memperkuat anak-anak indonesia, kata prabowo subianto.kami akan memberi makan siang dan susu gratis di semua sekolah dan pesantren di seluruh indonesia, ujarnya.selain itu, prabowo juga menjanjikan kenaikan gaji bagi guru, asn, anggota tni, polri, serta seluruh perangkat abdi masyarakat lainnya.kami juga akan menaikkan gaji guru, asn, anggota tni, polri, kades, dan perangkat desa serta rt-rw di seluruh indonesia, seru prabowo.salah satu kebijakan elementer yang menurutnya juga perlu segera dikerjakan adalah bantuan gizi untuk balita dan ibu hamil.akses bantuan tersebut nantinya dijanjikan dapat tersedia di pos pelayanan terpadu di seluruh penjuru indonesia.kami juga akan memberi bantuan gizi untuk anak-anak balita dan ibu-ibu hamil, klaim prabowo.berarti posyandu-posyandu akan kita hidupkan semua di desa dan dusun seluruh indonesia, kata prabowo.ia optimistis dapat menyediakan anggaran yang diperlukan untuk seluruh janji tersebut, bersamaan dengan pemberantasan hal lain yang selama ini dianggap mengurangi pendapatan negara.pertanyaannya bukanlah apakah bisa, tapi ini harus bisa kalau kita mau maju sebagai negara. dan saya yakin kita bisa, tegasnya.saat ini prabowo subianto telah mendapat dukungan dari gerindra, golkar, pan, pbb, demokrat, gelora dan garuda sebagai bakal calon presiden di pilpres 2024.belum ada cawapres yang ditentukan. kpu baru membuka masa pendaftaran capres-cawapres pada oktober mendatang.pada jumat (29/9), wakil ketua dewan pembina partai gerindra hashim djojohadikusumo menyebutkan kandidat cawapres pendamping prabowo subianto di pilpres 2024 yang masih dipertimbangkan.\n"
     ]
    }
   ],
   "source": [
    "# Data mentah\n",
    "title = \"PAN x JakCloth! Pesta Anak Nongkrong Sambangi Barudak Bandung\"\n",
    "content = \"Bakal calon presiden dari Koalisi Indonesia Maju (KIM) Prabowo Subianto tak khawatir atas bujet yang bakal disediakan untuk program makan gratis pelajar dan juga kenaikan gaji guru, ASN, maupun aparatur negara lainnya.Dalam seminar yang diadakan oleh Institute Madani Nusantara pada Sabtu (30/9) di Hotel Bidakara, Jakarta Selatan, Prabowo optimistis bahwa dana tersebut selalu tersedia jika alur perputaran uang di Indonesia terjadi secara sehat.\"\"Nanti ada yang bertanya, 'memangnya ada uangnya?' Ada uangnya,\"\" kata Prabowo memastikan.\"\"Yang bocor-bocor harus kita tutup kebocorannya. Yang maling-maling kita tutup malingnya. Yang mark-up, yang gelembung-gelembung, kita tutup,\"\" sambungnya.ADVERTISEMENTPrabowo menegaskan, ia juga tak segan untuk menekan para wajib pajak agar dapat membayarkan tanggung jawab sesuai porsi mereka.\"\"Yang enggak mau bayar pajak, kita bayar supaya bayar pajak. Kalau bisa, kita hilangkan penyelundupan juga,\"\" kata Prabowo.Penjelasan tersebut merupakan kiat-kiat dari Prabowo untuk melaksanakan program pengentasan kemiskinan yang bakal dilakukan jika ia nanti terpilih menjadi Presiden RI 2024-2029.Salah satu program yang diutamakan adalah jatah makan siang gratis untuk anak sekolah di seluruh Indonesia.\"\"Salah satu program dalam pemberantasan kemiskinan adalah memperkuat anak-anak Indonesia,\"\" kata Prabowo Subianto.\"\"Kami akan memberi makan siang dan susu gratis di semua sekolah dan pesantren di seluruh Indonesia,\"\" ujarnya.Selain itu, Prabowo juga menjanjikan kenaikan gaji bagi guru, ASN, anggota TNI, Polri, serta seluruh perangkat abdi masyarakat lainnya.\"\"Kami juga akan menaikkan gaji guru, ASN, anggota TNI, Polri, Kades, dan perangkat desa serta RT-RW di seluruh Indonesia,\"\" seru Prabowo.Salah satu kebijakan elementer yang menurutnya juga perlu segera dikerjakan adalah bantuan gizi untuk balita dan ibu hamil.Akses bantuan tersebut nantinya dijanjikan dapat tersedia di Pos Pelayanan Terpadu di seluruh penjuru Indonesia.\"\"Kami juga akan memberi bantuan gizi untuk anak-anak balita dan ibu-ibu hamil,\"\" klaim Prabowo.\"\"Berarti posyandu-posyandu akan kita hidupkan semua di desa dan dusun seluruh Indonesia,\"\" kata Prabowo.Ia optimistis dapat menyediakan anggaran yang diperlukan untuk seluruh janji tersebut, bersamaan dengan pemberantasan hal lain yang selama ini dianggap mengurangi pendapatan negara.\"\"Pertanyaannya bukanlah apakah bisa, tapi ini harus bisa kalau kita mau maju sebagai negara. Dan saya yakin kita bisa,\"\" tegasnya.Saat ini Prabowo Subianto telah mendapat dukungan dari Gerindra, Golkar, PAN, PBB, Demokrat, Gelora dan Garuda sebagai bakal calon presiden di Pilpres 2024.Belum ada cawapres yang ditentukan. KPU baru membuka masa pendaftaran capres-cawapres pada Oktober mendatang.Pada Jumat (29/9), Wakil Ketua Dewan Pembina Partai Gerindra Hashim Djojohadikusumo menyebutkan kandidat cawapres pendamping Prabowo Subianto di Pilpres 2024 yang masih dipertimbangkan.\"\n",
    "\n",
    "# Mengubah teks menjadi huruf kecil\n",
    "title_lower = title.lower()\n",
    "content_lower = content.lower()\n",
    "\n",
    "# Menampilkan hasil\n",
    "print(\"Title:\", title_lower)\n",
    "print(\"Content:\", content_lower)\n"
   ]
  },
  {
   "cell_type": "markdown",
   "metadata": {},
   "source": [
    "## Mengunakaan Libary NLTK"
   ]
  },
  {
   "cell_type": "markdown",
   "metadata": {},
   "source": [
    "# ----------------------------------------------------------------\n"
   ]
  },
  {
   "cell_type": "markdown",
   "metadata": {},
   "source": [
    "## Mengunakaan Libary Spacy"
   ]
  },
  {
   "cell_type": "markdown",
   "metadata": {},
   "source": [
    "# ----------------------------------------------------------------\n"
   ]
  },
  {
   "cell_type": "markdown",
   "metadata": {},
   "source": [
    "## Mengunakaan Libary Stanza"
   ]
  },
  {
   "cell_type": "markdown",
   "metadata": {},
   "source": [
    "# ----------------------------------------------------------------\n"
   ]
  }
 ],
 "metadata": {
  "kernelspec": {
   "display_name": "env",
   "language": "python",
   "name": "python3"
  },
  "language_info": {
   "codemirror_mode": {
    "name": "ipython",
    "version": 3
   },
   "file_extension": ".py",
   "mimetype": "text/x-python",
   "name": "python",
   "nbconvert_exporter": "python",
   "pygments_lexer": "ipython3",
   "version": "3.11.5"
  }
 },
 "nbformat": 4,
 "nbformat_minor": 2
}
