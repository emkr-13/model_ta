{
 "cells": [
  {
   "cell_type": "code",
   "execution_count": 19,
   "metadata": {},
   "outputs": [],
   "source": [
    "import pandas as pd"
   ]
  },
  {
   "cell_type": "code",
   "execution_count": 20,
   "metadata": {},
   "outputs": [
    {
     "data": {
      "text/html": [
       "<div>\n",
       "<style scoped>\n",
       "    .dataframe tbody tr th:only-of-type {\n",
       "        vertical-align: middle;\n",
       "    }\n",
       "\n",
       "    .dataframe tbody tr th {\n",
       "        vertical-align: top;\n",
       "    }\n",
       "\n",
       "    .dataframe thead th {\n",
       "        text-align: right;\n",
       "    }\n",
       "</style>\n",
       "<table border=\"1\" class=\"dataframe\">\n",
       "  <thead>\n",
       "    <tr style=\"text-align: right;\">\n",
       "      <th></th>\n",
       "      <th>content</th>\n",
       "      <th>sentimen</th>\n",
       "      <th>sentimen_score</th>\n",
       "    </tr>\n",
       "  </thead>\n",
       "  <tbody>\n",
       "    <tr>\n",
       "      <th>0</th>\n",
       "      <td>Kumaha barudak? Well!Yuk ramaikan Pesta Anak N...</td>\n",
       "      <td>positif</td>\n",
       "      <td>0.936739</td>\n",
       "    </tr>\n",
       "    <tr>\n",
       "      <th>1</th>\n",
       "      <td>Kustini Sri Purnomo memiliki strategi jitu unt...</td>\n",
       "      <td>positif</td>\n",
       "      <td>0.923094</td>\n",
       "    </tr>\n",
       "    <tr>\n",
       "      <th>2</th>\n",
       "      <td>Menteri BUMN, Erick Thohir bicara bangsa Indon...</td>\n",
       "      <td>positif</td>\n",
       "      <td>0.980029</td>\n",
       "    </tr>\n",
       "    <tr>\n",
       "      <th>3</th>\n",
       "      <td>Iring-iringan mobil SUV pasukan pengawal Presi...</td>\n",
       "      <td>netral</td>\n",
       "      <td>0.982196</td>\n",
       "    </tr>\n",
       "    <tr>\n",
       "      <th>4</th>\n",
       "      <td>Ketua Umum PDIP, Megawati Soekarnoputri mengin...</td>\n",
       "      <td>netral</td>\n",
       "      <td>0.979069</td>\n",
       "    </tr>\n",
       "  </tbody>\n",
       "</table>\n",
       "</div>"
      ],
      "text/plain": [
       "                                             content sentimen  sentimen_score\n",
       "0  Kumaha barudak? Well!Yuk ramaikan Pesta Anak N...  positif        0.936739\n",
       "1  Kustini Sri Purnomo memiliki strategi jitu unt...  positif        0.923094\n",
       "2  Menteri BUMN, Erick Thohir bicara bangsa Indon...  positif        0.980029\n",
       "3  Iring-iringan mobil SUV pasukan pengawal Presi...   netral        0.982196\n",
       "4  Ketua Umum PDIP, Megawati Soekarnoputri mengin...   netral        0.979069"
      ]
     },
     "execution_count": 20,
     "metadata": {},
     "output_type": "execute_result"
    }
   ],
   "source": [
    "data=pd.read_csv('data_filter_090.csv')\n",
    "data.head(5)"
   ]
  },
  {
   "cell_type": "code",
   "execution_count": 21,
   "metadata": {},
   "outputs": [
    {
     "name": "stdout",
     "output_type": "stream",
     "text": [
      "sentimen\n",
      "netral     4421\n",
      "negatif    3900\n",
      "positif    1801\n",
      "Name: count, dtype: int64\n"
     ]
    }
   ],
   "source": [
    "# Menghitung jumlah kemunculan setiap label sentimen\n",
    "sentiment_counts = data['sentimen'].value_counts()\n",
    "\n",
    "# Menampilkan jumlah kemunculan setiap label sentimen\n",
    "print(sentiment_counts)"
   ]
  },
  {
   "cell_type": "code",
   "execution_count": 22,
   "metadata": {},
   "outputs": [
    {
     "name": "stdout",
     "output_type": "stream",
     "text": [
      "sentimen\n",
      "netral     3491\n",
      "negatif    2999\n",
      "positif    1104\n",
      "Name: count, dtype: int64\n"
     ]
    }
   ],
   "source": [
    "filtered_data = data[data['sentimen_score'] > 0.94]\n",
    "sentiment_counts = filtered_data['sentimen'].value_counts()\n",
    "\n",
    "# Menampilkan jumlah kemunculan setiap label sentimen\n",
    "print(sentiment_counts)"
   ]
  },
  {
   "cell_type": "code",
   "execution_count": 17,
   "metadata": {},
   "outputs": [],
   "source": [
    "# # # Filter baris dengan sentiment_score lebih dari 0.6\n",
    "# filtered_data = data[data['sentimen_score'] > 0.75]\n",
    "\n",
    "# # Simpan hasil filter ke dalam file CSV baru\n",
    "# filtered_data.to_csv('data_filter_075.csv', index=False)\n",
    "\n",
    "# # Tampilkan data yang telah difilter\n",
    "# print(filtered_data.head(10))\n"
   ]
  },
  {
   "cell_type": "code",
   "execution_count": 23,
   "metadata": {},
   "outputs": [
    {
     "name": "stdout",
     "output_type": "stream",
     "text": [
      "sentimen\n",
      "negatif    1000\n",
      "netral     1000\n",
      "positif    1000\n",
      "Name: count, dtype: int64\n"
     ]
    },
    {
     "name": "stderr",
     "output_type": "stream",
     "text": [
      "/tmp/ipykernel_29519/4186052154.py:9: DeprecationWarning: DataFrameGroupBy.apply operated on the grouping columns. This behavior is deprecated, and in a future version of pandas the grouping columns will be excluded from the operation. Either pass `include_groups=False` to exclude the groupings or explicitly select the grouping columns after groupby to silence this warning.\n",
      "  sampled_data = filtered_data.groupby('sentimen').apply(filter_data)\n"
     ]
    }
   ],
   "source": [
    "# # Define the filtering function\n",
    "def filter_data(group):\n",
    "    if group.name == 'negatif' or group.name == 'netral':\n",
    "        return group[group['sentimen_score'] > 0.98].sample(n=1000, random_state=42)\n",
    "    else:\n",
    "        return group.sample(n=1000, random_state=42)\n",
    "\n",
    "# Group and apply the filter\n",
    "sampled_data = filtered_data.groupby('sentimen').apply(filter_data)\n",
    "\n",
    "# Reset index\n",
    "sampled_data.reset_index(drop=True, inplace=True)\n",
    "\n",
    "# Save the sampled data to CSV\n",
    "sampled_data.to_csv('data_otomatis_3000.csv', index=False)\n",
    "\n",
    "# Display the value counts of sentiment labels in the new DataFrame\n",
    "print(sampled_data['sentimen'].value_counts())"
   ]
  },
  {
   "cell_type": "code",
   "execution_count": null,
   "metadata": {},
   "outputs": [],
   "source": []
  }
 ],
 "metadata": {
  "kernelspec": {
   "display_name": "env",
   "language": "python",
   "name": "python3"
  },
  "language_info": {
   "codemirror_mode": {
    "name": "ipython",
    "version": 3
   },
   "file_extension": ".py",
   "mimetype": "text/x-python",
   "name": "python",
   "nbconvert_exporter": "python",
   "pygments_lexer": "ipython3",
   "version": "3.11.5"
  }
 },
 "nbformat": 4,
 "nbformat_minor": 2
}
