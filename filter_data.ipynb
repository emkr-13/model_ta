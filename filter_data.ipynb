{
 "cells": [
  {
   "cell_type": "code",
   "execution_count": 2,
   "metadata": {},
   "outputs": [],
   "source": [
    "import pandas as pd"
   ]
  },
  {
   "cell_type": "code",
   "execution_count": 9,
   "metadata": {},
   "outputs": [
    {
     "data": {
      "text/html": [
       "<div>\n",
       "<style scoped>\n",
       "    .dataframe tbody tr th:only-of-type {\n",
       "        vertical-align: middle;\n",
       "    }\n",
       "\n",
       "    .dataframe tbody tr th {\n",
       "        vertical-align: top;\n",
       "    }\n",
       "\n",
       "    .dataframe thead th {\n",
       "        text-align: right;\n",
       "    }\n",
       "</style>\n",
       "<table border=\"1\" class=\"dataframe\">\n",
       "  <thead>\n",
       "    <tr style=\"text-align: right;\">\n",
       "      <th></th>\n",
       "      <th>content</th>\n",
       "      <th>sentimen</th>\n",
       "      <th>sentimen_score</th>\n",
       "    </tr>\n",
       "  </thead>\n",
       "  <tbody>\n",
       "    <tr>\n",
       "      <th>0</th>\n",
       "      <td>Menteri BUMN, Erick Thohir bicara bangsa Indon...</td>\n",
       "      <td>positif</td>\n",
       "      <td>0.980029</td>\n",
       "    </tr>\n",
       "    <tr>\n",
       "      <th>1</th>\n",
       "      <td>Iring-iringan mobil SUV pasukan pengawal Presi...</td>\n",
       "      <td>netral</td>\n",
       "      <td>0.982196</td>\n",
       "    </tr>\n",
       "    <tr>\n",
       "      <th>2</th>\n",
       "      <td>Ketua Umum PDIP, Megawati Soekarnoputri mengin...</td>\n",
       "      <td>netral</td>\n",
       "      <td>0.979069</td>\n",
       "    </tr>\n",
       "    <tr>\n",
       "      <th>3</th>\n",
       "      <td>Pasangan capres-cawapres dari Koalisi Perubaha...</td>\n",
       "      <td>netral</td>\n",
       "      <td>0.970793</td>\n",
       "    </tr>\n",
       "    <tr>\n",
       "      <th>4</th>\n",
       "      <td>Presiden Joko Widodo memimpin upacara peringat...</td>\n",
       "      <td>netral</td>\n",
       "      <td>0.973624</td>\n",
       "    </tr>\n",
       "  </tbody>\n",
       "</table>\n",
       "</div>"
      ],
      "text/plain": [
       "                                             content sentimen  sentimen_score\n",
       "0  Menteri BUMN, Erick Thohir bicara bangsa Indon...  positif        0.980029\n",
       "1  Iring-iringan mobil SUV pasukan pengawal Presi...   netral        0.982196\n",
       "2  Ketua Umum PDIP, Megawati Soekarnoputri mengin...   netral        0.979069\n",
       "3  Pasangan capres-cawapres dari Koalisi Perubaha...   netral        0.970793\n",
       "4  Presiden Joko Widodo memimpin upacara peringat...   netral        0.973624"
      ]
     },
     "execution_count": 9,
     "metadata": {},
     "output_type": "execute_result"
    }
   ],
   "source": [
    "data=pd.read_csv('data_filter_095.csv')\n",
    "data.head(5)"
   ]
  },
  {
   "cell_type": "code",
   "execution_count": 10,
   "metadata": {},
   "outputs": [
    {
     "name": "stdout",
     "output_type": "stream",
     "text": [
      "sentimen\n",
      "netral     3159\n",
      "negatif    2653\n",
      "positif     920\n",
      "Name: count, dtype: int64\n"
     ]
    }
   ],
   "source": [
    "# Menghitung jumlah kemunculan setiap label sentimen\n",
    "sentiment_counts = data['sentimen'].value_counts()\n",
    "\n",
    "# Menampilkan jumlah kemunculan setiap label sentimen\n",
    "print(sentiment_counts)"
   ]
  },
  {
   "cell_type": "code",
   "execution_count": 12,
   "metadata": {},
   "outputs": [
    {
     "name": "stdout",
     "output_type": "stream",
     "text": [
      "sentimen\n",
      "netral     2730\n",
      "negatif    2256\n",
      "positif     730\n",
      "Name: count, dtype: int64\n"
     ]
    }
   ],
   "source": [
    "filtered_data = data[data['sentimen_score'] > 0.96]\n",
    "sentiment_counts = filtered_data['sentimen'].value_counts()\n",
    "\n",
    "# Menampilkan jumlah kemunculan setiap label sentimen\n",
    "print(sentiment_counts)"
   ]
  },
  {
   "cell_type": "code",
   "execution_count": 17,
   "metadata": {},
   "outputs": [],
   "source": [
    "# # # Filter baris dengan sentiment_score lebih dari 0.6\n",
    "# filtered_data = data[data['sentimen_score'] > 0.75]\n",
    "\n",
    "# # Simpan hasil filter ke dalam file CSV baru\n",
    "# filtered_data.to_csv('data_filter_075.csv', index=False)\n",
    "\n",
    "# # Tampilkan data yang telah difilter\n",
    "# print(filtered_data.head(10))\n"
   ]
  },
  {
   "cell_type": "code",
   "execution_count": 44,
   "metadata": {},
   "outputs": [
    {
     "name": "stderr",
     "output_type": "stream",
     "text": [
      "/tmp/ipykernel_259787/4153193846.py:9: DeprecationWarning: DataFrameGroupBy.apply operated on the grouping columns. This behavior is deprecated, and in a future version of pandas the grouping columns will be excluded from the operation. Either pass `include_groups=False` to exclude the groupings or explicitly select the grouping columns after groupby to silence this warning.\n",
      "  sampled_data = data.groupby('sentimen').apply(filter_data)\n"
     ]
    },
    {
     "name": "stdout",
     "output_type": "stream",
     "text": [
      "sentimen\n",
      "negatif    2850\n",
      "netral     2850\n",
      "positif    2850\n",
      "Name: count, dtype: int64\n"
     ]
    }
   ],
   "source": [
    "# # Define the filtering function\n",
    "# def filter_data(group):\n",
    "#     if group.name == 'negatif' or group.name == 'netral':\n",
    "#         return group[group['sentimen_score'] > 0.94].sample(n=2850, random_state=42)\n",
    "#     else:\n",
    "#         return group.sample(n=2850, random_state=42)\n",
    "\n",
    "# # Group and apply the filter\n",
    "# sampled_data = data.groupby('sentimen').apply(filter_data)\n",
    "\n",
    "# # Reset index\n",
    "# sampled_data.reset_index(drop=True, inplace=True)\n",
    "\n",
    "# # Save the sampled data to CSV\n",
    "# sampled_data.to_csv('data_otomatis_8550.csv', index=False)\n",
    "\n",
    "# # Display the value counts of sentiment labels in the new DataFrame\n",
    "# print(sampled_data['sentimen'].value_counts())"
   ]
  },
  {
   "cell_type": "code",
   "execution_count": null,
   "metadata": {},
   "outputs": [],
   "source": []
  }
 ],
 "metadata": {
  "kernelspec": {
   "display_name": "env",
   "language": "python",
   "name": "python3"
  },
  "language_info": {
   "codemirror_mode": {
    "name": "ipython",
    "version": 3
   },
   "file_extension": ".py",
   "mimetype": "text/x-python",
   "name": "python",
   "nbconvert_exporter": "python",
   "pygments_lexer": "ipython3",
   "version": "3.11.5"
  }
 },
 "nbformat": 4,
 "nbformat_minor": 2
}
