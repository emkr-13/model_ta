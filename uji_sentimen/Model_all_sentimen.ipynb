{
 "cells": [
  {
   "cell_type": "markdown",
   "metadata": {},
   "source": [
    "# Campuran dari Berbagai Model "
   ]
  },
  {
   "cell_type": "markdown",
   "metadata": {},
   "source": [
    "### Bagian Awal "
   ]
  },
  {
   "cell_type": "code",
   "execution_count": 1,
   "metadata": {},
   "outputs": [],
   "source": [
    "import pandas as pd\n",
    "from sklearn.model_selection import train_test_split\n",
    "from sklearn.feature_extraction.text import TfidfVectorizer\n",
    "from sklearn.preprocessing import LabelEncoder"
   ]
  },
  {
   "cell_type": "code",
   "execution_count": 2,
   "metadata": {},
   "outputs": [],
   "source": [
    "def map_sentiment(sentiment):\n",
    "    if sentiment == 1:\n",
    "        return 'positif'\n",
    "    elif sentiment == 0:\n",
    "        return 'netral'\n",
    "    else:\n",
    "        return 'negatif'"
   ]
  },
  {
   "cell_type": "code",
   "execution_count": 3,
   "metadata": {},
   "outputs": [],
   "source": [
    "def prepare_datasets(corpus, labels, test_data_proportion=0.3, random_state=42):\n",
    "    train_X, test_X, train_Y, test_Y = train_test_split(corpus, labels,\n",
    "                                                        test_size=test_data_proportion,\n",
    "                                                        random_state=random_state)\n",
    "    return train_X, test_X, train_Y, test_Y"
   ]
  },
  {
   "cell_type": "code",
   "execution_count": 4,
   "metadata": {},
   "outputs": [],
   "source": [
    "def tfidf_extractor(corpus, ngram_range=(1,2)):\n",
    "    vectorizer = TfidfVectorizer(min_df=1,\n",
    "                                norm='l2',\n",
    "                                smooth_idf=True,\n",
    "                                use_idf=True,\n",
    "                                ngram_range=ngram_range)\n",
    "    features = vectorizer.fit_transform(corpus)\n",
    "    return vectorizer, features"
   ]
  },
  {
   "cell_type": "code",
   "execution_count": 5,
   "metadata": {},
   "outputs": [
    {
     "data": {
      "text/html": [
       "<div>\n",
       "<style scoped>\n",
       "    .dataframe tbody tr th:only-of-type {\n",
       "        vertical-align: middle;\n",
       "    }\n",
       "\n",
       "    .dataframe tbody tr th {\n",
       "        vertical-align: top;\n",
       "    }\n",
       "\n",
       "    .dataframe thead th {\n",
       "        text-align: right;\n",
       "    }\n",
       "</style>\n",
       "<table border=\"1\" class=\"dataframe\">\n",
       "  <thead>\n",
       "    <tr style=\"text-align: right;\">\n",
       "      <th></th>\n",
       "      <th>content</th>\n",
       "      <th>sentimen</th>\n",
       "    </tr>\n",
       "  </thead>\n",
       "  <tbody>\n",
       "    <tr>\n",
       "      <th>0</th>\n",
       "      <td>capres mahfud md optimistis ppp parlemen tahun...</td>\n",
       "      <td>positif</td>\n",
       "    </tr>\n",
       "    <tr>\n",
       "      <th>1</th>\n",
       "      <td>cawapres koalisi perubahan muhaimin iskandar c...</td>\n",
       "      <td>positif</td>\n",
       "    </tr>\n",
       "    <tr>\n",
       "      <th>2</th>\n",
       "      <td>capres koalisi pdip ganjar pranowo khawatir su...</td>\n",
       "      <td>positif</td>\n",
       "    </tr>\n",
       "    <tr>\n",
       "      <th>3</th>\n",
       "      <td>capres ganjar pranowo mengaku khawatir preside...</td>\n",
       "      <td>positif</td>\n",
       "    </tr>\n",
       "    <tr>\n",
       "      <th>4</th>\n",
       "      <td>capres koalisi perubahan anies baswedan presid...</td>\n",
       "      <td>positif</td>\n",
       "    </tr>\n",
       "    <tr>\n",
       "      <th>5</th>\n",
       "      <td>capres koalisi perubahan anies baswedan mengak...</td>\n",
       "      <td>positif</td>\n",
       "    </tr>\n",
       "    <tr>\n",
       "      <th>6</th>\n",
       "      <td>cawapres koalisi indonesia maju kim gibran rak...</td>\n",
       "      <td>positif</td>\n",
       "    </tr>\n",
       "    <tr>\n",
       "      <th>7</th>\n",
       "      <td>capres koalisi perubahan anies baswedan menarg...</td>\n",
       "      <td>positif</td>\n",
       "    </tr>\n",
       "    <tr>\n",
       "      <th>8</th>\n",
       "      <td>capres koalisi indonesia maju prabowo subianto...</td>\n",
       "      <td>positif</td>\n",
       "    </tr>\n",
       "    <tr>\n",
       "      <th>9</th>\n",
       "      <td>capres koalisi perubahan anies baswedan mengun...</td>\n",
       "      <td>positif</td>\n",
       "    </tr>\n",
       "  </tbody>\n",
       "</table>\n",
       "</div>"
      ],
      "text/plain": [
       "                                             content sentimen\n",
       "0  capres mahfud md optimistis ppp parlemen tahun...  positif\n",
       "1  cawapres koalisi perubahan muhaimin iskandar c...  positif\n",
       "2  capres koalisi pdip ganjar pranowo khawatir su...  positif\n",
       "3  capres ganjar pranowo mengaku khawatir preside...  positif\n",
       "4  capres koalisi perubahan anies baswedan presid...  positif\n",
       "5  capres koalisi perubahan anies baswedan mengak...  positif\n",
       "6  cawapres koalisi indonesia maju kim gibran rak...  positif\n",
       "7  capres koalisi perubahan anies baswedan menarg...  positif\n",
       "8  capres koalisi indonesia maju prabowo subianto...  positif\n",
       "9  capres koalisi perubahan anies baswedan mengun...  positif"
      ]
     },
     "execution_count": 5,
     "metadata": {},
     "output_type": "execute_result"
    }
   ],
   "source": [
    "df = pd.read_csv('sentiment_2000.csv')\n",
    "df['sentimen'] = df['sentimen'].map(map_sentiment)\n",
    "df.head(10)"
   ]
  },
  {
   "cell_type": "code",
   "execution_count": 6,
   "metadata": {},
   "outputs": [],
   "source": [
    "# Split data\n",
    "x_train, x_test, y_train, y_test = prepare_datasets(df['content'], df['sentimen'], test_data_proportion=0.3)"
   ]
  },
  {
   "cell_type": "code",
   "execution_count": 7,
   "metadata": {},
   "outputs": [],
   "source": [
    "# Convert text labels to numerical labels\n",
    "label_encoder = LabelEncoder()\n",
    "y_train_encoded = label_encoder.fit_transform(y_train)\n",
    "y_test_encoded = label_encoder.transform(y_test)\n",
    "\n",
    "# Ensure the lengths match after splitting\n",
    "y_train_encoded = y_train_encoded[:len(x_train)]\n",
    "y_test_encoded = y_test_encoded[:len(x_test)]"
   ]
  },
  {
   "cell_type": "code",
   "execution_count": 8,
   "metadata": {},
   "outputs": [],
   "source": [
    "# TF-IDF Vectorization\n",
    "tfidf_vectorizer, tfidf_train_features = tfidf_extractor(x_train)\n",
    "tfidf_test_features = tfidf_vectorizer.transform(x_test)"
   ]
  },
  {
   "cell_type": "code",
   "execution_count": 9,
   "metadata": {},
   "outputs": [
    {
     "name": "stdout",
     "output_type": "stream",
     "text": [
      "Shape of tfidf_train_features: (1400, 107361)\n",
      "Length of y_train_encoded: 1400\n"
     ]
    }
   ],
   "source": [
    "print(\"Shape of tfidf_train_features:\", tfidf_train_features.shape)\n",
    "print(\"Length of y_train_encoded:\", len(y_train_encoded))"
   ]
  },
  {
   "cell_type": "code",
   "execution_count": 10,
   "metadata": {},
   "outputs": [
    {
     "name": "stdout",
     "output_type": "stream",
     "text": [
      "Shape of tfidf_test_features: (600, 107361)\n",
      "Length of y_test_encoded: 600\n"
     ]
    }
   ],
   "source": [
    "print(\"Shape of tfidf_test_features:\", tfidf_test_features.shape)\n",
    "print(\"Length of y_test_encoded:\", len(y_test_encoded))"
   ]
  },
  {
   "cell_type": "markdown",
   "metadata": {},
   "source": [
    "### Model Naiye Bayes"
   ]
  },
  {
   "cell_type": "code",
   "execution_count": 11,
   "metadata": {},
   "outputs": [],
   "source": [
    "from sklearn.naive_bayes import MultinomialNB\n",
    "from sklearn.metrics import accuracy_score, confusion_matrix, ConfusionMatrixDisplay\n",
    "import matplotlib.pyplot as plt"
   ]
  },
  {
   "cell_type": "code",
   "execution_count": 12,
   "metadata": {},
   "outputs": [
    {
     "name": "stdout",
     "output_type": "stream",
     "text": [
      "Akurasi model Naive Bayes: 0.7333333333333333\n"
     ]
    }
   ],
   "source": [
    "# Inisialisasi dan melatih model Naive Bayes\n",
    "naive_bayes_classifier = MultinomialNB()\n",
    "naive_bayes_classifier.fit(tfidf_train_features, y_train_encoded)\n",
    "\n",
    "# Prediksi label untuk data pengujian\n",
    "y_pred = naive_bayes_classifier.predict(tfidf_test_features)\n",
    "\n",
    "# Hitung akurasi model\n",
    "accuracy = accuracy_score(y_test_encoded, y_pred)\n",
    "print(\"Akurasi model Naive Bayes:\", accuracy)"
   ]
  },
  {
   "cell_type": "code",
   "execution_count": 13,
   "metadata": {},
   "outputs": [
    {
     "name": "stdout",
     "output_type": "stream",
     "text": [
      "Laporan Klasifikasi:\n",
      "              precision    recall  f1-score   support\n",
      "\n",
      "           0       0.72      0.78      0.75       208\n",
      "           1       0.73      0.70      0.71       186\n",
      "           2       0.75      0.71      0.73       206\n",
      "\n",
      "    accuracy                           0.73       600\n",
      "   macro avg       0.73      0.73      0.73       600\n",
      "weighted avg       0.73      0.73      0.73       600\n",
      "\n"
     ]
    }
   ],
   "source": [
    "from sklearn.metrics import classification_report\n",
    "\n",
    "# Melakukan prediksi pada data pengujian menggunakan model terbaik\n",
    "y_pred_best = naive_bayes_classifier.predict(tfidf_test_features)\n",
    "\n",
    "# Menampilkan laporan klasifikasi\n",
    "print(\"Laporan Klasifikasi:\")\n",
    "print(classification_report(y_test_encoded, y_pred_best))"
   ]
  },
  {
   "cell_type": "code",
   "execution_count": 14,
   "metadata": {},
   "outputs": [
    {
     "data": {
      "image/png": "[encoded data removed]",
      "text/plain": [
       "<Figure size 640x480 with 2 Axes>"
      ]
     },
     "metadata": {},
     "output_type": "display_data"
    }
   ],
   "source": [
    "# Membuat matriks kebingungan\n",
    "cm = confusion_matrix(y_test_encoded, y_pred, labels=naive_bayes_classifier.classes_)\n",
    "display_labels = naive_bayes_classifier.classes_\n",
    "\n",
    "# Menampilkan matriks kebingungan\n",
    "disp = ConfusionMatrixDisplay(confusion_matrix=cm, display_labels=display_labels)\n",
    "disp.plot(cmap=plt.cm.Blues)\n",
    "plt.title(\"Confusion Matrix - Naive Bayes\")\n",
    "plt.show()"
   ]
  },
  {
   "cell_type": "code",
   "execution_count": 15,
   "metadata": {},
   "outputs": [
    {
     "name": "stdout",
     "output_type": "stream",
     "text": [
      "Parameter terbaik: {'alpha': 1.0}\n",
      "Akurasi model Naive Bayes setelah penyetelan parameter: 0.7333333333333333\n"
     ]
    }
   ],
   "source": [
    "from sklearn.model_selection import GridSearchCV\n",
    "\n",
    "# Membuat model Naive Bayes\n",
    "naive_bayes_classifier = MultinomialNB()\n",
    "\n",
    "# Daftar parameter yang akan diuji\n",
    "param_grid = {'alpha': [0.1, 0.5, 1.0, 2.0, 5.0]}\n",
    "\n",
    "# Melakukan penyetelan parameter menggunakan GridSearchCV\n",
    "grid_search = GridSearchCV(naive_bayes_classifier, param_grid, cv=5, scoring='accuracy')\n",
    "grid_search.fit(tfidf_train_features, y_train_encoded)\n",
    "\n",
    "# Mendapatkan parameter terbaik\n",
    "best_params = grid_search.best_params_\n",
    "print(\"Parameter terbaik:\", best_params)\n",
    "\n",
    "# Mendapatkan model terbaik\n",
    "best_naive_bayes = grid_search.best_estimator_\n",
    "\n",
    "# Prediksi label untuk data pengujian menggunakan model terbaik\n",
    "y_pred_best = best_naive_bayes.predict(tfidf_test_features)\n",
    "\n",
    "# Hitung akurasi model terbaik\n",
    "accuracy_best = accuracy_score(y_test_encoded, y_pred_best)\n",
    "print(\"Akurasi model Naive Bayes setelah penyetelan parameter:\", accuracy_best)\n"
   ]
  },
  {
   "cell_type": "markdown",
   "metadata": {},
   "source": [
    "### Model SVM"
   ]
  },
  {
   "cell_type": "code",
   "execution_count": 16,
   "metadata": {},
   "outputs": [
    {
     "name": "stdout",
     "output_type": "stream",
     "text": [
      "Akurasi model SVM: 0.7583333333333333\n"
     ]
    }
   ],
   "source": [
    "from sklearn.svm import SVC\n",
    "\n",
    "# Inisialisasi dan melatih model SVM\n",
    "svm_classifier = SVC(kernel='linear', probability=True)\n",
    "svm_classifier.fit(tfidf_train_features, y_train_encoded)\n",
    "\n",
    "# Prediksi label untuk data pengujian\n",
    "y_pred_svm = svm_classifier.predict(tfidf_test_features)\n",
    "\n",
    "# Hitung akurasi model SVM\n",
    "accuracy_svm = accuracy_score(y_test_encoded, y_pred_svm)\n",
    "print(\"Akurasi model SVM:\", accuracy_svm)"
   ]
  },
  {
   "cell_type": "code",
   "execution_count": 17,
   "metadata": {},
   "outputs": [
    {
     "data": {
      "image/png": "[encoded data removed]",
      "text/plain": [
       "<Figure size 640x480 with 2 Axes>"
      ]
     },
     "metadata": {},
     "output_type": "display_data"
    }
   ],
   "source": [
    "# Membuat matriks kebingungan\n",
    "cm_svm = confusion_matrix(y_test_encoded, y_pred_svm, labels=svm_classifier.classes_)\n",
    "display_labels_svm = svm_classifier.classes_\n",
    "\n",
    "# Menampilkan matriks kebingungan\n",
    "disp_svm = ConfusionMatrixDisplay(confusion_matrix=cm_svm, display_labels=display_labels_svm)\n",
    "disp_svm.plot(cmap=plt.cm.Blues)\n",
    "plt.title(\"Confusion Matrix - SVM\")\n",
    "plt.show()"
   ]
  },
  {
   "cell_type": "code",
   "execution_count": 18,
   "metadata": {},
   "outputs": [
    {
     "name": "stdout",
     "output_type": "stream",
     "text": [
      "Laporan Klasifikasi SVM:\n",
      "              precision    recall  f1-score   support\n",
      "\n",
      "           0       0.72      0.80      0.76       208\n",
      "           1       0.80      0.75      0.77       186\n",
      "           2       0.77      0.72      0.74       206\n",
      "\n",
      "    accuracy                           0.76       600\n",
      "   macro avg       0.76      0.76      0.76       600\n",
      "weighted avg       0.76      0.76      0.76       600\n",
      "\n"
     ]
    }
   ],
   "source": [
    "# Menampilkan laporan klasifikasi\n",
    "print(\"Laporan Klasifikasi SVM:\")\n",
    "print(classification_report(y_test_encoded, y_pred_svm))"
   ]
  },
  {
   "cell_type": "code",
   "execution_count": 19,
   "metadata": {},
   "outputs": [
    {
     "name": "stdout",
     "output_type": "stream",
     "text": [
      "Parameter terbaik SVM: {'C': 1, 'kernel': 'linear'}\n",
      "Laporan Klasifikasi SVM (Best Model):\n",
      "              precision    recall  f1-score   support\n",
      "\n",
      "           0       0.72      0.80      0.76       208\n",
      "           1       0.80      0.75      0.77       186\n",
      "           2       0.77      0.72      0.74       206\n",
      "\n",
      "    accuracy                           0.76       600\n",
      "   macro avg       0.76      0.76      0.76       600\n",
      "weighted avg       0.76      0.76      0.76       600\n",
      "\n"
     ]
    }
   ],
   "source": [
    "from sklearn.model_selection import GridSearchCV\n",
    "\n",
    "# Membuat model SVM\n",
    "svm_classifier = SVC()\n",
    "\n",
    "# Daftar parameter yang akan diuji\n",
    "param_grid_svm = {'C': [0.1, 1, 10], 'kernel': ['linear', 'rbf', 'poly']}\n",
    "\n",
    "# Melakukan penyetelan parameter menggunakan GridSearchCV\n",
    "grid_search_svm = GridSearchCV(svm_classifier, param_grid_svm, cv=5, scoring='accuracy')\n",
    "grid_search_svm.fit(tfidf_train_features, y_train_encoded)\n",
    "\n",
    "# Mendapatkan parameter terbaik\n",
    "best_params_svm = grid_search_svm.best_params_\n",
    "print(\"Parameter terbaik SVM:\", best_params_svm)\n",
    "\n",
    "# Mendapatkan model terbaik\n",
    "best_svm = grid_search_svm.best_estimator_\n",
    "\n",
    "# Prediksi label untuk data pengujian menggunakan model terbaik\n",
    "y_pred_best_svm = best_svm.predict(tfidf_test_features)\n",
    "\n",
    "# Menampilkan laporan klasifikasi untuk model terbaik\n",
    "print(\"Laporan Klasifikasi SVM (Best Model):\")\n",
    "print(classification_report(y_test_encoded, y_pred_best_svm))\n"
   ]
  },
  {
   "cell_type": "code",
   "execution_count": 20,
   "metadata": {},
   "outputs": [
    {
     "name": "stdout",
     "output_type": "stream",
     "text": [
      "Akurasi model SVM setelah penyetelan parameter: 0.7583333333333333\n"
     ]
    }
   ],
   "source": [
    "# Menampilkan akurasi model terbaik\n",
    "accuracy_best_svm = accuracy_score(y_test_encoded, y_pred_best_svm)\n",
    "print(\"Akurasi model SVM setelah penyetelan parameter:\", accuracy_best_svm)"
   ]
  },
  {
   "cell_type": "markdown",
   "metadata": {},
   "source": [
    "### Model Regresi Logistik"
   ]
  },
  {
   "cell_type": "code",
   "execution_count": 21,
   "metadata": {},
   "outputs": [
    {
     "name": "stdout",
     "output_type": "stream",
     "text": [
      "Akurasi model Regresi Logistik: 0.755\n"
     ]
    }
   ],
   "source": [
    "from sklearn.linear_model import LogisticRegression\n",
    "\n",
    "# Train Logistic Regression model\n",
    "logistic_regression = LogisticRegression(max_iter=1000)\n",
    "logistic_regression.fit(tfidf_train_features, y_train_encoded)\n",
    "y_pred_lr = logistic_regression.predict(tfidf_test_features)\n",
    "accuracy_lr = accuracy_score(y_test_encoded, y_pred_lr)\n",
    "print(\"Akurasi model Regresi Logistik:\", accuracy_lr)"
   ]
  },
  {
   "cell_type": "code",
   "execution_count": 22,
   "metadata": {},
   "outputs": [
    {
     "data": {
      "image/png": "[encoded data removed]",
      "text/plain": [
       "<Figure size 640x480 with 2 Axes>"
      ]
     },
     "metadata": {},
     "output_type": "display_data"
    },
    {
     "name": "stdout",
     "output_type": "stream",
     "text": [
      "Classification Report for Logistic Regression:\n",
      "              precision    recall  f1-score   support\n",
      "\n",
      "           0       0.75      0.79      0.77       208\n",
      "           1       0.75      0.77      0.76       186\n",
      "           2       0.76      0.71      0.74       206\n",
      "\n",
      "    accuracy                           0.76       600\n",
      "   macro avg       0.76      0.76      0.75       600\n",
      "weighted avg       0.76      0.76      0.75       600\n",
      "\n"
     ]
    }
   ],
   "source": [
    "# Confusion Matrix for Logistic Regression\n",
    "cm_lr = confusion_matrix(y_test_encoded, y_pred_lr, labels=logistic_regression.classes_)\n",
    "disp_lr = ConfusionMatrixDisplay(confusion_matrix=cm_lr, display_labels=logistic_regression.classes_)\n",
    "disp_lr.plot(cmap=plt.cm.Blues)\n",
    "plt.title(\"Confusion Matrix - Logistic Regression\")\n",
    "plt.show()\n",
    "\n",
    "# Classification Report for Logistic Regression\n",
    "print(\"Classification Report for Logistic Regression:\")\n",
    "print(classification_report(y_test_encoded, y_pred_lr))"
   ]
  },
  {
   "cell_type": "code",
   "execution_count": 23,
   "metadata": {},
   "outputs": [
    {
     "name": "stdout",
     "output_type": "stream",
     "text": [
      "Best Parameters for Logistic Regression: {'C': 1, 'penalty': 'l2'}\n"
     ]
    }
   ],
   "source": [
    "# Tuning Logistic Regression Model\n",
    "logistic_regression_tuned = LogisticRegression(max_iter=1000)\n",
    "param_grid_lr = {'C': [0.1, 1, 10], 'penalty': ['l2']}\n",
    "grid_search_lr = GridSearchCV(logistic_regression_tuned, param_grid_lr, cv=5, scoring='accuracy')\n",
    "grid_search_lr.fit(tfidf_train_features, y_train_encoded)\n",
    "best_params_lr = grid_search_lr.best_params_\n",
    "print(\"Best Parameters for Logistic Regression:\", best_params_lr)\n",
    "best_lr = grid_search_lr.best_estimator_\n",
    "y_pred_best_lr = best_lr.predict(tfidf_test_features)"
   ]
  },
  {
   "cell_type": "code",
   "execution_count": 24,
   "metadata": {},
   "outputs": [
    {
     "name": "stdout",
     "output_type": "stream",
     "text": [
      "Classification Report for Best Logistic Regression Model:\n",
      "              precision    recall  f1-score   support\n",
      "\n",
      "           0       0.75      0.79      0.77       208\n",
      "           1       0.75      0.77      0.76       186\n",
      "           2       0.76      0.71      0.74       206\n",
      "\n",
      "    accuracy                           0.76       600\n",
      "   macro avg       0.76      0.76      0.75       600\n",
      "weighted avg       0.76      0.76      0.75       600\n",
      "\n"
     ]
    }
   ],
   "source": [
    "# Classification Report for Best Logistic Regression Model\n",
    "print(\"Classification Report for Best Logistic Regression Model:\")\n",
    "print(classification_report(y_test_encoded, y_pred_best_lr))"
   ]
  },
  {
   "cell_type": "code",
   "execution_count": 25,
   "metadata": {},
   "outputs": [
    {
     "name": "stdout",
     "output_type": "stream",
     "text": [
      "Akurasi model Regresi Logistik (Best Parameters): 0.755\n"
     ]
    }
   ],
   "source": [
    "# Mendapatkan akurasi dari model Regresi Logistik dengan parameter terbaik\n",
    "accuracy_best_lr = accuracy_score(y_test_encoded, y_pred_best_lr)\n",
    "print(\"Akurasi model Regresi Logistik (Best Parameters):\", accuracy_best_lr)"
   ]
  },
  {
   "cell_type": "markdown",
   "metadata": {},
   "source": [
    "### Model Ensemble Learning"
   ]
  },
  {
   "cell_type": "code",
   "execution_count": 26,
   "metadata": {},
   "outputs": [],
   "source": [
    "from sklearn.ensemble import VotingClassifier\n",
    "\n",
    "# Membuat model Ensemble Learning\n",
    "ensemble_model = VotingClassifier(estimators=[\n",
    "    ('naive_bayes', naive_bayes_classifier),\n",
    "    ('svm', best_svm),\n",
    "    ('logistic_regression', best_lr)\n",
    "], voting='hard')"
   ]
  },
  {
   "cell_type": "code",
   "execution_count": 27,
   "metadata": {},
   "outputs": [
    {
     "name": "stdout",
     "output_type": "stream",
     "text": [
      "Akurasi model Ensemble Learning: 0.7616666666666667\n"
     ]
    }
   ],
   "source": [
    "# Melatih model Ensemble Learning\n",
    "ensemble_model.fit(tfidf_train_features, y_train_encoded)\n",
    "\n",
    "# Prediksi label untuk data pengujian\n",
    "y_pred_ensemble = ensemble_model.predict(tfidf_test_features)\n",
    "\n",
    "# Akurasi model Ensemble Learning\n",
    "accuracy_ensemble = accuracy_score(y_test_encoded, y_pred_ensemble)\n",
    "print(\"Akurasi model Ensemble Learning:\", accuracy_ensemble)"
   ]
  },
  {
   "cell_type": "code",
   "execution_count": 28,
   "metadata": {},
   "outputs": [
    {
     "data": {
      "image/png": "[encoded data removed]",
      "text/plain": [
       "<Figure size 640x480 with 2 Axes>"
      ]
     },
     "metadata": {},
     "output_type": "display_data"
    }
   ],
   "source": [
    "# Confusion Matrix untuk model Ensemble Learning\n",
    "cm_ensemble = confusion_matrix(y_test_encoded, y_pred_ensemble)\n",
    "disp_ensemble = ConfusionMatrixDisplay(confusion_matrix=cm_ensemble, display_labels=label_encoder.classes_)\n",
    "disp_ensemble.plot(cmap=plt.cm.Blues)\n",
    "plt.title(\"Confusion Matrix - Ensemble Learning\")\n",
    "plt.show()"
   ]
  },
  {
   "cell_type": "code",
   "execution_count": 29,
   "metadata": {},
   "outputs": [
    {
     "name": "stdout",
     "output_type": "stream",
     "text": [
      "Classification Report for Ensemble Learning:\n",
      "              precision    recall  f1-score   support\n",
      "\n",
      "           0       0.74      0.80      0.77       208\n",
      "           1       0.76      0.77      0.77       186\n",
      "           2       0.78      0.72      0.75       206\n",
      "\n",
      "    accuracy                           0.76       600\n",
      "   macro avg       0.76      0.76      0.76       600\n",
      "weighted avg       0.76      0.76      0.76       600\n",
      "\n"
     ]
    }
   ],
   "source": [
    "# Classification Report untuk model Ensemble Learning\n",
    "print(\"Classification Report for Ensemble Learning:\")\n",
    "print(classification_report(y_test_encoded, y_pred_ensemble))"
   ]
  }
 ],
 "metadata": {
  "kernelspec": {
   "display_name": "env",
   "language": "python",
   "name": "python3"
  },
  "language_info": {
   "codemirror_mode": {
    "name": "ipython",
    "version": 3
   },
   "file_extension": ".py",
   "mimetype": "text/x-python",
   "name": "python",
   "nbconvert_exporter": "python",
   "pygments_lexer": "ipython3",
   "version": "3.11.5"
  }
 },
 "nbformat": 4,
 "nbformat_minor": 2
}
