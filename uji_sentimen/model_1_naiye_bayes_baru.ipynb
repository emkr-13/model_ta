{
 "cells": [
  {
   "cell_type": "markdown",
   "metadata": {},
   "source": [
    "### Model 1 Naiye Baeyes"
   ]
  },
  {
   "cell_type": "code",
   "execution_count": 1,
   "metadata": {},
   "outputs": [],
   "source": [
    "import pandas as pd"
   ]
  },
  {
   "cell_type": "code",
   "execution_count": 2,
   "metadata": {},
   "outputs": [],
   "source": [
    "# df=pd.read_csv('pre_title_steaming.csv')\n",
    "df=pd.read_csv('pre_title_baru.csv')"
   ]
  },
  {
   "cell_type": "code",
   "execution_count": 3,
   "metadata": {},
   "outputs": [
    {
     "data": {
      "text/html": [
       "<div>\n",
       "<style scoped>\n",
       "    .dataframe tbody tr th:only-of-type {\n",
       "        vertical-align: middle;\n",
       "    }\n",
       "\n",
       "    .dataframe tbody tr th {\n",
       "        vertical-align: top;\n",
       "    }\n",
       "\n",
       "    .dataframe thead th {\n",
       "        text-align: right;\n",
       "    }\n",
       "</style>\n",
       "<table border=\"1\" class=\"dataframe\">\n",
       "  <thead>\n",
       "    <tr style=\"text-align: right;\">\n",
       "      <th></th>\n",
       "      <th>title</th>\n",
       "      <th>url_berita</th>\n",
       "      <th>sentimen</th>\n",
       "    </tr>\n",
       "  </thead>\n",
       "  <tbody>\n",
       "    <tr>\n",
       "      <th>0</th>\n",
       "      <td>kapolri bicara sumpah pemuda demiindonesia</td>\n",
       "      <td>https://20.detik.com/demi-indonesia/20231027-2...</td>\n",
       "      <td>1</td>\n",
       "    </tr>\n",
       "    <tr>\n",
       "      <th>1</th>\n",
       "      <td>greysia polii ajak anak muda melangkah raih pr...</td>\n",
       "      <td>https://20.detik.com/demi-indonesia/20231027-2...</td>\n",
       "      <td>1</td>\n",
       "    </tr>\n",
       "    <tr>\n",
       "      <th>2</th>\n",
       "      <td>pan jakcloth pesta anak nongkrong sambangi bar...</td>\n",
       "      <td>https://20.detik.com/advertorial/20231109-2311...</td>\n",
       "      <td>1</td>\n",
       "    </tr>\n",
       "    <tr>\n",
       "      <th>3</th>\n",
       "      <td>strategi sleman dorong ekonomi pakai batik int...</td>\n",
       "      <td>https://20.detik.com/blak-blakan/20231204-2312...</td>\n",
       "      <td>1</td>\n",
       "    </tr>\n",
       "    <tr>\n",
       "      <th>4</th>\n",
       "      <td>iringiringan pengaw presiden joe biden ditabra...</td>\n",
       "      <td>https://20.detik.com/detikjabar/20231218-23121...</td>\n",
       "      <td>1</td>\n",
       "    </tr>\n",
       "    <tr>\n",
       "      <th>5</th>\n",
       "      <td>bertemu habib rizieq cak imin bantah baha duku...</td>\n",
       "      <td>https://20.detik.com/detikupdate/20231001-2310...</td>\n",
       "      <td>1</td>\n",
       "    </tr>\n",
       "    <tr>\n",
       "      <th>6</th>\n",
       "      <td>erick thohir ajak muda mager indonesia</td>\n",
       "      <td>https://20.detik.com/demi-indonesia/20231027-2...</td>\n",
       "      <td>1</td>\n",
       "    </tr>\n",
       "    <tr>\n",
       "      <th>7</th>\n",
       "      <td>arahan megawati rakerna iv pdip turun rakyatme...</td>\n",
       "      <td>https://20.detik.com/detikupdate/20231001-2310...</td>\n",
       "      <td>1</td>\n",
       "    </tr>\n",
       "    <tr>\n",
       "      <th>8</th>\n",
       "      <td>pdip ganjar muliakan petani nelayan presiden</td>\n",
       "      <td>https://20.detik.com/detikupdate/20231001-2310...</td>\n",
       "      <td>1</td>\n",
       "    </tr>\n",
       "    <tr>\n",
       "      <th>9</th>\n",
       "      <td>ani bertemu alumni itb baha metod ilmiah menga...</td>\n",
       "      <td>https://20.detik.com/detikupdate/20231001-2310...</td>\n",
       "      <td>1</td>\n",
       "    </tr>\n",
       "  </tbody>\n",
       "</table>\n",
       "</div>"
      ],
      "text/plain": [
       "                                               title  \\\n",
       "0         kapolri bicara sumpah pemuda demiindonesia   \n",
       "1  greysia polii ajak anak muda melangkah raih pr...   \n",
       "2  pan jakcloth pesta anak nongkrong sambangi bar...   \n",
       "3  strategi sleman dorong ekonomi pakai batik int...   \n",
       "4  iringiringan pengaw presiden joe biden ditabra...   \n",
       "5  bertemu habib rizieq cak imin bantah baha duku...   \n",
       "6             erick thohir ajak muda mager indonesia   \n",
       "7  arahan megawati rakerna iv pdip turun rakyatme...   \n",
       "8       pdip ganjar muliakan petani nelayan presiden   \n",
       "9  ani bertemu alumni itb baha metod ilmiah menga...   \n",
       "\n",
       "                                          url_berita  sentimen  \n",
       "0  https://20.detik.com/demi-indonesia/20231027-2...         1  \n",
       "1  https://20.detik.com/demi-indonesia/20231027-2...         1  \n",
       "2  https://20.detik.com/advertorial/20231109-2311...         1  \n",
       "3  https://20.detik.com/blak-blakan/20231204-2312...         1  \n",
       "4  https://20.detik.com/detikjabar/20231218-23121...         1  \n",
       "5  https://20.detik.com/detikupdate/20231001-2310...         1  \n",
       "6  https://20.detik.com/demi-indonesia/20231027-2...         1  \n",
       "7  https://20.detik.com/detikupdate/20231001-2310...         1  \n",
       "8  https://20.detik.com/detikupdate/20231001-2310...         1  \n",
       "9  https://20.detik.com/detikupdate/20231001-2310...         1  "
      ]
     },
     "execution_count": 3,
     "metadata": {},
     "output_type": "execute_result"
    }
   ],
   "source": [
    "df.head(10)"
   ]
  },
  {
   "cell_type": "code",
   "execution_count": 4,
   "metadata": {},
   "outputs": [],
   "source": [
    "from sklearn.model_selection import train_test_split\n",
    "from sklearn.feature_extraction.text import TfidfVectorizer\n",
    "from sklearn.naive_bayes import MultinomialNB\n",
    "from sklearn.metrics import accuracy_score"
   ]
  },
  {
   "cell_type": "code",
   "execution_count": 5,
   "metadata": {},
   "outputs": [],
   "source": [
    "# Ubah nilai sentimen\n",
    "def map_sentiment(sentiment):\n",
    "    if sentiment == 1:\n",
    "        return 'positif'\n",
    "    elif sentiment == 0:\n",
    "        return 'netral'\n",
    "    else:\n",
    "        return 'negatif'\n",
    "\n",
    "# df = pd.read_csv('pre_title_steaming.csv')\n",
    "# df = pd.read_csv('pre_title.csv')\n",
    "df['sentimen'] = df['sentimen'].map(map_sentiment)"
   ]
  },
  {
   "cell_type": "code",
   "execution_count": 6,
   "metadata": {},
   "outputs": [],
   "source": [
    "# Membagi data menjadi fitur dan label\n",
    "X = df['title']\n",
    "y = df['sentimen']"
   ]
  },
  {
   "cell_type": "code",
   "execution_count": 7,
   "metadata": {},
   "outputs": [
    {
     "data": {
      "text/plain": [
       "0               kapolri bicara sumpah pemuda demiindonesia\n",
       "1        greysia polii ajak anak muda melangkah raih pr...\n",
       "2        pan jakcloth pesta anak nongkrong sambangi bar...\n",
       "3        strategi sleman dorong ekonomi pakai batik int...\n",
       "4        iringiringan pengaw presiden joe biden ditabra...\n",
       "                               ...                        \n",
       "14995    perbaikan jembatan aks tol padaleunyi km 149 b...\n",
       "14996    cak imin sambangi taman bungkul umkm dikasih m...\n",
       "14997    catatan kuasa hukum pemohon mk tolak gugatan b...\n",
       "14998    zita anjani pastikan kader pan tegak luru sesu...\n",
       "14999     hut golkar gu miftah kesaksian jokowi antikritik\n",
       "Name: title, Length: 15000, dtype: object"
      ]
     },
     "execution_count": 7,
     "metadata": {},
     "output_type": "execute_result"
    }
   ],
   "source": [
    "X"
   ]
  },
  {
   "cell_type": "code",
   "execution_count": 8,
   "metadata": {},
   "outputs": [
    {
     "data": {
      "text/plain": [
       "0        positif\n",
       "1        positif\n",
       "2        positif\n",
       "3        positif\n",
       "4        positif\n",
       "          ...   \n",
       "14995     netral\n",
       "14996     netral\n",
       "14997     netral\n",
       "14998     netral\n",
       "14999     netral\n",
       "Name: sentimen, Length: 15000, dtype: object"
      ]
     },
     "execution_count": 8,
     "metadata": {},
     "output_type": "execute_result"
    }
   ],
   "source": [
    "y"
   ]
  },
  {
   "cell_type": "code",
   "execution_count": 9,
   "metadata": {},
   "outputs": [],
   "source": [
    "def prepare_datasets(corpus, labels, test_data_proportion=0.3):\n",
    "    train_X, test_X, train_Y, test_Y = train_test_split(corpus, labels,\n",
    "    test_size=0.33,random_state=42)\n",
    "    return train_X, test_X, train_Y, test_Y\n",
    "\n",
    "norm_train_corpus, norm_test_corpus, train_labels, test_labels = prepare_datasets(X,y,test_data_proportion=0.3)"
   ]
  },
  {
   "cell_type": "code",
   "execution_count": 10,
   "metadata": {},
   "outputs": [
    {
     "data": {
      "text/plain": [
       "655      ganjar dorong jateng pusat tembakau dunia sing...\n",
       "12044            beli ga lpg 3 kg pakai ktp 1 januari 2024\n",
       "14844             warga solo gugat mk gubernur u40 nyawapr\n",
       "13985           20 penumpang bu kecelakaan maut tol cipali\n",
       "7974     45 rt jakarta terendam banjir hujan dera ketin...\n",
       "8612     asinggri bikin dk pbb gagal sepakati resolusi ...\n",
       "6883     febri diansyah janji penuhi panggilan kpk saks...\n",
       "2199     aniesmuhaimin nomor urut 1 cak imin tandatanda...\n",
       "2960        bawaslu gibran bagibagi susu cfd pidana pemilu\n",
       "4640                       7 fakta gencatan senjata 4 gaza\n",
       "Name: title, dtype: object"
      ]
     },
     "execution_count": 10,
     "metadata": {},
     "output_type": "execute_result"
    }
   ],
   "source": [
    "norm_train_corpus[0:10]"
   ]
  },
  {
   "cell_type": "code",
   "execution_count": 11,
   "metadata": {},
   "outputs": [
    {
     "data": {
      "text/plain": [
       "11499    deretan anak presiden terjun politik gibran ah...\n",
       "6475     viral foto gibran bareng perwira tni calon pan...\n",
       "13167         as jokowi pesan presiden palestina joe biden\n",
       "862      popul jabodetabek sentilan prasetyo edi presid...\n",
       "5970     updat banjir kota 3 rt jakbar terendam 70 sent...\n",
       "6706     firli bahuri tersangka korupsi ajudan ditarik kpk\n",
       "3017     blusukan penjaringan utara prabowo serap aspir...\n",
       "3781       dirbinma pmj dilarang politisasi ibadah kampany\n",
       "3898     bupati bogor jadikan sasak desa wisata onderdi...\n",
       "2250     ajak doakan keselamatan rakyat palestina gerin...\n",
       "Name: title, dtype: object"
      ]
     },
     "execution_count": 11,
     "metadata": {},
     "output_type": "execute_result"
    }
   ],
   "source": [
    "norm_test_corpus[0:10]"
   ]
  },
  {
   "cell_type": "code",
   "execution_count": 12,
   "metadata": {},
   "outputs": [],
   "source": [
    "#Fungsi untuk mengekstraksi feature menggunakan TF-IDF Model\n",
    "def tfidf_transformer(bow_matrix):\n",
    "    transformer = TfidfTransformer(norm='l2',\n",
    "                                    smooth_idf=True,\n",
    "                                    use_idf=True)\n",
    "    tfidf_matrix = transformer.fit_transform(bow_matrix)\n",
    "    return transformer, tfidf_matrix\n",
    "def tfidf_extractor(corpus, ngram_range=(1,1)):\n",
    "    vectorizer = TfidfVectorizer(min_df=1,\n",
    "                                norm='l2',\n",
    "                                smooth_idf=True,\n",
    "                                use_idf=True,\n",
    "                                ngram_range=ngram_range)\n",
    "    features = vectorizer.fit_transform(corpus)\n",
    "    return vectorizer, features"
   ]
  },
  {
   "cell_type": "code",
   "execution_count": 13,
   "metadata": {},
   "outputs": [],
   "source": [
    "#mengunakan model TF-IDF untuk mengekstraksi feature\n",
    "tfidf_vectorizer, tfidf_train_features = tfidf_extractor(norm_train_corpus)\n",
    "tfidf_test_features = tfidf_vectorizer.transform(norm_test_corpus)"
   ]
  },
  {
   "cell_type": "code",
   "execution_count": 14,
   "metadata": {},
   "outputs": [],
   "source": [
    "from sklearn.linear_model import SGDClassifier\n",
    "train_features=tfidf_train_features\n",
    "train_labels=train_labels\n",
    "test_features=tfidf_test_features\n",
    "test_labels=test_labels"
   ]
  },
  {
   "cell_type": "code",
   "execution_count": 15,
   "metadata": {},
   "outputs": [],
   "source": [
    "df_train = pd.DataFrame()\n",
    "df_train['norm_train'] = norm_train_corpus\n",
    "df_train['train_labels'] = train_labels\n",
    "df_test = pd.DataFrame()\n",
    "df_test['norm_test'] = norm_test_corpus\n",
    "df_test['test_labels'] = test_labels"
   ]
  },
  {
   "cell_type": "code",
   "execution_count": 16,
   "metadata": {},
   "outputs": [
    {
     "data": {
      "text/html": [
       "<div>\n",
       "<style scoped>\n",
       "    .dataframe tbody tr th:only-of-type {\n",
       "        vertical-align: middle;\n",
       "    }\n",
       "\n",
       "    .dataframe tbody tr th {\n",
       "        vertical-align: top;\n",
       "    }\n",
       "\n",
       "    .dataframe thead th {\n",
       "        text-align: right;\n",
       "    }\n",
       "</style>\n",
       "<table border=\"1\" class=\"dataframe\">\n",
       "  <thead>\n",
       "    <tr style=\"text-align: right;\">\n",
       "      <th></th>\n",
       "      <th>norm_train</th>\n",
       "      <th>train_labels</th>\n",
       "    </tr>\n",
       "  </thead>\n",
       "  <tbody>\n",
       "    <tr>\n",
       "      <th>655</th>\n",
       "      <td>ganjar dorong jateng pusat tembakau dunia sing...</td>\n",
       "      <td>positif</td>\n",
       "    </tr>\n",
       "    <tr>\n",
       "      <th>12044</th>\n",
       "      <td>beli ga lpg 3 kg pakai ktp 1 januari 2024</td>\n",
       "      <td>netral</td>\n",
       "    </tr>\n",
       "    <tr>\n",
       "      <th>14844</th>\n",
       "      <td>warga solo gugat mk gubernur u40 nyawapr</td>\n",
       "      <td>netral</td>\n",
       "    </tr>\n",
       "    <tr>\n",
       "      <th>13985</th>\n",
       "      <td>20 penumpang bu kecelakaan maut tol cipali</td>\n",
       "      <td>netral</td>\n",
       "    </tr>\n",
       "    <tr>\n",
       "      <th>7974</th>\n",
       "      <td>45 rt jakarta terendam banjir hujan dera ketin...</td>\n",
       "      <td>negatif</td>\n",
       "    </tr>\n",
       "  </tbody>\n",
       "</table>\n",
       "</div>"
      ],
      "text/plain": [
       "                                              norm_train train_labels\n",
       "655    ganjar dorong jateng pusat tembakau dunia sing...      positif\n",
       "12044          beli ga lpg 3 kg pakai ktp 1 januari 2024       netral\n",
       "14844           warga solo gugat mk gubernur u40 nyawapr       netral\n",
       "13985         20 penumpang bu kecelakaan maut tol cipali       netral\n",
       "7974   45 rt jakarta terendam banjir hujan dera ketin...      negatif"
      ]
     },
     "execution_count": 16,
     "metadata": {},
     "output_type": "execute_result"
    }
   ],
   "source": [
    "df_train.head()"
   ]
  },
  {
   "cell_type": "code",
   "execution_count": 17,
   "metadata": {},
   "outputs": [
    {
     "data": {
      "text/html": [
       "<div>\n",
       "<style scoped>\n",
       "    .dataframe tbody tr th:only-of-type {\n",
       "        vertical-align: middle;\n",
       "    }\n",
       "\n",
       "    .dataframe tbody tr th {\n",
       "        vertical-align: top;\n",
       "    }\n",
       "\n",
       "    .dataframe thead th {\n",
       "        text-align: right;\n",
       "    }\n",
       "</style>\n",
       "<table border=\"1\" class=\"dataframe\">\n",
       "  <thead>\n",
       "    <tr style=\"text-align: right;\">\n",
       "      <th></th>\n",
       "      <th>norm_test</th>\n",
       "      <th>test_labels</th>\n",
       "    </tr>\n",
       "  </thead>\n",
       "  <tbody>\n",
       "    <tr>\n",
       "      <th>11499</th>\n",
       "      <td>deretan anak presiden terjun politik gibran ah...</td>\n",
       "      <td>netral</td>\n",
       "    </tr>\n",
       "    <tr>\n",
       "      <th>6475</th>\n",
       "      <td>viral foto gibran bareng perwira tni calon pan...</td>\n",
       "      <td>negatif</td>\n",
       "    </tr>\n",
       "    <tr>\n",
       "      <th>13167</th>\n",
       "      <td>as jokowi pesan presiden palestina joe biden</td>\n",
       "      <td>netral</td>\n",
       "    </tr>\n",
       "    <tr>\n",
       "      <th>862</th>\n",
       "      <td>popul jabodetabek sentilan prasetyo edi presid...</td>\n",
       "      <td>positif</td>\n",
       "    </tr>\n",
       "    <tr>\n",
       "      <th>5970</th>\n",
       "      <td>updat banjir kota 3 rt jakbar terendam 70 sent...</td>\n",
       "      <td>negatif</td>\n",
       "    </tr>\n",
       "  </tbody>\n",
       "</table>\n",
       "</div>"
      ],
      "text/plain": [
       "                                               norm_test test_labels\n",
       "11499  deretan anak presiden terjun politik gibran ah...      netral\n",
       "6475   viral foto gibran bareng perwira tni calon pan...     negatif\n",
       "13167       as jokowi pesan presiden palestina joe biden      netral\n",
       "862    popul jabodetabek sentilan prasetyo edi presid...     positif\n",
       "5970   updat banjir kota 3 rt jakbar terendam 70 sent...     negatif"
      ]
     },
     "execution_count": 17,
     "metadata": {},
     "output_type": "execute_result"
    }
   ],
   "source": [
    "df_test.head()"
   ]
  },
  {
   "cell_type": "code",
   "execution_count": 18,
   "metadata": {},
   "outputs": [
    {
     "data": {
      "text/plain": [
       "<1x11428 sparse matrix of type '<class 'numpy.float64'>'\n",
       "\twith 8 stored elements in Compressed Sparse Row format>"
      ]
     },
     "execution_count": 18,
     "metadata": {},
     "output_type": "execute_result"
    }
   ],
   "source": [
    "train_features[0:1]"
   ]
  },
  {
   "cell_type": "code",
   "execution_count": 19,
   "metadata": {},
   "outputs": [
    {
     "data": {
      "text/plain": [
       "655    positif\n",
       "Name: sentimen, dtype: object"
      ]
     },
     "execution_count": 19,
     "metadata": {},
     "output_type": "execute_result"
    }
   ],
   "source": [
    "train_labels[0:1]"
   ]
  },
  {
   "cell_type": "code",
   "execution_count": 20,
   "metadata": {},
   "outputs": [],
   "source": [
    "from sklearn.svm import LinearSVC\n",
    "from sklearn.naive_bayes import MultinomialNB"
   ]
  },
  {
   "cell_type": "code",
   "execution_count": 21,
   "metadata": {},
   "outputs": [],
   "source": [
    "# clf = SGDClassifier(loss='hinge', max_iter=100)\n",
    "# clf = LinearSVC(penalty='l2', loss='squared_hinge', max_iter=100)\n",
    "clf = MultinomialNB()"
   ]
  },
  {
   "cell_type": "code",
   "execution_count": 22,
   "metadata": {},
   "outputs": [
    {
     "name": "stdout",
     "output_type": "stream",
     "text": [
      "Label test: \n",
      "11499     netral\n",
      "6475     negatif\n",
      "13167     netral\n",
      "862      positif\n",
      "5970     negatif\n",
      "6706     negatif\n",
      "3017     positif\n",
      "3781     positif\n",
      "3898     positif\n",
      "2250     positif\n",
      "Name: sentimen, dtype: object\n",
      "Prediction test: \n",
      "['positif' 'positif' 'positif' 'positif' 'negatif' 'negatif' 'positif'\n",
      " 'positif' 'negatif' 'positif']\n"
     ]
    }
   ],
   "source": [
    "clf.fit(train_features, train_labels)\n",
    "predictions = clf.predict(test_features)\n",
    "print(\"Label test: \\n\" + format(test_labels[:10]))\n",
    "print(\"Prediction test: \\n\"+ format(predictions[:10]))"
   ]
  },
  {
   "cell_type": "code",
   "execution_count": 23,
   "metadata": {},
   "outputs": [
    {
     "name": "stdout",
     "output_type": "stream",
     "text": [
      "Accuration: 0.64\n"
     ]
    }
   ],
   "source": [
    "print(\"Accuration: \"+format(clf.score(test_features,test_labels)))"
   ]
  },
  {
   "cell_type": "code",
   "execution_count": 24,
   "metadata": {},
   "outputs": [],
   "source": [
    "import numpy as np\n",
    "from sklearn import metrics"
   ]
  },
  {
   "cell_type": "code",
   "execution_count": 25,
   "metadata": {},
   "outputs": [
    {
     "name": "stdout",
     "output_type": "stream",
     "text": [
      "Accuracy:  0.64\n",
      "Precision:  0.64\n",
      "Recall:  0.64\n",
      "F1 Score:  0.64\n"
     ]
    }
   ],
   "source": [
    "def get_metrics(true_labels, predicted_labels):\n",
    "    print('Accuracy: ', np.round(metrics.accuracy_score(true_labels,\n",
    "                                                        predicted_labels),2))\n",
    "    print('Precision: ', np.round(metrics.precision_score(true_labels,\n",
    "                                                        predicted_labels,\n",
    "                                                        average='weighted'),2))\n",
    "    print('Recall: ', np.round(metrics.recall_score(true_labels,\n",
    "                                                        predicted_labels,\n",
    "                                                        average='weighted'),2))\n",
    "    print('F1 Score: ', np.round(metrics.f1_score(true_labels,\n",
    "                                                        predicted_labels,\n",
    "                                                        average='weighted'),2))\n",
    "# mengevaluasi performa prediksi menggunakan model\n",
    "get_metrics(true_labels=test_labels,predicted_labels=predictions)"
   ]
  },
  {
   "cell_type": "code",
   "execution_count": 26,
   "metadata": {},
   "outputs": [
    {
     "name": "stdout",
     "output_type": "stream",
     "text": [
      "Hasil Prediksi: ['negatif']\n"
     ]
    }
   ],
   "source": [
    "test = ('Jeka Saragih On Fire Menatap Debut di UFC')\n",
    "line = tfidf_vectorizer.transform([test])\n",
    "line.shape\n",
    "test_result = clf.predict(line)\n",
    "print(\"Hasil Prediksi:\", test_result) \n"
   ]
  }
 ],
 "metadata": {
  "kernelspec": {
   "display_name": "env",
   "language": "python",
   "name": "python3"
  },
  "language_info": {
   "codemirror_mode": {
    "name": "ipython",
    "version": 3
   },
   "file_extension": ".py",
   "mimetype": "text/x-python",
   "name": "python",
   "nbconvert_exporter": "python",
   "pygments_lexer": "ipython3",
   "version": "3.11.5"
  }
 },
 "nbformat": 4,
 "nbformat_minor": 2
}
