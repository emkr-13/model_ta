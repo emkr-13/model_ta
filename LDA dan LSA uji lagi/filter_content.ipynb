{
 "cells": [
  {
   "cell_type": "code",
   "execution_count": 1,
   "metadata": {},
   "outputs": [
    {
     "name": "stdout",
     "output_type": "stream",
     "text": [
      "                                    processed_content\n",
      "0   kumaha barudak well yuk ramaikan pesta anak no...\n",
      "3   kapolri jenderal lisyto sigit prabowo bicara s...\n",
      "7   ketua umum pdip megawati soekarnoputri kader m...\n",
      "10  pasangan capres cawapres koalisi perubahan ani...\n",
      "11  presiden joko widodo memimpin upacara peringat...\n"
     ]
    }
   ],
   "source": [
    "import pandas as pd\n",
    "\n",
    "# Read the CSV file into a DataFrame\n",
    "data = pd.read_csv('lda_baru_all.csv')\n",
    "\n",
    "# Filter the DataFrame to include rows containing specific keywords\n",
    "keywords = ['pemilu', 'mk', 'jokowi', 'kpu', 'ganjar', 'prabowo', 'anies', 'cak imin', 'gibran', 'mahfud md', 'capres', 'cawpres','bawaslu']\n",
    "filtered_data = data[data['processed_content'].str.contains('|'.join(keywords))]\n",
    "\n",
    "# Save the filtered data to a new CSV file\n",
    "filtered_data.to_csv('lda_filtered.csv', index=False)\n",
    "\n",
    "# Display the first few rows of the filtered data\n",
    "print(filtered_data.head(5))\n"
   ]
  }
 ],
 "metadata": {
  "kernelspec": {
   "display_name": "env",
   "language": "python",
   "name": "python3"
  },
  "language_info": {
   "codemirror_mode": {
    "name": "ipython",
    "version": 3
   },
   "file_extension": ".py",
   "mimetype": "text/x-python",
   "name": "python",
   "nbconvert_exporter": "python",
   "pygments_lexer": "ipython3",
   "version": "3.11.5"
  }
 },
 "nbformat": 4,
 "nbformat_minor": 2
}
