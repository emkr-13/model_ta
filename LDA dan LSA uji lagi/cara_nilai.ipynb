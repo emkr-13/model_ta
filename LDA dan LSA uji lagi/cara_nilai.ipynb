{
 "cells": [
  {
   "cell_type": "code",
   "execution_count": 1,
   "metadata": {},
   "outputs": [],
   "source": [
    "import pandas as pd\n",
    "from sklearn.feature_extraction.text import TfidfVectorizer\n",
    "from gensim.models import LdaModel, LsiModel\n",
    "from gensim.corpora import Dictionary\n",
    "from gensim.models.coherencemodel import CoherenceModel"
   ]
  },
  {
   "cell_type": "code",
   "execution_count": 2,
   "metadata": {},
   "outputs": [],
   "source": [
    "# Load the data\n",
    "data = pd.read_csv('data_pemilu.csv')\n",
    "\n",
    "# Preprocess the data (if necessary)\n",
    "\n",
    "# Tokenize the content_clean column\n",
    "documents = data['content_clean'].str.split()"
   ]
  },
  {
   "cell_type": "code",
   "execution_count": 3,
   "metadata": {},
   "outputs": [],
   "source": [
    "# Create a TF-IDF vectorizer\n",
    "tfidf_vectorizer = TfidfVectorizer(min_df=1,\n",
    "                                 norm='l2',\n",
    "                                 smooth_idf=True,\n",
    "                                 use_idf=True)\n",
    "\n",
    "# Fit and transform the data\n",
    "tfidf_matrix = tfidf_vectorizer.fit_transform(data['content_clean'])\n",
    "\n",
    "# Create a dictionary from the documents\n",
    "dictionary = Dictionary(documents)\n",
    "\n",
    "# Create a corpus from the TF-IDF matrix\n",
    "corpus = [dictionary.doc2bow(doc) for doc in documents]"
   ]
  },
  {
   "cell_type": "code",
   "execution_count": 4,
   "metadata": {},
   "outputs": [],
   "source": [
    "# Define the range of topics and top words\n",
    "topics_range = range(1, 11)  # Range of number of topics from 1 to 10\n",
    "top_words_range = [5]  # Top words per topic: 5 and 10\n",
    "\n",
    "# Initialize variables to store best coherence scores and corresponding parameters\n",
    "best_coherence_lda = -1\n",
    "best_coherence_lsa = -1\n",
    "best_lda_params = None\n",
    "best_lsa_params = None"
   ]
  },
  {
   "cell_type": "code",
   "execution_count": 5,
   "metadata": {},
   "outputs": [
    {
     "name": "stdout",
     "output_type": "stream",
     "text": [
      "Number of Topics: 1, Top Words per Topic: 5\n",
      "Coherence Score (LDA): 0.5881058353046802\n",
      "Coherence Score (LSA): 0.5746735694239875\n",
      "\n",
      "Number of Topics: 2, Top Words per Topic: 5\n",
      "Coherence Score (LDA): 0.5843910433678292\n",
      "Coherence Score (LSA): 0.6276706593979573\n",
      "\n",
      "Number of Topics: 3, Top Words per Topic: 5\n",
      "Coherence Score (LDA): 0.5691153765148624\n",
      "Coherence Score (LSA): 0.5892600345123474\n",
      "\n",
      "Number of Topics: 4, Top Words per Topic: 5\n",
      "Coherence Score (LDA): 0.5182388303148254\n",
      "Coherence Score (LSA): 0.5008325656653793\n",
      "\n",
      "Number of Topics: 5, Top Words per Topic: 5\n",
      "Coherence Score (LDA): 0.46607230961060564\n",
      "Coherence Score (LSA): 0.5531860934115208\n",
      "\n",
      "Number of Topics: 6, Top Words per Topic: 5\n",
      "Coherence Score (LDA): 0.5322023182442523\n",
      "Coherence Score (LSA): 0.5153991735517202\n",
      "\n",
      "Number of Topics: 7, Top Words per Topic: 5\n",
      "Coherence Score (LDA): 0.5000337185556886\n",
      "Coherence Score (LSA): 0.4379335467199875\n",
      "\n",
      "Number of Topics: 8, Top Words per Topic: 5\n",
      "Coherence Score (LDA): 0.4882052979367808\n",
      "Coherence Score (LSA): 0.4233725522246321\n",
      "\n",
      "Number of Topics: 9, Top Words per Topic: 5\n",
      "Coherence Score (LDA): 0.5291610480294865\n",
      "Coherence Score (LSA): 0.4887937908169843\n",
      "\n",
      "Number of Topics: 10, Top Words per Topic: 5\n",
      "Coherence Score (LDA): 0.4960495299026051\n",
      "Coherence Score (LSA): 0.43351605595899245\n",
      "\n"
     ]
    }
   ],
   "source": [
    "# Iterate through different combinations of topics and top words\n",
    "for num_topics in topics_range:\n",
    "    for top_words in top_words_range:\n",
    "        # Build LDA model\n",
    "        lda_model = LdaModel(corpus=corpus,\n",
    "                             id2word=dictionary,\n",
    "                             num_topics=num_topics)\n",
    "\n",
    "        # Build LSI model\n",
    "        lsi_model = LsiModel(corpus=corpus,\n",
    "                             id2word=dictionary,\n",
    "                             num_topics=num_topics)\n",
    "\n",
    "        # Compute coherence scores for LDA\n",
    "        coherence_model_lda = CoherenceModel(model=lda_model, texts=documents, dictionary=dictionary, coherence='c_v')\n",
    "        coherence_lda = coherence_model_lda.get_coherence()\n",
    "\n",
    "        # Compute coherence scores for LSA\n",
    "        coherence_model_lsa = CoherenceModel(model=lsi_model, texts=documents, dictionary=dictionary, coherence='c_v')\n",
    "        coherence_lsa = coherence_model_lsa.get_coherence()\n",
    "\n",
    "        # Print coherence scores for each combination\n",
    "        print(\"Number of Topics: {}, Top Words per Topic: {}\".format(num_topics, top_words))\n",
    "        print(\"Coherence Score (LDA):\", coherence_lda)\n",
    "        print(\"Coherence Score (LSA):\", coherence_lsa)\n",
    "        print()\n",
    "\n",
    "        # Update best coherence scores and corresponding parameters if better scores found\n",
    "        if coherence_lda > best_coherence_lda:\n",
    "            best_coherence_lda = coherence_lda\n",
    "            best_lda_params = (num_topics, top_words)\n",
    "\n",
    "        if coherence_lsa > best_coherence_lsa:\n",
    "            best_coherence_lsa = coherence_lsa\n",
    "            best_lsa_params = (num_topics, top_words)"
   ]
  },
  {
   "cell_type": "code",
   "execution_count": 6,
   "metadata": {},
   "outputs": [
    {
     "name": "stdout",
     "output_type": "stream",
     "text": [
      "Best Coherence Score (LDA): 0.5881058353046802\n",
      "Best Parameters (LDA): Number of Topics - 1, Top Words per Topic - 5\n",
      "\n",
      "Best Coherence Score (LSA): 0.6276706593979573\n",
      "Best Parameters (LSA): Number of Topics - 2, Top Words per Topic - 5\n"
     ]
    }
   ],
   "source": [
    "# Print the best coherence scores and corresponding parameters for LDA and LSA\n",
    "print(\"Best Coherence Score (LDA):\", best_coherence_lda)\n",
    "print(\"Best Parameters (LDA): Number of Topics - {}, Top Words per Topic - {}\".format(*best_lda_params))\n",
    "print()\n",
    "print(\"Best Coherence Score (LSA):\", best_coherence_lsa)\n",
    "print(\"Best Parameters (LSA): Number of Topics - {}, Top Words per Topic - {}\".format(*best_lsa_params))"
   ]
  }
 ],
 "metadata": {
  "kernelspec": {
   "display_name": "env",
   "language": "python",
   "name": "python3"
  },
  "language_info": {
   "codemirror_mode": {
    "name": "ipython",
    "version": 3
   },
   "file_extension": ".py",
   "mimetype": "text/x-python",
   "name": "python",
   "nbconvert_exporter": "python",
   "pygments_lexer": "ipython3",
   "version": "3.11.5"
  }
 },
 "nbformat": 4,
 "nbformat_minor": 2
}
