{
 "cells": [
  {
   "cell_type": "code",
   "execution_count": 1,
   "metadata": {},
   "outputs": [],
   "source": [
    "import pandas as pd\n",
    "\n",
    "\n",
    "data = pd.read_csv('online_news_50000_clean_label_all_baru.csv')\n",
    "\n",
    "keywords = ['pemilu', 'mk', 'kpu', 'ganjar', 'prabowo', 'anies', 'cak imin', 'gibran', 'mahfud md', 'capres', 'cawapres','bawaslu','partai']\n",
    "filtered_data = data[data['content_clean'].str.contains('|'.join(keywords))]\n",
    "\n",
    "filtered_data.to_csv('data_pemilu.csv', index=False)\n",
    "\n",
    "\n",
    "\n"
   ]
  },
  {
   "cell_type": "code",
   "execution_count": null,
   "metadata": {},
   "outputs": [],
   "source": []
  }
 ],
 "metadata": {
  "kernelspec": {
   "display_name": "env",
   "language": "python",
   "name": "python3"
  },
  "language_info": {
   "codemirror_mode": {
    "name": "ipython",
    "version": 3
   },
   "file_extension": ".py",
   "mimetype": "text/x-python",
   "name": "python",
   "nbconvert_exporter": "python",
   "pygments_lexer": "ipython3",
   "version": "3.11.5"
  }
 },
 "nbformat": 4,
 "nbformat_minor": 2
}
