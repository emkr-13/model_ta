{
 "cells": [
  {
   "cell_type": "markdown",
   "metadata": {},
   "source": [
    "# Model Rekomondasi"
   ]
  },
  {
   "cell_type": "markdown",
   "metadata": {},
   "source": [
    "### Persiapaan Data"
   ]
  },
  {
   "cell_type": "code",
   "execution_count": 1,
   "metadata": {},
   "outputs": [],
   "source": [
    "import pandas as pd\n",
    "from sklearn.model_selection import train_test_split\n",
    "from sklearn.feature_extraction.text import TfidfVectorizer, CountVectorizer\n",
    "from sklearn.preprocessing import LabelEncoder\n",
    "from scipy.sparse import hstack\n"
   ]
  },
  {
   "cell_type": "code",
   "execution_count": 2,
   "metadata": {},
   "outputs": [],
   "source": [
    "def prepare_datasets(corpus, labels, test_data_proportion=0.3, random_state=42):\n",
    "    train_X, test_X, train_Y, test_Y = train_test_split(corpus, labels,\n",
    "                                                        test_size=test_data_proportion,\n",
    "                                                        random_state=random_state)\n",
    "    return train_X, test_X, train_Y, test_Y\n",
    "    \n",
    "def tfidf_extractor(corpus, ngram_range=(1,2)):\n",
    "    vectorizer = TfidfVectorizer(min_df=1,\n",
    "                                norm='l2',\n",
    "                                smooth_idf=True,\n",
    "                                use_idf=True,\n",
    "                                ngram_range=ngram_range)\n",
    "    features = vectorizer.fit_transform(corpus)\n",
    "    return vectorizer, features\n",
    "\n",
    "def bow_extractor(corpus, ngram_range=(1,1)):\n",
    "    vectorizer = CountVectorizer(min_df=1, ngram_range=ngram_range)\n",
    "    features = vectorizer.fit_transform(corpus)\n",
    "    return vectorizer, features"
   ]
  },
  {
   "cell_type": "code",
   "execution_count": 3,
   "metadata": {},
   "outputs": [
    {
     "data": {
      "text/html": [
       "<div>\n",
       "<style scoped>\n",
       "    .dataframe tbody tr th:only-of-type {\n",
       "        vertical-align: middle;\n",
       "    }\n",
       "\n",
       "    .dataframe tbody tr th {\n",
       "        vertical-align: top;\n",
       "    }\n",
       "\n",
       "    .dataframe thead th {\n",
       "        text-align: right;\n",
       "    }\n",
       "</style>\n",
       "<table border=\"1\" class=\"dataframe\">\n",
       "  <thead>\n",
       "    <tr style=\"text-align: right;\">\n",
       "      <th></th>\n",
       "      <th>content</th>\n",
       "      <th>sentimen</th>\n",
       "    </tr>\n",
       "  </thead>\n",
       "  <tbody>\n",
       "    <tr>\n",
       "      <th>0</th>\n",
       "      <td>calon presiden capres anies baswedan menyinggu...</td>\n",
       "      <td>negatif</td>\n",
       "    </tr>\n",
       "    <tr>\n",
       "      <th>1</th>\n",
       "      <td>warga kecamatan tanjung bintang kabupaten lamp...</td>\n",
       "      <td>negatif</td>\n",
       "    </tr>\n",
       "    <tr>\n",
       "      <th>2</th>\n",
       "      <td>mobil berpelat nomor kedutaan negeri dilaporka...</td>\n",
       "      <td>negatif</td>\n",
       "    </tr>\n",
       "    <tr>\n",
       "      <th>3</th>\n",
       "      <td>majelis kehormatan mk memutuskan anwar usman d...</td>\n",
       "      <td>negatif</td>\n",
       "    </tr>\n",
       "    <tr>\n",
       "      <th>4</th>\n",
       "      <td>2 motor ruang publik terpadu ramah anak rptra ...</td>\n",
       "      <td>negatif</td>\n",
       "    </tr>\n",
       "    <tr>\n",
       "      <th>5</th>\n",
       "      <td>ketua fraksi demokrat dpr ri edhie baskoro yud...</td>\n",
       "      <td>negatif</td>\n",
       "    </tr>\n",
       "    <tr>\n",
       "      <th>6</th>\n",
       "      <td>dinas pemadam kebakaran penyelamatan kota depo...</td>\n",
       "      <td>negatif</td>\n",
       "    </tr>\n",
       "    <tr>\n",
       "      <th>7</th>\n",
       "      <td>calon presiden bacapres ganjar pranowo menangg...</td>\n",
       "      <td>negatif</td>\n",
       "    </tr>\n",
       "    <tr>\n",
       "      <th>8</th>\n",
       "      <td>ketua tim hukum nasional amin ari yusuf menyes...</td>\n",
       "      <td>negatif</td>\n",
       "    </tr>\n",
       "    <tr>\n",
       "      <th>9</th>\n",
       "      <td>kanit reskrim polsek pesanggrahan iptu adit ke...</td>\n",
       "      <td>negatif</td>\n",
       "    </tr>\n",
       "  </tbody>\n",
       "</table>\n",
       "</div>"
      ],
      "text/plain": [
       "                                             content sentimen\n",
       "0  calon presiden capres anies baswedan menyinggu...  negatif\n",
       "1  warga kecamatan tanjung bintang kabupaten lamp...  negatif\n",
       "2  mobil berpelat nomor kedutaan negeri dilaporka...  negatif\n",
       "3  majelis kehormatan mk memutuskan anwar usman d...  negatif\n",
       "4  2 motor ruang publik terpadu ramah anak rptra ...  negatif\n",
       "5  ketua fraksi demokrat dpr ri edhie baskoro yud...  negatif\n",
       "6  dinas pemadam kebakaran penyelamatan kota depo...  negatif\n",
       "7  calon presiden bacapres ganjar pranowo menangg...  negatif\n",
       "8  ketua tim hukum nasional amin ari yusuf menyes...  negatif\n",
       "9  kanit reskrim polsek pesanggrahan iptu adit ke...  negatif"
      ]
     },
     "execution_count": 3,
     "metadata": {},
     "output_type": "execute_result"
    }
   ],
   "source": [
    "df = pd.read_csv('sentiment_2760.csv')\n",
    "df.head(10)"
   ]
  },
  {
   "cell_type": "code",
   "execution_count": 4,
   "metadata": {},
   "outputs": [],
   "source": [
    "# Split data\n",
    "x_train, x_test, y_train, y_test = prepare_datasets(df['content'], df['sentimen'], test_data_proportion=0.3)\n"
   ]
  },
  {
   "cell_type": "code",
   "execution_count": 5,
   "metadata": {},
   "outputs": [],
   "source": [
    "# Convert text labels to numerical labels\n",
    "label_encoder = LabelEncoder()\n",
    "y_train_encoded = label_encoder.fit_transform(y_train)\n",
    "y_test_encoded = label_encoder.transform(y_test)\n",
    "\n",
    "# Ensure the lengths match after splitting\n",
    "y_train_encoded = y_train_encoded[:len(x_train)]\n",
    "y_test_encoded = y_test_encoded[:len(x_test)]\n"
   ]
  },
  {
   "cell_type": "code",
   "execution_count": 6,
   "metadata": {},
   "outputs": [],
   "source": [
    "# TF-IDF Vectorization\n",
    "tfidf_vectorizer, tfidf_train_features = tfidf_extractor(x_train)\n",
    "tfidf_test_features = tfidf_vectorizer.transform(x_test)\n",
    "\n",
    "# Bag of Words (BoW) features\n",
    "count_vectorizer, count_train_features = bow_extractor(x_train)\n",
    "count_test_features = count_vectorizer.transform(x_test)\n",
    "\n",
    "# Combine TF-IDF and BoW features\n",
    "combined_train_features = hstack([tfidf_train_features, count_train_features])\n",
    "combined_test_features = hstack([tfidf_test_features, count_test_features])"
   ]
  },
  {
   "cell_type": "code",
   "execution_count": 7,
   "metadata": {},
   "outputs": [
    {
     "name": "stdout",
     "output_type": "stream",
     "text": [
      "Jumlah fitur TF-IDF: 140468\n",
      "Jumlah fitur Bag of Words: 18889\n",
      "Jumlah fitur gabungan: 159357\n"
     ]
    }
   ],
   "source": [
    "# TF-IDF Features\n",
    "print(\"Jumlah fitur TF-IDF:\", tfidf_train_features.shape[1])\n",
    "\n",
    "# Bag of Words (BoW) Features\n",
    "print(\"Jumlah fitur Bag of Words:\", count_train_features.shape[1])\n",
    "\n",
    "# Combined Features\n",
    "print(\"Jumlah fitur gabungan:\", combined_train_features.shape[1])"
   ]
  },
  {
   "cell_type": "markdown",
   "metadata": {},
   "source": [
    "### Model Naiye Bayes"
   ]
  },
  {
   "cell_type": "code",
   "execution_count": 8,
   "metadata": {},
   "outputs": [],
   "source": [
    "from sklearn.metrics import accuracy_score, f1_score, classification_report, confusion_matrix\n",
    "from sklearn.naive_bayes import MultinomialNB\n",
    "from sklearn.model_selection import GridSearchCV\n",
    "import matplotlib.pyplot as plt\n",
    "import seaborn as sns"
   ]
  },
  {
   "cell_type": "code",
   "execution_count": 9,
   "metadata": {},
   "outputs": [],
   "source": [
    "# Define function to train and evaluate Naive Bayes classifier\n",
    "def train_and_evaluate(classifier, train_features, train_labels, test_features, test_labels):\n",
    "    # Train the classifier\n",
    "    classifier.fit(train_features, train_labels)\n",
    "    \n",
    "    # Predictions\n",
    "    predictions = classifier.predict(test_features)\n",
    "    \n",
    "    # Calculate accuracy\n",
    "    accuracy = accuracy_score(test_labels, predictions)\n",
    "    \n",
    "    # Calculate F1 score\n",
    "    f1 = f1_score(test_labels, predictions, average='weighted')\n",
    "    \n",
    "    # Classification report\n",
    "    report = classification_report(test_labels, predictions, target_names=label_encoder.classes_)\n",
    "    \n",
    "    # Confusion matrix\n",
    "    matrix = confusion_matrix(test_labels, predictions)\n",
    "    \n",
    "    return accuracy * 100, f1 * 100, report, matrix"
   ]
  },
  {
   "cell_type": "code",
   "execution_count": 10,
   "metadata": {},
   "outputs": [],
   "source": [
    "# Function to plot confusion matrix\n",
    "def plot_confusion_matrix(matrix, labels):\n",
    "    plt.figure(figsize=(8, 6))\n",
    "    sns.heatmap(matrix, annot=True, fmt=\"d\", cmap=\"Blues\", xticklabels=labels, yticklabels=labels)\n",
    "    plt.xlabel('Predicted Labels')\n",
    "    plt.ylabel('True Labels')\n",
    "    plt.title('Confusion Matrix')\n",
    "    plt.show()"
   ]
  },
  {
   "cell_type": "markdown",
   "metadata": {},
   "source": [
    "#### Tanpa Parameter"
   ]
  },
  {
   "cell_type": "code",
   "execution_count": 11,
   "metadata": {},
   "outputs": [],
   "source": [
    "# Initialize Naive Bayes classifier\n",
    "model_naiye_tanpa_parameter = MultinomialNB()\n",
    "\n",
    "# Train and evaluate on TF-IDF Vectorization\n",
    "tfidf_accuracy, tfidf_f1, tfidf_report, tfidf_matrix = train_and_evaluate(model_naiye_tanpa_parameter, tfidf_train_features, y_train_encoded, tfidf_test_features, y_test_encoded)\n"
   ]
  },
  {
   "cell_type": "code",
   "execution_count": 12,
   "metadata": {},
   "outputs": [
    {
     "name": "stdout",
     "output_type": "stream",
     "text": [
      "TF-IDF Vectorization:\n",
      "Accuracy: 80.92%\n",
      "F1 Score: 80.75%\n",
      "Classification Report:\n",
      "               precision    recall  f1-score   support\n",
      "\n",
      "     negatif       0.84      0.74      0.79       272\n",
      "      netral       0.85      0.75      0.80       280\n",
      "     positif       0.76      0.93      0.84       276\n",
      "\n",
      "    accuracy                           0.81       828\n",
      "   macro avg       0.82      0.81      0.81       828\n",
      "weighted avg       0.82      0.81      0.81       828\n",
      "\n",
      "Confusion Matrix:\n",
      " [[201  27  44]\n",
      " [ 30 211  39]\n",
      " [  7  11 258]]\n"
     ]
    }
   ],
   "source": [
    "print(\"TF-IDF Vectorization:\")\n",
    "print(\"Accuracy: {:.2f}%\".format(tfidf_accuracy))\n",
    "print(\"F1 Score: {:.2f}%\".format(tfidf_f1))\n",
    "print(\"Classification Report:\\n\", tfidf_report)\n",
    "print(\"Confusion Matrix:\\n\", tfidf_matrix)"
   ]
  },
  {
   "cell_type": "code",
   "execution_count": 13,
   "metadata": {},
   "outputs": [
    {
     "data": {
      "image/png": "[encoded data removed]",
      "text/plain": [
       "<Figure size 800x600 with 2 Axes>"
      ]
     },
     "metadata": {},
     "output_type": "display_data"
    }
   ],
   "source": [
    "# Plot confusion matrix\n",
    "plot_confusion_matrix(tfidf_matrix, label_encoder.classes_)"
   ]
  },
  {
   "cell_type": "code",
   "execution_count": 14,
   "metadata": {},
   "outputs": [
    {
     "name": "stdout",
     "output_type": "stream",
     "text": [
      "Hasil Prediksi: ['netral']\n"
     ]
    }
   ],
   "source": [
    "test = ('Jeka Saragih On Fire Menatap Debut di UFC')\n",
    "line = tfidf_vectorizer.transform([test])\n",
    "line.shape\n",
    "test_result = model_naiye_tanpa_parameter.predict(line)\n",
    "predicted_label = label_encoder.inverse_transform(test_result)\n",
    "print(\"Hasil Prediksi:\", predicted_label)"
   ]
  },
  {
   "cell_type": "markdown",
   "metadata": {},
   "source": [
    "#### Tuning"
   ]
  },
  {
   "cell_type": "code",
   "execution_count": 15,
   "metadata": {},
   "outputs": [],
   "source": [
    "# # Tentukan parameter grid yang akan dieksplorasi\n",
    "# param_grid = {\n",
    "#     'alpha': [0.1, 0.5, 1.0, 2.0, 5.0],  # Parameter alpha untuk smoothing\n",
    "#     'fit_prior': [True, False]            # Opsional, apakah akan mempelajari probabilitas prior atau tidak\n",
    "# }\n",
    "\n",
    "# # Buat objek GridSearchCV\n",
    "# grid_search = GridSearchCV(model_naiye_tanpa_parameter, param_grid, cv=5, scoring='accuracy')\n",
    "\n",
    "# # Lakukan fitting terhadap data pelatihan\n",
    "# grid_search.fit(tfidf_train_features, y_train_encoded)\n",
    "\n",
    "# # Dapatkan parameter terbaik dan skor terbaik\n",
    "# best_params = grid_search.best_params_\n",
    "# best_score = grid_search.best_score_\n",
    "\n",
    "# print(\"Best Parameters:\", best_params)\n",
    "# print(\"Best Score:\", best_score)\n",
    "\n",
    "# # Evaluasi model dengan parameter terbaik\n",
    "# best_model = grid_search.best_estimator_\n",
    "# accuracy, f1, _, _ = train_and_evaluate(best_model, tfidf_train_features, y_train_encoded, tfidf_test_features, y_test_encoded)\n",
    "# print(\"Best Parameters:\", best_model)\n",
    "# print(\"Accuracy (Best Model):\", accuracy)\n",
    "# print(\"F1 Score (Best Model):\", f1)"
   ]
  },
  {
   "cell_type": "markdown",
   "metadata": {},
   "source": [
    "#### Pakai Paramater"
   ]
  },
  {
   "cell_type": "code",
   "execution_count": 16,
   "metadata": {},
   "outputs": [],
   "source": [
    "# Initialize Naive Bayes classifier\n",
    "model_naiye_parameter = MultinomialNB(alpha=0.1,fit_prior=True)\n",
    "\n",
    "# Train and evaluate on TF-IDF Vectorization\n",
    "tfidf_accuracy, tfidf_f1, tfidf_report, tfidf_matrix = train_and_evaluate(model_naiye_parameter, tfidf_train_features, y_train_encoded, tfidf_test_features, y_test_encoded)\n"
   ]
  },
  {
   "cell_type": "code",
   "execution_count": 17,
   "metadata": {},
   "outputs": [
    {
     "name": "stdout",
     "output_type": "stream",
     "text": [
      "TF-IDF Vectorization:\n",
      "Accuracy: 82.49%\n",
      "F1 Score: 82.36%\n",
      "Classification Report:\n",
      "               precision    recall  f1-score   support\n",
      "\n",
      "     negatif       0.84      0.80      0.82       272\n",
      "      netral       0.86      0.75      0.80       280\n",
      "     positif       0.78      0.93      0.85       276\n",
      "\n",
      "    accuracy                           0.82       828\n",
      "   macro avg       0.83      0.83      0.82       828\n",
      "weighted avg       0.83      0.82      0.82       828\n",
      "\n",
      "Confusion Matrix:\n",
      " [[217  21  34]\n",
      " [ 32 210  38]\n",
      " [  8  12 256]]\n"
     ]
    }
   ],
   "source": [
    "print(\"TF-IDF Vectorization:\")\n",
    "print(\"Accuracy: {:.2f}%\".format(tfidf_accuracy))\n",
    "print(\"F1 Score: {:.2f}%\".format(tfidf_f1))\n",
    "print(\"Classification Report:\\n\", tfidf_report)\n",
    "print(\"Confusion Matrix:\\n\", tfidf_matrix)"
   ]
  },
  {
   "cell_type": "markdown",
   "metadata": {},
   "source": [
    "### Model SVM"
   ]
  },
  {
   "cell_type": "code",
   "execution_count": 18,
   "metadata": {},
   "outputs": [],
   "source": [
    "from sklearn.svm import SVC"
   ]
  },
  {
   "cell_type": "markdown",
   "metadata": {},
   "source": [
    "#### Tanpa Paramater"
   ]
  },
  {
   "cell_type": "code",
   "execution_count": 19,
   "metadata": {},
   "outputs": [],
   "source": [
    "# Initialize Naive Bayes classifier\n",
    "svm_tanpa_parameter = SVC(kernel='linear', random_state=42)\n",
    "\n",
    "# Train and evaluate on TF-IDF Vectorization\n",
    "tfidf_accuracy, tfidf_f1, tfidf_report, tfidf_matrix = train_and_evaluate(svm_tanpa_parameter, tfidf_train_features, y_train_encoded, tfidf_test_features, y_test_encoded)\n"
   ]
  },
  {
   "cell_type": "code",
   "execution_count": 20,
   "metadata": {},
   "outputs": [
    {
     "name": "stdout",
     "output_type": "stream",
     "text": [
      "TF-IDF Vectorization:\n",
      "Accuracy: 87.92%\n",
      "F1 Score: 87.91%\n",
      "Classification Report:\n",
      "               precision    recall  f1-score   support\n",
      "\n",
      "     negatif       0.86      0.86      0.86       272\n",
      "      netral       0.89      0.86      0.87       280\n",
      "     positif       0.88      0.92      0.90       276\n",
      "\n",
      "    accuracy                           0.88       828\n",
      "   macro avg       0.88      0.88      0.88       828\n",
      "weighted avg       0.88      0.88      0.88       828\n",
      "\n",
      "Confusion Matrix:\n",
      " [[234  19  19]\n",
      " [ 25 241  14]\n",
      " [ 12  11 253]]\n"
     ]
    }
   ],
   "source": [
    "print(\"TF-IDF Vectorization:\")\n",
    "print(\"Accuracy: {:.2f}%\".format(tfidf_accuracy))\n",
    "print(\"F1 Score: {:.2f}%\".format(tfidf_f1))\n",
    "print(\"Classification Report:\\n\", tfidf_report)\n",
    "print(\"Confusion Matrix:\\n\", tfidf_matrix)"
   ]
  },
  {
   "cell_type": "code",
   "execution_count": 21,
   "metadata": {},
   "outputs": [
    {
     "data": {
      "image/png": "[encoded data removed]",
      "text/plain": [
       "<Figure size 800x600 with 2 Axes>"
      ]
     },
     "metadata": {},
     "output_type": "display_data"
    }
   ],
   "source": [
    "# Plot confusion matrix\n",
    "plot_confusion_matrix(tfidf_matrix, label_encoder.classes_)"
   ]
  },
  {
   "cell_type": "markdown",
   "metadata": {},
   "source": [
    "#### Tuning"
   ]
  },
  {
   "cell_type": "code",
   "execution_count": 22,
   "metadata": {},
   "outputs": [],
   "source": [
    "# # Tentukan parameter grid yang akan dieksplorasi\n",
    "# svm_param_grid = {\n",
    "#     'C': [0.1, 1, 10, 100],            # Parameter regulasi (cost)\n",
    "#     'kernel': ['linear', 'rbf'],       # Kernel yang digunakan\n",
    "#     'gamma': ['scale', 'auto'],        # Koefisien kernel untuk 'rbf'\n",
    "# }\n",
    "\n",
    "# # Buat objek GridSearchCV\n",
    "# svm_grid_search = GridSearchCV(svm_tanpa_parameter, svm_param_grid, cv=5, scoring='accuracy')\n",
    "\n",
    "# # Lakukan fitting terhadap data pelatihan\n",
    "# svm_grid_search.fit(tfidf_train_features, y_train_encoded)\n",
    "\n",
    "# # Dapatkan parameter terbaik dan skor terbaik\n",
    "# svm_best_params = svm_grid_search.best_params_\n",
    "# svm_best_score = svm_grid_search.best_score_\n",
    "\n",
    "# print(\"Best Parameters:\", svm_best_params)\n",
    "# print(\"Best Score:\", svm_best_score)\n",
    "\n",
    "# # Evaluasi model dengan parameter terbaik\n",
    "# svm_best_model = svm_grid_search.best_estimator_\n",
    "# svm_accuracy, svm_f1, _, _ = train_and_evaluate(svm_best_model, tfidf_train_features, y_train_encoded, tfidf_test_features, y_test_encoded)\n",
    "\n",
    "# print(\"Best Parameters:\", svm_best_model)\n",
    "# print(\"Accuracy (Best Model):\", svm_accuracy)\n",
    "# print(\"F1 Score (Best Model):\", svm_f1)"
   ]
  },
  {
   "cell_type": "markdown",
   "metadata": {},
   "source": [
    "#### Pakai Parameter"
   ]
  },
  {
   "cell_type": "code",
   "execution_count": 23,
   "metadata": {},
   "outputs": [],
   "source": [
    "# Initialize Naive Bayes classifier\n",
    "svm_parameter = SVC(C=10,gamma='scale',kernel='linear', random_state=42)\n",
    "\n",
    "# Train and evaluate on TF-IDF Vectorization\n",
    "tfidf_accuracy, tfidf_f1, tfidf_report, tfidf_matrix = train_and_evaluate(svm_parameter, tfidf_train_features, y_train_encoded, tfidf_test_features, y_test_encoded)\n"
   ]
  },
  {
   "cell_type": "code",
   "execution_count": 24,
   "metadata": {},
   "outputs": [
    {
     "name": "stdout",
     "output_type": "stream",
     "text": [
      "TF-IDF Vectorization:\n",
      "Accuracy: 88.77%\n",
      "F1 Score: 88.75%\n",
      "Classification Report:\n",
      "               precision    recall  f1-score   support\n",
      "\n",
      "     negatif       0.87      0.89      0.88       272\n",
      "      netral       0.90      0.85      0.88       280\n",
      "     positif       0.90      0.92      0.91       276\n",
      "\n",
      "    accuracy                           0.89       828\n",
      "   macro avg       0.89      0.89      0.89       828\n",
      "weighted avg       0.89      0.89      0.89       828\n",
      "\n",
      "Confusion Matrix:\n",
      " [[242  16  14]\n",
      " [ 26 239  15]\n",
      " [ 11  11 254]]\n"
     ]
    }
   ],
   "source": [
    "print(\"TF-IDF Vectorization:\")\n",
    "print(\"Accuracy: {:.2f}%\".format(tfidf_accuracy))\n",
    "print(\"F1 Score: {:.2f}%\".format(tfidf_f1))\n",
    "print(\"Classification Report:\\n\", tfidf_report)\n",
    "print(\"Confusion Matrix:\\n\", tfidf_matrix)"
   ]
  },
  {
   "cell_type": "markdown",
   "metadata": {},
   "source": [
    "### Model Logistic Regression"
   ]
  },
  {
   "cell_type": "code",
   "execution_count": 25,
   "metadata": {},
   "outputs": [],
   "source": [
    "from sklearn.linear_model import LogisticRegression\n"
   ]
  },
  {
   "cell_type": "markdown",
   "metadata": {},
   "source": [
    "#### Tanpa Paramater"
   ]
  },
  {
   "cell_type": "code",
   "execution_count": 26,
   "metadata": {},
   "outputs": [],
   "source": [
    "# Initialize Naive Bayes classifier\n",
    "lr_tanpa_parameter = LogisticRegression(random_state=42,max_iter=1000)\n",
    "\n",
    "# Train and evaluate on TF-IDF Vectorization\n",
    "tfidf_accuracy, tfidf_f1, tfidf_report, tfidf_matrix = train_and_evaluate(lr_tanpa_parameter, tfidf_train_features, y_train_encoded, tfidf_test_features, y_test_encoded)\n"
   ]
  },
  {
   "cell_type": "code",
   "execution_count": 27,
   "metadata": {},
   "outputs": [
    {
     "name": "stdout",
     "output_type": "stream",
     "text": [
      "TF-IDF Vectorization:\n",
      "Accuracy: 85.27%\n",
      "F1 Score: 85.21%\n",
      "Classification Report:\n",
      "               precision    recall  f1-score   support\n",
      "\n",
      "     negatif       0.84      0.82      0.83       272\n",
      "      netral       0.88      0.82      0.85       280\n",
      "     positif       0.84      0.92      0.88       276\n",
      "\n",
      "    accuracy                           0.85       828\n",
      "   macro avg       0.85      0.85      0.85       828\n",
      "weighted avg       0.85      0.85      0.85       828\n",
      "\n",
      "Confusion Matrix:\n",
      " [[222  20  30]\n",
      " [ 31 231  18]\n",
      " [ 10  13 253]]\n"
     ]
    }
   ],
   "source": [
    "print(\"TF-IDF Vectorization:\")\n",
    "print(\"Accuracy: {:.2f}%\".format(tfidf_accuracy))\n",
    "print(\"F1 Score: {:.2f}%\".format(tfidf_f1))\n",
    "print(\"Classification Report:\\n\", tfidf_report)\n",
    "print(\"Confusion Matrix:\\n\", tfidf_matrix)"
   ]
  },
  {
   "cell_type": "markdown",
   "metadata": {},
   "source": [
    "#### Tuning"
   ]
  },
  {
   "cell_type": "code",
   "execution_count": 28,
   "metadata": {},
   "outputs": [],
   "source": [
    "# # Tentukan parameter grid yang akan dieksplorasi\n",
    "# param_grid_logistic = {\n",
    "#     'C': [0.1, 0.5, 1.0, 2.0, 5.0],   # Invers dari kekuatan regularisasi\n",
    "#     'penalty': ['l1', 'l2'],           # Jenis regularisasi: Lasso (l1) atau Ridge (l2)\n",
    "#     'solver': ['liblinear', 'saga'],  # Algoritma solver: liblinear atau saga (cocok untuk regularisasi L1)\n",
    "#     'max_iter': [1000]        # Jumlah iterasi maksimum\n",
    "# }\n",
    "\n",
    "# # Buat objek GridSearchCV untuk Logistic Regression\n",
    "# logistic_grid_search = GridSearchCV(LogisticRegression(), param_grid_logistic, cv=5, scoring='accuracy')\n",
    "\n",
    "# # Lakukan fitting terhadap data pelatihan\n",
    "# logistic_grid_search.fit(tfidf_train_features, y_train_encoded)\n",
    "\n",
    "# # Dapatkan parameter terbaik dan skor terbaik\n",
    "# best_params_logistic = logistic_grid_search.best_params_\n",
    "# best_score_logistic = logistic_grid_search.best_score_\n",
    "\n",
    "# print(\"Best Parameters (Logistic Regression):\", best_params_logistic)\n",
    "# print(\"Best Score (Logistic Regression):\", best_score_logistic)\n",
    "\n",
    "# # Evaluasi model Logistic Regression dengan parameter terbaik\n",
    "# best_model_logistic = logistic_grid_search.best_estimator_\n",
    "# accuracy_logistic, f1_logistic, _, _ = train_and_evaluate(best_model_logistic, tfidf_train_features, y_train_encoded, tfidf_test_features, y_test_encoded)\n",
    "# print(\"Best Parameters:\", best_model_logistic)\n",
    "# print(\"Accuracy (Best Model - Logistic Regression):\", accuracy_logistic)\n",
    "# print(\"F1 Score (Best Model - Logistic Regression):\", f1_logistic)"
   ]
  },
  {
   "cell_type": "markdown",
   "metadata": {},
   "source": [
    "#### Parameter"
   ]
  },
  {
   "cell_type": "code",
   "execution_count": 29,
   "metadata": {},
   "outputs": [],
   "source": [
    "# Initialize Naive Bayes classifier\n",
    "lr_parameter = LogisticRegression(C=5.0, max_iter=1000, penalty='l1', solver='liblinear')\n",
    "\n",
    "# Train and evaluate on TF-IDF Vectorization\n",
    "tfidf_accuracy, tfidf_f1, tfidf_report, tfidf_matrix = train_and_evaluate(lr_parameter, tfidf_train_features, y_train_encoded, tfidf_test_features, y_test_encoded)\n"
   ]
  },
  {
   "cell_type": "code",
   "execution_count": 30,
   "metadata": {},
   "outputs": [
    {
     "name": "stdout",
     "output_type": "stream",
     "text": [
      "TF-IDF Vectorization:\n",
      "Accuracy: 89.73%\n",
      "F1 Score: 89.72%\n",
      "Classification Report:\n",
      "               precision    recall  f1-score   support\n",
      "\n",
      "     negatif       0.90      0.88      0.89       272\n",
      "      netral       0.89      0.88      0.88       280\n",
      "     positif       0.90      0.93      0.92       276\n",
      "\n",
      "    accuracy                           0.90       828\n",
      "   macro avg       0.90      0.90      0.90       828\n",
      "weighted avg       0.90      0.90      0.90       828\n",
      "\n",
      "Confusion Matrix:\n",
      " [[239  20  13]\n",
      " [ 19 246  15]\n",
      " [  7  11 258]]\n"
     ]
    }
   ],
   "source": [
    "print(\"TF-IDF Vectorization:\")\n",
    "print(\"Accuracy: {:.2f}%\".format(tfidf_accuracy))\n",
    "print(\"F1 Score: {:.2f}%\".format(tfidf_f1))\n",
    "print(\"Classification Report:\\n\", tfidf_report)\n",
    "print(\"Confusion Matrix:\\n\", tfidf_matrix)"
   ]
  },
  {
   "cell_type": "markdown",
   "metadata": {},
   "source": [
    "### Model Random Forest"
   ]
  },
  {
   "cell_type": "code",
   "execution_count": 31,
   "metadata": {},
   "outputs": [],
   "source": [
    "from sklearn.ensemble import RandomForestClassifier"
   ]
  },
  {
   "cell_type": "markdown",
   "metadata": {},
   "source": [
    "#### Tanpa Paramater"
   ]
  },
  {
   "cell_type": "code",
   "execution_count": 32,
   "metadata": {},
   "outputs": [],
   "source": [
    "# Initialize Naive Bayes classifier\n",
    "rfc_tanpa_parameter = RandomForestClassifier(random_state=42)\n",
    "\n",
    "# Train and evaluate on TF-IDF Vectorization\n",
    "tfidf_accuracy, tfidf_f1, tfidf_report, tfidf_matrix = train_and_evaluate(rfc_tanpa_parameter, tfidf_train_features, y_train_encoded, tfidf_test_features, y_test_encoded)\n"
   ]
  },
  {
   "cell_type": "code",
   "execution_count": 33,
   "metadata": {},
   "outputs": [
    {
     "name": "stdout",
     "output_type": "stream",
     "text": [
      "TF-IDF Vectorization:\n",
      "Accuracy: 86.59%\n",
      "F1 Score: 86.40%\n",
      "Classification Report:\n",
      "               precision    recall  f1-score   support\n",
      "\n",
      "     negatif       0.91      0.75      0.82       272\n",
      "      netral       0.84      0.95      0.90       280\n",
      "     positif       0.85      0.89      0.87       276\n",
      "\n",
      "    accuracy                           0.87       828\n",
      "   macro avg       0.87      0.86      0.86       828\n",
      "weighted avg       0.87      0.87      0.86       828\n",
      "\n",
      "Confusion Matrix:\n",
      " [[204  31  37]\n",
      " [  8 267   5]\n",
      " [ 12  18 246]]\n"
     ]
    }
   ],
   "source": [
    "print(\"TF-IDF Vectorization:\")\n",
    "print(\"Accuracy: {:.2f}%\".format(tfidf_accuracy))\n",
    "print(\"F1 Score: {:.2f}%\".format(tfidf_f1))\n",
    "print(\"Classification Report:\\n\", tfidf_report)\n",
    "print(\"Confusion Matrix:\\n\", tfidf_matrix)"
   ]
  },
  {
   "cell_type": "markdown",
   "metadata": {},
   "source": [
    "#### Tuning"
   ]
  },
  {
   "cell_type": "code",
   "execution_count": 34,
   "metadata": {},
   "outputs": [],
   "source": [
    "# # Tentukan parameter grid yang akan dieksplorasi\n",
    "# param_grid_random_forest = {\n",
    "#     'n_estimators': [50, 100, 200],      # Jumlah pohon keputusan dalam model\n",
    "#     'max_depth': [None, 10, 20, 30],      # Maksimum kedalaman setiap pohon keputusan\n",
    "#     'min_samples_split': [2, 5, 10],      # Jumlah sampel minimum yang dibutuhkan untuk membagi node internal\n",
    "#     'min_samples_leaf': [1, 2, 4]         # Jumlah sampel minimum yang dibutuhkan untuk menjadi leaf node\n",
    "# }\n",
    "\n",
    "# # Buat objek GridSearchCV untuk RandomForestClassifier\n",
    "# random_forest_grid_search = GridSearchCV(RandomForestClassifier(), param_grid_random_forest, cv=5, scoring='accuracy')\n",
    "\n",
    "# # Lakukan fitting terhadap data pelatihan\n",
    "# random_forest_grid_search.fit(tfidf_train_features, y_train_encoded)\n",
    "\n",
    "# # Dapatkan parameter terbaik dan skor terbaik\n",
    "# best_params_random_forest = random_forest_grid_search.best_params_\n",
    "# best_score_random_forest = random_forest_grid_search.best_score_\n",
    "\n",
    "# print(\"Best Parameters (Random Forest):\", best_params_random_forest)\n",
    "# print(\"Best Score (Random Forest):\", best_score_random_forest)\n",
    "\n",
    "# # Evaluasi model RandomForestClassifier dengan parameter terbaik\n",
    "# best_model_random_forest = random_forest_grid_search.best_estimator_\n",
    "# accuracy_random_forest, f1_random_forest, _, _ = train_and_evaluate(best_model_random_forest, tfidf_train_features, y_train_encoded, tfidf_test_features, y_test_encoded)\n",
    "\n",
    "# print(\"Best Parameters:\",best_model_random_forest)\n",
    "# print(\"Accuracy (Best Model - Random Forest):\", accuracy_random_forest)\n",
    "# print(\"F1 Score (Best Model - Random Forest):\", f1_random_forest)"
   ]
  },
  {
   "cell_type": "markdown",
   "metadata": {},
   "source": [
    "#### Paramater"
   ]
  },
  {
   "cell_type": "code",
   "execution_count": 35,
   "metadata": {},
   "outputs": [],
   "source": [
    "# Initialize Naive Bayes classifier\n",
    "rfc_parameter = RandomForestClassifier(min_samples_leaf=2, min_samples_split=10,n_estimators=200)\n",
    "\n",
    "# Train and evaluate on TF-IDF Vectorization\n",
    "tfidf_accuracy, tfidf_f1, tfidf_report, tfidf_matrix = train_and_evaluate(rfc_parameter, tfidf_train_features, y_train_encoded, tfidf_test_features, y_test_encoded)\n"
   ]
  },
  {
   "cell_type": "code",
   "execution_count": 36,
   "metadata": {},
   "outputs": [
    {
     "name": "stdout",
     "output_type": "stream",
     "text": [
      "TF-IDF Vectorization:\n",
      "Accuracy: 86.84%\n",
      "F1 Score: 86.68%\n",
      "Classification Report:\n",
      "               precision    recall  f1-score   support\n",
      "\n",
      "     negatif       0.90      0.76      0.82       272\n",
      "      netral       0.86      0.93      0.89       280\n",
      "     positif       0.85      0.92      0.88       276\n",
      "\n",
      "    accuracy                           0.87       828\n",
      "   macro avg       0.87      0.87      0.87       828\n",
      "weighted avg       0.87      0.87      0.87       828\n",
      "\n",
      "Confusion Matrix:\n",
      " [[207  30  35]\n",
      " [ 13 259   8]\n",
      " [ 10  13 253]]\n"
     ]
    }
   ],
   "source": [
    "print(\"TF-IDF Vectorization:\")\n",
    "print(\"Accuracy: {:.2f}%\".format(tfidf_accuracy))\n",
    "print(\"F1 Score: {:.2f}%\".format(tfidf_f1))\n",
    "print(\"Classification Report:\\n\", tfidf_report)\n",
    "print(\"Confusion Matrix:\\n\", tfidf_matrix)"
   ]
  },
  {
   "cell_type": "markdown",
   "metadata": {},
   "source": [
    "### Model Ensemble Learning"
   ]
  },
  {
   "cell_type": "code",
   "execution_count": 37,
   "metadata": {},
   "outputs": [],
   "source": [
    "# Mengambil model terbaik dari hasil tuning\n",
    "best_model_naive_bayes = model_naiye_parameter\n",
    "best_model_svm = svm_parameter\n",
    "best_model_random_forest = rfc_parameter\n",
    "best_model_logistic_regression = lr_parameter"
   ]
  },
  {
   "cell_type": "code",
   "execution_count": 38,
   "metadata": {},
   "outputs": [],
   "source": [
    "from sklearn.ensemble import VotingClassifier"
   ]
  },
  {
   "cell_type": "markdown",
   "metadata": {},
   "source": [
    "#### Model Gabungin 4 Model"
   ]
  },
  {
   "cell_type": "code",
   "execution_count": 39,
   "metadata": {},
   "outputs": [],
   "source": [
    "# Membuat model ensemble\n",
    "ensemble_model_4 = VotingClassifier(estimators=[\n",
    "    ('naive_bayes', best_model_naive_bayes),\n",
    "    ('svm', best_model_svm),\n",
    "    ('random_forest', best_model_random_forest),\n",
    "    ('logistic_regression', best_model_logistic_regression)\n",
    "], voting='hard')\n",
    "\n",
    "# Train and evaluate on TF-IDF Vectorization\n",
    "tfidf_accuracy, tfidf_f1, tfidf_report, tfidf_matrix = train_and_evaluate(ensemble_model_4, tfidf_train_features, y_train_encoded, tfidf_test_features, y_test_encoded)"
   ]
  },
  {
   "cell_type": "code",
   "execution_count": 40,
   "metadata": {},
   "outputs": [
    {
     "name": "stdout",
     "output_type": "stream",
     "text": [
      "TF-IDF Vectorization:\n",
      "Accuracy: 90.22%\n",
      "F1 Score: 90.21%\n",
      "Classification Report:\n",
      "               precision    recall  f1-score   support\n",
      "\n",
      "     negatif       0.90      0.88      0.89       272\n",
      "      netral       0.90      0.89      0.90       280\n",
      "     positif       0.91      0.93      0.92       276\n",
      "\n",
      "    accuracy                           0.90       828\n",
      "   macro avg       0.90      0.90      0.90       828\n",
      "weighted avg       0.90      0.90      0.90       828\n",
      "\n",
      "Confusion Matrix:\n",
      " [[240  16  16]\n",
      " [ 21 250   9]\n",
      " [  7  12 257]]\n"
     ]
    }
   ],
   "source": [
    "print(\"TF-IDF Vectorization:\")\n",
    "print(\"Accuracy: {:.2f}%\".format(tfidf_accuracy))\n",
    "print(\"F1 Score: {:.2f}%\".format(tfidf_f1))\n",
    "print(\"Classification Report:\\n\", tfidf_report)\n",
    "print(\"Confusion Matrix:\\n\", tfidf_matrix)"
   ]
  },
  {
   "cell_type": "markdown",
   "metadata": {},
   "source": [
    "#### Model 3 dengan Akurasi Terbaik"
   ]
  },
  {
   "cell_type": "code",
   "execution_count": 41,
   "metadata": {},
   "outputs": [],
   "source": [
    "# Membuat model ensemble\n",
    "ensemble_model_3 = VotingClassifier(estimators=[\n",
    "    ('svm', best_model_svm),\n",
    "    ('random_forest', best_model_random_forest),\n",
    "    ('logistic_regression', best_model_logistic_regression)\n",
    "], voting='hard')\n",
    "\n",
    "# Train and evaluate on TF-IDF Vectorization\n",
    "tfidf_accuracy, tfidf_f1, tfidf_report, tfidf_matrix = train_and_evaluate(ensemble_model_3, tfidf_train_features, y_train_encoded, tfidf_test_features, y_test_encoded)"
   ]
  },
  {
   "cell_type": "code",
   "execution_count": 42,
   "metadata": {},
   "outputs": [
    {
     "name": "stdout",
     "output_type": "stream",
     "text": [
      "TF-IDF Vectorization:\n",
      "Accuracy: 90.46%\n",
      "F1 Score: 90.44%\n",
      "Classification Report:\n",
      "               precision    recall  f1-score   support\n",
      "\n",
      "     negatif       0.91      0.88      0.89       272\n",
      "      netral       0.89      0.90      0.90       280\n",
      "     positif       0.91      0.94      0.92       276\n",
      "\n",
      "    accuracy                           0.90       828\n",
      "   macro avg       0.90      0.90      0.90       828\n",
      "weighted avg       0.90      0.90      0.90       828\n",
      "\n",
      "Confusion Matrix:\n",
      " [[238  19  15]\n",
      " [ 18 252  10]\n",
      " [  6  11 259]]\n"
     ]
    }
   ],
   "source": [
    "print(\"TF-IDF Vectorization:\")\n",
    "print(\"Accuracy: {:.2f}%\".format(tfidf_accuracy))\n",
    "print(\"F1 Score: {:.2f}%\".format(tfidf_f1))\n",
    "print(\"Classification Report:\\n\", tfidf_report)\n",
    "print(\"Confusion Matrix:\\n\", tfidf_matrix)"
   ]
  },
  {
   "cell_type": "markdown",
   "metadata": {},
   "source": [
    "#### Model 2 Dengan Nilai Akurasi Terbaik "
   ]
  },
  {
   "cell_type": "code",
   "execution_count": 43,
   "metadata": {},
   "outputs": [],
   "source": [
    "# Membuat model ensemble\n",
    "ensemble_model_2 = VotingClassifier(estimators=[\n",
    "    ('svm', best_model_svm),\n",
    "    ('logistic_regression', best_model_logistic_regression)\n",
    "], voting='hard')\n",
    "\n",
    "# Train and evaluate on TF-IDF Vectorization\n",
    "tfidf_accuracy, tfidf_f1, tfidf_report, tfidf_matrix = train_and_evaluate(ensemble_model_2, tfidf_train_features, y_train_encoded, tfidf_test_features, y_test_encoded)"
   ]
  },
  {
   "cell_type": "code",
   "execution_count": 44,
   "metadata": {},
   "outputs": [
    {
     "name": "stdout",
     "output_type": "stream",
     "text": [
      "TF-IDF Vectorization:\n",
      "Accuracy: 89.01%\n",
      "F1 Score: 89.04%\n",
      "Classification Report:\n",
      "               precision    recall  f1-score   support\n",
      "\n",
      "     negatif       0.84      0.92      0.88       272\n",
      "      netral       0.90      0.85      0.87       280\n",
      "     positif       0.94      0.90      0.92       276\n",
      "\n",
      "    accuracy                           0.89       828\n",
      "   macro avg       0.89      0.89      0.89       828\n",
      "weighted avg       0.89      0.89      0.89       828\n",
      "\n",
      "Confusion Matrix:\n",
      " [[251  15   6]\n",
      " [ 34 237   9]\n",
      " [ 15  12 249]]\n"
     ]
    }
   ],
   "source": [
    "print(\"TF-IDF Vectorization:\")\n",
    "print(\"Accuracy: {:.2f}%\".format(tfidf_accuracy))\n",
    "print(\"F1 Score: {:.2f}%\".format(tfidf_f1))\n",
    "print(\"Classification Report:\\n\", tfidf_report)\n",
    "print(\"Confusion Matrix:\\n\", tfidf_matrix)"
   ]
  },
  {
   "cell_type": "code",
   "execution_count": null,
   "metadata": {},
   "outputs": [],
   "source": []
  }
 ],
 "metadata": {
  "kernelspec": {
   "display_name": "env",
   "language": "python",
   "name": "python3"
  },
  "language_info": {
   "codemirror_mode": {
    "name": "ipython",
    "version": 3
   },
   "file_extension": ".py",
   "mimetype": "text/x-python",
   "name": "python",
   "nbconvert_exporter": "python",
   "pygments_lexer": "ipython3",
   "version": "3.11.5"
  }
 },
 "nbformat": 4,
 "nbformat_minor": 2
}
