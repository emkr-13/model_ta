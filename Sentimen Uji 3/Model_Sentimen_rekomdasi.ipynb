{
 "cells": [
  {
   "cell_type": "markdown",
   "metadata": {},
   "source": [
    "# Model Rekomondasi"
   ]
  },
  {
   "cell_type": "markdown",
   "metadata": {},
   "source": [
    "### Persiapaan Data"
   ]
  },
  {
   "cell_type": "code",
   "execution_count": 1,
   "metadata": {},
   "outputs": [],
   "source": [
    "import pandas as pd\n",
    "from sklearn.model_selection import train_test_split\n",
    "from sklearn.feature_extraction.text import TfidfVectorizer, CountVectorizer\n",
    "from sklearn.preprocessing import LabelEncoder\n",
    "from scipy.sparse import hstack\n"
   ]
  },
  {
   "cell_type": "code",
   "execution_count": 2,
   "metadata": {},
   "outputs": [],
   "source": [
    "def prepare_datasets(corpus, labels, test_data_proportion=0.3, random_state=42):\n",
    "    train_X, test_X, train_Y, test_Y = train_test_split(corpus, labels,\n",
    "                                                        test_size=test_data_proportion,\n",
    "                                                        random_state=random_state)\n",
    "    return train_X, test_X, train_Y, test_Y\n",
    "    \n",
    "def tfidf_extractor(corpus, ngram_range=(1,2)):\n",
    "    vectorizer = TfidfVectorizer(min_df=1,\n",
    "                                norm='l2',\n",
    "                                smooth_idf=True,\n",
    "                                use_idf=True,\n",
    "                                ngram_range=ngram_range)\n",
    "    features = vectorizer.fit_transform(corpus)\n",
    "    return vectorizer, features\n",
    "\n",
    "def bow_extractor(corpus, ngram_range=(1,1)):\n",
    "    vectorizer = CountVectorizer(min_df=1, ngram_range=ngram_range)\n",
    "    features = vectorizer.fit_transform(corpus)\n",
    "    return vectorizer, features"
   ]
  },
  {
   "cell_type": "code",
   "execution_count": 3,
   "metadata": {},
   "outputs": [
    {
     "data": {
      "text/html": [
       "<div>\n",
       "<style scoped>\n",
       "    .dataframe tbody tr th:only-of-type {\n",
       "        vertical-align: middle;\n",
       "    }\n",
       "\n",
       "    .dataframe tbody tr th {\n",
       "        vertical-align: top;\n",
       "    }\n",
       "\n",
       "    .dataframe thead th {\n",
       "        text-align: right;\n",
       "    }\n",
       "</style>\n",
       "<table border=\"1\" class=\"dataframe\">\n",
       "  <thead>\n",
       "    <tr style=\"text-align: right;\">\n",
       "      <th></th>\n",
       "      <th>content</th>\n",
       "      <th>sentimen</th>\n",
       "    </tr>\n",
       "  </thead>\n",
       "  <tbody>\n",
       "    <tr>\n",
       "      <th>0</th>\n",
       "      <td>bogor keluarga fw 22 perempuan dibunuh pacarny...</td>\n",
       "      <td>negatif</td>\n",
       "    </tr>\n",
       "    <tr>\n",
       "      <th>1</th>\n",
       "      <td>khoiri 52 warga dusun blimbing desa parerejo k...</td>\n",
       "      <td>negatif</td>\n",
       "    </tr>\n",
       "    <tr>\n",
       "      <th>2</th>\n",
       "      <td>polisi menangkap andrea cw inggris chansler am...</td>\n",
       "      <td>negatif</td>\n",
       "    </tr>\n",
       "    <tr>\n",
       "      <th>3</th>\n",
       "      <td>wakil ketua umum pan yandri susanto capres ani...</td>\n",
       "      <td>negatif</td>\n",
       "    </tr>\n",
       "    <tr>\n",
       "      <th>4</th>\n",
       "      <td>pria medan satria kota bekasi terluka lehernya...</td>\n",
       "      <td>negatif</td>\n",
       "    </tr>\n",
       "    <tr>\n",
       "      <th>5</th>\n",
       "      <td>kpu ri menilai surat suara taipei taiwan surat...</td>\n",
       "      <td>negatif</td>\n",
       "    </tr>\n",
       "    <tr>\n",
       "      <th>6</th>\n",
       "      <td>jet jet tempur israel melancarkan serangan uda...</td>\n",
       "      <td>negatif</td>\n",
       "    </tr>\n",
       "    <tr>\n",
       "      <th>7</th>\n",
       "      <td>rumah milik mf 16 remaja diduga mencekik bocah...</td>\n",
       "      <td>negatif</td>\n",
       "    </tr>\n",
       "    <tr>\n",
       "      <th>8</th>\n",
       "      <td>calon presiden ganjar pranowo relawannya ikuta...</td>\n",
       "      <td>negatif</td>\n",
       "    </tr>\n",
       "    <tr>\n",
       "      <th>9</th>\n",
       "      <td>calon wakil presiden cawapres nomor urut 1 muh...</td>\n",
       "      <td>negatif</td>\n",
       "    </tr>\n",
       "  </tbody>\n",
       "</table>\n",
       "</div>"
      ],
      "text/plain": [
       "                                             content sentimen\n",
       "0  bogor keluarga fw 22 perempuan dibunuh pacarny...  negatif\n",
       "1  khoiri 52 warga dusun blimbing desa parerejo k...  negatif\n",
       "2  polisi menangkap andrea cw inggris chansler am...  negatif\n",
       "3  wakil ketua umum pan yandri susanto capres ani...  negatif\n",
       "4  pria medan satria kota bekasi terluka lehernya...  negatif\n",
       "5  kpu ri menilai surat suara taipei taiwan surat...  negatif\n",
       "6  jet jet tempur israel melancarkan serangan uda...  negatif\n",
       "7  rumah milik mf 16 remaja diduga mencekik bocah...  negatif\n",
       "8  calon presiden ganjar pranowo relawannya ikuta...  negatif\n",
       "9  calon wakil presiden cawapres nomor urut 1 muh...  negatif"
      ]
     },
     "execution_count": 3,
     "metadata": {},
     "output_type": "execute_result"
    }
   ],
   "source": [
    "df = pd.read_csv('sentiment_5400.csv')\n",
    "df.head(10)"
   ]
  },
  {
   "cell_type": "code",
   "execution_count": 4,
   "metadata": {},
   "outputs": [],
   "source": [
    "# Split data\n",
    "x_train, x_test, y_train, y_test = prepare_datasets(df['content'], df['sentimen'], test_data_proportion=0.3)\n"
   ]
  },
  {
   "cell_type": "code",
   "execution_count": 5,
   "metadata": {},
   "outputs": [],
   "source": [
    "# Convert text labels to numerical labels\n",
    "label_encoder = LabelEncoder()\n",
    "y_train_encoded = label_encoder.fit_transform(y_train)\n",
    "y_test_encoded = label_encoder.transform(y_test)\n",
    "\n",
    "# Ensure the lengths match after splitting\n",
    "y_train_encoded = y_train_encoded[:len(x_train)]\n",
    "y_test_encoded = y_test_encoded[:len(x_test)]\n"
   ]
  },
  {
   "cell_type": "code",
   "execution_count": 6,
   "metadata": {},
   "outputs": [],
   "source": [
    "# TF-IDF Vectorization\n",
    "tfidf_vectorizer, tfidf_train_features = tfidf_extractor(x_train)\n",
    "tfidf_test_features = tfidf_vectorizer.transform(x_test)\n",
    "\n",
    "# Bag of Words (BoW) features\n",
    "count_vectorizer, count_train_features = bow_extractor(x_train)\n",
    "count_test_features = count_vectorizer.transform(x_test)\n",
    "\n",
    "# Combine TF-IDF and BoW features\n",
    "combined_train_features = hstack([tfidf_train_features, count_train_features])\n",
    "combined_test_features = hstack([tfidf_test_features, count_test_features])"
   ]
  },
  {
   "cell_type": "code",
   "execution_count": 7,
   "metadata": {},
   "outputs": [
    {
     "name": "stdout",
     "output_type": "stream",
     "text": [
      "Jumlah fitur TF-IDF: 245316\n",
      "Jumlah fitur Bag of Words: 26266\n",
      "Jumlah fitur gabungan: 271582\n"
     ]
    }
   ],
   "source": [
    "# TF-IDF Features\n",
    "print(\"Jumlah fitur TF-IDF:\", tfidf_train_features.shape[1])\n",
    "\n",
    "# Bag of Words (BoW) Features\n",
    "print(\"Jumlah fitur Bag of Words:\", count_train_features.shape[1])\n",
    "\n",
    "# Combined Features\n",
    "print(\"Jumlah fitur gabungan:\", combined_train_features.shape[1])"
   ]
  },
  {
   "cell_type": "markdown",
   "metadata": {},
   "source": [
    "### Model Naiye Bayes"
   ]
  },
  {
   "cell_type": "code",
   "execution_count": 8,
   "metadata": {},
   "outputs": [],
   "source": [
    "from sklearn.metrics import accuracy_score, f1_score, classification_report, confusion_matrix\n",
    "from sklearn.naive_bayes import MultinomialNB\n",
    "from sklearn.model_selection import GridSearchCV\n",
    "import matplotlib.pyplot as plt\n",
    "import seaborn as sns"
   ]
  },
  {
   "cell_type": "code",
   "execution_count": 9,
   "metadata": {},
   "outputs": [],
   "source": [
    "# Define function to train and evaluate Naive Bayes classifier\n",
    "def train_and_evaluate(classifier, train_features, train_labels, test_features, test_labels):\n",
    "    # Train the classifier\n",
    "    classifier.fit(train_features, train_labels)\n",
    "    \n",
    "    # Predictions\n",
    "    predictions = classifier.predict(test_features)\n",
    "    \n",
    "    # Calculate accuracy\n",
    "    accuracy = accuracy_score(test_labels, predictions)\n",
    "    \n",
    "    # Calculate F1 score\n",
    "    f1 = f1_score(test_labels, predictions, average='weighted')\n",
    "    \n",
    "    # Classification report\n",
    "    report = classification_report(test_labels, predictions, target_names=label_encoder.classes_)\n",
    "    \n",
    "    # Confusion matrix\n",
    "    matrix = confusion_matrix(test_labels, predictions)\n",
    "    \n",
    "    return accuracy * 100, f1 * 100, report, matrix"
   ]
  },
  {
   "cell_type": "code",
   "execution_count": 10,
   "metadata": {},
   "outputs": [],
   "source": [
    "# Function to plot confusion matrix\n",
    "def plot_confusion_matrix(matrix, labels):\n",
    "    plt.figure(figsize=(8, 6))\n",
    "    sns.heatmap(matrix, annot=True, fmt=\"d\", cmap=\"Blues\", xticklabels=labels, yticklabels=labels)\n",
    "    plt.xlabel('Predicted Labels')\n",
    "    plt.ylabel('True Labels')\n",
    "    plt.title('Confusion Matrix')\n",
    "    plt.show()"
   ]
  },
  {
   "cell_type": "markdown",
   "metadata": {},
   "source": [
    "#### Tanpa Parameter"
   ]
  },
  {
   "cell_type": "code",
   "execution_count": 11,
   "metadata": {},
   "outputs": [],
   "source": [
    "# Initialize Naive Bayes classifier\n",
    "model_naiye_tanpa_parameter = MultinomialNB()\n",
    "\n",
    "# Train and evaluate on TF-IDF Vectorization\n",
    "tfidf_accuracy, tfidf_f1, tfidf_report, tfidf_matrix = train_and_evaluate(model_naiye_tanpa_parameter, tfidf_train_features, y_train_encoded, tfidf_test_features, y_test_encoded)\n"
   ]
  },
  {
   "cell_type": "code",
   "execution_count": 14,
   "metadata": {},
   "outputs": [
    {
     "name": "stdout",
     "output_type": "stream",
     "text": [
      "TF-IDF Vectorization:\n",
      "Accuracy: 77.96%\n",
      "F1 Score: 77.72%\n",
      "Classification Report:\n",
      "               precision    recall  f1-score   support\n",
      "\n",
      "     negatif       0.81      0.70      0.75       575\n",
      "      netral       0.82      0.72      0.77       508\n",
      "     positif       0.73      0.92      0.82       537\n",
      "\n",
      "    accuracy                           0.78      1620\n",
      "   macro avg       0.79      0.78      0.78      1620\n",
      "weighted avg       0.79      0.78      0.78      1620\n",
      "\n",
      "Confusion Matrix:\n",
      " [[401  58 116]\n",
      " [ 76 368  64]\n",
      " [ 21  22 494]]\n"
     ]
    }
   ],
   "source": [
    "print(\"TF-IDF Vectorization:\")\n",
    "print(\"Accuracy: {:.2f}%\".format(tfidf_accuracy))\n",
    "print(\"F1 Score: {:.2f}%\".format(tfidf_f1))\n",
    "print(\"Classification Report:\\n\", tfidf_report)\n",
    "print(\"Confusion Matrix:\\n\", tfidf_matrix)"
   ]
  },
  {
   "cell_type": "code",
   "execution_count": 15,
   "metadata": {},
   "outputs": [
    {
     "data": {
      "image/png": "[encoded data removed]",
      "text/plain": [
       "<Figure size 800x600 with 2 Axes>"
      ]
     },
     "metadata": {},
     "output_type": "display_data"
    }
   ],
   "source": [
    "# Plot confusion matrix\n",
    "plot_confusion_matrix(tfidf_matrix, label_encoder.classes_)"
   ]
  },
  {
   "cell_type": "code",
   "execution_count": 18,
   "metadata": {},
   "outputs": [
    {
     "name": "stdout",
     "output_type": "stream",
     "text": [
      "Hasil Prediksi: ['netral']\n"
     ]
    }
   ],
   "source": [
    "test = ('Jeka Saragih On Fire Menatap Debut di UFC')\n",
    "line = tfidf_vectorizer.transform([test])\n",
    "line.shape\n",
    "test_result = model_naiye_tanpa_parameter.predict(line)\n",
    "predicted_label = label_encoder.inverse_transform(test_result)\n",
    "print(\"Hasil Prediksi:\", predicted_label)"
   ]
  },
  {
   "cell_type": "markdown",
   "metadata": {},
   "source": [
    "#### Tuning"
   ]
  },
  {
   "cell_type": "code",
   "execution_count": 16,
   "metadata": {},
   "outputs": [
    {
     "name": "stdout",
     "output_type": "stream",
     "text": [
      "Best Parameters: {'alpha': 0.1, 'fit_prior': True}\n",
      "Best Score: 0.7984126984126985\n",
      "Best Parameters: MultinomialNB(alpha=0.1)\n",
      "Accuracy (Best Model): 79.75308641975309\n",
      "F1 Score (Best Model): 79.59697593897329\n"
     ]
    }
   ],
   "source": [
    "# # Tentukan parameter grid yang akan dieksplorasi\n",
    "# param_grid = {\n",
    "#     'alpha': [0.1, 0.5, 1.0, 2.0, 5.0],  # Parameter alpha untuk smoothing\n",
    "#     'fit_prior': [True, False]            # Opsional, apakah akan mempelajari probabilitas prior atau tidak\n",
    "# }\n",
    "\n",
    "# # Buat objek GridSearchCV\n",
    "# grid_search = GridSearchCV(model_naiye_tanpa_parameter, param_grid, cv=5, scoring='accuracy')\n",
    "\n",
    "# # Lakukan fitting terhadap data pelatihan\n",
    "# grid_search.fit(tfidf_train_features, y_train_encoded)\n",
    "\n",
    "# # Dapatkan parameter terbaik dan skor terbaik\n",
    "# best_params = grid_search.best_params_\n",
    "# best_score = grid_search.best_score_\n",
    "\n",
    "# print(\"Best Parameters:\", best_params)\n",
    "# print(\"Best Score:\", best_score)\n",
    "\n",
    "# # Evaluasi model dengan parameter terbaik\n",
    "# best_model = grid_search.best_estimator_\n",
    "# accuracy, f1, _, _ = train_and_evaluate(best_model, tfidf_train_features, y_train_encoded, tfidf_test_features, y_test_encoded)\n",
    "# print(\"Best Parameters:\", best_model)\n",
    "# print(\"Accuracy (Best Model):\", accuracy)\n",
    "# print(\"F1 Score (Best Model):\", f1)"
   ]
  },
  {
   "cell_type": "markdown",
   "metadata": {},
   "source": [
    "#### Pakai Paramater"
   ]
  },
  {
   "cell_type": "code",
   "execution_count": 20,
   "metadata": {},
   "outputs": [],
   "source": [
    "# Initialize Naive Bayes classifier\n",
    "model_naiye_parameter = MultinomialNB(alpha=0.1,fit_prior=True)\n",
    "\n",
    "# Train and evaluate on TF-IDF Vectorization\n",
    "tfidf_accuracy, tfidf_f1, tfidf_report, tfidf_matrix = train_and_evaluate(model_naiye_parameter, tfidf_train_features, y_train_encoded, tfidf_test_features, y_test_encoded)\n"
   ]
  },
  {
   "cell_type": "code",
   "execution_count": 21,
   "metadata": {},
   "outputs": [
    {
     "name": "stdout",
     "output_type": "stream",
     "text": [
      "TF-IDF Vectorization:\n",
      "Accuracy: 79.75%\n",
      "F1 Score: 79.60%\n",
      "Classification Report:\n",
      "               precision    recall  f1-score   support\n",
      "\n",
      "     negatif       0.82      0.74      0.78       575\n",
      "      netral       0.83      0.74      0.78       508\n",
      "     positif       0.76      0.91      0.83       537\n",
      "\n",
      "    accuracy                           0.80      1620\n",
      "   macro avg       0.80      0.80      0.80      1620\n",
      "weighted avg       0.80      0.80      0.80      1620\n",
      "\n",
      "Confusion Matrix:\n",
      " [[426  54  95]\n",
      " [ 70 377  61]\n",
      " [ 25  23 489]]\n"
     ]
    }
   ],
   "source": [
    "print(\"TF-IDF Vectorization:\")\n",
    "print(\"Accuracy: {:.2f}%\".format(tfidf_accuracy))\n",
    "print(\"F1 Score: {:.2f}%\".format(tfidf_f1))\n",
    "print(\"Classification Report:\\n\", tfidf_report)\n",
    "print(\"Confusion Matrix:\\n\", tfidf_matrix)"
   ]
  },
  {
   "cell_type": "markdown",
   "metadata": {},
   "source": [
    "### Model SVM"
   ]
  },
  {
   "cell_type": "code",
   "execution_count": 23,
   "metadata": {},
   "outputs": [],
   "source": [
    "from sklearn.svm import SVC"
   ]
  },
  {
   "cell_type": "markdown",
   "metadata": {},
   "source": [
    "#### Tanpa Paramater"
   ]
  },
  {
   "cell_type": "code",
   "execution_count": 24,
   "metadata": {},
   "outputs": [],
   "source": [
    "# Initialize Naive Bayes classifier\n",
    "svm_tanpa_parameter = SVC(kernel='linear', random_state=42)\n",
    "\n",
    "# Train and evaluate on TF-IDF Vectorization\n",
    "tfidf_accuracy, tfidf_f1, tfidf_report, tfidf_matrix = train_and_evaluate(svm_tanpa_parameter, tfidf_train_features, y_train_encoded, tfidf_test_features, y_test_encoded)\n"
   ]
  },
  {
   "cell_type": "code",
   "execution_count": 25,
   "metadata": {},
   "outputs": [
    {
     "name": "stdout",
     "output_type": "stream",
     "text": [
      "TF-IDF Vectorization:\n",
      "Accuracy: 87.16%\n",
      "F1 Score: 87.13%\n",
      "Classification Report:\n",
      "               precision    recall  f1-score   support\n",
      "\n",
      "     negatif       0.86      0.85      0.85       575\n",
      "      netral       0.89      0.84      0.86       508\n",
      "     positif       0.87      0.93      0.90       537\n",
      "\n",
      "    accuracy                           0.87      1620\n",
      "   macro avg       0.87      0.87      0.87      1620\n",
      "weighted avg       0.87      0.87      0.87      1620\n",
      "\n",
      "Confusion Matrix:\n",
      " [[489  34  52]\n",
      " [ 59 426  23]\n",
      " [ 23  17 497]]\n"
     ]
    }
   ],
   "source": [
    "print(\"TF-IDF Vectorization:\")\n",
    "print(\"Accuracy: {:.2f}%\".format(tfidf_accuracy))\n",
    "print(\"F1 Score: {:.2f}%\".format(tfidf_f1))\n",
    "print(\"Classification Report:\\n\", tfidf_report)\n",
    "print(\"Confusion Matrix:\\n\", tfidf_matrix)"
   ]
  },
  {
   "cell_type": "code",
   "execution_count": 26,
   "metadata": {},
   "outputs": [
    {
     "data": {
      "image/png": "[encoded data removed]",
      "text/plain": [
       "<Figure size 800x600 with 2 Axes>"
      ]
     },
     "metadata": {},
     "output_type": "display_data"
    }
   ],
   "source": [
    "# Plot confusion matrix\n",
    "plot_confusion_matrix(tfidf_matrix, label_encoder.classes_)"
   ]
  },
  {
   "cell_type": "markdown",
   "metadata": {},
   "source": [
    "#### Tuning"
   ]
  },
  {
   "cell_type": "code",
   "execution_count": 27,
   "metadata": {},
   "outputs": [
    {
     "name": "stdout",
     "output_type": "stream",
     "text": [
      "Best Parameters: {'C': 10, 'gamma': 'scale', 'kernel': 'linear'}\n",
      "Best Score: 0.8661375661375661\n",
      "Best Parameters: SVC(C=10, kernel='linear', random_state=42)\n",
      "Accuracy (Best Model): 87.4074074074074\n",
      "F1 Score (Best Model): 87.37759517771214\n"
     ]
    }
   ],
   "source": [
    "# # Tentukan parameter grid yang akan dieksplorasi\n",
    "# svm_param_grid = {\n",
    "#     'C': [0.1, 1, 10, 100],            # Parameter regulasi (cost)\n",
    "#     'kernel': ['linear', 'rbf'],       # Kernel yang digunakan\n",
    "#     'gamma': ['scale', 'auto'],        # Koefisien kernel untuk 'rbf'\n",
    "# }\n",
    "\n",
    "# # Buat objek GridSearchCV\n",
    "# svm_grid_search = GridSearchCV(svm_tanpa_parameter, svm_param_grid, cv=5, scoring='accuracy')\n",
    "\n",
    "# # Lakukan fitting terhadap data pelatihan\n",
    "# svm_grid_search.fit(tfidf_train_features, y_train_encoded)\n",
    "\n",
    "# # Dapatkan parameter terbaik dan skor terbaik\n",
    "# svm_best_params = svm_grid_search.best_params_\n",
    "# svm_best_score = svm_grid_search.best_score_\n",
    "\n",
    "# print(\"Best Parameters:\", svm_best_params)\n",
    "# print(\"Best Score:\", svm_best_score)\n",
    "\n",
    "# # Evaluasi model dengan parameter terbaik\n",
    "# svm_best_model = svm_grid_search.best_estimator_\n",
    "# svm_accuracy, svm_f1, _, _ = train_and_evaluate(svm_best_model, tfidf_train_features, y_train_encoded, tfidf_test_features, y_test_encoded)\n",
    "\n",
    "# print(\"Best Parameters:\", svm_best_model)\n",
    "# print(\"Accuracy (Best Model):\", svm_accuracy)\n",
    "# print(\"F1 Score (Best Model):\", svm_f1)"
   ]
  },
  {
   "cell_type": "markdown",
   "metadata": {},
   "source": [
    "#### Pakai Parameter"
   ]
  },
  {
   "cell_type": "code",
   "execution_count": 28,
   "metadata": {},
   "outputs": [],
   "source": [
    "# Initialize Naive Bayes classifier\n",
    "svm_parameter = SVC(C=10,gamma='scale',kernel='linear', random_state=42)\n",
    "\n",
    "# Train and evaluate on TF-IDF Vectorization\n",
    "tfidf_accuracy, tfidf_f1, tfidf_report, tfidf_matrix = train_and_evaluate(svm_parameter, tfidf_train_features, y_train_encoded, tfidf_test_features, y_test_encoded)\n"
   ]
  },
  {
   "cell_type": "code",
   "execution_count": 29,
   "metadata": {},
   "outputs": [
    {
     "name": "stdout",
     "output_type": "stream",
     "text": [
      "TF-IDF Vectorization:\n",
      "Accuracy: 87.41%\n",
      "F1 Score: 87.38%\n",
      "Classification Report:\n",
      "               precision    recall  f1-score   support\n",
      "\n",
      "     negatif       0.86      0.86      0.86       575\n",
      "      netral       0.90      0.84      0.87       508\n",
      "     positif       0.87      0.92      0.89       537\n",
      "\n",
      "    accuracy                           0.87      1620\n",
      "   macro avg       0.88      0.87      0.87      1620\n",
      "weighted avg       0.87      0.87      0.87      1620\n",
      "\n",
      "Confusion Matrix:\n",
      " [[492  33  50]\n",
      " [ 54 428  26]\n",
      " [ 24  17 496]]\n"
     ]
    }
   ],
   "source": [
    "print(\"TF-IDF Vectorization:\")\n",
    "print(\"Accuracy: {:.2f}%\".format(tfidf_accuracy))\n",
    "print(\"F1 Score: {:.2f}%\".format(tfidf_f1))\n",
    "print(\"Classification Report:\\n\", tfidf_report)\n",
    "print(\"Confusion Matrix:\\n\", tfidf_matrix)"
   ]
  },
  {
   "cell_type": "markdown",
   "metadata": {},
   "source": [
    "### Model Logistic Regression"
   ]
  },
  {
   "cell_type": "code",
   "execution_count": 30,
   "metadata": {},
   "outputs": [],
   "source": [
    "from sklearn.linear_model import LogisticRegression\n"
   ]
  },
  {
   "cell_type": "markdown",
   "metadata": {},
   "source": [
    "#### Tanpa Paramater"
   ]
  },
  {
   "cell_type": "code",
   "execution_count": 31,
   "metadata": {},
   "outputs": [],
   "source": [
    "# Initialize Naive Bayes classifier\n",
    "lr_tanpa_parameter = LogisticRegression(random_state=42,max_iter=1000)\n",
    "\n",
    "# Train and evaluate on TF-IDF Vectorization\n",
    "tfidf_accuracy, tfidf_f1, tfidf_report, tfidf_matrix = train_and_evaluate(lr_tanpa_parameter, tfidf_train_features, y_train_encoded, tfidf_test_features, y_test_encoded)\n"
   ]
  },
  {
   "cell_type": "code",
   "execution_count": 33,
   "metadata": {},
   "outputs": [
    {
     "name": "stdout",
     "output_type": "stream",
     "text": [
      "TF-IDF Vectorization:\n",
      "Accuracy: 83.33%\n",
      "F1 Score: 83.24%\n",
      "Classification Report:\n",
      "               precision    recall  f1-score   support\n",
      "\n",
      "     negatif       0.82      0.79      0.80       575\n",
      "      netral       0.88      0.79      0.83       508\n",
      "     positif       0.81      0.92      0.86       537\n",
      "\n",
      "    accuracy                           0.83      1620\n",
      "   macro avg       0.84      0.83      0.83      1620\n",
      "weighted avg       0.84      0.83      0.83      1620\n",
      "\n",
      "Confusion Matrix:\n",
      " [[453  39  83]\n",
      " [ 76 401  31]\n",
      " [ 23  18 496]]\n"
     ]
    }
   ],
   "source": [
    "print(\"TF-IDF Vectorization:\")\n",
    "print(\"Accuracy: {:.2f}%\".format(tfidf_accuracy))\n",
    "print(\"F1 Score: {:.2f}%\".format(tfidf_f1))\n",
    "print(\"Classification Report:\\n\", tfidf_report)\n",
    "print(\"Confusion Matrix:\\n\", tfidf_matrix)"
   ]
  },
  {
   "cell_type": "markdown",
   "metadata": {},
   "source": [
    "#### Tuning"
   ]
  },
  {
   "cell_type": "code",
   "execution_count": 34,
   "metadata": {},
   "outputs": [
    {
     "name": "stderr",
     "output_type": "stream",
     "text": [
      "/home/krisna/ProjectTA/model_ta/env/lib/python3.11/site-packages/sklearn/linear_model/_sag.py:350: ConvergenceWarning: The max_iter was reached which means the coef_ did not converge\n",
      "  warnings.warn(\n",
      "/home/krisna/ProjectTA/model_ta/env/lib/python3.11/site-packages/sklearn/linear_model/_sag.py:350: ConvergenceWarning: The max_iter was reached which means the coef_ did not converge\n",
      "  warnings.warn(\n",
      "/home/krisna/ProjectTA/model_ta/env/lib/python3.11/site-packages/sklearn/linear_model/_sag.py:350: ConvergenceWarning: The max_iter was reached which means the coef_ did not converge\n",
      "  warnings.warn(\n"
     ]
    },
    {
     "name": "stdout",
     "output_type": "stream",
     "text": [
      "Best Parameters (Logistic Regression): {'C': 5.0, 'max_iter': 1000, 'penalty': 'l1', 'solver': 'liblinear'}\n",
      "Best Score (Logistic Regression): 0.8513227513227513\n",
      "Best Parameters: LogisticRegression(C=5.0, max_iter=1000, penalty='l1', solver='liblinear')\n",
      "Accuracy (Best Model - Logistic Regression): 86.72839506172839\n",
      "F1 Score (Best Model - Logistic Regression): 86.69678513829533\n"
     ]
    }
   ],
   "source": [
    "# # Tentukan parameter grid yang akan dieksplorasi\n",
    "# param_grid_logistic = {\n",
    "#     'C': [0.1, 0.5, 1.0, 2.0, 5.0],   # Invers dari kekuatan regularisasi\n",
    "#     'penalty': ['l1', 'l2'],           # Jenis regularisasi: Lasso (l1) atau Ridge (l2)\n",
    "#     'solver': ['liblinear', 'saga'],  # Algoritma solver: liblinear atau saga (cocok untuk regularisasi L1)\n",
    "#     'max_iter': [1000]        # Jumlah iterasi maksimum\n",
    "# }\n",
    "\n",
    "# # Buat objek GridSearchCV untuk Logistic Regression\n",
    "# logistic_grid_search = GridSearchCV(LogisticRegression(), param_grid_logistic, cv=5, scoring='accuracy')\n",
    "\n",
    "# # Lakukan fitting terhadap data pelatihan\n",
    "# logistic_grid_search.fit(tfidf_train_features, y_train_encoded)\n",
    "\n",
    "# # Dapatkan parameter terbaik dan skor terbaik\n",
    "# best_params_logistic = logistic_grid_search.best_params_\n",
    "# best_score_logistic = logistic_grid_search.best_score_\n",
    "\n",
    "# print(\"Best Parameters (Logistic Regression):\", best_params_logistic)\n",
    "# print(\"Best Score (Logistic Regression):\", best_score_logistic)\n",
    "\n",
    "# # Evaluasi model Logistic Regression dengan parameter terbaik\n",
    "# best_model_logistic = logistic_grid_search.best_estimator_\n",
    "# accuracy_logistic, f1_logistic, _, _ = train_and_evaluate(best_model_logistic, tfidf_train_features, y_train_encoded, tfidf_test_features, y_test_encoded)\n",
    "# print(\"Best Parameters:\", best_model_logistic)\n",
    "# print(\"Accuracy (Best Model - Logistic Regression):\", accuracy_logistic)\n",
    "# print(\"F1 Score (Best Model - Logistic Regression):\", f1_logistic)"
   ]
  },
  {
   "cell_type": "markdown",
   "metadata": {},
   "source": [
    "#### Parameter"
   ]
  },
  {
   "cell_type": "code",
   "execution_count": 35,
   "metadata": {},
   "outputs": [],
   "source": [
    "# Initialize Naive Bayes classifier\n",
    "lr_parameter = LogisticRegression(C=5.0, max_iter=1000, penalty='l1', solver='liblinear')\n",
    "\n",
    "# Train and evaluate on TF-IDF Vectorization\n",
    "tfidf_accuracy, tfidf_f1, tfidf_report, tfidf_matrix = train_and_evaluate(lr_parameter, tfidf_train_features, y_train_encoded, tfidf_test_features, y_test_encoded)\n"
   ]
  },
  {
   "cell_type": "code",
   "execution_count": 36,
   "metadata": {},
   "outputs": [
    {
     "name": "stdout",
     "output_type": "stream",
     "text": [
      "TF-IDF Vectorization:\n",
      "Accuracy: 86.73%\n",
      "F1 Score: 86.70%\n",
      "Classification Report:\n",
      "               precision    recall  f1-score   support\n",
      "\n",
      "     negatif       0.86      0.85      0.85       575\n",
      "      netral       0.88      0.83      0.86       508\n",
      "     positif       0.86      0.92      0.89       537\n",
      "\n",
      "    accuracy                           0.87      1620\n",
      "   macro avg       0.87      0.87      0.87      1620\n",
      "weighted avg       0.87      0.87      0.87      1620\n",
      "\n",
      "Confusion Matrix:\n",
      " [[489  37  49]\n",
      " [ 56 424  28]\n",
      " [ 26  19 492]]\n"
     ]
    }
   ],
   "source": [
    "print(\"TF-IDF Vectorization:\")\n",
    "print(\"Accuracy: {:.2f}%\".format(tfidf_accuracy))\n",
    "print(\"F1 Score: {:.2f}%\".format(tfidf_f1))\n",
    "print(\"Classification Report:\\n\", tfidf_report)\n",
    "print(\"Confusion Matrix:\\n\", tfidf_matrix)"
   ]
  },
  {
   "cell_type": "markdown",
   "metadata": {},
   "source": [
    "### Model Random Forest"
   ]
  },
  {
   "cell_type": "code",
   "execution_count": 37,
   "metadata": {},
   "outputs": [],
   "source": [
    "from sklearn.ensemble import RandomForestClassifier"
   ]
  },
  {
   "cell_type": "markdown",
   "metadata": {},
   "source": [
    "#### Tanpa Paramater"
   ]
  },
  {
   "cell_type": "code",
   "execution_count": 38,
   "metadata": {},
   "outputs": [],
   "source": [
    "# Initialize Naive Bayes classifier\n",
    "rfc_tanpa_parameter = RandomForestClassifier(random_state=42)\n",
    "\n",
    "# Train and evaluate on TF-IDF Vectorization\n",
    "tfidf_accuracy, tfidf_f1, tfidf_report, tfidf_matrix = train_and_evaluate(rfc_tanpa_parameter, tfidf_train_features, y_train_encoded, tfidf_test_features, y_test_encoded)\n"
   ]
  },
  {
   "cell_type": "code",
   "execution_count": 39,
   "metadata": {},
   "outputs": [
    {
     "name": "stdout",
     "output_type": "stream",
     "text": [
      "TF-IDF Vectorization:\n",
      "Accuracy: 82.96%\n",
      "F1 Score: 82.67%\n",
      "Classification Report:\n",
      "               precision    recall  f1-score   support\n",
      "\n",
      "     negatif       0.89      0.69      0.78       575\n",
      "      netral       0.81      0.92      0.86       508\n",
      "     positif       0.81      0.90      0.85       537\n",
      "\n",
      "    accuracy                           0.83      1620\n",
      "   macro avg       0.83      0.83      0.83      1620\n",
      "weighted avg       0.84      0.83      0.83      1620\n",
      "\n",
      "Confusion Matrix:\n",
      " [[398  74 103]\n",
      " [ 31 465  12]\n",
      " [ 18  38 481]]\n"
     ]
    }
   ],
   "source": [
    "print(\"TF-IDF Vectorization:\")\n",
    "print(\"Accuracy: {:.2f}%\".format(tfidf_accuracy))\n",
    "print(\"F1 Score: {:.2f}%\".format(tfidf_f1))\n",
    "print(\"Classification Report:\\n\", tfidf_report)\n",
    "print(\"Confusion Matrix:\\n\", tfidf_matrix)"
   ]
  },
  {
   "cell_type": "markdown",
   "metadata": {},
   "source": [
    "#### Tuning"
   ]
  },
  {
   "cell_type": "code",
   "execution_count": 40,
   "metadata": {},
   "outputs": [
    {
     "name": "stdout",
     "output_type": "stream",
     "text": [
      "Best Parameters (Random Forest): {'max_depth': None, 'min_samples_leaf': 2, 'min_samples_split': 10, 'n_estimators': 200}\n",
      "Best Score (Random Forest): 0.8240740740740741\n",
      "Best Parameters: RandomForestClassifier(min_samples_leaf=2, min_samples_split=10,\n",
      "                       n_estimators=200)\n",
      "Accuracy (Best Model - Random Forest): 83.0246913580247\n",
      "F1 Score (Best Model - Random Forest): 82.77567772110962\n"
     ]
    }
   ],
   "source": [
    "# # Tentukan parameter grid yang akan dieksplorasi\n",
    "# param_grid_random_forest = {\n",
    "#     'n_estimators': [50, 100, 200],      # Jumlah pohon keputusan dalam model\n",
    "#     'max_depth': [None, 10, 20, 30],      # Maksimum kedalaman setiap pohon keputusan\n",
    "#     'min_samples_split': [2, 5, 10],      # Jumlah sampel minimum yang dibutuhkan untuk membagi node internal\n",
    "#     'min_samples_leaf': [1, 2, 4]         # Jumlah sampel minimum yang dibutuhkan untuk menjadi leaf node\n",
    "# }\n",
    "\n",
    "# # Buat objek GridSearchCV untuk RandomForestClassifier\n",
    "# random_forest_grid_search = GridSearchCV(RandomForestClassifier(), param_grid_random_forest, cv=5, scoring='accuracy')\n",
    "\n",
    "# # Lakukan fitting terhadap data pelatihan\n",
    "# random_forest_grid_search.fit(tfidf_train_features, y_train_encoded)\n",
    "\n",
    "# # Dapatkan parameter terbaik dan skor terbaik\n",
    "# best_params_random_forest = random_forest_grid_search.best_params_\n",
    "# best_score_random_forest = random_forest_grid_search.best_score_\n",
    "\n",
    "# print(\"Best Parameters (Random Forest):\", best_params_random_forest)\n",
    "# print(\"Best Score (Random Forest):\", best_score_random_forest)\n",
    "\n",
    "# # Evaluasi model RandomForestClassifier dengan parameter terbaik\n",
    "# best_model_random_forest = random_forest_grid_search.best_estimator_\n",
    "# accuracy_random_forest, f1_random_forest, _, _ = train_and_evaluate(best_model_random_forest, tfidf_train_features, y_train_encoded, tfidf_test_features, y_test_encoded)\n",
    "\n",
    "# print(\"Best Parameters:\",best_model_random_forest)\n",
    "# print(\"Accuracy (Best Model - Random Forest):\", accuracy_random_forest)\n",
    "# print(\"F1 Score (Best Model - Random Forest):\", f1_random_forest)"
   ]
  },
  {
   "cell_type": "markdown",
   "metadata": {},
   "source": [
    "#### Paramater"
   ]
  },
  {
   "cell_type": "code",
   "execution_count": 41,
   "metadata": {},
   "outputs": [],
   "source": [
    "# Initialize Naive Bayes classifier\n",
    "rfc_parameter = RandomForestClassifier(min_samples_leaf=2, min_samples_split=10,n_estimators=200)\n",
    "\n",
    "# Train and evaluate on TF-IDF Vectorization\n",
    "tfidf_accuracy, tfidf_f1, tfidf_report, tfidf_matrix = train_and_evaluate(rfc_parameter, tfidf_train_features, y_train_encoded, tfidf_test_features, y_test_encoded)\n"
   ]
  },
  {
   "cell_type": "code",
   "execution_count": 42,
   "metadata": {},
   "outputs": [
    {
     "name": "stdout",
     "output_type": "stream",
     "text": [
      "TF-IDF Vectorization:\n",
      "Accuracy: 82.65%\n",
      "F1 Score: 82.37%\n",
      "Classification Report:\n",
      "               precision    recall  f1-score   support\n",
      "\n",
      "     negatif       0.87      0.69      0.77       575\n",
      "      netral       0.83      0.89      0.86       508\n",
      "     positif       0.79      0.91      0.85       537\n",
      "\n",
      "    accuracy                           0.83      1620\n",
      "   macro avg       0.83      0.83      0.83      1620\n",
      "weighted avg       0.83      0.83      0.82      1620\n",
      "\n",
      "Confusion Matrix:\n",
      " [[399  59 117]\n",
      " [ 46 452  10]\n",
      " [ 14  35 488]]\n"
     ]
    }
   ],
   "source": [
    "print(\"TF-IDF Vectorization:\")\n",
    "print(\"Accuracy: {:.2f}%\".format(tfidf_accuracy))\n",
    "print(\"F1 Score: {:.2f}%\".format(tfidf_f1))\n",
    "print(\"Classification Report:\\n\", tfidf_report)\n",
    "print(\"Confusion Matrix:\\n\", tfidf_matrix)"
   ]
  },
  {
   "cell_type": "markdown",
   "metadata": {},
   "source": [
    "### Model Ensemble Learning"
   ]
  },
  {
   "cell_type": "code",
   "execution_count": 43,
   "metadata": {},
   "outputs": [],
   "source": [
    "# Mengambil model terbaik dari hasil tuning\n",
    "best_model_naive_bayes = model_naiye_parameter\n",
    "best_model_svm = svm_parameter\n",
    "best_model_random_forest = rfc_parameter\n",
    "best_model_logistic_regression = lr_parameter"
   ]
  },
  {
   "cell_type": "code",
   "execution_count": 44,
   "metadata": {},
   "outputs": [],
   "source": [
    "from sklearn.ensemble import VotingClassifier"
   ]
  },
  {
   "cell_type": "markdown",
   "metadata": {},
   "source": [
    "#### Model Gabungin 4 Model"
   ]
  },
  {
   "cell_type": "code",
   "execution_count": 45,
   "metadata": {},
   "outputs": [],
   "source": [
    "# Membuat model ensemble\n",
    "ensemble_model_4 = VotingClassifier(estimators=[\n",
    "    ('naive_bayes', best_model_naive_bayes),\n",
    "    ('svm', best_model_svm),\n",
    "    ('random_forest', best_model_random_forest),\n",
    "    ('logistic_regression', best_model_logistic_regression)\n",
    "], voting='hard')\n",
    "\n",
    "# Train and evaluate on TF-IDF Vectorization\n",
    "tfidf_accuracy, tfidf_f1, tfidf_report, tfidf_matrix = train_and_evaluate(ensemble_model_4, tfidf_train_features, y_train_encoded, tfidf_test_features, y_test_encoded)"
   ]
  },
  {
   "cell_type": "code",
   "execution_count": 46,
   "metadata": {},
   "outputs": [
    {
     "name": "stdout",
     "output_type": "stream",
     "text": [
      "TF-IDF Vectorization:\n",
      "Accuracy: 86.85%\n",
      "F1 Score: 86.84%\n",
      "Classification Report:\n",
      "               precision    recall  f1-score   support\n",
      "\n",
      "     negatif       0.85      0.85      0.85       575\n",
      "      netral       0.88      0.85      0.87       508\n",
      "     positif       0.88      0.91      0.89       537\n",
      "\n",
      "    accuracy                           0.87      1620\n",
      "   macro avg       0.87      0.87      0.87      1620\n",
      "weighted avg       0.87      0.87      0.87      1620\n",
      "\n",
      "Confusion Matrix:\n",
      " [[487  35  53]\n",
      " [ 59 433  16]\n",
      " [ 28  22 487]]\n"
     ]
    }
   ],
   "source": [
    "print(\"TF-IDF Vectorization:\")\n",
    "print(\"Accuracy: {:.2f}%\".format(tfidf_accuracy))\n",
    "print(\"F1 Score: {:.2f}%\".format(tfidf_f1))\n",
    "print(\"Classification Report:\\n\", tfidf_report)\n",
    "print(\"Confusion Matrix:\\n\", tfidf_matrix)"
   ]
  },
  {
   "cell_type": "markdown",
   "metadata": {},
   "source": [
    "#### Model 3 dengan Akurasi Terbaik"
   ]
  },
  {
   "cell_type": "code",
   "execution_count": 47,
   "metadata": {},
   "outputs": [],
   "source": [
    "# Membuat model ensemble\n",
    "ensemble_model_3 = VotingClassifier(estimators=[\n",
    "    ('svm', best_model_svm),\n",
    "    ('random_forest', best_model_random_forest),\n",
    "    ('logistic_regression', best_model_logistic_regression)\n",
    "], voting='hard')\n",
    "\n",
    "# Train and evaluate on TF-IDF Vectorization\n",
    "tfidf_accuracy, tfidf_f1, tfidf_report, tfidf_matrix = train_and_evaluate(ensemble_model_3, tfidf_train_features, y_train_encoded, tfidf_test_features, y_test_encoded)"
   ]
  },
  {
   "cell_type": "code",
   "execution_count": 48,
   "metadata": {},
   "outputs": [
    {
     "name": "stdout",
     "output_type": "stream",
     "text": [
      "TF-IDF Vectorization:\n",
      "Accuracy: 87.41%\n",
      "F1 Score: 87.36%\n",
      "Classification Report:\n",
      "               precision    recall  f1-score   support\n",
      "\n",
      "     negatif       0.87      0.83      0.85       575\n",
      "      netral       0.89      0.86      0.88       508\n",
      "     positif       0.87      0.93      0.90       537\n",
      "\n",
      "    accuracy                           0.87      1620\n",
      "   macro avg       0.87      0.87      0.87      1620\n",
      "weighted avg       0.87      0.87      0.87      1620\n",
      "\n",
      "Confusion Matrix:\n",
      " [[479  38  58]\n",
      " [ 51 438  19]\n",
      " [ 23  15 499]]\n"
     ]
    }
   ],
   "source": [
    "print(\"TF-IDF Vectorization:\")\n",
    "print(\"Accuracy: {:.2f}%\".format(tfidf_accuracy))\n",
    "print(\"F1 Score: {:.2f}%\".format(tfidf_f1))\n",
    "print(\"Classification Report:\\n\", tfidf_report)\n",
    "print(\"Confusion Matrix:\\n\", tfidf_matrix)"
   ]
  },
  {
   "cell_type": "markdown",
   "metadata": {},
   "source": [
    "#### Model 2 Dengan Nilai Akurasi Terbaik "
   ]
  },
  {
   "cell_type": "code",
   "execution_count": 49,
   "metadata": {},
   "outputs": [],
   "source": [
    "# Membuat model ensemble\n",
    "ensemble_model_2 = VotingClassifier(estimators=[\n",
    "    ('svm', best_model_svm),\n",
    "    ('logistic_regression', best_model_logistic_regression)\n",
    "], voting='hard')\n",
    "\n",
    "# Train and evaluate on TF-IDF Vectorization\n",
    "tfidf_accuracy, tfidf_f1, tfidf_report, tfidf_matrix = train_and_evaluate(ensemble_model_2, tfidf_train_features, y_train_encoded, tfidf_test_features, y_test_encoded)"
   ]
  },
  {
   "cell_type": "code",
   "execution_count": 50,
   "metadata": {},
   "outputs": [
    {
     "name": "stdout",
     "output_type": "stream",
     "text": [
      "TF-IDF Vectorization:\n",
      "Accuracy: 87.47%\n",
      "F1 Score: 87.48%\n",
      "Classification Report:\n",
      "               precision    recall  f1-score   support\n",
      "\n",
      "     negatif       0.83      0.90      0.86       575\n",
      "      netral       0.89      0.83      0.86       508\n",
      "     positif       0.91      0.89      0.90       537\n",
      "\n",
      "    accuracy                           0.87      1620\n",
      "   macro avg       0.88      0.87      0.87      1620\n",
      "weighted avg       0.88      0.87      0.87      1620\n",
      "\n",
      "Confusion Matrix:\n",
      " [[515  26  34]\n",
      " [ 69 424  15]\n",
      " [ 34  25 478]]\n"
     ]
    }
   ],
   "source": [
    "print(\"TF-IDF Vectorization:\")\n",
    "print(\"Accuracy: {:.2f}%\".format(tfidf_accuracy))\n",
    "print(\"F1 Score: {:.2f}%\".format(tfidf_f1))\n",
    "print(\"Classification Report:\\n\", tfidf_report)\n",
    "print(\"Confusion Matrix:\\n\", tfidf_matrix)"
   ]
  },
  {
   "cell_type": "code",
   "execution_count": null,
   "metadata": {},
   "outputs": [],
   "source": []
  }
 ],
 "metadata": {
  "kernelspec": {
   "display_name": "env",
   "language": "python",
   "name": "python3"
  },
  "language_info": {
   "codemirror_mode": {
    "name": "ipython",
    "version": 3
   },
   "file_extension": ".py",
   "mimetype": "text/x-python",
   "name": "python",
   "nbconvert_exporter": "python",
   "pygments_lexer": "ipython3",
   "version": "3.11.5"
  }
 },
 "nbformat": 4,
 "nbformat_minor": 2
}
