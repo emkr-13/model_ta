{
 "cells": [
  {
   "cell_type": "code",
   "execution_count": 6,
   "metadata": {},
   "outputs": [],
   "source": [
    "import pandas as pd\n",
    "import operator\n",
    "from sklearn.feature_extraction.text import TfidfVectorizer\n",
    "from sklearn.metrics.pairwise import cosine_similarity\n",
    "\n",
    "def calculateSimilarity(sentence, document):\n",
    "    tfidf_vectorizer = TfidfVectorizer()\n",
    "    tfidf_matrix = tfidf_vectorizer.fit_transform([sentence] + document)\n",
    "    similarity_matrix = cosine_similarity(tfidf_matrix[0:1], tfidf_matrix[1:])\n",
    "    return similarity_matrix[0][0]\n",
    "\n",
    "data = pd.read_csv('lda_content_10000.csv')\n",
    "\n",
    "# Assuming 'processed_content' contains the sentences to summarize\n",
    "sentences = data['processed_content'].tolist()\n",
    "\n",
    "scores = {}\n",
    "for sentence in sentences:\n",
    "    temp_doc = [s for s in sentences if s != sentence]\n",
    "    score = calculateSimilarity(sentence, temp_doc)\n",
    "    scores[sentence] = score\n",
    "\n",
    "n = int(20 * len(sentences) / 100)\n",
    "alpha = 0.5\n",
    "summarySet = []\n",
    "\n",
    "while n > 0:\n",
    "    mmr = {}\n",
    "    \n",
    "    for sentence in scores.keys():\n",
    "        if sentence not in summarySet:\n",
    "            mmr[sentence] = alpha * scores[sentence] - (1 - alpha) * calculateSimilarity(sentence, summarySet)\n",
    "    \n",
    "    selected = max(mmr.items(), key=operator.itemgetter(1))[0]\n",
    "    summarySet.append(selected)\n",
    "    n -= 1\n",
    "\n",
    "print('Ringkasan Artikel:\\n')\n",
    "\n",
    "for sentence in summarySet:\n",
    "    print(sentence.lstrip(' '))\n",
    "    print()\n"
   ]
  },
  {
   "cell_type": "code",
   "execution_count": null,
   "metadata": {},
   "outputs": [],
   "source": []
  }
 ],
 "metadata": {
  "kernelspec": {
   "display_name": "env",
   "language": "python",
   "name": "python3"
  },
  "language_info": {
   "codemirror_mode": {
    "name": "ipython",
    "version": 3
   },
   "file_extension": ".py",
   "mimetype": "text/x-python",
   "name": "python",
   "nbconvert_exporter": "python",
   "pygments_lexer": "ipython3",
   "version": "3.11.5"
  }
 },
 "nbformat": 4,
 "nbformat_minor": 2
}
