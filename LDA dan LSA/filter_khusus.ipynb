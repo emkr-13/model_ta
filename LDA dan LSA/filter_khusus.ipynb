{
 "cells": [
  {
   "cell_type": "code",
   "execution_count": 3,
   "metadata": {},
   "outputs": [
    {
     "name": "stdout",
     "output_type": "stream",
     "text": [
      "                                                title  \\\n",
      "0   PAN x JakCloth! Pesta Anak Nongkrong Sambangi ...   \n",
      "3   Kapolri Bicara Arti Sumpah Pemuda di #DemiIndo...   \n",
      "7   Arahan Megawati di Rakernas IV PDIP: Turun ke ...   \n",
      "10  Bertemu Habib Rizieq, Cak Imin Bantah Bahas Du...   \n",
      "12  Menag Singgung Politisasi Agama di Pilgub DKI,...   \n",
      "\n",
      "                                              content tanggal_berita  \\\n",
      "0   Kumaha barudak? Well!Yuk ramaikan Pesta Anak N...     10-11-2023   \n",
      "3   Kapolri Jenderal Lisyto Sigit Prabowo bicara a...     27-10-2023   \n",
      "7   Ketua Umum PDIP, Megawati Soekarnoputri mengin...     01-10-2023   \n",
      "10  Pasangan capres-cawapres dari Koalisi Perubaha...     01-10-2023   \n",
      "12  Ketum PKB Muhaimin Iskandar atau Cak Imin mere...     01-10-2023   \n",
      "\n",
      "                                        content_clean  \\\n",
      "0   kumaha barudak well yuk ramaikan pesta anak no...   \n",
      "3   kapolri jenderal lisyto sigit prabowo bicara s...   \n",
      "7   ketua umum pdip megawati soekarnoputri kader m...   \n",
      "10  pasangan capres cawapres koalisi perubahan ani...   \n",
      "12  ketum pkb muhaimin iskandar cak imin merespons...   \n",
      "\n",
      "                                          link_berita asal_berita sentimen  \n",
      "0   https://20.detik.com/advertorial/20231109-2311...  Detik News   netral  \n",
      "3   https://20.detik.com/demi-indonesia/20231027-2...  Detik News  positif  \n",
      "7   https://20.detik.com/detikupdate/20231001-2310...  Detik News   netral  \n",
      "10  https://20.detik.com/detikupdate/20231001-2310...  Detik News   netral  \n",
      "12  https://20.detik.com/detikupdate/20231001-2310...  Detik News   netral  \n"
     ]
    }
   ],
   "source": [
    "import pandas as pd\n",
    "\n",
    "# Read the CSV file into a DataFrame\n",
    "data = pd.read_csv('online_news_50000_clean_label_all_baru.csv')\n",
    "\n",
    "# Filter the DataFrame to include rows containing specific keywords\n",
    "keywords = ['pemilu', 'mk', 'kpu', 'ganjar', 'prabowo', 'anies', 'cak imin', 'gibran', 'mahfud md', 'capres', 'cawapres','bawaslu','partai']\n",
    "filtered_data = data[data['content_clean'].str.contains('|'.join(keywords))]\n",
    "\n",
    "# Save the filtered data to a new CSV file\n",
    "filtered_data.to_csv('filtered_online_news_pemilu3.csv', index=False)\n",
    "\n",
    "# Display the first few rows of the filtered data\n",
    "print(filtered_data.head(5))\n",
    "\n"
   ]
  },
  {
   "cell_type": "code",
   "execution_count": null,
   "metadata": {},
   "outputs": [],
   "source": []
  }
 ],
 "metadata": {
  "kernelspec": {
   "display_name": "env",
   "language": "python",
   "name": "python3"
  },
  "language_info": {
   "codemirror_mode": {
    "name": "ipython",
    "version": 3
   },
   "file_extension": ".py",
   "mimetype": "text/x-python",
   "name": "python",
   "nbconvert_exporter": "python",
   "pygments_lexer": "ipython3",
   "version": "3.11.5"
  }
 },
 "nbformat": 4,
 "nbformat_minor": 2
}
