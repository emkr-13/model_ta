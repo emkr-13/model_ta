{
 "cells": [
  {
   "cell_type": "code",
   "execution_count": 1,
   "metadata": {},
   "outputs": [],
   "source": [
    "import pandas as pd\n",
    "from sklearn.feature_extraction.text import TfidfVectorizer\n",
    "from gensim.models import LdaModel, LsiModel\n",
    "from gensim.corpora import Dictionary\n",
    "from gensim.models.coherencemodel import CoherenceModel"
   ]
  },
  {
   "cell_type": "code",
   "execution_count": 2,
   "metadata": {},
   "outputs": [],
   "source": [
    "# Load the data\n",
    "data = pd.read_csv('Data_Pemilu.csv')\n",
    "\n",
    "# Preprocess the data (if necessary)\n",
    "\n",
    "# Tokenize the content_clean column\n",
    "documents = data['content_clean'].str.split()"
   ]
  },
  {
   "cell_type": "code",
   "execution_count": 3,
   "metadata": {},
   "outputs": [],
   "source": [
    "# Create a TF-IDF vectorizer\n",
    "tfidf_vectorizer = TfidfVectorizer(min_df=1,\n",
    "                                 norm='l2',\n",
    "                                 smooth_idf=True,\n",
    "                                 use_idf=True)\n",
    "\n",
    "# Fit and transform the data\n",
    "tfidf_matrix = tfidf_vectorizer.fit_transform(data['content_clean'])\n",
    "\n",
    "# Create a dictionary from the documents\n",
    "dictionary = Dictionary(documents)\n",
    "\n",
    "# Create a corpus from the TF-IDF matrix\n",
    "corpus = [dictionary.doc2bow(doc) for doc in documents]"
   ]
  },
  {
   "cell_type": "code",
   "execution_count": 4,
   "metadata": {},
   "outputs": [],
   "source": [
    "# Define the range of topics and top words\n",
    "topics_range = range(1, 11)  # Range of number of topics from 1 to 10\n",
    "top_words_range = [5]  # Top words per topic: 5 and 10\n",
    "\n",
    "# Initialize variables to store best coherence scores and corresponding parameters\n",
    "best_coherence_lda = -1\n",
    "best_coherence_lsa = -1\n",
    "best_lda_params = None\n",
    "best_lsa_params = None"
   ]
  },
  {
   "cell_type": "code",
   "execution_count": 5,
   "metadata": {},
   "outputs": [
    {
     "name": "stdout",
     "output_type": "stream",
     "text": [
      "Number of Topics: 1, Top Words per Topic: 5\n",
      "Coherence Score (LDA): 0.6089501917687159\n",
      "Coherence Score (LSA): 0.5654880904606634\n",
      "\n",
      "Number of Topics: 2, Top Words per Topic: 5\n",
      "Coherence Score (LDA): 0.4806719766172673\n",
      "Coherence Score (LSA): 0.4509091770825489\n",
      "\n",
      "Number of Topics: 3, Top Words per Topic: 5\n",
      "Coherence Score (LDA): 0.5129755725294834\n",
      "Coherence Score (LSA): 0.5579395629963977\n",
      "\n",
      "Number of Topics: 4, Top Words per Topic: 5\n",
      "Coherence Score (LDA): 0.4885288115155366\n",
      "Coherence Score (LSA): 0.47113701980372485\n",
      "\n",
      "Number of Topics: 5, Top Words per Topic: 5\n",
      "Coherence Score (LDA): 0.561632617291074\n",
      "Coherence Score (LSA): 0.5555729650506349\n",
      "\n",
      "Number of Topics: 6, Top Words per Topic: 5\n",
      "Coherence Score (LDA): 0.5905888145336863\n",
      "Coherence Score (LSA): 0.5256966433291959\n",
      "\n",
      "Number of Topics: 7, Top Words per Topic: 5\n",
      "Coherence Score (LDA): 0.5303687928778353\n",
      "Coherence Score (LSA): 0.44562422599760226\n",
      "\n",
      "Number of Topics: 8, Top Words per Topic: 5\n",
      "Coherence Score (LDA): 0.5087167482916466\n",
      "Coherence Score (LSA): 0.4090616742801566\n",
      "\n",
      "Number of Topics: 9, Top Words per Topic: 5\n",
      "Coherence Score (LDA): 0.552405403559102\n",
      "Coherence Score (LSA): 0.42355160138682507\n",
      "\n",
      "Number of Topics: 10, Top Words per Topic: 5\n",
      "Coherence Score (LDA): 0.5562995034256217\n",
      "Coherence Score (LSA): 0.4442062664879701\n",
      "\n"
     ]
    }
   ],
   "source": [
    "# Iterate through different combinations of topics and top words\n",
    "for num_topics in topics_range:\n",
    "    for top_words in top_words_range:\n",
    "        # Build LDA model\n",
    "        lda_model = LdaModel(corpus=corpus,\n",
    "                             id2word=dictionary,\n",
    "                             num_topics=num_topics)\n",
    "\n",
    "        # Build LSI model\n",
    "        lsi_model = LsiModel(corpus=corpus,\n",
    "                             id2word=dictionary,\n",
    "                             num_topics=num_topics)\n",
    "\n",
    "        # Compute coherence scores for LDA\n",
    "        coherence_model_lda = CoherenceModel(model=lda_model, texts=documents, dictionary=dictionary, coherence='c_v')\n",
    "        coherence_lda = coherence_model_lda.get_coherence()\n",
    "\n",
    "        # Compute coherence scores for LSA\n",
    "        coherence_model_lsa = CoherenceModel(model=lsi_model, texts=documents, dictionary=dictionary, coherence='c_v')\n",
    "        coherence_lsa = coherence_model_lsa.get_coherence()\n",
    "\n",
    "        # Print coherence scores for each combination\n",
    "        print(\"Number of Topics: {}, Top Words per Topic: {}\".format(num_topics, top_words))\n",
    "        print(\"Coherence Score (LDA):\", coherence_lda)\n",
    "        print(\"Coherence Score (LSA):\", coherence_lsa)\n",
    "        print()\n",
    "\n",
    "        # Update best coherence scores and corresponding parameters if better scores found\n",
    "        if coherence_lda > best_coherence_lda:\n",
    "            best_coherence_lda = coherence_lda\n",
    "            best_lda_params = (num_topics, top_words)\n",
    "\n",
    "        if coherence_lsa > best_coherence_lsa:\n",
    "            best_coherence_lsa = coherence_lsa\n",
    "            best_lsa_params = (num_topics, top_words)"
   ]
  },
  {
   "cell_type": "code",
   "execution_count": 6,
   "metadata": {},
   "outputs": [
    {
     "name": "stdout",
     "output_type": "stream",
     "text": [
      "Best Coherence Score (LDA): 0.6089501917687159\n",
      "Best Parameters (LDA): Number of Topics - 1, Top Words per Topic - 5\n",
      "\n",
      "Best Coherence Score (LSA): 0.5654880904606634\n",
      "Best Parameters (LSA): Number of Topics - 1, Top Words per Topic - 5\n"
     ]
    }
   ],
   "source": [
    "# Print the best coherence scores and corresponding parameters for LDA and LSA\n",
    "print(\"Best Coherence Score (LDA):\", best_coherence_lda)\n",
    "print(\"Best Parameters (LDA): Number of Topics - {}, Top Words per Topic - {}\".format(*best_lda_params))\n",
    "print()\n",
    "print(\"Best Coherence Score (LSA):\", best_coherence_lsa)\n",
    "print(\"Best Parameters (LSA): Number of Topics - {}, Top Words per Topic - {}\".format(*best_lsa_params))"
   ]
  }
 ],
 "metadata": {
  "kernelspec": {
   "display_name": "env",
   "language": "python",
   "name": "python3"
  },
  "language_info": {
   "codemirror_mode": {
    "name": "ipython",
    "version": 3
   },
   "file_extension": ".py",
   "mimetype": "text/x-python",
   "name": "python",
   "nbconvert_exporter": "python",
   "pygments_lexer": "ipython3",
   "version": "3.11.5"
  }
 },
 "nbformat": 4,
 "nbformat_minor": 2
}
