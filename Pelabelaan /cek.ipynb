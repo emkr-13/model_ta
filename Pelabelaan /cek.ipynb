{
 "cells": [
  {
   "cell_type": "code",
   "execution_count": 3,
   "metadata": {},
   "outputs": [
    {
     "name": "stdout",
     "output_type": "stream",
     "text": [
      "sentiment_label\n",
      "Negative    2068\n",
      "Neutral     2067\n",
      "Positive    1865\n",
      "Name: count, dtype: int64\n"
     ]
    },
    {
     "name": "stderr",
     "output_type": "stream",
     "text": [
      "/tmp/ipykernel_99186/3891921534.py:7: DeprecationWarning: DataFrameGroupBy.apply operated on the grouping columns. This behavior is deprecated, and in a future version of pandas the grouping columns will be excluded from the operation. Either pass `include_groups=False` to exclude the groupings or explicitly select the grouping columns after groupby to silence this warning.\n",
      "  sampled_data = data.groupby('sentiment_label').apply(lambda x: x.sample(n=1865, random_state=42) if x.name == 'Positive' else x.sample(n=2068 if x.name == 'Negative' else 2067, random_state=42))\n"
     ]
    }
   ],
   "source": [
    "import pandas as pd\n",
    "\n",
    "# Membaca data dari file CSV\n",
    "data = pd.read_csv('label_all.csv')\n",
    "\n",
    "# Mengelompokkan data berdasarkan label sentimen dan mengambil sampel sejumlah tertentu dari setiap kelompok\n",
    "sampled_data = data.groupby('sentiment_label').apply(lambda x: x.sample(n=1865, random_state=42) if x.name == 'Positive' else x.sample(n=2068 if x.name == 'Negative' else 2067, random_state=42))\n",
    "\n",
    "# Menggabungkan sampel-sampel menjadi DataFrame baru\n",
    "new_data = pd.DataFrame({'content': sampled_data['content'], 'sentiment_label': sampled_data['sentiment_label']})\n",
    "\n",
    "# Menyimpan DataFrame baru ke dalam file CSV\n",
    "new_data.to_csv('sampled_label_6000.csv', index=False)\n",
    "\n",
    "# Menampilkan jumlah kemunculan setiap label sentimen dalam DataFrame baru\n",
    "print(new_data['sentiment_label'].value_counts())\n"
   ]
  },
  {
   "cell_type": "code",
   "execution_count": 4,
   "metadata": {},
   "outputs": [],
   "source": [
    "# data=pd.read_csv('label_all.csv')\n",
    "# data.head(10)\n"
   ]
  },
  {
   "cell_type": "code",
   "execution_count": 5,
   "metadata": {},
   "outputs": [],
   "source": [
    "# # Menghitung jumlah kemunculan setiap label sentimen\n",
    "# sentiment_counts = data['sentiment_label'].value_counts()\n",
    "\n",
    "# # Menampilkan jumlah kemunculan setiap label sentimen\n",
    "# print(sentiment_counts)\n"
   ]
  },
  {
   "cell_type": "code",
   "execution_count": 6,
   "metadata": {},
   "outputs": [],
   "source": [
    "# # Mengelompokkan data berdasarkan label sentimen dan mengambil sampel sejumlah minimum jumlah munculan untuk setiap label\n",
    "# sampled_data = data.groupby('sentiment_label').apply(lambda x: x.sample(min(len(x), 1865)))\n",
    "\n",
    "# # Menggabungkan sampel-sampel menjadi DataFrame baru\n",
    "# new_data = pd.DataFrame({'content': sampled_data['content'], 'sentiment_label': sampled_data['sentiment_label']})\n",
    "\n",
    "# # Menyimpan DataFrame baru ke dalam file CSV\n",
    "# new_data.to_csv('sampled_label_all.csv', index=False)\n",
    "\n",
    "# # Menampilkan jumlah kemunculan setiap label sentimen dalam DataFrame baru\n",
    "# print(new_data['sentiment_label'].value_counts())"
   ]
  },
  {
   "cell_type": "code",
   "execution_count": 7,
   "metadata": {},
   "outputs": [],
   "source": [
    "# # Membuat fungsi untuk memetakan label sentimen\n",
    "# def map_sentiment_label(label):\n",
    "#     if label == 'LABEL_0':\n",
    "#         return 'negatif'\n",
    "#     elif label == 'LABEL_1':\n",
    "#         return 'netral'\n",
    "#     elif label == 'LABEL_2':\n",
    "#         return 'positif'\n",
    "#     else:\n",
    "#         return 'tidak_dapat_ditentukan'\n",
    "\n",
    "# # Memetakan label sentimen\n",
    "# data['sentiment_label'] = data['sentiment_label'].apply(map_sentiment_label)\n",
    "\n",
    "# # Memilih hanya kolom 'content' dan 'sentiment_label' untuk disimpan\n",
    "# new_data = data[['content', 'sentiment_label']]\n",
    "\n",
    "# # Simpan data baru ke dalam file CSV\n",
    "# # new_data.to_csv('labeled_data_mapped.csv', index=False)\n"
   ]
  },
  {
   "cell_type": "code",
   "execution_count": null,
   "metadata": {},
   "outputs": [],
   "source": []
  }
 ],
 "metadata": {
  "kernelspec": {
   "display_name": "env",
   "language": "python",
   "name": "python3"
  },
  "language_info": {
   "codemirror_mode": {
    "name": "ipython",
    "version": 3
   },
   "file_extension": ".py",
   "mimetype": "text/x-python",
   "name": "python",
   "nbconvert_exporter": "python",
   "pygments_lexer": "ipython3",
   "version": "3.11.5"
  }
 },
 "nbformat": 4,
 "nbformat_minor": 2
}
