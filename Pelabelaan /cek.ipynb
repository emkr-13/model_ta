{
 "cells": [
  {
   "cell_type": "code",
   "execution_count": 1,
   "metadata": {},
   "outputs": [],
   "source": [
    "import pandas as pd"
   ]
  },
  {
   "cell_type": "code",
   "execution_count": 2,
   "metadata": {},
   "outputs": [
    {
     "data": {
      "text/html": [
       "<div>\n",
       "<style scoped>\n",
       "    .dataframe tbody tr th:only-of-type {\n",
       "        vertical-align: middle;\n",
       "    }\n",
       "\n",
       "    .dataframe tbody tr th {\n",
       "        vertical-align: top;\n",
       "    }\n",
       "\n",
       "    .dataframe thead th {\n",
       "        text-align: right;\n",
       "    }\n",
       "</style>\n",
       "<table border=\"1\" class=\"dataframe\">\n",
       "  <thead>\n",
       "    <tr style=\"text-align: right;\">\n",
       "      <th></th>\n",
       "      <th>content</th>\n",
       "      <th>sentiment_label</th>\n",
       "      <th>sentiment_score</th>\n",
       "    </tr>\n",
       "  </thead>\n",
       "  <tbody>\n",
       "    <tr>\n",
       "      <th>0</th>\n",
       "      <td>kumaha barudak well yuk ramaikan pesta anak no...</td>\n",
       "      <td>Neutral</td>\n",
       "      <td>0.895687</td>\n",
       "    </tr>\n",
       "    <tr>\n",
       "      <th>1</th>\n",
       "      <td>kustini sri purnomo memiliki strategi jitu men...</td>\n",
       "      <td>Neutral</td>\n",
       "      <td>0.985187</td>\n",
       "    </tr>\n",
       "    <tr>\n",
       "      <th>2</th>\n",
       "      <td>peraih emas olimpiade tokyo greysia polii bica...</td>\n",
       "      <td>Neutral</td>\n",
       "      <td>0.999260</td>\n",
       "    </tr>\n",
       "    <tr>\n",
       "      <th>3</th>\n",
       "      <td>kapolri jenderal lisyto sigit prabowo bicara s...</td>\n",
       "      <td>Neutral</td>\n",
       "      <td>0.999653</td>\n",
       "    </tr>\n",
       "    <tr>\n",
       "      <th>4</th>\n",
       "      <td>menteri bumn erick thohir bicara bangsa indone...</td>\n",
       "      <td>Neutral</td>\n",
       "      <td>0.999585</td>\n",
       "    </tr>\n",
       "    <tr>\n",
       "      <th>5</th>\n",
       "      <td>iring iringan mobil suv pasukan pengawal presi...</td>\n",
       "      <td>Neutral</td>\n",
       "      <td>0.999730</td>\n",
       "    </tr>\n",
       "    <tr>\n",
       "      <th>6</th>\n",
       "      <td>remaja palestina umur 14 tahun ditembak mati p...</td>\n",
       "      <td>Neutral</td>\n",
       "      <td>0.999473</td>\n",
       "    </tr>\n",
       "    <tr>\n",
       "      <th>7</th>\n",
       "      <td>ketua umum pdip megawati soekarnoputri kader m...</td>\n",
       "      <td>Neutral</td>\n",
       "      <td>0.978814</td>\n",
       "    </tr>\n",
       "    <tr>\n",
       "      <th>8</th>\n",
       "      <td>sekjen pdip hasto kristiyanto berbicara terkai...</td>\n",
       "      <td>Neutral</td>\n",
       "      <td>0.999676</td>\n",
       "    </tr>\n",
       "    <tr>\n",
       "      <th>9</th>\n",
       "      <td>presiden joko widodo memimpin upacara peringat...</td>\n",
       "      <td>Neutral</td>\n",
       "      <td>0.999650</td>\n",
       "    </tr>\n",
       "  </tbody>\n",
       "</table>\n",
       "</div>"
      ],
      "text/plain": [
       "                                             content sentiment_label  \\\n",
       "0  kumaha barudak well yuk ramaikan pesta anak no...         Neutral   \n",
       "1  kustini sri purnomo memiliki strategi jitu men...         Neutral   \n",
       "2  peraih emas olimpiade tokyo greysia polii bica...         Neutral   \n",
       "3  kapolri jenderal lisyto sigit prabowo bicara s...         Neutral   \n",
       "4  menteri bumn erick thohir bicara bangsa indone...         Neutral   \n",
       "5  iring iringan mobil suv pasukan pengawal presi...         Neutral   \n",
       "6  remaja palestina umur 14 tahun ditembak mati p...         Neutral   \n",
       "7  ketua umum pdip megawati soekarnoputri kader m...         Neutral   \n",
       "8  sekjen pdip hasto kristiyanto berbicara terkai...         Neutral   \n",
       "9  presiden joko widodo memimpin upacara peringat...         Neutral   \n",
       "\n",
       "   sentiment_score  \n",
       "0         0.895687  \n",
       "1         0.985187  \n",
       "2         0.999260  \n",
       "3         0.999653  \n",
       "4         0.999585  \n",
       "5         0.999730  \n",
       "6         0.999473  \n",
       "7         0.978814  \n",
       "8         0.999676  \n",
       "9         0.999650  "
      ]
     },
     "execution_count": 2,
     "metadata": {},
     "output_type": "execute_result"
    }
   ],
   "source": [
    "data=pd.read_csv('label_all_baru.csv')\n",
    "data.head(10)\n"
   ]
  },
  {
   "cell_type": "code",
   "execution_count": 3,
   "metadata": {},
   "outputs": [
    {
     "name": "stdout",
     "output_type": "stream",
     "text": [
      "sentiment_label\n",
      "Neutral     38384\n",
      "Negative     2015\n",
      "Positive      971\n",
      "Name: count, dtype: int64\n"
     ]
    }
   ],
   "source": [
    "# Menghitung jumlah kemunculan setiap label sentimen\n",
    "sentiment_counts = data['sentiment_label'].value_counts()\n",
    "\n",
    "# Menampilkan jumlah kemunculan setiap label sentimen\n",
    "print(sentiment_counts)"
   ]
  },
  {
   "cell_type": "code",
   "execution_count": 3,
   "metadata": {},
   "outputs": [
    {
     "name": "stdout",
     "output_type": "stream",
     "text": [
      "sentiment_label\n",
      "Negative    2068\n",
      "Neutral     2067\n",
      "Positive    1865\n",
      "Name: count, dtype: int64\n"
     ]
    },
    {
     "name": "stderr",
     "output_type": "stream",
     "text": [
      "/tmp/ipykernel_99186/3891921534.py:7: DeprecationWarning: DataFrameGroupBy.apply operated on the grouping columns. This behavior is deprecated, and in a future version of pandas the grouping columns will be excluded from the operation. Either pass `include_groups=False` to exclude the groupings or explicitly select the grouping columns after groupby to silence this warning.\n",
      "  sampled_data = data.groupby('sentiment_label').apply(lambda x: x.sample(n=1865, random_state=42) if x.name == 'Positive' else x.sample(n=2068 if x.name == 'Negative' else 2067, random_state=42))\n"
     ]
    }
   ],
   "source": [
    "# import pandas as pd\n",
    "\n",
    "# # Membaca data dari file CSV\n",
    "# data = pd.read_csv('label_all.csv')\n",
    "\n",
    "# # Mengelompokkan data berdasarkan label sentimen dan mengambil sampel sejumlah tertentu dari setiap kelompok\n",
    "# sampled_data = data.groupby('sentiment_label').apply(lambda x: x.sample(n=1865, random_state=42) if x.name == 'Positive' else x.sample(n=2068 if x.name == 'Negative' else 2067, random_state=42))\n",
    "\n",
    "# # Menggabungkan sampel-sampel menjadi DataFrame baru\n",
    "# new_data = pd.DataFrame({'content': sampled_data['content'], 'sentiment_label': sampled_data['sentiment_label']})\n",
    "\n",
    "# # Menyimpan DataFrame baru ke dalam file CSV\n",
    "# new_data.to_csv('sampled_label_6000.csv', index=False)\n",
    "\n",
    "# # Menampilkan jumlah kemunculan setiap label sentimen dalam DataFrame baru\n",
    "# print(new_data['sentiment_label'].value_counts())\n"
   ]
  },
  {
   "cell_type": "code",
   "execution_count": 4,
   "metadata": {},
   "outputs": [],
   "source": [
    "# data=pd.read_csv('label_all.csv')\n",
    "# data.head(10)\n"
   ]
  },
  {
   "cell_type": "code",
   "execution_count": 5,
   "metadata": {},
   "outputs": [],
   "source": [
    "# # Menghitung jumlah kemunculan setiap label sentimen\n",
    "# sentiment_counts = data['sentiment_label'].value_counts()\n",
    "\n",
    "# # Menampilkan jumlah kemunculan setiap label sentimen\n",
    "# print(sentiment_counts)\n"
   ]
  },
  {
   "cell_type": "code",
   "execution_count": 6,
   "metadata": {},
   "outputs": [],
   "source": [
    "# # Mengelompokkan data berdasarkan label sentimen dan mengambil sampel sejumlah minimum jumlah munculan untuk setiap label\n",
    "# sampled_data = data.groupby('sentiment_label').apply(lambda x: x.sample(min(len(x), 1865)))\n",
    "\n",
    "# # Menggabungkan sampel-sampel menjadi DataFrame baru\n",
    "# new_data = pd.DataFrame({'content': sampled_data['content'], 'sentiment_label': sampled_data['sentiment_label']})\n",
    "\n",
    "# # Menyimpan DataFrame baru ke dalam file CSV\n",
    "# new_data.to_csv('sampled_label_all.csv', index=False)\n",
    "\n",
    "# # Menampilkan jumlah kemunculan setiap label sentimen dalam DataFrame baru\n",
    "# print(new_data['sentiment_label'].value_counts())"
   ]
  },
  {
   "cell_type": "code",
   "execution_count": 7,
   "metadata": {},
   "outputs": [],
   "source": [
    "# # Membuat fungsi untuk memetakan label sentimen\n",
    "# def map_sentiment_label(label):\n",
    "#     if label == 'LABEL_0':\n",
    "#         return 'negatif'\n",
    "#     elif label == 'LABEL_1':\n",
    "#         return 'netral'\n",
    "#     elif label == 'LABEL_2':\n",
    "#         return 'positif'\n",
    "#     else:\n",
    "#         return 'tidak_dapat_ditentukan'\n",
    "\n",
    "# # Memetakan label sentimen\n",
    "# data['sentiment_label'] = data['sentiment_label'].apply(map_sentiment_label)\n",
    "\n",
    "# # Memilih hanya kolom 'content' dan 'sentiment_label' untuk disimpan\n",
    "# new_data = data[['content', 'sentiment_label']]\n",
    "\n",
    "# # Simpan data baru ke dalam file CSV\n",
    "# # new_data.to_csv('labeled_data_mapped.csv', index=False)\n"
   ]
  },
  {
   "cell_type": "code",
   "execution_count": null,
   "metadata": {},
   "outputs": [],
   "source": []
  }
 ],
 "metadata": {
  "kernelspec": {
   "display_name": "env",
   "language": "python",
   "name": "python3"
  },
  "language_info": {
   "codemirror_mode": {
    "name": "ipython",
    "version": 3
   },
   "file_extension": ".py",
   "mimetype": "text/x-python",
   "name": "python",
   "nbconvert_exporter": "python",
   "pygments_lexer": "ipython3",
   "version": "3.11.5"
  }
 },
 "nbformat": 4,
 "nbformat_minor": 2
}
