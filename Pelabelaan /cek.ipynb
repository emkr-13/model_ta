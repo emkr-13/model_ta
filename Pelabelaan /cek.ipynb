{
 "cells": [
  {
   "cell_type": "code",
   "execution_count": 1,
   "metadata": {},
   "outputs": [],
   "source": [
    "import pandas as pd"
   ]
  },
  {
   "cell_type": "code",
   "execution_count": 2,
   "metadata": {},
   "outputs": [
    {
     "data": {
      "text/html": [
       "<div>\n",
       "<style scoped>\n",
       "    .dataframe tbody tr th:only-of-type {\n",
       "        vertical-align: middle;\n",
       "    }\n",
       "\n",
       "    .dataframe tbody tr th {\n",
       "        vertical-align: top;\n",
       "    }\n",
       "\n",
       "    .dataframe thead th {\n",
       "        text-align: right;\n",
       "    }\n",
       "</style>\n",
       "<table border=\"1\" class=\"dataframe\">\n",
       "  <thead>\n",
       "    <tr style=\"text-align: right;\">\n",
       "      <th></th>\n",
       "      <th>content</th>\n",
       "      <th>sentiment_label</th>\n",
       "      <th>sentiment_score</th>\n",
       "    </tr>\n",
       "  </thead>\n",
       "  <tbody>\n",
       "    <tr>\n",
       "      <th>0</th>\n",
       "      <td>Kumaha barudak? Well!Yuk ramaikan Pesta Anak N...</td>\n",
       "      <td>positif</td>\n",
       "      <td>0.936739</td>\n",
       "    </tr>\n",
       "    <tr>\n",
       "      <th>1</th>\n",
       "      <td>Kustini Sri Purnomo memiliki strategi jitu unt...</td>\n",
       "      <td>positif</td>\n",
       "      <td>0.923094</td>\n",
       "    </tr>\n",
       "    <tr>\n",
       "      <th>2</th>\n",
       "      <td>Kapolri Jenderal Lisyto Sigit Prabowo bicara a...</td>\n",
       "      <td>positif</td>\n",
       "      <td>0.820721</td>\n",
       "    </tr>\n",
       "    <tr>\n",
       "      <th>3</th>\n",
       "      <td>Menteri BUMN, Erick Thohir bicara bangsa Indon...</td>\n",
       "      <td>positif</td>\n",
       "      <td>0.980029</td>\n",
       "    </tr>\n",
       "    <tr>\n",
       "      <th>4</th>\n",
       "      <td>Iring-iringan mobil SUV pasukan pengawal Presi...</td>\n",
       "      <td>netral</td>\n",
       "      <td>0.982196</td>\n",
       "    </tr>\n",
       "    <tr>\n",
       "      <th>5</th>\n",
       "      <td>Ketua Umum PDIP, Megawati Soekarnoputri mengin...</td>\n",
       "      <td>netral</td>\n",
       "      <td>0.979069</td>\n",
       "    </tr>\n",
       "    <tr>\n",
       "      <th>6</th>\n",
       "      <td>Presiden Joko Widodo memimpin upacara peringat...</td>\n",
       "      <td>netral</td>\n",
       "      <td>0.932962</td>\n",
       "    </tr>\n",
       "    <tr>\n",
       "      <th>7</th>\n",
       "      <td>Pasangan capres-cawapres dari Koalisi Perubaha...</td>\n",
       "      <td>netral</td>\n",
       "      <td>0.970793</td>\n",
       "    </tr>\n",
       "    <tr>\n",
       "      <th>8</th>\n",
       "      <td>Presiden Joko Widodo memimpin upacara peringat...</td>\n",
       "      <td>netral</td>\n",
       "      <td>0.973624</td>\n",
       "    </tr>\n",
       "    <tr>\n",
       "      <th>9</th>\n",
       "      <td>Ketum PKB Muhaimin Iskandar atau Cak Imin mere...</td>\n",
       "      <td>netral</td>\n",
       "      <td>0.984370</td>\n",
       "    </tr>\n",
       "  </tbody>\n",
       "</table>\n",
       "</div>"
      ],
      "text/plain": [
       "                                             content sentiment_label  \\\n",
       "0  Kumaha barudak? Well!Yuk ramaikan Pesta Anak N...         positif   \n",
       "1  Kustini Sri Purnomo memiliki strategi jitu unt...         positif   \n",
       "2  Kapolri Jenderal Lisyto Sigit Prabowo bicara a...         positif   \n",
       "3  Menteri BUMN, Erick Thohir bicara bangsa Indon...         positif   \n",
       "4  Iring-iringan mobil SUV pasukan pengawal Presi...          netral   \n",
       "5  Ketua Umum PDIP, Megawati Soekarnoputri mengin...          netral   \n",
       "6  Presiden Joko Widodo memimpin upacara peringat...          netral   \n",
       "7  Pasangan capres-cawapres dari Koalisi Perubaha...          netral   \n",
       "8  Presiden Joko Widodo memimpin upacara peringat...          netral   \n",
       "9  Ketum PKB Muhaimin Iskandar atau Cak Imin mere...          netral   \n",
       "\n",
       "   sentiment_score  \n",
       "0         0.936739  \n",
       "1         0.923094  \n",
       "2         0.820721  \n",
       "3         0.980029  \n",
       "4         0.982196  \n",
       "5         0.979069  \n",
       "6         0.932962  \n",
       "7         0.970793  \n",
       "8         0.973624  \n",
       "9         0.984370  "
      ]
     },
     "execution_count": 2,
     "metadata": {},
     "output_type": "execute_result"
    }
   ],
   "source": [
    "data=pd.read_csv('filtered_sentiment_score_2_08.csv')\n",
    "data.head(10)\n"
   ]
  },
  {
   "cell_type": "code",
   "execution_count": 3,
   "metadata": {},
   "outputs": [
    {
     "name": "stdout",
     "output_type": "stream",
     "text": [
      "sentiment_label\n",
      "netral     5914\n",
      "negatif    5268\n",
      "positif    2867\n",
      "Name: count, dtype: int64\n"
     ]
    }
   ],
   "source": [
    "# Menghitung jumlah kemunculan setiap label sentimen\n",
    "sentiment_counts = data['sentiment_label'].value_counts()\n",
    "\n",
    "# Menampilkan jumlah kemunculan setiap label sentimen\n",
    "print(sentiment_counts)"
   ]
  },
  {
   "cell_type": "code",
   "execution_count": 8,
   "metadata": {},
   "outputs": [
    {
     "name": "stderr",
     "output_type": "stream",
     "text": [
      "/tmp/ipykernel_17552/3446147560.py:2: DeprecationWarning: DataFrameGroupBy.apply operated on the grouping columns. This behavior is deprecated, and in a future version of pandas the grouping columns will be excluded from the operation. Either pass `include_groups=False` to exclude the groupings or explicitly select the grouping columns after groupby to silence this warning.\n",
      "  sampled_data = data.groupby('sentiment_label').apply(lambda x: x.sample(n=1500, random_state=42) if x.name == 'Positive' else x.sample(n=1500 if x.name == 'Negative' else 1500, random_state=42))\n"
     ]
    },
    {
     "name": "stdout",
     "output_type": "stream",
     "text": [
      "sentiment_label\n",
      "Negative    1500\n",
      "Neutral     1500\n",
      "Positive    1500\n",
      "Name: count, dtype: int64\n"
     ]
    }
   ],
   "source": [
    "\n",
    "# Mengelompokkan data berdasarkan label sentimen dan mengambil sampel sejumlah tertentu dari setiap kelompok\n",
    "# sampled_data = data.groupby('sentiment_label').apply(lambda x: x.sample(n=1500, random_state=42) if x.name == 'Positive' else x.sample(n=1500 if x.name == 'Negative' else 1500, random_state=42))\n",
    "\n",
    "# # Menggabungkan sampel-sampel menjadi DataFrame baru\n",
    "# new_data = pd.DataFrame({'content': sampled_data['content'], 'sentiment_label': sampled_data['sentiment_label']})\n",
    "\n",
    "# # Menyimpan DataFrame baru ke dalam file CSV\n",
    "# new_data.to_csv('sampled_label_4500.csv', index=False)\n",
    "\n",
    "# # Menampilkan jumlah kemunculan setiap label sentimen dalam DataFrame baru\n",
    "# print(new_data['sentiment_label'].value_counts())\n"
   ]
  },
  {
   "cell_type": "code",
   "execution_count": 4,
   "metadata": {},
   "outputs": [],
   "source": [
    "# # Pilih hanya kolom 'content' dan 'sentiment_label'\n",
    "# filtered_data = data[['content', 'sentiment_label']]\n",
    "\n",
    "# # Simpan ke dalam file CSV baru\n",
    "# filtered_data.to_csv('filtered_all_sentiment.csv', index=False)\n",
    "\n",
    "# # Tampilkan beberapa baris pertama dari data yang telah disimpan\n",
    "# print(filtered_data.head(10))\n"
   ]
  },
  {
   "cell_type": "code",
   "execution_count": 6,
   "metadata": {},
   "outputs": [
    {
     "name": "stdout",
     "output_type": "stream",
     "text": [
      "                                              content sentiment_label  \\\n",
      "0   Kumaha barudak? Well!Yuk ramaikan Pesta Anak N...         positif   \n",
      "1   Kustini Sri Purnomo memiliki strategi jitu unt...         positif   \n",
      "4   Menteri BUMN, Erick Thohir bicara bangsa Indon...         positif   \n",
      "5   Iring-iringan mobil SUV pasukan pengawal Presi...          netral   \n",
      "7   Ketua Umum PDIP, Megawati Soekarnoputri mengin...          netral   \n",
      "9   Presiden Joko Widodo memimpin upacara peringat...          netral   \n",
      "10  Pasangan capres-cawapres dari Koalisi Perubaha...          netral   \n",
      "11  Presiden Joko Widodo memimpin upacara peringat...          netral   \n",
      "12  Ketum PKB Muhaimin Iskandar atau Cak Imin mere...          netral   \n",
      "13  Ketua DPP PDIP, Said Abdullah, mengatakan jika...          netral   \n",
      "\n",
      "    sentiment_score  \n",
      "0          0.936739  \n",
      "1          0.923094  \n",
      "4          0.980029  \n",
      "5          0.982196  \n",
      "7          0.979069  \n",
      "9          0.932962  \n",
      "10         0.970793  \n",
      "11         0.973624  \n",
      "12         0.984370  \n",
      "13         0.982034  \n"
     ]
    }
   ],
   "source": [
    "# # # Filter baris dengan sentiment_score lebih dari 0.6\n",
    "# filtered_data = data[data['sentiment_score'] > 0.9]\n",
    "\n",
    "# # Simpan hasil filter ke dalam file CSV baru\n",
    "# filtered_data.to_csv('filtered_sentiment_score_2_09.csv', index=False)\n",
    "\n",
    "# # Tampilkan data yang telah difilter\n",
    "# print(filtered_data.head(10))\n"
   ]
  },
  {
   "cell_type": "code",
   "execution_count": 4,
   "metadata": {},
   "outputs": [
    {
     "name": "stderr",
     "output_type": "stream",
     "text": [
      "/tmp/ipykernel_71732/779616847.py:7: DeprecationWarning: DataFrameGroupBy.apply operated on the grouping columns. This behavior is deprecated, and in a future version of pandas the grouping columns will be excluded from the operation. Either pass `include_groups=False` to exclude the groupings or explicitly select the grouping columns after groupby to silence this warning.\n",
      "  sampled_data = data.groupby('sentiment_label').apply(lambda x: x.sample(n=2850, random_state=42) if x.name == 'positif' else x.sample(n=2850 if x.name == 'negatif' else 2850, random_state=42))\n"
     ]
    },
    {
     "name": "stdout",
     "output_type": "stream",
     "text": [
      "sentiment_label\n",
      "negatif    2850\n",
      "netral     2850\n",
      "positif    2850\n",
      "Name: count, dtype: int64\n"
     ]
    }
   ],
   "source": [
    "# import pandas as pd\n",
    "\n",
    "# # Membaca data dari file CSV\n",
    "# data = pd.read_csv('label_all.csv')\n",
    "\n",
    "# # Mengelompokkan data berdasarkan label sentimen dan mengambil sampel sejumlah tertentu dari setiap kelompok\n",
    "sampled_data = data.groupby('sentiment_label').apply(lambda x: x.sample(n=2850, random_state=42) if x.name == 'positif' else x.sample(n=2850 if x.name == 'negatif' else 2850, random_state=42))\n",
    "\n",
    "# Menggabungkan sampel-sampel menjadi DataFrame baru\n",
    "new_data = pd.DataFrame({'content': sampled_data['content'], 'sentiment_label': sampled_data['sentiment_label']})\n",
    "\n",
    "# Menyimpan DataFrame baru ke dalam file CSV\n",
    "new_data.to_csv('sampled_label_8550.csv', index=False)\n",
    "\n",
    "# Menampilkan jumlah kemunculan setiap label sentimen dalam DataFrame baru\n",
    "print(new_data['sentiment_label'].value_counts())\n"
   ]
  },
  {
   "cell_type": "code",
   "execution_count": 7,
   "metadata": {},
   "outputs": [],
   "source": [
    "# data=pd.read_csv('label_all.csv')\n",
    "# data.head(10)\n"
   ]
  },
  {
   "cell_type": "code",
   "execution_count": 8,
   "metadata": {},
   "outputs": [],
   "source": [
    "# # Menghitung jumlah kemunculan setiap label sentimen\n",
    "# sentiment_counts = data['sentiment_label'].value_counts()\n",
    "\n",
    "# # Menampilkan jumlah kemunculan setiap label sentimen\n",
    "# print(sentiment_counts)\n"
   ]
  },
  {
   "cell_type": "code",
   "execution_count": 9,
   "metadata": {},
   "outputs": [],
   "source": [
    "# # Mengelompokkan data berdasarkan label sentimen dan mengambil sampel sejumlah minimum jumlah munculan untuk setiap label\n",
    "# sampled_data = data.groupby('sentiment_label').apply(lambda x: x.sample(min(len(x), 1865)))\n",
    "\n",
    "# # Menggabungkan sampel-sampel menjadi DataFrame baru\n",
    "# new_data = pd.DataFrame({'content': sampled_data['content'], 'sentiment_label': sampled_data['sentiment_label']})\n",
    "\n",
    "# # Menyimpan DataFrame baru ke dalam file CSV\n",
    "# new_data.to_csv('sampled_label_all.csv', index=False)\n",
    "\n",
    "# # Menampilkan jumlah kemunculan setiap label sentimen dalam DataFrame baru\n",
    "# print(new_data['sentiment_label'].value_counts())"
   ]
  },
  {
   "cell_type": "code",
   "execution_count": 10,
   "metadata": {},
   "outputs": [],
   "source": [
    "# # Membuat fungsi untuk memetakan label sentimen\n",
    "# def map_sentiment_label(label):\n",
    "#     if label == 'LABEL_0':\n",
    "#         return 'negatif'\n",
    "#     elif label == 'LABEL_1':\n",
    "#         return 'netral'\n",
    "#     elif label == 'LABEL_2':\n",
    "#         return 'positif'\n",
    "#     else:\n",
    "#         return 'tidak_dapat_ditentukan'\n",
    "\n",
    "# # Memetakan label sentimen\n",
    "# data['sentiment_label'] = data['sentiment_label'].apply(map_sentiment_label)\n",
    "\n",
    "# # Memilih hanya kolom 'content' dan 'sentiment_label' untuk disimpan\n",
    "# new_data = data[['content', 'sentiment_label']]\n",
    "\n",
    "# # Simpan data baru ke dalam file CSV\n",
    "# # new_data.to_csv('labeled_data_mapped.csv', index=False)\n"
   ]
  },
  {
   "cell_type": "code",
   "execution_count": null,
   "metadata": {},
   "outputs": [],
   "source": []
  }
 ],
 "metadata": {
  "kernelspec": {
   "display_name": "env",
   "language": "python",
   "name": "python3"
  },
  "language_info": {
   "codemirror_mode": {
    "name": "ipython",
    "version": 3
   },
   "file_extension": ".py",
   "mimetype": "text/x-python",
   "name": "python",
   "nbconvert_exporter": "python",
   "pygments_lexer": "ipython3",
   "version": "3.11.5"
  }
 },
 "nbformat": 4,
 "nbformat_minor": 2
}
