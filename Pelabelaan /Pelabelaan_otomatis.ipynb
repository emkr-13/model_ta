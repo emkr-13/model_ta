{
 "cells": [
  {
   "cell_type": "code",
   "execution_count": 1,
   "metadata": {},
   "outputs": [],
   "source": [
    "# import pandas as pd"
   ]
  },
  {
   "cell_type": "code",
   "execution_count": 2,
   "metadata": {},
   "outputs": [],
   "source": [
    "# data=pd.read_csv('processed_data_all.csv')\n",
    "# data.head(10)"
   ]
  },
  {
   "cell_type": "code",
   "execution_count": 3,
   "metadata": {},
   "outputs": [],
   "source": [
    "# len(data)"
   ]
  },
  {
   "cell_type": "code",
   "execution_count": 4,
   "metadata": {},
   "outputs": [
    {
     "name": "stderr",
     "output_type": "stream",
     "text": [
      "2024-04-27 22:22:30.189452: I tensorflow/core/platform/cpu_feature_guard.cc:210] This TensorFlow binary is optimized to use available CPU instructions in performance-critical operations.\n",
      "To enable the following instructions: AVX2 FMA, in other operations, rebuild TensorFlow with the appropriate compiler flags.\n",
      "2024-04-27 22:22:31.472539: W tensorflow/compiler/tf2tensorrt/utils/py_utils.cc:38] TF-TRT Warning: Could not find TensorRT\n"
     ]
    }
   ],
   "source": [
    "from concurrent.futures import ThreadPoolExecutor\n",
    "from transformers import pipeline\n",
    "\n",
    "# Load model analisis sentimen bahasa Indonesia dengan tiga kelas sentimen\n",
    "# sentiment_analysis = pipeline(\"text-classification\", model=\"ayameRushia/bert-base-indonesian-1.5G-sentiment-analysis-smsa\")\n"
   ]
  },
  {
   "cell_type": "code",
   "execution_count": 5,
   "metadata": {},
   "outputs": [],
   "source": [
    "# sentimen_pipe = pipeline(\"summarization\", model=\"cahya/bert2gpt-indonesian-summarization\")"
   ]
  },
  {
   "cell_type": "code",
   "execution_count": 6,
   "metadata": {},
   "outputs": [],
   "source": [
    "# teks = \"Kumaha barudak? Well!Yuk ramaikan Pesta Anak Nongkrong yang diselenggarakan PAN x JakCloth! 10-12 November 2023 di Kiara Park Bandung.Artis-artis Bluesquad akan hadir di tanggal 11 ya! Ada Tipe-X, J-Rocks, Of Triad dan banyak lainnya. Nikmati juga berbagai jajanan dan produk fashion UMKM lokal lainnya!Tong hilap, nya!\"\n",
    "\n",
    "# # Menampilkan hasil analisis sentimen\n",
    "# hasil_sentimen = sentimen_pipe(teks)\n",
    "# print(hasil_sentimen[0])"
   ]
  },
  {
   "cell_type": "code",
   "execution_count": 7,
   "metadata": {},
   "outputs": [],
   "source": [
    "sentimen_pipe1 = pipeline(\"text-classification\", model=\"taufiqdp/indonesian-sentiment\")"
   ]
  },
  {
   "cell_type": "code",
   "execution_count": 8,
   "metadata": {},
   "outputs": [
    {
     "name": "stdout",
     "output_type": "stream",
     "text": [
      "[{'label': 'negatif', 'score': 0.9514365792274475}]\n"
     ]
    }
   ],
   "source": [
    "teks = \"Jalan khusus batu bara di Jambi kini sudah rampung sejauh 80 persen. Jalan ini menjadi solusi dari kejadian sebelumnya yaitu macet horor selama 22 jam di Jambi.\"\n",
    "\n",
    "# Menampilkan hasil analisis sentimen\n",
    "hasil_sentimen = sentimen_pipe1(teks)\n",
    "print(hasil_sentimen)"
   ]
  },
  {
   "cell_type": "code",
   "execution_count": 9,
   "metadata": {},
   "outputs": [],
   "source": [
    "# sentimen_pipe2 = pipeline(\"text-classification\", model=\"crypter70/IndoBERT-Sentiment-Analysis\")"
   ]
  },
  {
   "cell_type": "code",
   "execution_count": 10,
   "metadata": {},
   "outputs": [],
   "source": [
    "\n",
    "# # Menampilkan hasil analisis sentimen\n",
    "# hasil_sentimen = sentimen_pipe2(teks)\n",
    "# print(hasil_sentimen)"
   ]
  },
  {
   "cell_type": "code",
   "execution_count": 11,
   "metadata": {},
   "outputs": [],
   "source": [
    "# sentimen_pipe3 = pipeline(\"sentiment-analysis\", model=\"indolem/indobert-base-uncased\")"
   ]
  },
  {
   "cell_type": "code",
   "execution_count": 12,
   "metadata": {},
   "outputs": [
    {
     "ename": "NameError",
     "evalue": "name 'sentimen_pipe3' is not defined",
     "output_type": "error",
     "traceback": [
      "\u001b[0;31m---------------------------------------------------------------------------\u001b[0m",
      "\u001b[0;31mNameError\u001b[0m                                 Traceback (most recent call last)",
      "Cell \u001b[0;32mIn[12], line 2\u001b[0m\n\u001b[1;32m      1\u001b[0m \u001b[38;5;66;03m# Menampilkan hasil analisis sentimen\u001b[39;00m\n\u001b[0;32m----> 2\u001b[0m hasil_sentimen \u001b[38;5;241m=\u001b[39m \u001b[43msentimen_pipe3\u001b[49m(teks)\n\u001b[1;32m      3\u001b[0m \u001b[38;5;28mprint\u001b[39m(hasil_sentimen)\n",
      "\u001b[0;31mNameError\u001b[0m: name 'sentimen_pipe3' is not defined"
     ]
    }
   ],
   "source": [
    "# Menampilkan hasil analisis sentimen\n",
    "hasil_sentimen = sentimen_pipe3(teks)\n",
    "print(hasil_sentimen)"
   ]
  },
  {
   "cell_type": "code",
   "execution_count": null,
   "metadata": {},
   "outputs": [],
   "source": [
    "# sentimen_pipe = pipeline(\"sentiment-analysis\", model=\"indobenchmark/indobert-large-p2\")"
   ]
  },
  {
   "cell_type": "code",
   "execution_count": null,
   "metadata": {},
   "outputs": [],
   "source": [
    "# teks = \"Kumaha barudak? Well!Yuk ramaikan Pesta Anak Nongkrong yang diselenggarakan PAN x JakCloth! 10-12 November 2023 di Kiara Park Bandung.Artis-artis Bluesquad akan hadir di tanggal 11 ya! Ada Tipe-X, J-Rocks, Of Triad dan banyak lainnya. Nikmati juga berbagai jajanan dan produk fashion UMKM lokal lainnya!Tong hilap, nya!\"\n",
    "\n",
    "# # Menampilkan hasil analisis sentimen\n",
    "# hasil_sentimen = sentimen_pipe(teks)\n",
    "# print(hasil_sentimen)"
   ]
  },
  {
   "cell_type": "code",
   "execution_count": null,
   "metadata": {},
   "outputs": [],
   "source": [
    "# # Fungsi untuk melabeli sentimen pada setiap baris data\n",
    "# def label_sentiment(text):\n",
    "#     # Analisis sentimen menggunakan model Transformer\n",
    "#     result = sentiment_analysis(text)\n",
    "#     # Ambil label sentimen teratas\n",
    "#     top_sentiment = result[0]\n",
    "#     label = top_sentiment['label']\n",
    "#     score = top_sentiment['score']\n",
    "#     print(label)\n",
    "#     return label, score\n",
    "\n",
    "# # Fungsi untuk melabeli sentimen menggunakan multi-threading\n",
    "# def label_sentiment_multithread(text_list):\n",
    "#     with ThreadPoolExecutor() as executor:\n",
    "#         results = executor.map(label_sentiment, text_list)\n",
    "#     return list(results)\n",
    "\n",
    "# # Bagi data menjadi batch agar dapat diproses menggunakan multi-threading\n",
    "# batch_size = 1000\n",
    "# num_batches = len(data) // batch_size + 1\n",
    "# batches = [data[i*batch_size:(i+1)*batch_size] for i in range(num_batches)]\n",
    "\n",
    "# # Melabeli sentimen untuk setiap batch menggunakan multi-threading\n",
    "# labeled_data = []\n",
    "# for batch in batches:\n",
    "#     texts = batch['content'].tolist()\n",
    "#     labels = label_sentiment_multithread(texts)\n",
    "#     labeled_data.extend(labels)\n",
    "\n",
    "# # Memasukkan hasil label sentimen ke dalam DataFrame\n",
    "# data['sentiment_label'], data['sentiment_score'] = zip(*labeled_data)"
   ]
  },
  {
   "cell_type": "code",
   "execution_count": null,
   "metadata": {},
   "outputs": [],
   "source": [
    "# Simpan data yang telah dilabeli ke dalam file CSV\n",
    "# data.to_csv('label_all.csv', index=False)"
   ]
  }
 ],
 "metadata": {
  "kernelspec": {
   "display_name": "env",
   "language": "python",
   "name": "python3"
  },
  "language_info": {
   "codemirror_mode": {
    "name": "ipython",
    "version": 3
   },
   "file_extension": ".py",
   "mimetype": "text/x-python",
   "name": "python",
   "nbconvert_exporter": "python",
   "pygments_lexer": "ipython3",
   "version": "3.11.5"
  }
 },
 "nbformat": 4,
 "nbformat_minor": 2
}
