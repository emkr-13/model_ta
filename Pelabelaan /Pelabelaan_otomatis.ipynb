{
 "cells": [
  {
   "cell_type": "code",
   "execution_count": 1,
   "metadata": {},
   "outputs": [],
   "source": [
    "import pandas as pd"
   ]
  },
  {
   "cell_type": "code",
   "execution_count": 2,
   "metadata": {},
   "outputs": [
    {
     "data": {
      "text/html": [
       "<div>\n",
       "<style scoped>\n",
       "    .dataframe tbody tr th:only-of-type {\n",
       "        vertical-align: middle;\n",
       "    }\n",
       "\n",
       "    .dataframe tbody tr th {\n",
       "        vertical-align: top;\n",
       "    }\n",
       "\n",
       "    .dataframe thead th {\n",
       "        text-align: right;\n",
       "    }\n",
       "</style>\n",
       "<table border=\"1\" class=\"dataframe\">\n",
       "  <thead>\n",
       "    <tr style=\"text-align: right;\">\n",
       "      <th></th>\n",
       "      <th>content</th>\n",
       "    </tr>\n",
       "  </thead>\n",
       "  <tbody>\n",
       "    <tr>\n",
       "      <th>0</th>\n",
       "      <td>Kumaha barudak? Well!Yuk ramaikan Pesta Anak N...</td>\n",
       "    </tr>\n",
       "    <tr>\n",
       "      <th>1</th>\n",
       "      <td>Kustini Sri Purnomo memiliki strategi jitu unt...</td>\n",
       "    </tr>\n",
       "    <tr>\n",
       "      <th>2</th>\n",
       "      <td>Peraih Emas Olimpiade Tokyo, Greysia Polii bic...</td>\n",
       "    </tr>\n",
       "    <tr>\n",
       "      <th>3</th>\n",
       "      <td>Kapolri Jenderal Lisyto Sigit Prabowo bicara a...</td>\n",
       "    </tr>\n",
       "    <tr>\n",
       "      <th>4</th>\n",
       "      <td>Menteri BUMN, Erick Thohir bicara bangsa Indon...</td>\n",
       "    </tr>\n",
       "    <tr>\n",
       "      <th>5</th>\n",
       "      <td>Iring-iringan mobil SUV pasukan pengawal Presi...</td>\n",
       "    </tr>\n",
       "    <tr>\n",
       "      <th>6</th>\n",
       "      <td>Seorang remaja Palestina umur 14 tahun ditemba...</td>\n",
       "    </tr>\n",
       "    <tr>\n",
       "      <th>7</th>\n",
       "      <td>Ketua Umum PDIP, Megawati Soekarnoputri mengin...</td>\n",
       "    </tr>\n",
       "    <tr>\n",
       "      <th>8</th>\n",
       "      <td>Sekjen PDIP Hasto Kristiyanto berbicara terkai...</td>\n",
       "    </tr>\n",
       "    <tr>\n",
       "      <th>9</th>\n",
       "      <td>Presiden Joko Widodo memimpin upacara peringat...</td>\n",
       "    </tr>\n",
       "  </tbody>\n",
       "</table>\n",
       "</div>"
      ],
      "text/plain": [
       "                                             content\n",
       "0  Kumaha barudak? Well!Yuk ramaikan Pesta Anak N...\n",
       "1  Kustini Sri Purnomo memiliki strategi jitu unt...\n",
       "2  Peraih Emas Olimpiade Tokyo, Greysia Polii bic...\n",
       "3  Kapolri Jenderal Lisyto Sigit Prabowo bicara a...\n",
       "4  Menteri BUMN, Erick Thohir bicara bangsa Indon...\n",
       "5  Iring-iringan mobil SUV pasukan pengawal Presi...\n",
       "6  Seorang remaja Palestina umur 14 tahun ditemba...\n",
       "7  Ketua Umum PDIP, Megawati Soekarnoputri mengin...\n",
       "8  Sekjen PDIP Hasto Kristiyanto berbicara terkai...\n",
       "9  Presiden Joko Widodo memimpin upacara peringat..."
      ]
     },
     "execution_count": 2,
     "metadata": {},
     "output_type": "execute_result"
    }
   ],
   "source": [
    "data=pd.read_csv('processed_data_all.csv')\n",
    "data.head(10)"
   ]
  },
  {
   "cell_type": "code",
   "execution_count": 3,
   "metadata": {},
   "outputs": [
    {
     "data": {
      "text/plain": [
       "27390"
      ]
     },
     "execution_count": 3,
     "metadata": {},
     "output_type": "execute_result"
    }
   ],
   "source": [
    "len(data)"
   ]
  },
  {
   "cell_type": "code",
   "execution_count": 4,
   "metadata": {},
   "outputs": [
    {
     "name": "stderr",
     "output_type": "stream",
     "text": [
      "2024-04-19 17:12:13.800777: I tensorflow/core/platform/cpu_feature_guard.cc:210] This TensorFlow binary is optimized to use available CPU instructions in performance-critical operations.\n",
      "To enable the following instructions: AVX2 FMA, in other operations, rebuild TensorFlow with the appropriate compiler flags.\n",
      "2024-04-19 17:12:15.341907: W tensorflow/compiler/tf2tensorrt/utils/py_utils.cc:38] TF-TRT Warning: Could not find TensorRT\n"
     ]
    }
   ],
   "source": [
    "from concurrent.futures import ThreadPoolExecutor\n",
    "from transformers import pipeline\n",
    "\n",
    "# Load model analisis sentimen bahasa Indonesia dengan tiga kelas sentimen\n",
    "# sentiment_analysis = pipeline(\"text-classification\", model=\"ayameRushia/bert-base-indonesian-1.5G-sentiment-analysis-smsa\")\n"
   ]
  },
  {
   "cell_type": "code",
   "execution_count": 5,
   "metadata": {},
   "outputs": [],
   "source": [
    "# summarization_pipe = pipeline(\"summarization\", model=\"cahya/bert2gpt-indonesian-summarization\")"
   ]
  },
  {
   "cell_type": "code",
   "execution_count": 6,
   "metadata": {},
   "outputs": [],
   "source": [
    "# summarization_pipe = pipeline(\"text-classification\", model=\"taufiqdp/indonesian-sentiment\")"
   ]
  },
  {
   "cell_type": "code",
   "execution_count": 7,
   "metadata": {},
   "outputs": [],
   "source": [
    "# summarization_pipe = pipeline(\"text-classification\", model=\"crypter70/IndoBERT-Sentiment-Analysis\")"
   ]
  },
  {
   "cell_type": "code",
   "execution_count": 9,
   "metadata": {},
   "outputs": [
    {
     "data": {
      "application/vnd.jupyter.widget-view+json": {
       "model_id": "f019dfd465b0446399142c9b80ac252b",
       "version_major": 2,
       "version_minor": 0
      },
      "text/plain": [
       "config.json:   0%|          | 0.00/1.53k [00:00<?, ?B/s]"
      ]
     },
     "metadata": {},
     "output_type": "display_data"
    },
    {
     "data": {
      "application/vnd.jupyter.widget-view+json": {
       "model_id": "eb46fc9a9c9f4aa8ac852ce6deb0049b",
       "version_major": 2,
       "version_minor": 0
      },
      "text/plain": [
       "pytorch_model.bin:   0%|          | 0.00/1.34G [00:00<?, ?B/s]"
      ]
     },
     "metadata": {},
     "output_type": "display_data"
    },
    {
     "name": "stderr",
     "output_type": "stream",
     "text": [
      "Error while downloading from https://cdn-lfs.huggingface.co/indobenchmark/indobert-large-p2/adb98dec62ea217e729579642017fde2aa41c87a19adfd0da4049de676190533?response-content-disposition=attachment%3B+filename*%3DUTF-8%27%27pytorch_model.bin%3B+filename%3D%22pytorch_model.bin%22%3B&response-content-type=application%2Foctet-stream&Expires=1713780796&Policy=eyJTdGF0ZW1lbnQiOlt7IkNvbmRpdGlvbiI6eyJEYXRlTGVzc1RoYW4iOnsiQVdTOkVwb2NoVGltZSI6MTcxMzc4MDc5Nn19LCJSZXNvdXJjZSI6Imh0dHBzOi8vY2RuLWxmcy5odWdnaW5nZmFjZS5jby9pbmRvYmVuY2htYXJrL2luZG9iZXJ0LWxhcmdlLXAyL2FkYjk4ZGVjNjJlYTIxN2U3Mjk1Nzk2NDIwMTdmZGUyYWE0MWM4N2ExOWFkZmQwZGE0MDQ5ZGU2NzYxOTA1MzM%7EcmVzcG9uc2UtY29udGVudC1kaXNwb3NpdGlvbj0qJnJlc3BvbnNlLWNvbnRlbnQtdHlwZT0qIn1dfQ__&Signature=hhHvc2l25dRTrQHsL1BcaiZZ75J1ygPMBaOEevsLSO6SCmAQKhiVwqM5gtyQeFYMUEbozpCCey9m9Vo2-zx1G%7EVvR-guxqz7POcXKmA926f4Ws4uPktqpRUTU6m9tDqzhhqCGyacWgen7Cd3Zvphtlm5TyhZptWqsilc2k6I0IiCIbwVXO1oSn7vvADg9DHiCtJDdgfcQRWmZ8BAr2ZVb87VqO0Vm7Pgjd4AEeIBufyC5ka5iRv1Pl6FCQa6gfD99q4FJjxwT7MCdRVa1inZ73I%7ElaoxLeHgjn5wxm810VDbE%7Etwnof9YOwfFTWoZ6nUWxmIb0Qly5wqwTBy8vP3bg__&Key-Pair-Id=KVTP0A1DKRTAX: HTTPSConnectionPool(host='cdn-lfs.huggingface.co', port=443): Read timed out.\n",
      "Trying to resume download...\n"
     ]
    },
    {
     "data": {
      "application/vnd.jupyter.widget-view+json": {
       "model_id": "6edf3a96b776479887e4b2c5373915e9",
       "version_major": 2,
       "version_minor": 0
      },
      "text/plain": [
       "pytorch_model.bin:   8%|7         | 105M/1.34G [00:00<?, ?B/s]"
      ]
     },
     "metadata": {},
     "output_type": "display_data"
    },
    {
     "name": "stderr",
     "output_type": "stream",
     "text": [
      "Error while downloading from https://cdn-lfs.huggingface.co/indobenchmark/indobert-large-p2/adb98dec62ea217e729579642017fde2aa41c87a19adfd0da4049de676190533?response-content-disposition=attachment%3B+filename*%3DUTF-8%27%27pytorch_model.bin%3B+filename%3D%22pytorch_model.bin%22%3B&response-content-type=application%2Foctet-stream&Expires=1713780796&Policy=eyJTdGF0ZW1lbnQiOlt7IkNvbmRpdGlvbiI6eyJEYXRlTGVzc1RoYW4iOnsiQVdTOkVwb2NoVGltZSI6MTcxMzc4MDc5Nn19LCJSZXNvdXJjZSI6Imh0dHBzOi8vY2RuLWxmcy5odWdnaW5nZmFjZS5jby9pbmRvYmVuY2htYXJrL2luZG9iZXJ0LWxhcmdlLXAyL2FkYjk4ZGVjNjJlYTIxN2U3Mjk1Nzk2NDIwMTdmZGUyYWE0MWM4N2ExOWFkZmQwZGE0MDQ5ZGU2NzYxOTA1MzM%7EcmVzcG9uc2UtY29udGVudC1kaXNwb3NpdGlvbj0qJnJlc3BvbnNlLWNvbnRlbnQtdHlwZT0qIn1dfQ__&Signature=hhHvc2l25dRTrQHsL1BcaiZZ75J1ygPMBaOEevsLSO6SCmAQKhiVwqM5gtyQeFYMUEbozpCCey9m9Vo2-zx1G%7EVvR-guxqz7POcXKmA926f4Ws4uPktqpRUTU6m9tDqzhhqCGyacWgen7Cd3Zvphtlm5TyhZptWqsilc2k6I0IiCIbwVXO1oSn7vvADg9DHiCtJDdgfcQRWmZ8BAr2ZVb87VqO0Vm7Pgjd4AEeIBufyC5ka5iRv1Pl6FCQa6gfD99q4FJjxwT7MCdRVa1inZ73I%7ElaoxLeHgjn5wxm810VDbE%7Etwnof9YOwfFTWoZ6nUWxmIb0Qly5wqwTBy8vP3bg__&Key-Pair-Id=KVTP0A1DKRTAX: HTTPSConnectionPool(host='cdn-lfs.huggingface.co', port=443): Read timed out.\n",
      "Trying to resume download...\n"
     ]
    },
    {
     "data": {
      "application/vnd.jupyter.widget-view+json": {
       "model_id": "13e1425015d34820870bac684312dfed",
       "version_major": 2,
       "version_minor": 0
      },
      "text/plain": [
       "pytorch_model.bin:  94%|#########3| 1.26G/1.34G [00:00<?, ?B/s]"
      ]
     },
     "metadata": {},
     "output_type": "display_data"
    }
   ],
   "source": [
    "sentimen_pipe = pipeline(\"sentiment-analysis\", model=\"indobenchmark/indobert-large-p2\")"
   ]
  },
  {
   "cell_type": "code",
   "execution_count": null,
   "metadata": {},
   "outputs": [],
   "source": [
    "# # Fungsi untuk melabeli sentimen pada setiap baris data\n",
    "# def label_sentiment(text):\n",
    "#     # Analisis sentimen menggunakan model Transformer\n",
    "#     result = sentiment_analysis(text)\n",
    "#     # Ambil label sentimen teratas\n",
    "#     top_sentiment = result[0]\n",
    "#     label = top_sentiment['label']\n",
    "#     score = top_sentiment['score']\n",
    "#     print(label)\n",
    "#     return label, score\n",
    "\n",
    "# # Fungsi untuk melabeli sentimen menggunakan multi-threading\n",
    "# def label_sentiment_multithread(text_list):\n",
    "#     with ThreadPoolExecutor() as executor:\n",
    "#         results = executor.map(label_sentiment, text_list)\n",
    "#     return list(results)\n",
    "\n",
    "# # Bagi data menjadi batch agar dapat diproses menggunakan multi-threading\n",
    "# batch_size = 1000\n",
    "# num_batches = len(data) // batch_size + 1\n",
    "# batches = [data[i*batch_size:(i+1)*batch_size] for i in range(num_batches)]\n",
    "\n",
    "# # Melabeli sentimen untuk setiap batch menggunakan multi-threading\n",
    "# labeled_data = []\n",
    "# for batch in batches:\n",
    "#     texts = batch['content'].tolist()\n",
    "#     labels = label_sentiment_multithread(texts)\n",
    "#     labeled_data.extend(labels)\n",
    "\n",
    "# # Memasukkan hasil label sentimen ke dalam DataFrame\n",
    "# data['sentiment_label'], data['sentiment_score'] = zip(*labeled_data)"
   ]
  },
  {
   "cell_type": "code",
   "execution_count": null,
   "metadata": {},
   "outputs": [],
   "source": [
    "# Simpan data yang telah dilabeli ke dalam file CSV\n",
    "data.to_csv('label_all.csv', index=False)"
   ]
  }
 ],
 "metadata": {
  "kernelspec": {
   "display_name": "env",
   "language": "python",
   "name": "python3"
  },
  "language_info": {
   "codemirror_mode": {
    "name": "ipython",
    "version": 3
   },
   "file_extension": ".py",
   "mimetype": "text/x-python",
   "name": "python",
   "nbconvert_exporter": "python",
   "pygments_lexer": "ipython3",
   "version": "3.11.5"
  }
 },
 "nbformat": 4,
 "nbformat_minor": 2
}
