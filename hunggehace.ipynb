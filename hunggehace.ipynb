{
 "cells": [
  {
   "cell_type": "code",
   "execution_count": 1,
   "metadata": {},
   "outputs": [
    {
     "data": {
      "application/vnd.jupyter.widget-view+json": {
       "model_id": "6d065a5e1e9249f78850566702dd994d",
       "version_major": 2,
       "version_minor": 0
      },
      "text/plain": [
       "Downloading data:   0%|          | 0.00/169M [00:00<?, ?B/s]"
      ]
     },
     "metadata": {},
     "output_type": "display_data"
    },
    {
     "data": {
      "application/vnd.jupyter.widget-view+json": {
       "model_id": "3631b649c1104f79a7ec86111ea345ea",
       "version_major": 2,
       "version_minor": 0
      },
      "text/plain": [
       "Generating train split:   0%|          | 0/45613 [00:00<?, ? examples/s]"
      ]
     },
     "metadata": {},
     "output_type": "display_data"
    },
    {
     "name": "stdout",
     "output_type": "stream",
     "text": [
      "DatasetDict({\n",
      "    train: Dataset({\n",
      "        features: ['title', 'content', 'tanggal_berita', 'content_clean', 'link_berita', 'asal_berita', 'sentimen'],\n",
      "        num_rows: 45613\n",
      "    })\n",
      "})\n"
     ]
    }
   ],
   "source": [
    "from datasets import load_dataset\n",
    "\n",
    "# Load the dataset\n",
    "dataset = load_dataset(\"emkr-13/Dataset_Online_News_45000\")\n",
    "\n",
    "# Get information about the dataset\n",
    "print(dataset)"
   ]
  },
  {
   "cell_type": "code",
   "execution_count": 2,
   "metadata": {},
   "outputs": [
    {
     "name": "stdout",
     "output_type": "stream",
     "text": [
      "                                               title  \\\n",
      "0   Survei: PPP, Perindo, dan PSI Tak Lolos Parlemen   \n",
      "1  Megawati: Membangun Indonesia Tak Bisa Hanya d...   \n",
      "2  KPK Soal MA Cabut Aturan Koruptor Nyaleg: Biar...   \n",
      "3  Indikator: Ganjar dan Erick Thohir Capres-Cawa...   \n",
      "4  Hasto Respons Usulan Guntur Sukarno Sebut Joko...   \n",
      "\n",
      "                                             content tanggal_berita  \\\n",
      "0  Hasil survei Indikator Politik Indonesia menya...     2023-10-01   \n",
      "1  Ketua Umum PDIP, Megawati Soekarnoputri menyeb...     2023-10-01   \n",
      "2  Komisi Pemberantasan Korupsi (KPK) mengapresia...     2023-10-01   \n",
      "3  Hasil survei Indikator Politik Indonesia menun...     2023-10-01   \n",
      "4  Sekretaris Jenderal PDIP Hasto Kristiyanto buk...     2023-10-01   \n",
      "\n",
      "                                       content_clean  \\\n",
      "0  hasil survei indikator politik indonesia ppp p...   \n",
      "1  ketua umum pdip megawati soekarnoputri menyebu...   \n",
      "2  komisi pemberantasan korupsi kpk mengapresiasi...   \n",
      "3  hasil survei indikator politik indonesia ganja...   \n",
      "4  sekretaris jenderal pdip hasto kristiyanto buk...   \n",
      "\n",
      "                                         link_berita asal_berita sentimen  \n",
      "0  https://www.cnnindonesia.com/nasional/20231001...    CNN News  negatif  \n",
      "1  https://www.cnnindonesia.com/nasional/20231001...    CNN News  positif  \n",
      "2  https://www.cnnindonesia.com/nasional/20231001...    CNN News  negatif  \n",
      "3  https://www.cnnindonesia.com/nasional/20231001...    CNN News  positif  \n",
      "4  https://www.cnnindonesia.com/nasional/20231001...    CNN News  positif  \n"
     ]
    }
   ],
   "source": [
    "# Convert to pandas DataFrame\n",
    "df = dataset['train'].to_pandas()\n",
    "\n",
    "# Print the DataFrame\n",
    "print(df.head())"
   ]
  },
  {
   "cell_type": "code",
   "execution_count": 3,
   "metadata": {},
   "outputs": [
    {
     "data": {
      "text/html": [
       "<div>\n",
       "<style scoped>\n",
       "    .dataframe tbody tr th:only-of-type {\n",
       "        vertical-align: middle;\n",
       "    }\n",
       "\n",
       "    .dataframe tbody tr th {\n",
       "        vertical-align: top;\n",
       "    }\n",
       "\n",
       "    .dataframe thead th {\n",
       "        text-align: right;\n",
       "    }\n",
       "</style>\n",
       "<table border=\"1\" class=\"dataframe\">\n",
       "  <thead>\n",
       "    <tr style=\"text-align: right;\">\n",
       "      <th></th>\n",
       "      <th>title</th>\n",
       "      <th>content</th>\n",
       "      <th>tanggal_berita</th>\n",
       "      <th>content_clean</th>\n",
       "      <th>link_berita</th>\n",
       "      <th>asal_berita</th>\n",
       "      <th>sentimen</th>\n",
       "    </tr>\n",
       "  </thead>\n",
       "  <tbody>\n",
       "    <tr>\n",
       "      <th>0</th>\n",
       "      <td>Survei: PPP, Perindo, dan PSI Tak Lolos Parlemen</td>\n",
       "      <td>Hasil survei Indikator Politik Indonesia menya...</td>\n",
       "      <td>2023-10-01</td>\n",
       "      <td>hasil survei indikator politik indonesia ppp p...</td>\n",
       "      <td>https://www.cnnindonesia.com/nasional/20231001...</td>\n",
       "      <td>CNN News</td>\n",
       "      <td>negatif</td>\n",
       "    </tr>\n",
       "    <tr>\n",
       "      <th>1</th>\n",
       "      <td>Megawati: Membangun Indonesia Tak Bisa Hanya d...</td>\n",
       "      <td>Ketua Umum PDIP, Megawati Soekarnoputri menyeb...</td>\n",
       "      <td>2023-10-01</td>\n",
       "      <td>ketua umum pdip megawati soekarnoputri menyebu...</td>\n",
       "      <td>https://www.cnnindonesia.com/nasional/20231001...</td>\n",
       "      <td>CNN News</td>\n",
       "      <td>positif</td>\n",
       "    </tr>\n",
       "    <tr>\n",
       "      <th>2</th>\n",
       "      <td>KPK Soal MA Cabut Aturan Koruptor Nyaleg: Biar...</td>\n",
       "      <td>Komisi Pemberantasan Korupsi (KPK) mengapresia...</td>\n",
       "      <td>2023-10-01</td>\n",
       "      <td>komisi pemberantasan korupsi kpk mengapresiasi...</td>\n",
       "      <td>https://www.cnnindonesia.com/nasional/20231001...</td>\n",
       "      <td>CNN News</td>\n",
       "      <td>negatif</td>\n",
       "    </tr>\n",
       "    <tr>\n",
       "      <th>3</th>\n",
       "      <td>Indikator: Ganjar dan Erick Thohir Capres-Cawa...</td>\n",
       "      <td>Hasil survei Indikator Politik Indonesia menun...</td>\n",
       "      <td>2023-10-01</td>\n",
       "      <td>hasil survei indikator politik indonesia ganja...</td>\n",
       "      <td>https://www.cnnindonesia.com/nasional/20231001...</td>\n",
       "      <td>CNN News</td>\n",
       "      <td>positif</td>\n",
       "    </tr>\n",
       "    <tr>\n",
       "      <th>4</th>\n",
       "      <td>Hasto Respons Usulan Guntur Sukarno Sebut Joko...</td>\n",
       "      <td>Sekretaris Jenderal PDIP Hasto Kristiyanto buk...</td>\n",
       "      <td>2023-10-01</td>\n",
       "      <td>sekretaris jenderal pdip hasto kristiyanto buk...</td>\n",
       "      <td>https://www.cnnindonesia.com/nasional/20231001...</td>\n",
       "      <td>CNN News</td>\n",
       "      <td>positif</td>\n",
       "    </tr>\n",
       "  </tbody>\n",
       "</table>\n",
       "</div>"
      ],
      "text/plain": [
       "                                               title  \\\n",
       "0   Survei: PPP, Perindo, dan PSI Tak Lolos Parlemen   \n",
       "1  Megawati: Membangun Indonesia Tak Bisa Hanya d...   \n",
       "2  KPK Soal MA Cabut Aturan Koruptor Nyaleg: Biar...   \n",
       "3  Indikator: Ganjar dan Erick Thohir Capres-Cawa...   \n",
       "4  Hasto Respons Usulan Guntur Sukarno Sebut Joko...   \n",
       "\n",
       "                                             content tanggal_berita  \\\n",
       "0  Hasil survei Indikator Politik Indonesia menya...     2023-10-01   \n",
       "1  Ketua Umum PDIP, Megawati Soekarnoputri menyeb...     2023-10-01   \n",
       "2  Komisi Pemberantasan Korupsi (KPK) mengapresia...     2023-10-01   \n",
       "3  Hasil survei Indikator Politik Indonesia menun...     2023-10-01   \n",
       "4  Sekretaris Jenderal PDIP Hasto Kristiyanto buk...     2023-10-01   \n",
       "\n",
       "                                       content_clean  \\\n",
       "0  hasil survei indikator politik indonesia ppp p...   \n",
       "1  ketua umum pdip megawati soekarnoputri menyebu...   \n",
       "2  komisi pemberantasan korupsi kpk mengapresiasi...   \n",
       "3  hasil survei indikator politik indonesia ganja...   \n",
       "4  sekretaris jenderal pdip hasto kristiyanto buk...   \n",
       "\n",
       "                                         link_berita asal_berita sentimen  \n",
       "0  https://www.cnnindonesia.com/nasional/20231001...    CNN News  negatif  \n",
       "1  https://www.cnnindonesia.com/nasional/20231001...    CNN News  positif  \n",
       "2  https://www.cnnindonesia.com/nasional/20231001...    CNN News  negatif  \n",
       "3  https://www.cnnindonesia.com/nasional/20231001...    CNN News  positif  \n",
       "4  https://www.cnnindonesia.com/nasional/20231001...    CNN News  positif  "
      ]
     },
     "execution_count": 3,
     "metadata": {},
     "output_type": "execute_result"
    }
   ],
   "source": [
    "df.head(5)"
   ]
  },
  {
   "cell_type": "code",
   "execution_count": null,
   "metadata": {},
   "outputs": [],
   "source": []
  }
 ],
 "metadata": {
  "kernelspec": {
   "display_name": "env",
   "language": "python",
   "name": "python3"
  },
  "language_info": {
   "codemirror_mode": {
    "name": "ipython",
    "version": 3
   },
   "file_extension": ".py",
   "mimetype": "text/x-python",
   "name": "python",
   "nbconvert_exporter": "python",
   "pygments_lexer": "ipython3",
   "version": "3.11.5"
  }
 },
 "nbformat": 4,
 "nbformat_minor": 2
}
