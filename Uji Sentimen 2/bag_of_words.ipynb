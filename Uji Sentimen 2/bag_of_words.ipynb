{
 "cells": [
  {
   "cell_type": "code",
   "execution_count": 1,
   "metadata": {},
   "outputs": [],
   "source": [
    "import pandas as pd\n",
    "from sklearn.model_selection import train_test_split\n",
    "from sklearn.feature_extraction.text import TfidfVectorizer\n",
    "from sklearn.preprocessing import LabelEncoder\n",
    "\n",
    "def prepare_datasets(corpus, labels, test_data_proportion=0.3, random_state=42):\n",
    "    train_X, test_X, train_Y, test_Y = train_test_split(corpus, labels,\n",
    "                                                        test_size=test_data_proportion,\n",
    "                                                        random_state=random_state)\n",
    "    return train_X, test_X, train_Y, test_Y\n",
    "    \n",
    "def tfidf_extractor(corpus, ngram_range=(1,2)):\n",
    "    vectorizer = TfidfVectorizer(min_df=1,\n",
    "                                norm='l2',\n",
    "                                smooth_idf=True,\n",
    "                                use_idf=True,\n",
    "                                ngram_range=ngram_range)\n",
    "    features = vectorizer.fit_transform(corpus)\n",
    "    return vectorizer, features\n",
    "    \n",
    "df = pd.read_csv('sentiment_6000.csv')\n",
    "df.head(10)\n",
    "\n",
    "# Split data\n",
    "x_train, x_test, y_train, y_test = prepare_datasets(df['content'], df['sentimen'], test_data_proportion=0.3)\n",
    "\n",
    "\n",
    "# Convert text labels to numerical labels\n",
    "label_encoder = LabelEncoder()\n",
    "y_train_encoded = label_encoder.fit_transform(y_train)\n",
    "y_test_encoded = label_encoder.transform(y_test)\n",
    "\n",
    "# Ensure the lengths match after splitting\n",
    "y_train_encoded = y_train_encoded[:len(x_train)]\n",
    "y_test_encoded = y_test_encoded[:len(x_test)]\n",
    "\n",
    "\n",
    "# TF-IDF Vectorization\n",
    "tfidf_vectorizer, tfidf_train_features = tfidf_extractor(x_train)\n",
    "tfidf_test_features = tfidf_vectorizer.transform(x_test)"
   ]
  },
  {
   "cell_type": "code",
   "execution_count": 2,
   "metadata": {},
   "outputs": [
    {
     "name": "stdout",
     "output_type": "stream",
     "text": [
      "Accuracy using TF-IDF features: 0.7366666666666667\n",
      "Accuracy using combined TF-IDF and Bag of Words features: 0.74\n"
     ]
    }
   ],
   "source": [
    "from sklearn.naive_bayes import MultinomialNB\n",
    "from scipy.sparse import hstack\n",
    "\n",
    "# Train Naive Bayes model using TF-IDF features\n",
    "nb_classifier_tfidf = MultinomialNB(alpha= 0.1,fit_prior=False)\n",
    "nb_classifier_tfidf.fit(tfidf_train_features, y_train_encoded)\n",
    "\n",
    "# Predictions on test set using TF-IDF features\n",
    "tfidf_test_predictions = nb_classifier_tfidf.predict(tfidf_test_features)\n",
    "\n",
    "# Evaluate accuracy using TF-IDF features\n",
    "tfidf_accuracy = (tfidf_test_predictions == y_test_encoded).mean()\n",
    "print(\"Accuracy using TF-IDF features:\", tfidf_accuracy)\n",
    "\n",
    "# Bag of Words (BoW) features\n",
    "count_vectorizer, count_train_features = tfidf_extractor(x_train, ngram_range=(1, 1))  # Unigram features\n",
    "count_test_features = count_vectorizer.transform(x_test)\n",
    "\n",
    "# Combine TF-IDF and BoW features\n",
    "combined_train_features = hstack([tfidf_train_features, count_train_features])\n",
    "combined_test_features = hstack([tfidf_test_features, count_test_features])\n",
    "\n",
    "# Train Naive Bayes model using combined features\n",
    "nb_classifier_combined = MultinomialNB(alpha= 0.1,fit_prior=False)\n",
    "nb_classifier_combined.fit(combined_train_features, y_train_encoded)\n",
    "\n",
    "# Predictions on test set using combined features\n",
    "combined_test_predictions = nb_classifier_combined.predict(combined_test_features)\n",
    "\n",
    "# Evaluate accuracy using combined features\n",
    "combined_accuracy = (combined_test_predictions == y_test_encoded).mean()\n",
    "print(\"Accuracy using combined TF-IDF and Bag of Words features:\", combined_accuracy)\n"
   ]
  },
  {
   "cell_type": "code",
   "execution_count": 3,
   "metadata": {},
   "outputs": [],
   "source": [
    "from sklearn.metrics import f1_score"
   ]
  },
  {
   "cell_type": "code",
   "execution_count": 4,
   "metadata": {},
   "outputs": [
    {
     "name": "stdout",
     "output_type": "stream",
     "text": [
      "F1 score using TF-IDF features: 0.7324275661448926\n",
      "F1 score using combined TF-IDF and Bag of Words features: 0.7359718028448735\n"
     ]
    }
   ],
   "source": [
    "# Compute F1 score for predictions using TF-IDF features\n",
    "tfidf_f1_score = f1_score(y_test_encoded, tfidf_test_predictions, average='weighted')\n",
    "print(\"F1 score using TF-IDF features:\", tfidf_f1_score)\n",
    "\n",
    "# Compute F1 score for predictions using combined features\n",
    "combined_f1_score = f1_score(y_test_encoded, combined_test_predictions, average='weighted')\n",
    "print(\"F1 score using combined TF-IDF and Bag of Words features:\", combined_f1_score)"
   ]
  },
  {
   "cell_type": "code",
   "execution_count": 5,
   "metadata": {},
   "outputs": [
    {
     "name": "stdout",
     "output_type": "stream",
     "text": [
      "Accuracy using TF-IDF features with SVM: 0.7783333333333333\n",
      "Accuracy using combined TF-IDF and Bag of Words features with SVM: 0.7716666666666666\n"
     ]
    }
   ],
   "source": [
    "from sklearn.svm import SVC\n",
    "\n",
    "# Train SVM model using TF-IDF features\n",
    "svm_classifier_tfidf = SVC(C=100, gamma=0.1, kernel='sigmoid', random_state=42)\n",
    "svm_classifier_tfidf.fit(tfidf_train_features, y_train_encoded)\n",
    "\n",
    "# Predictions on test set using TF-IDF features\n",
    "svm_tfidf_test_predictions = svm_classifier_tfidf.predict(tfidf_test_features)\n",
    "\n",
    "# Evaluate accuracy using TF-IDF features\n",
    "svm_tfidf_accuracy = (svm_tfidf_test_predictions == y_test_encoded).mean()\n",
    "print(\"Accuracy using TF-IDF features with SVM:\", svm_tfidf_accuracy)\n",
    "\n",
    "# Combine TF-IDF and BoW features for SVM\n",
    "combined_train_features_svm = hstack([tfidf_train_features, count_train_features])\n",
    "combined_test_features_svm = hstack([tfidf_test_features, count_test_features])\n",
    "\n",
    "# Train SVM model using combined features\n",
    "svm_classifier_combined = SVC(C=100, gamma=0.1, kernel='sigmoid', random_state=42)\n",
    "svm_classifier_combined.fit(combined_train_features_svm, y_train_encoded)\n",
    "\n",
    "# Predictions on test set using combined features\n",
    "svm_combined_test_predictions = svm_classifier_combined.predict(combined_test_features_svm)\n",
    "\n",
    "# Evaluate accuracy using combined features\n",
    "svm_combined_accuracy = (svm_combined_test_predictions == y_test_encoded).mean()\n",
    "print(\"Accuracy using combined TF-IDF and Bag of Words features with SVM:\", svm_combined_accuracy)\n"
   ]
  },
  {
   "cell_type": "code",
   "execution_count": 6,
   "metadata": {},
   "outputs": [
    {
     "name": "stdout",
     "output_type": "stream",
     "text": [
      "Accuracy using TF-IDF features with Logistic Regression: 0.775\n",
      "Accuracy using combined TF-IDF and Bag of Words features with Logistic Regression: 0.7822222222222223\n"
     ]
    }
   ],
   "source": [
    "from sklearn.linear_model import LogisticRegression\n",
    "\n",
    "# Train Logistic Regression model using TF-IDF features\n",
    "logreg_classifier_tfidf = LogisticRegression(C=10,max_iter=1000)\n",
    "logreg_classifier_tfidf.fit(tfidf_train_features, y_train_encoded)\n",
    "\n",
    "# Predictions on test set using TF-IDF features\n",
    "logreg_tfidf_test_predictions = logreg_classifier_tfidf.predict(tfidf_test_features)\n",
    "\n",
    "# Evaluate accuracy using TF-IDF features\n",
    "logreg_tfidf_accuracy = (logreg_tfidf_test_predictions == y_test_encoded).mean()\n",
    "print(\"Accuracy using TF-IDF features with Logistic Regression:\", logreg_tfidf_accuracy)\n",
    "\n",
    "# Combine TF-IDF and BoW features for Logistic Regression\n",
    "combined_train_features_logreg = hstack([tfidf_train_features, count_train_features])\n",
    "combined_test_features_logreg = hstack([tfidf_test_features, count_test_features])\n",
    "\n",
    "# Train Logistic Regression model using combined features\n",
    "logreg_classifier_combined = LogisticRegression(C=10,max_iter=1000)\n",
    "logreg_classifier_combined.fit(combined_train_features_logreg, y_train_encoded)\n",
    "\n",
    "# Predictions on test set using combined features\n",
    "logreg_combined_test_predictions = logreg_classifier_combined.predict(combined_test_features_logreg)\n",
    "\n",
    "# Evaluate accuracy using combined features\n",
    "logreg_combined_accuracy = (logreg_combined_test_predictions == y_test_encoded).mean()\n",
    "print(\"Accuracy using combined TF-IDF and Bag of Words features with Logistic Regression:\", logreg_combined_accuracy)\n"
   ]
  },
  {
   "cell_type": "code",
   "execution_count": 7,
   "metadata": {},
   "outputs": [
    {
     "name": "stdout",
     "output_type": "stream",
     "text": [
      "Accuracy using TF-IDF features with Random Forest: 0.7566666666666667\n",
      "Accuracy using combined TF-IDF and Bag of Words features with Random Forest: 0.7622222222222222\n"
     ]
    }
   ],
   "source": [
    "from sklearn.ensemble import RandomForestClassifier\n",
    "\n",
    "# Train Random Forest model using TF-IDF features\n",
    "rf_classifier_tfidf = RandomForestClassifier(min_samples_split=10,min_samples_leaf=2,n_estimators=150, random_state=42)\n",
    "rf_classifier_tfidf.fit(tfidf_train_features, y_train_encoded)\n",
    "\n",
    "# Predictions on test set using TF-IDF features\n",
    "rf_tfidf_test_predictions = rf_classifier_tfidf.predict(tfidf_test_features)\n",
    "\n",
    "# Evaluate accuracy using TF-IDF features\n",
    "rf_tfidf_accuracy = (rf_tfidf_test_predictions == y_test_encoded).mean()\n",
    "print(\"Accuracy using TF-IDF features with Random Forest:\", rf_tfidf_accuracy)\n",
    "\n",
    "# Combine TF-IDF and BoW features for Random Forest\n",
    "combined_train_features_rf = hstack([tfidf_train_features, count_train_features])\n",
    "combined_test_features_rf = hstack([tfidf_test_features, count_test_features])\n",
    "\n",
    "# Train Random Forest model using combined features\n",
    "rf_classifier_combined = RandomForestClassifier(min_samples_split=10,min_samples_leaf=2,n_estimators=150, random_state=42)\n",
    "rf_classifier_combined.fit(combined_train_features_rf, y_train_encoded)\n",
    "\n",
    "# Predictions on test set using combined features\n",
    "rf_combined_test_predictions = rf_classifier_combined.predict(combined_test_features_rf)\n",
    "\n",
    "# Evaluate accuracy using combined features\n",
    "rf_combined_accuracy = (rf_combined_test_predictions == y_test_encoded).mean()\n",
    "print(\"Accuracy using combined TF-IDF and Bag of Words features with Random Forest:\", rf_combined_accuracy)\n"
   ]
  }
 ],
 "metadata": {
  "kernelspec": {
   "display_name": "env",
   "language": "python",
   "name": "python3"
  },
  "language_info": {
   "codemirror_mode": {
    "name": "ipython",
    "version": 3
   },
   "file_extension": ".py",
   "mimetype": "text/x-python",
   "name": "python",
   "nbconvert_exporter": "python",
   "pygments_lexer": "ipython3",
   "version": "3.11.5"
  }
 },
 "nbformat": 4,
 "nbformat_minor": 2
}
