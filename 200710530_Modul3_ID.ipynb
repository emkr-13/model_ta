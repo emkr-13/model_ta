{
 "cells": [
  {
   "cell_type": "markdown",
   "metadata": {},
   "source": [
    "## pba-modul3-id-text-summarization"
   ]
  },
  {
   "cell_type": "markdown",
   "metadata": {},
   "source": [
    "- Nama : Emmanuel Mathew Krisna Rata \n",
    "- NPM: 200710530"
   ]
  },
  {
   "cell_type": "markdown",
   "metadata": {},
   "source": [
    "1.2.1 Inisialisasi"
   ]
  },
  {
   "cell_type": "code",
   "execution_count": 7,
   "metadata": {},
   "outputs": [],
   "source": [
    "import os\n",
    "import re\n",
    "import sys\n",
    "from Sastrawi.Stemmer.StemmerFactory import StemmerFactory\n",
    "from sklearn.feature_extraction.text import CountVectorizer\n",
    "from sklearn.metrics.pairwise import cosine_similarity\n",
    "from IPython.display import HTML as html_print\n",
    "from IPython.display import display\n",
    "import pandas as pd\n",
    "import operator\n",
    "import spacy"
   ]
  },
  {
   "cell_type": "markdown",
   "metadata": {},
   "source": [
    "1.2.2 Text Summarization"
   ]
  },
  {
   "cell_type": "code",
   "execution_count": 8,
   "metadata": {},
   "outputs": [],
   "source": [
    "factory = StemmerFactory()\n",
    "stemmer = factory.create_stemmer()"
   ]
  },
  {
   "cell_type": "code",
   "execution_count": 9,
   "metadata": {},
   "outputs": [],
   "source": [
    "def load_stopWords():\n",
    "    f = open('stopword.txt', 'r');\n",
    "    return f.readlines()\n",
    "stopwords = load_stopWords()"
   ]
  },
  {
   "cell_type": "code",
   "execution_count": 10,
   "metadata": {},
   "outputs": [
    {
     "data": {
      "text/plain": [
       "['\\n',\n",
       " 'ada\\n',\n",
       " 'adanya\\n',\n",
       " 'adalah\\n',\n",
       " 'adapun\\n',\n",
       " 'agak\\n',\n",
       " 'agaknya\\n',\n",
       " 'agar\\n',\n",
       " 'akan\\n',\n",
       " 'akankah\\n',\n",
       " 'akhirnya\\n',\n",
       " 'aku\\n',\n",
       " 'akulah\\n',\n",
       " 'amat\\n',\n",
       " 'amatlah\\n',\n",
       " 'anda\\n',\n",
       " 'andalah\\n',\n",
       " 'antar\\n',\n",
       " 'diantaranya\\n',\n",
       " 'antara\\n',\n",
       " 'antaranya\\n',\n",
       " 'diantara\\n',\n",
       " 'apa\\n',\n",
       " 'apaan\\n',\n",
       " 'mengapa\\n',\n",
       " 'apabila\\n',\n",
       " 'apakah\\n',\n",
       " 'apalagi\\n',\n",
       " 'apatah\\n',\n",
       " 'atau\\n',\n",
       " 'ataukah\\n',\n",
       " 'ataupun\\n',\n",
       " 'bagai\\n',\n",
       " 'bagaikan\\n',\n",
       " 'sebagai\\n',\n",
       " 'sebagainya\\n',\n",
       " 'bagaimana\\n',\n",
       " 'bagaimanapun\\n',\n",
       " 'sebagaimana\\n',\n",
       " 'bagaimanakah\\n',\n",
       " 'bagi\\n',\n",
       " 'bahkan\\n',\n",
       " 'bahwa\\n',\n",
       " 'bahwasanya\\n',\n",
       " 'sebaliknya\\n',\n",
       " 'banyak\\n',\n",
       " 'sebanyak\\n',\n",
       " 'beberapa\\n',\n",
       " 'seberapa\\n',\n",
       " 'begini\\n',\n",
       " 'beginian\\n',\n",
       " 'beginikah\\n',\n",
       " 'beginilah\\n',\n",
       " 'sebegini\\n',\n",
       " 'begitu\\n',\n",
       " 'begitukah\\n',\n",
       " 'begitulah\\n',\n",
       " 'begitupun\\n',\n",
       " 'sebegitu\\n',\n",
       " 'belum\\n',\n",
       " 'belumlah\\n',\n",
       " 'sebelum\\n',\n",
       " 'sebelumnya\\n',\n",
       " 'sebenarnya\\n',\n",
       " 'berapa\\n',\n",
       " 'berapakah\\n',\n",
       " 'berapalah\\n',\n",
       " 'berapapun\\n',\n",
       " 'betulkah\\n',\n",
       " 'sebetulnya\\n',\n",
       " 'biasa\\n',\n",
       " 'biasanya\\n',\n",
       " 'bila\\n',\n",
       " 'bilakah\\n',\n",
       " 'bisa\\n',\n",
       " 'bisakah\\n',\n",
       " 'sebisanya\\n',\n",
       " 'boleh\\n',\n",
       " 'bolehkah\\n',\n",
       " 'bolehlah\\n',\n",
       " 'buat\\n',\n",
       " 'bukan\\n',\n",
       " 'bukankah\\n',\n",
       " 'bukanlah\\n',\n",
       " 'bukannya\\n',\n",
       " 'cuma\\n',\n",
       " 'percuma\\n',\n",
       " 'dahulu\\n',\n",
       " 'dalam\\n',\n",
       " 'dan\\n',\n",
       " 'dapat\\n',\n",
       " 'dari\\n',\n",
       " 'daripada\\n',\n",
       " 'dekat\\n',\n",
       " 'demi\\n',\n",
       " 'demikian\\n',\n",
       " 'demikianlah\\n',\n",
       " 'sedemikian\\n',\n",
       " 'dengan\\n',\n",
       " 'depan\\n',\n",
       " 'di\\n',\n",
       " 'dia\\n',\n",
       " 'dialah\\n',\n",
       " 'dini\\n',\n",
       " 'diri\\n',\n",
       " 'dirinya\\n',\n",
       " 'terdiri\\n',\n",
       " 'dong\\n',\n",
       " 'dulu\\n',\n",
       " 'enggak\\n',\n",
       " 'enggaknya\\n',\n",
       " 'entah\\n',\n",
       " 'entahlah\\n',\n",
       " 'terhadap\\n',\n",
       " 'terhadapnya\\n',\n",
       " 'hal\\n',\n",
       " 'hampir\\n',\n",
       " 'hanya\\n',\n",
       " 'hanyalah\\n',\n",
       " 'harus\\n',\n",
       " 'haruslah\\n',\n",
       " 'harusnya\\n',\n",
       " 'seharusnya\\n',\n",
       " 'hendak\\n',\n",
       " 'hendaklah\\n',\n",
       " 'hendaknya\\n',\n",
       " 'hingga\\n',\n",
       " 'sehingga\\n',\n",
       " 'ia\\n',\n",
       " 'ialah\\n',\n",
       " 'ibarat\\n',\n",
       " 'ingin\\n',\n",
       " 'inginkah\\n',\n",
       " 'inginkan\\n',\n",
       " 'ini\\n',\n",
       " 'inikah\\n',\n",
       " 'inilah\\n',\n",
       " 'itu\\n',\n",
       " 'itukah\\n',\n",
       " 'itulah\\n',\n",
       " 'jangan\\n',\n",
       " 'jangankan\\n',\n",
       " 'janganlah\\n',\n",
       " 'jika\\n',\n",
       " 'jikalau\\n',\n",
       " 'juga\\n',\n",
       " 'justru\\n',\n",
       " 'kala\\n',\n",
       " 'kalau\\n',\n",
       " 'kalaulah\\n',\n",
       " 'kalaupun\\n',\n",
       " 'kalian\\n',\n",
       " 'kami\\n',\n",
       " 'kamilah\\n',\n",
       " 'kamu\\n',\n",
       " 'kamulah\\n',\n",
       " 'kan\\n',\n",
       " 'kapan\\n',\n",
       " 'kapankah\\n',\n",
       " 'kapanpun\\n',\n",
       " 'dikarenakan\\n',\n",
       " 'karena\\n',\n",
       " 'karenanya\\n',\n",
       " 'ke\\n',\n",
       " 'kecil\\n',\n",
       " 'kemudian\\n',\n",
       " 'kenapa\\n',\n",
       " 'kepada\\n',\n",
       " 'kepadanya\\n',\n",
       " 'ketika\\n',\n",
       " 'seketika\\n',\n",
       " 'khususnya\\n',\n",
       " 'kini\\n',\n",
       " 'kinilah\\n',\n",
       " 'kiranya\\n',\n",
       " 'sekiranya\\n',\n",
       " 'kita\\n',\n",
       " 'kitalah\\n',\n",
       " 'kok\\n',\n",
       " 'lagi\\n',\n",
       " 'lagian\\n',\n",
       " 'selagi\\n',\n",
       " 'lah\\n',\n",
       " 'lain\\n',\n",
       " 'lainnya\\n',\n",
       " 'melainkan\\n',\n",
       " 'selaku\\n',\n",
       " 'lalu\\n',\n",
       " 'melalui\\n',\n",
       " 'terlalu\\n',\n",
       " 'lama\\n',\n",
       " 'lamanya\\n',\n",
       " 'selama\\n',\n",
       " 'selama\\n',\n",
       " 'selamanya\\n',\n",
       " 'lebih\\n',\n",
       " 'terlebih\\n',\n",
       " 'bermacam\\n',\n",
       " 'macam\\n',\n",
       " 'semacam\\n',\n",
       " 'maka\\n',\n",
       " 'makanya\\n',\n",
       " 'makin\\n',\n",
       " 'malah\\n',\n",
       " 'malahan\\n',\n",
       " 'mampu\\n',\n",
       " 'mampukah\\n',\n",
       " 'mana\\n',\n",
       " 'manakala\\n',\n",
       " 'manalagi\\n',\n",
       " 'masih\\n',\n",
       " 'masihkah\\n',\n",
       " 'semasih\\n',\n",
       " 'masing\\n',\n",
       " 'mau\\n',\n",
       " 'maupun\\n',\n",
       " 'semaunya\\n',\n",
       " 'memang\\n',\n",
       " 'mereka\\n',\n",
       " 'merekalah\\n',\n",
       " 'meski\\n',\n",
       " 'meskipun\\n',\n",
       " 'semula\\n',\n",
       " 'mungkin\\n',\n",
       " 'mungkinkah\\n',\n",
       " 'nah\\n',\n",
       " 'namun\\n',\n",
       " 'nanti\\n',\n",
       " 'nantinya\\n',\n",
       " 'nyaris\\n',\n",
       " 'oleh\\n',\n",
       " 'olehnya\\n',\n",
       " 'seorang\\n',\n",
       " 'seseorang\\n',\n",
       " 'pada\\n',\n",
       " 'padanya\\n',\n",
       " 'padahal\\n',\n",
       " 'paling\\n',\n",
       " 'sepanjang\\n',\n",
       " 'pantas\\n',\n",
       " 'sepantasnya\\n',\n",
       " 'sepantasnyalah\\n',\n",
       " 'para\\n',\n",
       " 'pasti\\n',\n",
       " 'pastilah\\n',\n",
       " 'per\\n',\n",
       " 'pernah\\n',\n",
       " 'pula\\n',\n",
       " 'pun\\n',\n",
       " 'merupakan\\n',\n",
       " 'rupanya\\n',\n",
       " 'serupa\\n',\n",
       " 'saat\\n',\n",
       " 'saatnya\\n',\n",
       " 'sesaat\\n',\n",
       " 'saja\\n',\n",
       " 'sajalah\\n',\n",
       " 'saling\\n',\n",
       " 'bersama\\n',\n",
       " 'sama\\n',\n",
       " 'sesama\\n',\n",
       " 'sambil\\n',\n",
       " 'sampai\\n',\n",
       " 'sana\\n',\n",
       " 'sangat\\n',\n",
       " 'sangatlah\\n',\n",
       " 'saya\\n',\n",
       " 'sayalah\\n',\n",
       " 'se\\n',\n",
       " 'sebab\\n',\n",
       " 'sebabnya\\n',\n",
       " 'sebuah\\n',\n",
       " 'tersebut\\n',\n",
       " 'tersebutlah\\n',\n",
       " 'sedang\\n',\n",
       " 'sedangkan\\n',\n",
       " 'sedikit\\n',\n",
       " 'sedikitnya\\n',\n",
       " 'segala\\n',\n",
       " 'segalanya\\n',\n",
       " 'segera\\n',\n",
       " 'sesegera\\n',\n",
       " 'sejak\\n',\n",
       " 'sejenak\\n',\n",
       " 'sekali\\n',\n",
       " 'sekalian\\n',\n",
       " 'sekalipun\\n',\n",
       " 'sesekali\\n',\n",
       " 'sekaligus\\n',\n",
       " 'sekarang\\n',\n",
       " 'sekarang\\n',\n",
       " 'sekitar\\n',\n",
       " 'sekitarnya\\n',\n",
       " 'sela\\n',\n",
       " 'selain\\n',\n",
       " 'selalu\\n',\n",
       " 'seluruh\\n',\n",
       " 'seluruhnya\\n',\n",
       " 'semakin\\n',\n",
       " 'sementara\\n',\n",
       " 'sempat\\n',\n",
       " 'semua\\n',\n",
       " 'semuanya\\n',\n",
       " 'sendiri\\n',\n",
       " 'sendirinya\\n',\n",
       " 'seolah\\n',\n",
       " 'seperti\\n',\n",
       " 'sepertinya\\n',\n",
       " 'sering\\n',\n",
       " 'seringnya\\n',\n",
       " 'serta\\n',\n",
       " 'siapa\\n',\n",
       " 'siapakah\\n',\n",
       " 'siapapun\\n',\n",
       " 'disini\\n',\n",
       " 'disinilah\\n',\n",
       " 'sini\\n',\n",
       " 'sinilah\\n',\n",
       " 'sesuatu\\n',\n",
       " 'sesuatunya\\n',\n",
       " 'suatu\\n',\n",
       " 'sesudah\\n',\n",
       " 'sesudahnya\\n',\n",
       " 'sudah\\n',\n",
       " 'sudahkah\\n',\n",
       " 'sudahlah\\n',\n",
       " 'supaya\\n',\n",
       " 'tadi\\n',\n",
       " 'tadinya\\n',\n",
       " 'tak\\n',\n",
       " 'tanpa\\n',\n",
       " 'setelah\\n',\n",
       " 'telah\\n',\n",
       " 'tentang\\n',\n",
       " 'tentu\\n',\n",
       " 'tentulah\\n',\n",
       " 'tentunya\\n',\n",
       " 'tertentu\\n',\n",
       " 'seterusnya\\n',\n",
       " 'tapi\\n',\n",
       " 'tetapi\\n',\n",
       " 'setiap\\n',\n",
       " 'tiap\\n',\n",
       " 'setidaknya\\n',\n",
       " 'tidak\\n',\n",
       " 'tidakkah\\n',\n",
       " 'tidaklah\\n',\n",
       " 'toh\\n',\n",
       " 'waduh\\n',\n",
       " 'wah\\n',\n",
       " 'wahai\\n',\n",
       " 'sewaktu\\n',\n",
       " 'walau\\n',\n",
       " 'walaupun\\n',\n",
       " 'wong\\n',\n",
       " 'yaitu\\n',\n",
       " 'yakni\\n',\n",
       " 'yang']"
      ]
     },
     "execution_count": 10,
     "metadata": {},
     "output_type": "execute_result"
    }
   ],
   "source": [
    "stopwords"
   ]
  },
  {
   "cell_type": "code",
   "execution_count": 11,
   "metadata": {},
   "outputs": [],
   "source": [
    "from sklearn.feature_extraction.text import CountVectorizer\n",
    "from sklearn.metrics.pairwise import cosine_similarity\n",
    "from IPython.display import display, HTML"
   ]
  },
  {
   "cell_type": "code",
   "execution_count": 12,
   "metadata": {},
   "outputs": [],
   "source": [
    "def cleanData(sentence):\n",
    "    ret = []\n",
    "    sentence = stemmer.stem(sentence)  # Stemming (not defined here)\n",
    "    \n",
    "    for word in sentence.split():\n",
    "        if not word in stopwords:  # Stopword removal (not defined here)\n",
    "            ret.append(word)\n",
    "    \n",
    "    return \" \".join(ret)\n",
    "\n",
    "def getVectorSpace(cleanSet):\n",
    "    vocab = {}\n",
    "    \n",
    "    for data in cleanSet:\n",
    "        for word in data.split():\n",
    "            vocab[data] = 0\n",
    "    \n",
    "    return vocab.keys()\n",
    "\n",
    "def calculateSimilarity(sentence, doc):\n",
    "    if doc == []:\n",
    "        return 0\n",
    "    \n",
    "    vocab = {}\n",
    "    \n",
    "    for word in sentence:\n",
    "        vocab[word] = 0\n",
    "    \n",
    "    docInOneSentence = ''\n",
    "    \n",
    "    for t in doc:\n",
    "        docInOneSentence += (t + ' ')\n",
    "    \n",
    "    for word in t.split():\n",
    "        vocab[word] = 0\n",
    "    \n",
    "    cv = CountVectorizer(vocabulary=vocab.keys())\n",
    "    docVector = cv.fit_transform([docInOneSentence])\n",
    "    sentenceVector = cv.fit_transform([sentence])\n",
    "    \n",
    "    return cosine_similarity(docVector, sentenceVector)[0][0]\n",
    "\n",
    "def cstr(s, color='black'):\n",
    "    return \"<text style=color:{}>{}</text>\".format(color, s)\n",
    "\n",
    "def print_color(t):\n",
    "    display(HTML(' '.join([cstr(ti, color=ci) for ti, ci in t])))"
   ]
  },
  {
   "cell_type": "code",
   "execution_count": 13,
   "metadata": {},
   "outputs": [
    {
     "data": {
      "text/html": [
       "<div>\n",
       "<style scoped>\n",
       "    .dataframe tbody tr th:only-of-type {\n",
       "        vertical-align: middle;\n",
       "    }\n",
       "\n",
       "    .dataframe tbody tr th {\n",
       "        vertical-align: top;\n",
       "    }\n",
       "\n",
       "    .dataframe thead th {\n",
       "        text-align: right;\n",
       "    }\n",
       "</style>\n",
       "<table border=\"1\" class=\"dataframe\">\n",
       "  <thead>\n",
       "    <tr style=\"text-align: right;\">\n",
       "      <th></th>\n",
       "      <th>Judul</th>\n",
       "      <th>Artikel</th>\n",
       "      <th>Jenis</th>\n",
       "    </tr>\n",
       "  </thead>\n",
       "  <tbody>\n",
       "    <tr>\n",
       "      <th>0</th>\n",
       "      <td>Rupiah masih rawan bergejolak</td>\n",
       "      <td>Nilai tukar rupiah terhadap dolar Amerika Seri...</td>\n",
       "      <td>ekonomi</td>\n",
       "    </tr>\n",
       "    <tr>\n",
       "      <th>1</th>\n",
       "      <td>SRC sasar ritel tradisional jadi pilar ekonomi...</td>\n",
       "      <td>Perkembangan teknologi telah menyebabkan perub...</td>\n",
       "      <td>ekonomi</td>\n",
       "    </tr>\n",
       "    <tr>\n",
       "      <th>2</th>\n",
       "      <td>Kiat memaksimalkan Facebook untuk bisnis</td>\n",
       "      <td>Media sosial kini bukan hanya menjadi alat unt...</td>\n",
       "      <td>ekonomi</td>\n",
       "    </tr>\n",
       "    <tr>\n",
       "      <th>3</th>\n",
       "      <td>Kiat menambah relasi bisnis</td>\n",
       "      <td>Dalam menjalankan bisnis, menjalin relasi puny...</td>\n",
       "      <td>ekonomi</td>\n",
       "    </tr>\n",
       "    <tr>\n",
       "      <th>4</th>\n",
       "      <td>Prinsip dasar merintis bisnis</td>\n",
       "      <td>Merintis usaha memang bukan pekerjaan mudah. A...</td>\n",
       "      <td>ekonomi</td>\n",
       "    </tr>\n",
       "    <tr>\n",
       "      <th>...</th>\n",
       "      <td>...</td>\n",
       "      <td>...</td>\n",
       "      <td>...</td>\n",
       "    </tr>\n",
       "    <tr>\n",
       "      <th>1304</th>\n",
       "      <td>Genoa 1 - 1 Sampdoria - Liga Serie A 2018/2019</td>\n",
       "      <td>Genoa dan Sampdoria sama-sama gagal memetik po...</td>\n",
       "      <td>sport</td>\n",
       "    </tr>\n",
       "    <tr>\n",
       "      <th>1305</th>\n",
       "      <td>Villarreal 2 - 1 Real Betis - La Liga 2018/2019</td>\n",
       "      <td>Villarreal menjaga langkah untuk mendekatkan d...</td>\n",
       "      <td>sport</td>\n",
       "    </tr>\n",
       "    <tr>\n",
       "      <th>1306</th>\n",
       "      <td>PSM kembali ke puncak klasemen, Persib resmi t...</td>\n",
       "      <td>Persija Jakarta harus rela kembali ke peringka...</td>\n",
       "      <td>sport</td>\n",
       "    </tr>\n",
       "    <tr>\n",
       "      <th>1307</th>\n",
       "      <td>Hasil imbang yang pahit bagi AC Milan</td>\n",
       "      <td>\"Hasil imbang yang pahit.\" Begitu laman resmi ...</td>\n",
       "      <td>sport</td>\n",
       "    </tr>\n",
       "    <tr>\n",
       "      <th>1308</th>\n",
       "      <td>Seruan untuk Edy Rahmayadi di balik kegagalan ...</td>\n",
       "      <td>Timnas Indonesia mengakhiri babak grup Piala A...</td>\n",
       "      <td>sport</td>\n",
       "    </tr>\n",
       "  </tbody>\n",
       "</table>\n",
       "<p>1309 rows × 3 columns</p>\n",
       "</div>"
      ],
      "text/plain": [
       "                                                  Judul  \\\n",
       "0                         Rupiah masih rawan bergejolak   \n",
       "1     SRC sasar ritel tradisional jadi pilar ekonomi...   \n",
       "2              Kiat memaksimalkan Facebook untuk bisnis   \n",
       "3                           Kiat menambah relasi bisnis   \n",
       "4                         Prinsip dasar merintis bisnis   \n",
       "...                                                 ...   \n",
       "1304     Genoa 1 - 1 Sampdoria - Liga Serie A 2018/2019   \n",
       "1305    Villarreal 2 - 1 Real Betis - La Liga 2018/2019   \n",
       "1306  PSM kembali ke puncak klasemen, Persib resmi t...   \n",
       "1307              Hasil imbang yang pahit bagi AC Milan   \n",
       "1308  Seruan untuk Edy Rahmayadi di balik kegagalan ...   \n",
       "\n",
       "                                                Artikel    Jenis  \n",
       "0     Nilai tukar rupiah terhadap dolar Amerika Seri...  ekonomi  \n",
       "1     Perkembangan teknologi telah menyebabkan perub...  ekonomi  \n",
       "2     Media sosial kini bukan hanya menjadi alat unt...  ekonomi  \n",
       "3     Dalam menjalankan bisnis, menjalin relasi puny...  ekonomi  \n",
       "4     Merintis usaha memang bukan pekerjaan mudah. A...  ekonomi  \n",
       "...                                                 ...      ...  \n",
       "1304  Genoa dan Sampdoria sama-sama gagal memetik po...    sport  \n",
       "1305  Villarreal menjaga langkah untuk mendekatkan d...    sport  \n",
       "1306  Persija Jakarta harus rela kembali ke peringka...    sport  \n",
       "1307  \"Hasil imbang yang pahit.\" Begitu laman resmi ...    sport  \n",
       "1308  Timnas Indonesia mengakhiri babak grup Piala A...    sport  \n",
       "\n",
       "[1309 rows x 3 columns]"
      ]
     },
     "execution_count": 13,
     "metadata": {},
     "output_type": "execute_result"
    }
   ],
   "source": [
    "dataset = pd.read_csv('dataartikel.csv')\n",
    "dataset"
   ]
  },
  {
   "cell_type": "code",
   "execution_count": 14,
   "metadata": {},
   "outputs": [],
   "source": [
    "feature = dataset.iloc[:,1]"
   ]
  },
  {
   "cell_type": "code",
   "execution_count": 15,
   "metadata": {},
   "outputs": [
    {
     "data": {
      "text/plain": [
       "'Nilai tukar rupiah terhadap dolar Amerika Serikat (AS) masih rawan bergejolak, meski akhirnya turun dari level Rp15.000.Sejumlah analis mengingatkan pergerakan positif kurs rupiah belakangan ini tak lepas dari peran dana asing jangka pendek dan spekulatif atau hot money yang kembali mengalir deras ke instrumen investasi portofolio Indonesia. Oleh karena itu, posisi mata uang rupiah itu dinilai masih sangat rawan dari gejolak eksternal yang memicu aliran modal asing keluar (capital outflow).Pergerakan nilai tukar rupiah dalam transaksi antarbank di Jakarta, Jumat (9/11/2018) pagi , melemah sebesar 75 poin menjadi Rp14.555 -- dibandingkan posisi sebelumnya Rp14.480 per dolar AS.Analis senior CSA Research Institute, Reza Priyambada, mengatakan pergerakan rupiah cenderung mulai tertahan terhadap dolar AS menjelang pertemuan Komite Pasar Terbuka Federal (FOMC) bank sentral AS (The Fed) pada Desember nanti.\"Menjelang pertemuan The Fed, pergerakan rupiah berbalik turun,\" katanya dalam keterangan resmi, Jumat (9/11).Ia menambahkan peluang bagi the Fed untuk kenaikan suku bunga acuannya (Fed Fund Rate/FFR) secara berkala membuat pelaku pasar kembali beralih ke dolar AS. \"Pengetatan moneter di AS masih terus berlangsung hingga tahun mendatang,\" katanya.Terkait dengan faktor eksternal yang melambungkan kurs rupiah, Bloomberg mewartakan ia adalah pemimpin penguatan di antara seluruh mata uang di Asia setelah Partai Demokrat berhasil mengambil alih kendali di Dewan Perwakilan Rakyat (DPR) dalam pemilu sela di AS. Hasil pemilu sela sekaligus membebani pergerakan dolar AS dan imbal hasil obligasi AS.Di sisi lain, Partai Republik, seperti yang telah diperkirakan, mempertahankan mayoritas kursinya di Senat. Terbaginya kendali ini dipandang akan memperlemah dukungan bagi agenda pemerintahan Presiden Donald Trump ke depannya, meskipun diperkirakan tidak akan banyak memengaruhi kebijakan perdagangannya.\"Pasar negara berkembang (emerging market) akan mendapatkan keuntungan dari pelemahan dolar AS setelah pemilu sela, tetapi kelegaan ini hanya bersifat sementara saat kuatnya ekonomi AS akan mendukung greenback,\" kata Hannah Anderson, pakar strategi pasar global di JPMorgan Asset Management Hong Kong.Tekanan dolar AS terhadap rupiah yang terus mereda terjadi sejak awal pekan ini. Dolar AS yang tadinya berada di kisaran Rp15.100 kini berada di level Rp 14.500.Direktur Eksekutif Departemen Pengelolaan Moneter Bank Indonesia, Nanang Hendarsah, menyebutkan periode 29 Oktober 2018 hingga 7 November 2018 ada aliran dana asing masuk ke pasar uang melalui Surat Berharga Negara (SBN) sebesar Rp18,1 triliun. Sementara itu pada periode 29 Oktober 2018 hingga 5 November 2018 ada aliran modal asing masuk ke pasar saham mencapai Rp2,07 triliun.\"Selain faktor global, masuknya dana investor asing ini juga mencerminkan jika kepercayaan investor terhadap ekonomi domestik tetap kuat ditopang oleh pertumbuhan ekonomi yang stabil serta inflasi yang rendah,\" jelas Nanang kepada Beritagar.id, Jumat (9/11).Bank Indonesia mencatat posisi cadangan devisa Indonesia sebesar 115,2 miliar dolar pada akhir Oktober 2018. Angka ini meningkat apabila dibandingkan dengan akhir September 2018 yang mencapai 114,8 miliar dolar.Jumlah tersebut setara dengan 6,4 bulan impor atau 6,2 bulan impor, dua kali lipat dari standar kecukupan international.BI mencatat peningkatan dipengaruhi oleh penerimaan devisa migas dan penarikan utang luar negeri (ULN) pemerintah yang lebih besar dari kebutuhan devisa untuk pembayaran ULN pemerintah dan stabilisasi nilai tukar rupiah.Analis pasar uang Muhammad Nafan Aji Gusta menjelaskan penguatan rupiah idealnya ditopang oleh perbaikan fundamental ekonomi yang signifikan. Misalnya dengan surplus ekspor sehingga mampu menyeimbangkan, bahkan membuat surplus neraca perdagangan dan neraca transaksi berjalan.\"Pergerakan dana ini sangat dinamis. Aliran dana baik yang masuk maupun keluar begitu cepat, sehingga tidak bisa diandalkan untuk menjaga nilai tukar tetap stabil,\" ujar Nafan dalam Koran Jakarta.Menurutnya, untuk menjaga stabilitas rupiah, pemerintah dan BI harus segera melakukan perbaikan struktural agar ke depan defisit transaksi berjalan tidak melebar. Contohnya memacu investasi asing langsung di sektor riil atau foreign direct investment (FDI), khususnya yang berorientasi ekspor. \"Ini perlu dilakukan karena investasi asing di pasar saham dan obligasi bersifat hot money yang cukup rentan oleh sentimen global,\" jelasnya.\\n  \\n  Kesalahan sensor AOA bisa mengelabui posisi hidung pesawat sehingga pilot terkadang menambahkan kecepatannya agar bisa tetap terbang, padahal posisi hidung pesawat sudah menukik ke bawah. \\n  \\n  \\n  \\n  Jaksa juga menolak permohonan justice collaborator (JC) atau saksi pelaku yang bekerja sama dengan penegak hukum yang diajukan terdakwa Zumi Zola pada 25 Oktober 2018.\\n  \\n  \\n  \\n  Menjamurnya pusat perbelanjaan modern yang menawarkan kenyamanan bagi pengunjung bisa menjadi ancaman bagi pasar tradisional.'"
      ]
     },
     "execution_count": 15,
     "metadata": {},
     "output_type": "execute_result"
    }
   ],
   "source": [
    "feature[0]"
   ]
  },
  {
   "cell_type": "markdown",
   "metadata": {},
   "source": [
    "Tokenisasi Kalimat Langkah ini adalah untuk melakukan tokenisasi kalimat dari data teks\n",
    "Bahasa Indonesia yang telah didefinisikan dan akan digunakan dalam proses pemrosesan teks."
   ]
  },
  {
   "cell_type": "code",
   "execution_count": 16,
   "metadata": {},
   "outputs": [],
   "source": [
    "nlp = spacy.load(\"id_nusantara\")"
   ]
  },
  {
   "cell_type": "code",
   "execution_count": 17,
   "metadata": {},
   "outputs": [],
   "source": [
    "doc = nlp(feature[0])"
   ]
  },
  {
   "cell_type": "code",
   "execution_count": 18,
   "metadata": {},
   "outputs": [],
   "source": [
    "sentences = []\n",
    "clean = []\n",
    "originalSentenceOf = {}\n",
    "\n",
    "for sent in doc.sents:\n",
    "    if '\\n' not in sent.text:\n",
    "        cl = cleanData(sent.text)\n",
    "        sentences.append(sent.text)\n",
    "        clean.append(cl)\n",
    "        originalSentenceOf[cl] = sent.text\n",
    "\n",
    "setClean = set(clean)\n"
   ]
  },
  {
   "cell_type": "code",
   "execution_count": 19,
   "metadata": {},
   "outputs": [
    {
     "data": {
      "text/plain": [
       "['Nilai tukar rupiah terhadap dolar Amerika Serikat (AS) masih rawan bergejolak, meski akhirnya turun dari level Rp15.000.Sejumlah analis mengingatkan pergerakan positif kurs rupiah belakangan ini tak lepas dari peran dana asing jangka pendek dan spekulatif atau hot money yang kembali mengalir deras ke instrumen investasi portofolio Indonesia.',\n",
       " 'Oleh karena itu, posisi mata uang rupiah itu dinilai masih sangat rawan dari gejolak eksternal yang memicu aliran modal asing keluar (capital outflow).Pergerakan nilai tukar rupiah dalam transaksi antarbank di Jakarta, Jumat (9/11/2018) pagi , melemah sebesar 75 poin menjadi Rp14.555 -- dibandingkan posisi sebelumnya Rp14.480 per dolar AS.Analis senior CSA Research Institute, Reza Priyambada, mengatakan pergerakan rupiah cenderung mulai tertahan terhadap dolar AS menjelang pertemuan Komite Pasar Terbuka Federal (FOMC) bank sentral AS (The Fed) pada Desember nanti.',\n",
       " '\"Menjelang pertemuan The Fed, pergerakan rupiah berbalik turun,\" katanya dalam keterangan resmi, Jumat (9/11).Ia menambahkan peluang bagi the Fed untuk kenaikan suku bunga acuannya (Fed Fund Rate/FFR) secara berkala membuat pelaku pasar kembali beralih ke dolar AS. \"Pengetatan moneter di AS masih terus berlangsung hingga tahun mendatang,\" katanya.',\n",
       " 'Terkait dengan faktor eksternal yang melambungkan kurs rupiah, Bloomberg mewartakan ia adalah pemimpin penguatan di antara seluruh mata uang di Asia setelah Partai Demokrat berhasil mengambil alih kendali di Dewan Perwakilan Rakyat (DPR) dalam pemilu sela di AS. Hasil pemilu sela sekaligus membebani pergerakan dolar AS dan imbal hasil obligasi AS.Di sisi lain, Partai Republik, seperti yang telah diperkirakan, mempertahankan mayoritas kursinya di Senat.',\n",
       " 'Terbaginya kendali ini dipandang akan memperlemah dukungan bagi agenda pemerintahan Presiden Donald Trump ke depannya, meskipun diperkirakan tidak akan banyak memengaruhi kebijakan perdagangannya.',\n",
       " '\"Pasar negara berkembang (emerging market) akan mendapatkan keuntungan dari pelemahan dolar AS setelah pemilu sela, tetapi kelegaan ini hanya bersifat sementara saat kuatnya ekonomi AS akan mendukung greenback,\" kata Hannah Anderson, pakar strategi pasar global di JPMorgan Asset Management Hong Kong.',\n",
       " 'Tekanan dolar AS terhadap rupiah yang terus mereda terjadi sejak awal pekan ini.',\n",
       " 'Dolar AS yang tadinya berada di kisaran Rp15.100 kini berada di level Rp 14.500.Direktur Eksekutif Departemen Pengelolaan Moneter Bank Indonesia, Nanang Hendarsah, menyebutkan periode 29 Oktober 2018 hingga 7 November 2018 ada aliran dana asing masuk ke pasar uang melalui Surat Berharga Negara (SBN) sebesar Rp18,1 triliun.',\n",
       " 'Sementara itu pada periode 29 Oktober 2018 hingga 5 November 2018 ada aliran modal asing masuk ke pasar saham mencapai Rp2,07 triliun.\"',\n",
       " 'Selain faktor global, masuknya dana investor asing ini juga mencerminkan jika kepercayaan investor terhadap ekonomi domestik tetap kuat ditopang oleh pertumbuhan ekonomi yang stabil serta inflasi yang rendah,\" jelas Nanang kepada Beritagar.id, Jumat (9/11).Bank Indonesia mencatat posisi cadangan devisa Indonesia sebesar 115,2 miliar dolar pada akhir Oktober 2018.',\n",
       " 'Angka ini meningkat apabila dibandingkan dengan akhir September 2018 yang mencapai 114,8 miliar dolar.',\n",
       " 'Jumlah tersebut setara dengan 6,4 bulan impor atau 6,2 bulan impor, dua kali lipat dari standar kecukupan international.',\n",
       " 'BI mencatat peningkatan dipengaruhi oleh penerimaan devisa migas dan penarikan utang luar negeri (ULN) pemerintah yang lebih besar dari kebutuhan devisa untuk pembayaran ULN pemerintah dan stabilisasi nilai tukar rupiah.',\n",
       " 'Analis pasar uang Muhammad Nafan Aji Gusta menjelaskan penguatan rupiah idealnya ditopang oleh perbaikan fundamental ekonomi yang signifikan.',\n",
       " 'Misalnya dengan surplus ekspor sehingga mampu menyeimbangkan, bahkan membuat surplus neraca perdagangan dan neraca transaksi berjalan.',\n",
       " '\"Pergerakan dana ini sangat dinamis.',\n",
       " 'Aliran dana baik yang masuk maupun keluar begitu cepat, sehingga tidak bisa diandalkan untuk menjaga nilai tukar tetap stabil,\" ujar Nafan dalam Koran Jakarta.',\n",
       " 'Menurutnya, untuk menjaga stabilitas rupiah, pemerintah dan BI harus segera melakukan perbaikan struktural agar ke depan defisit transaksi berjalan tidak melebar.',\n",
       " 'Contohnya memacu investasi asing langsung di sektor riil atau foreign direct investment (FDI), khususnya yang berorientasi ekspor.',\n",
       " '\"Ini perlu dilakukan karena investasi asing di pasar saham dan obligasi bersifat hot money yang cukup rentan oleh sentimen global,\" jelasnya.']"
      ]
     },
     "execution_count": 19,
     "metadata": {},
     "output_type": "execute_result"
    }
   ],
   "source": [
    "sentences"
   ]
  },
  {
   "cell_type": "markdown",
   "metadata": {},
   "source": [
    "Similarity and MMR Calculation"
   ]
  },
  {
   "cell_type": "code",
   "execution_count": 20,
   "metadata": {},
   "outputs": [],
   "source": [
    "scores = {}\n",
    "for data in clean:\n",
    "    temp_doc = setClean - set([data])\n",
    "    score = calculateSimilarity(data, list(temp_doc))\n",
    "    scores[data] = score\n",
    "\n",
    "n = 20 * len(sentences) / 100\n",
    "alpha = 0.5\n",
    "summarySet = []\n",
    "\n",
    "while n > 0:\n",
    "    mmr = {}\n",
    "    \n",
    "    for sentence in scores.keys():\n",
    "        if not sentence in summarySet:\n",
    "            mmr[sentence] = alpha * scores[sentence] - (1 - alpha) * calculateSimilarity(sentence, summarySet)\n",
    "    \n",
    "    selected = max(mmr.items(), key=operator.itemgetter(1))[0]\n",
    "    summarySet.append(selected)\n",
    "    n -= 1\n"
   ]
  },
  {
   "cell_type": "code",
   "execution_count": 21,
   "metadata": {},
   "outputs": [
    {
     "name": "stdout",
     "output_type": "stream",
     "text": [
      "Ringkasan Artikel:\n",
      "\n",
      "Nilai tukar rupiah terhadap dolar Amerika Serikat (AS) masih rawan bergejolak, meski akhirnya turun dari level Rp15.000.Sejumlah analis mengingatkan pergerakan positif kurs rupiah belakangan ini tak lepas dari peran dana asing jangka pendek dan spekulatif atau hot money yang kembali mengalir deras ke instrumen investasi portofolio Indonesia.\n",
      "\n",
      "Angka ini meningkat apabila dibandingkan dengan akhir September 2018 yang mencapai 114,8 miliar dolar.\n",
      "\n",
      "Menurutnya, untuk menjaga stabilitas rupiah, pemerintah dan BI harus segera melakukan perbaikan struktural agar ke depan defisit transaksi berjalan tidak melebar.\n",
      "\n",
      "Selain faktor global, masuknya dana investor asing ini juga mencerminkan jika kepercayaan investor terhadap ekonomi domestik tetap kuat ditopang oleh pertumbuhan ekonomi yang stabil serta inflasi yang rendah,\" jelas Nanang kepada Beritagar.id, Jumat (9/11).Bank Indonesia mencatat posisi cadangan devisa Indonesia sebesar 115,2 miliar dolar pada akhir Oktober 2018.\n",
      "\n"
     ]
    }
   ],
   "source": [
    "print('Ringkasan Artikel:\\n')\n",
    "\n",
    "for sentence in summarySet:\n",
    "    print(originalSentenceOf[sentence].lstrip(' '))\n",
    "    print()\n"
   ]
  },
  {
   "cell_type": "code",
   "execution_count": 22,
   "metadata": {},
   "outputs": [
    {
     "data": {
      "text/plain": [
       "[('nilai tukar rupiah hadap dolar amerika serikat as masih rawan gejolak meski akhir turun dari level rp15 000 jumlah analis ingat gera positif kurs rupiah belakang ini tak lepas dari peran dana asing jangka pendek dan spekulatif atau hot money kembali alir deras ke instrumen investasi portofolio indonesia',\n",
       "  0.5843065474681433),\n",
       " ('tekan dolar as hadap rupiah terus reda jadi sejak awal pekan ini',\n",
       "  0.5232045649263551),\n",
       " ('selain faktor global masuk dana investor asing ini juga cermin jika percaya investor hadap ekonomi domestik tetap kuat topang oleh tumbuh ekonomi stabil serta inflasi rendah jelas nanang kepada beritagar id jumat 9 11 bank indonesia catat posisi cadang devisa indonesia besar 115 2 miliar dolar pada akhir oktober 2018',\n",
       "  0.5232045649263551),\n",
       " ('angka ini tingkat apabila banding dengan akhir september 2018 capai 114 8 miliar dolar',\n",
       "  0.5232045649263551),\n",
       " ('gera dana ini sangat dinamis', 0.5232045649263551),\n",
       " ('ini perlu laku karena investasi asing di pasar saham dan obligasi sifat hot money cukup rentan oleh sentimen global jelas',\n",
       "  0.5232045649263551),\n",
       " ('turut untuk jaga stabilitas rupiah perintah dan bi harus segera laku baik struktural agar ke depan defisit transaksi jalan tidak lebar',\n",
       "  0.4243342123957527),\n",
       " ('pasar negara kembang emerging market akan dapat untung dari lemah dolar as telah milu sela tetapi lega ini hanya sifat sementara saat kuat ekonomi as akan dukung greenback kata hannah anderson pakar strategi pasar global di jpmorgan asset management hong kong',\n",
       "  0.41964345453112645),\n",
       " ('jelang temu the fed gera rupiah balik turun kata dalam terang resmi jumat 9 11 ia tambah peluang bagi the fed untuk naik suku bunga acu fed fund rate ffr cara kala buat laku pasar kembali alih ke dolar as ketat moneter di as masih terus langsung hingga tahun datang kata',\n",
       "  0.37099925800222594),\n",
       " ('dolar as tadi ada di kisar rp15 100 kini ada di level rp 14 500 direktur eksekutif departemen kelola moneter bank indonesia nanang hendarsah sebut periode 29 oktober 2018 hingga 7 november 2018 ada alir dana asing masuk ke pasar uang lalu surat harga negara sbn besar rp18 1 triliun',\n",
       "  0.3696106354772864),\n",
       " ('sementara itu pada periode 29 oktober 2018 hingga 5 november 2018 ada alir modal asing masuk ke pasar saham capai rp2 07 triliun',\n",
       "  0.3696106354772864),\n",
       " ('bagi kendali ini pandang akan lemah dukung bagi agenda perintah presiden donald trump ke depan meski kira tidak akan banyak pengaruh bijak dagang',\n",
       "  0.3334864844249579),\n",
       " ('bi catat tingkat pengaruh oleh terima devisa migas dan tari utang luar negeri uln perintah lebih besar dari butuh devisa untuk bayar uln perintah dan stabilisasi nilai tukar rupiah',\n",
       "  0.1671315676162189),\n",
       " ('oleh karena itu posisi mata uang rupiah itu nilai masih sangat rawan dari gejolak eksternal picu alir modal asing keluar capital outflow gera nilai tukar rupiah dalam transaksi antarbank di jakarta jumat 9 11 2018 pagi lemah besar 75 poin jadi rp14 555 -- banding posisi belum rp14 480 per dolar as analis senior csa research institute reza priyambada kata gera rupiah cenderung mulai tahan hadap dolar as jelang temu komite pasar buka federal fomc bank sentral as the fed pada desember nanti',\n",
       "  0.14547859349066158),\n",
       " ('alir dana baik masuk maupun keluar begitu cepat sehingga tidak bisa andal untuk jaga nilai tukar tetap stabil ujar naf dalam koran jakarta',\n",
       "  0.14547859349066158),\n",
       " ('kait dengan faktor eksternal lambung kurs rupiah bloomberg warta ia adalah pimpin kuat di antara seluruh mata uang di asia telah partai demokrat hasil ambil alih kendali di dewan wakil rakyat dpr dalam milu sela di as hasil milu sela sekaligus beban gera dolar as dan imbal hasil obligasi as di sisi lain partai republik seperti telah kira tahan mayoritas kursi di senat',\n",
       "  0.10314212462587934),\n",
       " ('misal dengan surplus ekspor sehingga mampu imbang bahkan buat surplus neraca dagang dan neraca transaksi jalan',\n",
       "  0.07235746052924216),\n",
       " ('jumlah sebut tara dengan 6 4 bulan impor atau 6 2 bulan impor dua kali lipat dari standar cukup international',\n",
       "  0.0),\n",
       " ('analis pasar uang muhammad naf aji gusta jelas kuat rupiah ideal topang oleh baik fundamental ekonomi signifikan',\n",
       "  0.0),\n",
       " ('contoh pacu investasi asing langsung di sektor riil atau foreign direct investment fdi khusus orientasi ekspor',\n",
       "  0.0)]"
      ]
     },
     "execution_count": 22,
     "metadata": {},
     "output_type": "execute_result"
    }
   ],
   "source": [
    "sentence_score_sorted = sorted(scores.items(), key=lambda x:x[1], reverse=True)\n",
    "sentence_score_sorted"
   ]
  },
  {
   "cell_type": "code",
   "execution_count": 23,
   "metadata": {},
   "outputs": [
    {
     "name": "stdout",
     "output_type": "stream",
     "text": [
      "=============================================================\n",
      "\n",
      "Artikel sebenarnya:\n",
      "\n"
     ]
    },
    {
     "data": {
      "text/html": [
       "<text style=color:green>Nilai tukar rupiah terhadap dolar Amerika Serikat (AS) masih rawan bergejolak, meski akhirnya turun dari level Rp15.000.Sejumlah analis mengingatkan pergerakan positif kurs rupiah belakangan ini tak lepas dari peran dana asing jangka pendek dan spekulatif atau hot money yang kembali mengalir deras ke instrumen investasi portofolio Indonesia.</text>"
      ],
      "text/plain": [
       "<IPython.core.display.HTML object>"
      ]
     },
     "metadata": {},
     "output_type": "display_data"
    },
    {
     "data": {
      "text/html": [
       "<text style=color:black>Oleh karena itu, posisi mata uang rupiah itu dinilai masih sangat rawan dari gejolak eksternal yang memicu aliran modal asing keluar (capital outflow).Pergerakan nilai tukar rupiah dalam transaksi antarbank di Jakarta, Jumat (9/11/2018) pagi , melemah sebesar 75 poin menjadi Rp14.555 -- dibandingkan posisi sebelumnya Rp14.480 per dolar AS.Analis senior CSA Research Institute, Reza Priyambada, mengatakan pergerakan rupiah cenderung mulai tertahan terhadap dolar AS menjelang pertemuan Komite Pasar Terbuka Federal (FOMC) bank sentral AS (The Fed) pada Desember nanti.</text>"
      ],
      "text/plain": [
       "<IPython.core.display.HTML object>"
      ]
     },
     "metadata": {},
     "output_type": "display_data"
    },
    {
     "data": {
      "text/html": [
       "<text style=color:black>\"Menjelang pertemuan The Fed, pergerakan rupiah berbalik turun,\" katanya dalam keterangan resmi, Jumat (9/11).Ia menambahkan peluang bagi the Fed untuk kenaikan suku bunga acuannya (Fed Fund Rate/FFR) secara berkala membuat pelaku pasar kembali beralih ke dolar AS. \"Pengetatan moneter di AS masih terus berlangsung hingga tahun mendatang,\" katanya.</text>"
      ],
      "text/plain": [
       "<IPython.core.display.HTML object>"
      ]
     },
     "metadata": {},
     "output_type": "display_data"
    },
    {
     "data": {
      "text/html": [
       "<text style=color:black>Terkait dengan faktor eksternal yang melambungkan kurs rupiah, Bloomberg mewartakan ia adalah pemimpin penguatan di antara seluruh mata uang di Asia setelah Partai Demokrat berhasil mengambil alih kendali di Dewan Perwakilan Rakyat (DPR) dalam pemilu sela di AS. Hasil pemilu sela sekaligus membebani pergerakan dolar AS dan imbal hasil obligasi AS.Di sisi lain, Partai Republik, seperti yang telah diperkirakan, mempertahankan mayoritas kursinya di Senat.</text>"
      ],
      "text/plain": [
       "<IPython.core.display.HTML object>"
      ]
     },
     "metadata": {},
     "output_type": "display_data"
    },
    {
     "data": {
      "text/html": [
       "<text style=color:black>Terbaginya kendali ini dipandang akan memperlemah dukungan bagi agenda pemerintahan Presiden Donald Trump ke depannya, meskipun diperkirakan tidak akan banyak memengaruhi kebijakan perdagangannya.</text>"
      ],
      "text/plain": [
       "<IPython.core.display.HTML object>"
      ]
     },
     "metadata": {},
     "output_type": "display_data"
    },
    {
     "data": {
      "text/html": [
       "<text style=color:black>\"Pasar negara berkembang (emerging market) akan mendapatkan keuntungan dari pelemahan dolar AS setelah pemilu sela, tetapi kelegaan ini hanya bersifat sementara saat kuatnya ekonomi AS akan mendukung greenback,\" kata Hannah Anderson, pakar strategi pasar global di JPMorgan Asset Management Hong Kong.</text>"
      ],
      "text/plain": [
       "<IPython.core.display.HTML object>"
      ]
     },
     "metadata": {},
     "output_type": "display_data"
    },
    {
     "data": {
      "text/html": [
       "<text style=color:black>Tekanan dolar AS terhadap rupiah yang terus mereda terjadi sejak awal pekan ini.</text>"
      ],
      "text/plain": [
       "<IPython.core.display.HTML object>"
      ]
     },
     "metadata": {},
     "output_type": "display_data"
    },
    {
     "data": {
      "text/html": [
       "<text style=color:black>Dolar AS yang tadinya berada di kisaran Rp15.100 kini berada di level Rp 14.500.Direktur Eksekutif Departemen Pengelolaan Moneter Bank Indonesia, Nanang Hendarsah, menyebutkan periode 29 Oktober 2018 hingga 7 November 2018 ada aliran dana asing masuk ke pasar uang melalui Surat Berharga Negara (SBN) sebesar Rp18,1 triliun.</text>"
      ],
      "text/plain": [
       "<IPython.core.display.HTML object>"
      ]
     },
     "metadata": {},
     "output_type": "display_data"
    },
    {
     "data": {
      "text/html": [
       "<text style=color:black>Sementara itu pada periode 29 Oktober 2018 hingga 5 November 2018 ada aliran modal asing masuk ke pasar saham mencapai Rp2,07 triliun.\"</text>"
      ],
      "text/plain": [
       "<IPython.core.display.HTML object>"
      ]
     },
     "metadata": {},
     "output_type": "display_data"
    },
    {
     "data": {
      "text/html": [
       "<text style=color:green>Selain faktor global, masuknya dana investor asing ini juga mencerminkan jika kepercayaan investor terhadap ekonomi domestik tetap kuat ditopang oleh pertumbuhan ekonomi yang stabil serta inflasi yang rendah,\" jelas Nanang kepada Beritagar.id, Jumat (9/11).Bank Indonesia mencatat posisi cadangan devisa Indonesia sebesar 115,2 miliar dolar pada akhir Oktober 2018.</text>"
      ],
      "text/plain": [
       "<IPython.core.display.HTML object>"
      ]
     },
     "metadata": {},
     "output_type": "display_data"
    },
    {
     "data": {
      "text/html": [
       "<text style=color:green>Angka ini meningkat apabila dibandingkan dengan akhir September 2018 yang mencapai 114,8 miliar dolar.</text>"
      ],
      "text/plain": [
       "<IPython.core.display.HTML object>"
      ]
     },
     "metadata": {},
     "output_type": "display_data"
    },
    {
     "data": {
      "text/html": [
       "<text style=color:black>Jumlah tersebut setara dengan 6,4 bulan impor atau 6,2 bulan impor, dua kali lipat dari standar kecukupan international.</text>"
      ],
      "text/plain": [
       "<IPython.core.display.HTML object>"
      ]
     },
     "metadata": {},
     "output_type": "display_data"
    },
    {
     "data": {
      "text/html": [
       "<text style=color:black>BI mencatat peningkatan dipengaruhi oleh penerimaan devisa migas dan penarikan utang luar negeri (ULN) pemerintah yang lebih besar dari kebutuhan devisa untuk pembayaran ULN pemerintah dan stabilisasi nilai tukar rupiah.</text>"
      ],
      "text/plain": [
       "<IPython.core.display.HTML object>"
      ]
     },
     "metadata": {},
     "output_type": "display_data"
    },
    {
     "data": {
      "text/html": [
       "<text style=color:black>Analis pasar uang Muhammad Nafan Aji Gusta menjelaskan penguatan rupiah idealnya ditopang oleh perbaikan fundamental ekonomi yang signifikan.</text>"
      ],
      "text/plain": [
       "<IPython.core.display.HTML object>"
      ]
     },
     "metadata": {},
     "output_type": "display_data"
    },
    {
     "data": {
      "text/html": [
       "<text style=color:black>Misalnya dengan surplus ekspor sehingga mampu menyeimbangkan, bahkan membuat surplus neraca perdagangan dan neraca transaksi berjalan.</text>"
      ],
      "text/plain": [
       "<IPython.core.display.HTML object>"
      ]
     },
     "metadata": {},
     "output_type": "display_data"
    },
    {
     "data": {
      "text/html": [
       "<text style=color:black>\"Pergerakan dana ini sangat dinamis.</text>"
      ],
      "text/plain": [
       "<IPython.core.display.HTML object>"
      ]
     },
     "metadata": {},
     "output_type": "display_data"
    },
    {
     "data": {
      "text/html": [
       "<text style=color:black>Aliran dana baik yang masuk maupun keluar begitu cepat, sehingga tidak bisa diandalkan untuk menjaga nilai tukar tetap stabil,\" ujar Nafan dalam Koran Jakarta.</text>"
      ],
      "text/plain": [
       "<IPython.core.display.HTML object>"
      ]
     },
     "metadata": {},
     "output_type": "display_data"
    },
    {
     "data": {
      "text/html": [
       "<text style=color:green>Menurutnya, untuk menjaga stabilitas rupiah, pemerintah dan BI harus segera melakukan perbaikan struktural agar ke depan defisit transaksi berjalan tidak melebar.</text>"
      ],
      "text/plain": [
       "<IPython.core.display.HTML object>"
      ]
     },
     "metadata": {},
     "output_type": "display_data"
    },
    {
     "data": {
      "text/html": [
       "<text style=color:black>Contohnya memacu investasi asing langsung di sektor riil atau foreign direct investment (FDI), khususnya yang berorientasi ekspor.</text>"
      ],
      "text/plain": [
       "<IPython.core.display.HTML object>"
      ]
     },
     "metadata": {},
     "output_type": "display_data"
    },
    {
     "data": {
      "text/html": [
       "<text style=color:black>\"Ini perlu dilakukan karena investasi asing di pasar saham dan obligasi bersifat hot money yang cukup rentan oleh sentimen global,\" jelasnya.</text>"
      ],
      "text/plain": [
       "<IPython.core.display.HTML object>"
      ]
     },
     "metadata": {},
     "output_type": "display_data"
    }
   ],
   "source": [
    "print('=============================================================')\n",
    "print('\\nArtikel sebenarnya:\\n')\n",
    "\n",
    "for sentence in clean:\n",
    "    if sentence in summarySet:\n",
    "        print_color(((originalSentenceOf[sentence].lstrip(' '), 'green'),))\n",
    "    else:\n",
    "        print_color(((originalSentenceOf[sentence].lstrip(' '), 'black'),))\n"
   ]
  },
  {
   "cell_type": "code",
   "execution_count": null,
   "metadata": {},
   "outputs": [],
   "source": []
  }
 ],
 "metadata": {
  "kernelspec": {
   "display_name": "base",
   "language": "python",
   "name": "python3"
  },
  "language_info": {
   "codemirror_mode": {
    "name": "ipython",
    "version": 3
   },
   "file_extension": ".py",
   "mimetype": "text/x-python",
   "name": "python",
   "nbconvert_exporter": "python",
   "pygments_lexer": "ipython3",
   "version": "3.11.5"
  }
 },
 "nbformat": 4,
 "nbformat_minor": 2
}
