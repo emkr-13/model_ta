{
 "cells": [
  {
   "cell_type": "markdown",
   "metadata": {},
   "source": [
    "## pba-modul3-id-text-summarization"
   ]
  },
  {
   "cell_type": "markdown",
   "metadata": {},
   "source": [
    "- Nama : Emmanuel Mathew Krisna Rata \n",
    "- NPM: 200710530"
   ]
  },
  {
   "cell_type": "markdown",
   "metadata": {},
   "source": [
    "1.2.1 Inisialisasi"
   ]
  },
  {
   "cell_type": "code",
   "execution_count": 1,
   "metadata": {},
   "outputs": [],
   "source": [
    "import os\n",
    "import re\n",
    "import sys\n",
    "from Sastrawi.Stemmer.StemmerFactory import StemmerFactory\n",
    "from sklearn.feature_extraction.text import CountVectorizer\n",
    "from sklearn.metrics.pairwise import cosine_similarity\n",
    "from IPython.display import HTML as html_print\n",
    "from IPython.display import display\n",
    "import pandas as pd\n",
    "import operator\n",
    "import spacy"
   ]
  },
  {
   "cell_type": "markdown",
   "metadata": {},
   "source": [
    "1.2.2 Text Summarization"
   ]
  },
  {
   "cell_type": "code",
   "execution_count": 2,
   "metadata": {},
   "outputs": [],
   "source": [
    "factory = StemmerFactory()\n",
    "stemmer = factory.create_stemmer()"
   ]
  },
  {
   "cell_type": "code",
   "execution_count": 3,
   "metadata": {},
   "outputs": [],
   "source": [
    "def load_stopWords():\n",
    "    f = open('stopword.txt', 'r');\n",
    "    return f.readlines()\n",
    "stopwords = load_stopWords()"
   ]
  },
  {
   "cell_type": "code",
   "execution_count": 4,
   "metadata": {},
   "outputs": [
    {
     "data": {
      "text/plain": [
       "['\\n',\n",
       " 'ada\\n',\n",
       " 'adanya\\n',\n",
       " 'adalah\\n',\n",
       " 'adapun\\n',\n",
       " 'agak\\n',\n",
       " 'agaknya\\n',\n",
       " 'agar\\n',\n",
       " 'akan\\n',\n",
       " 'akankah\\n',\n",
       " 'akhirnya\\n',\n",
       " 'aku\\n',\n",
       " 'akulah\\n',\n",
       " 'amat\\n',\n",
       " 'amatlah\\n',\n",
       " 'anda\\n',\n",
       " 'andalah\\n',\n",
       " 'antar\\n',\n",
       " 'diantaranya\\n',\n",
       " 'antara\\n',\n",
       " 'antaranya\\n',\n",
       " 'diantara\\n',\n",
       " 'apa\\n',\n",
       " 'apaan\\n',\n",
       " 'mengapa\\n',\n",
       " 'apabila\\n',\n",
       " 'apakah\\n',\n",
       " 'apalagi\\n',\n",
       " 'apatah\\n',\n",
       " 'atau\\n',\n",
       " 'ataukah\\n',\n",
       " 'ataupun\\n',\n",
       " 'bagai\\n',\n",
       " 'bagaikan\\n',\n",
       " 'sebagai\\n',\n",
       " 'sebagainya\\n',\n",
       " 'bagaimana\\n',\n",
       " 'bagaimanapun\\n',\n",
       " 'sebagaimana\\n',\n",
       " 'bagaimanakah\\n',\n",
       " 'bagi\\n',\n",
       " 'bahkan\\n',\n",
       " 'bahwa\\n',\n",
       " 'bahwasanya\\n',\n",
       " 'sebaliknya\\n',\n",
       " 'banyak\\n',\n",
       " 'sebanyak\\n',\n",
       " 'beberapa\\n',\n",
       " 'seberapa\\n',\n",
       " 'begini\\n',\n",
       " 'beginian\\n',\n",
       " 'beginikah\\n',\n",
       " 'beginilah\\n',\n",
       " 'sebegini\\n',\n",
       " 'begitu\\n',\n",
       " 'begitukah\\n',\n",
       " 'begitulah\\n',\n",
       " 'begitupun\\n',\n",
       " 'sebegitu\\n',\n",
       " 'belum\\n',\n",
       " 'belumlah\\n',\n",
       " 'sebelum\\n',\n",
       " 'sebelumnya\\n',\n",
       " 'sebenarnya\\n',\n",
       " 'berapa\\n',\n",
       " 'berapakah\\n',\n",
       " 'berapalah\\n',\n",
       " 'berapapun\\n',\n",
       " 'betulkah\\n',\n",
       " 'sebetulnya\\n',\n",
       " 'biasa\\n',\n",
       " 'biasanya\\n',\n",
       " 'bila\\n',\n",
       " 'bilakah\\n',\n",
       " 'bisa\\n',\n",
       " 'bisakah\\n',\n",
       " 'sebisanya\\n',\n",
       " 'boleh\\n',\n",
       " 'bolehkah\\n',\n",
       " 'bolehlah\\n',\n",
       " 'buat\\n',\n",
       " 'bukan\\n',\n",
       " 'bukankah\\n',\n",
       " 'bukanlah\\n',\n",
       " 'bukannya\\n',\n",
       " 'cuma\\n',\n",
       " 'percuma\\n',\n",
       " 'dahulu\\n',\n",
       " 'dalam\\n',\n",
       " 'dan\\n',\n",
       " 'dapat\\n',\n",
       " 'dari\\n',\n",
       " 'daripada\\n',\n",
       " 'dekat\\n',\n",
       " 'demi\\n',\n",
       " 'demikian\\n',\n",
       " 'demikianlah\\n',\n",
       " 'sedemikian\\n',\n",
       " 'dengan\\n',\n",
       " 'depan\\n',\n",
       " 'di\\n',\n",
       " 'dia\\n',\n",
       " 'dialah\\n',\n",
       " 'dini\\n',\n",
       " 'diri\\n',\n",
       " 'dirinya\\n',\n",
       " 'terdiri\\n',\n",
       " 'dong\\n',\n",
       " 'dulu\\n',\n",
       " 'enggak\\n',\n",
       " 'enggaknya\\n',\n",
       " 'entah\\n',\n",
       " 'entahlah\\n',\n",
       " 'terhadap\\n',\n",
       " 'terhadapnya\\n',\n",
       " 'hal\\n',\n",
       " 'hampir\\n',\n",
       " 'hanya\\n',\n",
       " 'hanyalah\\n',\n",
       " 'harus\\n',\n",
       " 'haruslah\\n',\n",
       " 'harusnya\\n',\n",
       " 'seharusnya\\n',\n",
       " 'hendak\\n',\n",
       " 'hendaklah\\n',\n",
       " 'hendaknya\\n',\n",
       " 'hingga\\n',\n",
       " 'sehingga\\n',\n",
       " 'ia\\n',\n",
       " 'ialah\\n',\n",
       " 'ibarat\\n',\n",
       " 'ingin\\n',\n",
       " 'inginkah\\n',\n",
       " 'inginkan\\n',\n",
       " 'ini\\n',\n",
       " 'inikah\\n',\n",
       " 'inilah\\n',\n",
       " 'itu\\n',\n",
       " 'itukah\\n',\n",
       " 'itulah\\n',\n",
       " 'jangan\\n',\n",
       " 'jangankan\\n',\n",
       " 'janganlah\\n',\n",
       " 'jika\\n',\n",
       " 'jikalau\\n',\n",
       " 'juga\\n',\n",
       " 'justru\\n',\n",
       " 'kala\\n',\n",
       " 'kalau\\n',\n",
       " 'kalaulah\\n',\n",
       " 'kalaupun\\n',\n",
       " 'kalian\\n',\n",
       " 'kami\\n',\n",
       " 'kamilah\\n',\n",
       " 'kamu\\n',\n",
       " 'kamulah\\n',\n",
       " 'kan\\n',\n",
       " 'kapan\\n',\n",
       " 'kapankah\\n',\n",
       " 'kapanpun\\n',\n",
       " 'dikarenakan\\n',\n",
       " 'karena\\n',\n",
       " 'karenanya\\n',\n",
       " 'ke\\n',\n",
       " 'kecil\\n',\n",
       " 'kemudian\\n',\n",
       " 'kenapa\\n',\n",
       " 'kepada\\n',\n",
       " 'kepadanya\\n',\n",
       " 'ketika\\n',\n",
       " 'seketika\\n',\n",
       " 'khususnya\\n',\n",
       " 'kini\\n',\n",
       " 'kinilah\\n',\n",
       " 'kiranya\\n',\n",
       " 'sekiranya\\n',\n",
       " 'kita\\n',\n",
       " 'kitalah\\n',\n",
       " 'kok\\n',\n",
       " 'lagi\\n',\n",
       " 'lagian\\n',\n",
       " 'selagi\\n',\n",
       " 'lah\\n',\n",
       " 'lain\\n',\n",
       " 'lainnya\\n',\n",
       " 'melainkan\\n',\n",
       " 'selaku\\n',\n",
       " 'lalu\\n',\n",
       " 'melalui\\n',\n",
       " 'terlalu\\n',\n",
       " 'lama\\n',\n",
       " 'lamanya\\n',\n",
       " 'selama\\n',\n",
       " 'selama\\n',\n",
       " 'selamanya\\n',\n",
       " 'lebih\\n',\n",
       " 'terlebih\\n',\n",
       " 'bermacam\\n',\n",
       " 'macam\\n',\n",
       " 'semacam\\n',\n",
       " 'maka\\n',\n",
       " 'makanya\\n',\n",
       " 'makin\\n',\n",
       " 'malah\\n',\n",
       " 'malahan\\n',\n",
       " 'mampu\\n',\n",
       " 'mampukah\\n',\n",
       " 'mana\\n',\n",
       " 'manakala\\n',\n",
       " 'manalagi\\n',\n",
       " 'masih\\n',\n",
       " 'masihkah\\n',\n",
       " 'semasih\\n',\n",
       " 'masing\\n',\n",
       " 'mau\\n',\n",
       " 'maupun\\n',\n",
       " 'semaunya\\n',\n",
       " 'memang\\n',\n",
       " 'mereka\\n',\n",
       " 'merekalah\\n',\n",
       " 'meski\\n',\n",
       " 'meskipun\\n',\n",
       " 'semula\\n',\n",
       " 'mungkin\\n',\n",
       " 'mungkinkah\\n',\n",
       " 'nah\\n',\n",
       " 'namun\\n',\n",
       " 'nanti\\n',\n",
       " 'nantinya\\n',\n",
       " 'nyaris\\n',\n",
       " 'oleh\\n',\n",
       " 'olehnya\\n',\n",
       " 'seorang\\n',\n",
       " 'seseorang\\n',\n",
       " 'pada\\n',\n",
       " 'padanya\\n',\n",
       " 'padahal\\n',\n",
       " 'paling\\n',\n",
       " 'sepanjang\\n',\n",
       " 'pantas\\n',\n",
       " 'sepantasnya\\n',\n",
       " 'sepantasnyalah\\n',\n",
       " 'para\\n',\n",
       " 'pasti\\n',\n",
       " 'pastilah\\n',\n",
       " 'per\\n',\n",
       " 'pernah\\n',\n",
       " 'pula\\n',\n",
       " 'pun\\n',\n",
       " 'merupakan\\n',\n",
       " 'rupanya\\n',\n",
       " 'serupa\\n',\n",
       " 'saat\\n',\n",
       " 'saatnya\\n',\n",
       " 'sesaat\\n',\n",
       " 'saja\\n',\n",
       " 'sajalah\\n',\n",
       " 'saling\\n',\n",
       " 'bersama\\n',\n",
       " 'sama\\n',\n",
       " 'sesama\\n',\n",
       " 'sambil\\n',\n",
       " 'sampai\\n',\n",
       " 'sana\\n',\n",
       " 'sangat\\n',\n",
       " 'sangatlah\\n',\n",
       " 'saya\\n',\n",
       " 'sayalah\\n',\n",
       " 'se\\n',\n",
       " 'sebab\\n',\n",
       " 'sebabnya\\n',\n",
       " 'sebuah\\n',\n",
       " 'tersebut\\n',\n",
       " 'tersebutlah\\n',\n",
       " 'sedang\\n',\n",
       " 'sedangkan\\n',\n",
       " 'sedikit\\n',\n",
       " 'sedikitnya\\n',\n",
       " 'segala\\n',\n",
       " 'segalanya\\n',\n",
       " 'segera\\n',\n",
       " 'sesegera\\n',\n",
       " 'sejak\\n',\n",
       " 'sejenak\\n',\n",
       " 'sekali\\n',\n",
       " 'sekalian\\n',\n",
       " 'sekalipun\\n',\n",
       " 'sesekali\\n',\n",
       " 'sekaligus\\n',\n",
       " 'sekarang\\n',\n",
       " 'sekarang\\n',\n",
       " 'sekitar\\n',\n",
       " 'sekitarnya\\n',\n",
       " 'sela\\n',\n",
       " 'selain\\n',\n",
       " 'selalu\\n',\n",
       " 'seluruh\\n',\n",
       " 'seluruhnya\\n',\n",
       " 'semakin\\n',\n",
       " 'sementara\\n',\n",
       " 'sempat\\n',\n",
       " 'semua\\n',\n",
       " 'semuanya\\n',\n",
       " 'sendiri\\n',\n",
       " 'sendirinya\\n',\n",
       " 'seolah\\n',\n",
       " 'seperti\\n',\n",
       " 'sepertinya\\n',\n",
       " 'sering\\n',\n",
       " 'seringnya\\n',\n",
       " 'serta\\n',\n",
       " 'siapa\\n',\n",
       " 'siapakah\\n',\n",
       " 'siapapun\\n',\n",
       " 'disini\\n',\n",
       " 'disinilah\\n',\n",
       " 'sini\\n',\n",
       " 'sinilah\\n',\n",
       " 'sesuatu\\n',\n",
       " 'sesuatunya\\n',\n",
       " 'suatu\\n',\n",
       " 'sesudah\\n',\n",
       " 'sesudahnya\\n',\n",
       " 'sudah\\n',\n",
       " 'sudahkah\\n',\n",
       " 'sudahlah\\n',\n",
       " 'supaya\\n',\n",
       " 'tadi\\n',\n",
       " 'tadinya\\n',\n",
       " 'tak\\n',\n",
       " 'tanpa\\n',\n",
       " 'setelah\\n',\n",
       " 'telah\\n',\n",
       " 'tentang\\n',\n",
       " 'tentu\\n',\n",
       " 'tentulah\\n',\n",
       " 'tentunya\\n',\n",
       " 'tertentu\\n',\n",
       " 'seterusnya\\n',\n",
       " 'tapi\\n',\n",
       " 'tetapi\\n',\n",
       " 'setiap\\n',\n",
       " 'tiap\\n',\n",
       " 'setidaknya\\n',\n",
       " 'tidak\\n',\n",
       " 'tidakkah\\n',\n",
       " 'tidaklah\\n',\n",
       " 'toh\\n',\n",
       " 'waduh\\n',\n",
       " 'wah\\n',\n",
       " 'wahai\\n',\n",
       " 'sewaktu\\n',\n",
       " 'walau\\n',\n",
       " 'walaupun\\n',\n",
       " 'wong\\n',\n",
       " 'yaitu\\n',\n",
       " 'yakni\\n',\n",
       " 'yang']"
      ]
     },
     "execution_count": 4,
     "metadata": {},
     "output_type": "execute_result"
    }
   ],
   "source": [
    "stopwords"
   ]
  },
  {
   "cell_type": "code",
   "execution_count": 5,
   "metadata": {},
   "outputs": [],
   "source": [
    "from sklearn.feature_extraction.text import CountVectorizer\n",
    "from sklearn.metrics.pairwise import cosine_similarity\n",
    "from IPython.display import display, HTML"
   ]
  },
  {
   "cell_type": "code",
   "execution_count": 6,
   "metadata": {},
   "outputs": [],
   "source": [
    "def cleanData(sentence):\n",
    "    ret = []\n",
    "    sentence = stemmer.stem(sentence)  # Stemming (not defined here)\n",
    "    \n",
    "    for word in sentence.split():\n",
    "        if not word in stopwords:  # Stopword removal (not defined here)\n",
    "            ret.append(word)\n",
    "    \n",
    "    return \" \".join(ret)\n",
    "\n",
    "def getVectorSpace(cleanSet):\n",
    "    vocab = {}\n",
    "    \n",
    "    for data in cleanSet:\n",
    "        for word in data.split():\n",
    "            vocab[data] = 0\n",
    "    \n",
    "    return vocab.keys()\n",
    "\n",
    "def calculateSimilarity(sentence, doc):\n",
    "    if doc == []:\n",
    "        return 0\n",
    "    \n",
    "    vocab = {}\n",
    "    \n",
    "    for word in sentence:\n",
    "        vocab[word] = 0\n",
    "    \n",
    "    docInOneSentence = ''\n",
    "    \n",
    "    for t in doc:\n",
    "        docInOneSentence += (t + ' ')\n",
    "    \n",
    "    for word in t.split():\n",
    "        vocab[word] = 0\n",
    "    \n",
    "    cv = CountVectorizer(vocabulary=vocab.keys())\n",
    "    docVector = cv.fit_transform([docInOneSentence])\n",
    "    sentenceVector = cv.fit_transform([sentence])\n",
    "    \n",
    "    return cosine_similarity(docVector, sentenceVector)[0][0]\n",
    "\n",
    "def cstr(s, color='black'):\n",
    "    return \"<text style=color:{}>{}</text>\".format(color, s)\n",
    "\n",
    "def print_color(t):\n",
    "    display(HTML(' '.join([cstr(ti, color=ci) for ti, ci in t])))"
   ]
  },
  {
   "cell_type": "code",
   "execution_count": 7,
   "metadata": {},
   "outputs": [
    {
     "data": {
      "text/html": [
       "<div>\n",
       "<style scoped>\n",
       "    .dataframe tbody tr th:only-of-type {\n",
       "        vertical-align: middle;\n",
       "    }\n",
       "\n",
       "    .dataframe tbody tr th {\n",
       "        vertical-align: top;\n",
       "    }\n",
       "\n",
       "    .dataframe thead th {\n",
       "        text-align: right;\n",
       "    }\n",
       "</style>\n",
       "<table border=\"1\" class=\"dataframe\">\n",
       "  <thead>\n",
       "    <tr style=\"text-align: right;\">\n",
       "      <th></th>\n",
       "      <th>content</th>\n",
       "    </tr>\n",
       "  </thead>\n",
       "  <tbody>\n",
       "    <tr>\n",
       "      <th>0</th>\n",
       "      <td>Ketua Umum PDIP, Megawati Soekarnoputri mengin...</td>\n",
       "    </tr>\n",
       "    <tr>\n",
       "      <th>1</th>\n",
       "      <td>Sekjen PDIP Hasto Kristiyanto berbicara terkai...</td>\n",
       "    </tr>\n",
       "    <tr>\n",
       "      <th>2</th>\n",
       "      <td>Presiden Joko Widodo memimpin upacara peringat...</td>\n",
       "    </tr>\n",
       "    <tr>\n",
       "      <th>3</th>\n",
       "      <td>Pasangan capres-cawapres dari Koalisi Perubaha...</td>\n",
       "    </tr>\n",
       "    <tr>\n",
       "      <th>4</th>\n",
       "      <td>Presiden Joko Widodo memimpin upacara peringat...</td>\n",
       "    </tr>\n",
       "    <tr>\n",
       "      <th>...</th>\n",
       "      <td>...</td>\n",
       "    </tr>\n",
       "    <tr>\n",
       "      <th>95</th>\n",
       "      <td>JAKARTA, KOMPAS.com - Ketua Umum PDI Perjuanga...</td>\n",
       "    </tr>\n",
       "    <tr>\n",
       "      <th>96</th>\n",
       "      <td>JAKARTA, KOMPAS.com - Ketua Umum PDI Perjuanga...</td>\n",
       "    </tr>\n",
       "    <tr>\n",
       "      <th>97</th>\n",
       "      <td>JAKARTA, KOMPAS.com - Ketua Umum PDI Perjuanga...</td>\n",
       "    </tr>\n",
       "    <tr>\n",
       "      <th>98</th>\n",
       "      <td>JAKARTA, KOMPAS.com - Rapat Kerja Nasional (Ra...</td>\n",
       "    </tr>\n",
       "    <tr>\n",
       "      <th>99</th>\n",
       "      <td>JAKARTA, KOMPAS.com - Ketua DPP PDI-P Djarot S...</td>\n",
       "    </tr>\n",
       "  </tbody>\n",
       "</table>\n",
       "<p>100 rows × 1 columns</p>\n",
       "</div>"
      ],
      "text/plain": [
       "                                              content\n",
       "0   Ketua Umum PDIP, Megawati Soekarnoputri mengin...\n",
       "1   Sekjen PDIP Hasto Kristiyanto berbicara terkai...\n",
       "2   Presiden Joko Widodo memimpin upacara peringat...\n",
       "3   Pasangan capres-cawapres dari Koalisi Perubaha...\n",
       "4   Presiden Joko Widodo memimpin upacara peringat...\n",
       "..                                                ...\n",
       "95  JAKARTA, KOMPAS.com - Ketua Umum PDI Perjuanga...\n",
       "96  JAKARTA, KOMPAS.com - Ketua Umum PDI Perjuanga...\n",
       "97  JAKARTA, KOMPAS.com - Ketua Umum PDI Perjuanga...\n",
       "98  JAKARTA, KOMPAS.com - Rapat Kerja Nasional (Ra...\n",
       "99  JAKARTA, KOMPAS.com - Ketua DPP PDI-P Djarot S...\n",
       "\n",
       "[100 rows x 1 columns]"
      ]
     },
     "execution_count": 7,
     "metadata": {},
     "output_type": "execute_result"
    }
   ],
   "source": [
    "dataset = pd.read_csv('raw_data_baru_100.csv')\n",
    "dataset"
   ]
  },
  {
   "cell_type": "code",
   "execution_count": 8,
   "metadata": {},
   "outputs": [],
   "source": [
    "feature = dataset.iloc[:,0]"
   ]
  },
  {
   "cell_type": "code",
   "execution_count": 9,
   "metadata": {},
   "outputs": [
    {
     "data": {
      "text/plain": [
       "'JAKARTA, KOMPAS.com - Ketua DPP PDI-P Djarot Saiful Hidayat mengatakan bahwa partainya menutup kemungkinan peluang Ganjar Pranowo menjadi bakal calon wakil presiden (bacawapres) pada Pemilihan Presiden (Pilpres) 2024.Dia menerangkan, salah satu rekomendasi Rakernas IV PDI-P menyebutkan bahwa Ganjar Pranowo tetap bakal calon presiden (bacapres).\"Artinya apa, artinya tidak mungkin ya, sekali lagi, tidak mungkin. Dan menutup kemungkinan sama sekali, untuk diturunkan sebagai cawapres,\" kata Djarot ditemui di Jiexpo Kemayoran, Jakarta, usai penutupan Rakernas IV PDI-P, Minggu (1/10/2023).Baca juga: Djarot Anggap Demokrat Batal Dukung Ganjar bukan Karena Megawati Belum Bertemu SBYDjarot menyatakan, atas pernyataan ini, bukan berarti PDI-P tidak menghormati keputusan partai politik lain. Akan tetapi, PDI-P tetap menghormati partai lain yang mengusung capres masing-masing.\"Tapi yang jelas PDI Perjuangan, bertekad mewujudkan pemilu ini adalah sebagai sarana atau wadah pemersatu bangsa,\" imbuh dia.Baca juga: Rakernas IV PDI-P Terbitkan 8 Rekomendasi Terkait Pemenangan PemiluDi sisi lain, Djarot juga ditanya soal isu duet Prabowo Subianto dan Politikus PDI-P yang juga Wali Kota Solo Gibran Rakabuming Raka. Dia pun menyerahkan isu tersebut ke pihak yang berniat meminang dan Gibrannya sendiri.\"Kalau minang-minang begitu tanya pada beliau. Tanya pada Mas Gibran. Tanya pada yang meminang. Tanya pada yang dipinang. Mau atau enggak?\" kata mantan Gubernur DKI Jakarta itu.Baca juga: Hasto Akui PDI-P Turut Lirik Gibran Jadi Cawapres GanjarDiberitakan sebelumnya, beberapa waktu belakangan ini, isu memasangkan Ganjar dan Prabowo mengemuka.Ketua DPP PDI-P Ahmad Basarah mengatakan, peluang duet Ganjar-Prabowo masih terbuka kendati keduanya telah diumumkan sebagai bakal capres oleh koalisi yang berbeda. Menurut Basarah, realisasi wacana tersebut bergantung pada lima pihak.\"Nah saya mengatakan di Kompas TV beberapa waktu lalu, saya punya asumsi, kemungkinan duet Ganjar dan Prabowo itu masih terbuka. Tergantung bagaimana sikap lima aktor di dalamnya,\" ujar Basarah dalam acara Satu Meja The Forum yang dilansir dari kanal YouTube Kompas TV pada Jumat (29/9/2023).Di sisi lain, Sekretaris Jenderal (Sekjen) Partai Gerindra Ahmad Muzani mengatakan, selama belum mendaftarkan diri ke KPU, segala kemungkinan bisa terjadi.Baca juga: Ditanya Peluang Duet dengan Ganjar, Prabowo Acungkan JempolMeski demikian, kata Muzani, memasangkan Prabowo dengan Ganjar berpotensi akan membuat repot. Sebab, masing-masing dari mereka telah dideklarasikan sejumlah partai politik.\"Kalau belum daftar, ya memungkinkan. Kalau belum daftar ya,\" ujar Muzani saat ditemui di kawasan Jakarta Barat, Rabu (27/9/2023).'"
      ]
     },
     "execution_count": 9,
     "metadata": {},
     "output_type": "execute_result"
    }
   ],
   "source": [
    "feature[99]"
   ]
  },
  {
   "cell_type": "markdown",
   "metadata": {},
   "source": [
    "Tokenisasi Kalimat Langkah ini adalah untuk melakukan tokenisasi kalimat dari data teks\n",
    "Bahasa Indonesia yang telah didefinisikan dan akan digunakan dalam proses pemrosesan teks."
   ]
  },
  {
   "cell_type": "code",
   "execution_count": 10,
   "metadata": {},
   "outputs": [],
   "source": [
    "nlp = spacy.load(\"id_nusantara\")"
   ]
  },
  {
   "cell_type": "code",
   "execution_count": 11,
   "metadata": {},
   "outputs": [],
   "source": [
    "doc = nlp(feature[99])"
   ]
  },
  {
   "cell_type": "code",
   "execution_count": 12,
   "metadata": {},
   "outputs": [],
   "source": [
    "sentences = []\n",
    "clean = []\n",
    "originalSentenceOf = {}\n",
    "\n",
    "for sent in doc.sents:\n",
    "    if '\\n' not in sent.text:\n",
    "        cl = cleanData(sent.text)\n",
    "        sentences.append(sent.text)\n",
    "        clean.append(cl)\n",
    "        originalSentenceOf[cl] = sent.text\n",
    "\n",
    "setClean = set(clean)\n"
   ]
  },
  {
   "cell_type": "code",
   "execution_count": 13,
   "metadata": {},
   "outputs": [
    {
     "data": {
      "text/plain": [
       "['JAKARTA, KOMPAS.com - Ketua DPP PDI-P Djarot Saiful Hidayat mengatakan bahwa partainya menutup kemungkinan peluang Ganjar Pranowo menjadi bakal calon wakil presiden (bacawapres) pada Pemilihan Presiden (Pilpres) 2024.Dia menerangkan, salah satu rekomendasi Rakernas IV PDI-P menyebutkan bahwa Ganjar Pranowo tetap bakal calon presiden (bacapres).\"Artinya apa, artinya tidak mungkin ya, sekali lagi, tidak mungkin.',\n",
       " 'Dan menutup kemungkinan sama sekali, untuk diturunkan sebagai cawapres,\" kata Djarot ditemui di Jiexpo Kemayoran, Jakarta, usai penutupan Rakernas IV PDI-P, Minggu (1/10/2023).Baca juga: Djarot Anggap Demokrat Batal Dukung Ganjar bukan Karena Megawati Belum Bertemu SBYDjarot menyatakan, atas pernyataan ini, bukan berarti PDI-P tidak menghormati keputusan partai politik lain.',\n",
       " 'Akan tetapi, PDI-P tetap menghormati partai lain yang mengusung capres masing-masing.\"',\n",
       " 'Tapi yang jelas PDI Perjuangan, bertekad mewujudkan pemilu ini adalah sebagai sarana atau wadah pemersatu bangsa,\" imbuh dia.',\n",
       " 'Baca juga: Rakernas IV PDI-P Terbitkan 8 Rekomendasi Terkait Pemenangan PemiluDi sisi lain, Djarot juga ditanya soal isu duet Prabowo Subianto dan Politikus PDI-P yang juga Wali Kota Solo Gibran Rakabuming Raka.',\n",
       " 'Dia pun menyerahkan isu tersebut ke pihak yang berniat meminang dan Gibrannya sendiri.',\n",
       " '\"',\n",
       " 'Kalau minang-minang begitu tanya pada beliau.',\n",
       " 'Tanya pada Mas Gibran.',\n",
       " 'Tanya pada yang meminang.',\n",
       " 'Tanya pada yang dipinang.',\n",
       " 'Mau atau enggak?',\n",
       " '\" kata mantan Gubernur DKI Jakarta itu.',\n",
       " 'Baca juga: Hasto Akui PDI-P Turut Lirik Gibran Jadi Cawapres GanjarDiberitakan sebelumnya, beberapa waktu belakangan ini, isu memasangkan Ganjar dan Prabowo mengemuka.',\n",
       " 'Ketua DPP PDI-P Ahmad Basarah mengatakan, peluang duet Ganjar-Prabowo masih terbuka kendati keduanya telah diumumkan sebagai bakal capres oleh koalisi yang berbeda.',\n",
       " 'Menurut Basarah, realisasi wacana tersebut bergantung pada lima pihak.\"Nah saya mengatakan di Kompas TV beberapa waktu lalu, saya punya asumsi, kemungkinan duet Ganjar dan Prabowo itu masih terbuka.',\n",
       " 'Tergantung bagaimana sikap lima aktor di dalamnya,\" ujar Basarah dalam acara Satu Meja The Forum yang dilansir dari kanal YouTube Kompas TV pada Jumat (29/9/2023).Di sisi lain, Sekretaris Jenderal (Sekjen) Partai Gerindra Ahmad Muzani mengatakan, selama belum mendaftarkan diri ke KPU, segala kemungkinan bisa terjadi.',\n",
       " 'Baca juga: Ditanya Peluang Duet dengan Ganjar, Prabowo Acungkan JempolMeski demikian, kata Muzani, memasangkan Prabowo dengan Ganjar berpotensi akan membuat repot.',\n",
       " 'Sebab, masing-masing dari mereka telah dideklarasikan sejumlah partai politik.',\n",
       " '\"Kalau belum daftar, ya memungkinkan.',\n",
       " 'Kalau belum daftar ya,\" ujar Muzani saat ditemui di kawasan Jakarta Barat, Rabu (27/9/2023).']"
      ]
     },
     "execution_count": 13,
     "metadata": {},
     "output_type": "execute_result"
    }
   ],
   "source": [
    "sentences"
   ]
  },
  {
   "cell_type": "markdown",
   "metadata": {},
   "source": [
    "Similarity and MMR Calculation"
   ]
  },
  {
   "cell_type": "code",
   "execution_count": 14,
   "metadata": {},
   "outputs": [],
   "source": [
    "scores = {}\n",
    "for data in clean:\n",
    "    temp_doc = setClean - set([data])\n",
    "    score = calculateSimilarity(data, list(temp_doc))\n",
    "    scores[data] = score\n",
    "\n",
    "n = 20 * len(sentences) / 100\n",
    "alpha = 0.5\n",
    "summarySet = []\n",
    "\n",
    "while n > 0:\n",
    "    mmr = {}\n",
    "    \n",
    "    for sentence in scores.keys():\n",
    "        if not sentence in summarySet:\n",
    "            mmr[sentence] = alpha * scores[sentence] - (1 - alpha) * calculateSimilarity(sentence, summarySet)\n",
    "    \n",
    "    selected = max(mmr.items(), key=operator.itemgetter(1))[0]\n",
    "    summarySet.append(selected)\n",
    "    n -= 1\n"
   ]
  },
  {
   "cell_type": "code",
   "execution_count": 15,
   "metadata": {},
   "outputs": [
    {
     "name": "stdout",
     "output_type": "stream",
     "text": [
      "Ringkasan Artikel:\n",
      "\n",
      "Kalau minang-minang begitu tanya pada beliau.\n",
      "\n",
      "Tanya pada Mas Gibran.\n",
      "\n",
      "Dia pun menyerahkan isu tersebut ke pihak yang berniat meminang dan Gibrannya sendiri.\n",
      "\n",
      "Baca juga: Ditanya Peluang Duet dengan Ganjar, Prabowo Acungkan JempolMeski demikian, kata Muzani, memasangkan Prabowo dengan Ganjar berpotensi akan membuat repot.\n",
      "\n",
      "Tergantung bagaimana sikap lima aktor di dalamnya,\" ujar Basarah dalam acara Satu Meja The Forum yang dilansir dari kanal YouTube Kompas TV pada Jumat (29/9/2023).Di sisi lain, Sekretaris Jenderal (Sekjen) Partai Gerindra Ahmad Muzani mengatakan, selama belum mendaftarkan diri ke KPU, segala kemungkinan bisa terjadi.\n",
      "\n"
     ]
    }
   ],
   "source": [
    "print('Ringkasan Artikel:\\n')\n",
    "\n",
    "for sentence in summarySet:\n",
    "    print(originalSentenceOf[sentence].lstrip(' '))\n",
    "    print()\n"
   ]
  },
  {
   "cell_type": "code",
   "execution_count": 16,
   "metadata": {},
   "outputs": [
    {
     "data": {
      "text/plain": [
       "[('kalau mang begitu tanya pada beliau', 0.9486832980505138),\n",
       " ('tanya pada mas gibran', 0.9486832980505138),\n",
       " ('jakarta kompas com - ketua dpp pdi-p djarot saiful hidayat kata bahwa partai tutup mungkin peluang ganjar pranowo jadi bakal calon wakil presiden bacawapres pada pilih presiden pilpres 2024 dia terang salah satu rekomendasi rakernas iv pdi-p sebut bahwa ganjar pranowo tetap bakal calon presiden bacapres arti apa arti tidak mungkin ya sekali lagi tidak mungkin',\n",
       "  0.6804138174397717),\n",
       " ('turut basarah realisasi wacana sebut gantung pada lima pihak nah saya kata di kompas tv beberapa waktu lalu saya punya asumsi mungkin duet ganjar dan prabowo itu masih buka',\n",
       "  0.6804138174397717),\n",
       " ('gantung bagaimana sikap lima aktor di dalam ujar basarah dalam acara satu meja the forum lansir dari kanal youtube kompas tv pada jumat 29 9 2023 di sisi lain sekretaris jenderal sekjen partai gerindra ahmad muzani kata lama belum daftar diri ke kpu segala mungkin bisa jadi',\n",
       "  0.6804138174397717),\n",
       " ('baca juga rakernas iv pdi-p terbit 8 rekomendasi kait menang pemiludi sisi lain djarot juga tanya soal isu duet prabowo subianto dan politikus pdi-p juga wali kota solo gibran rakabuming raka',\n",
       "  0.5345224838248488),\n",
       " ('baca juga tanya peluang duet dengan ganjar prabowo acung jempolmeski demikian kata muzani pasang prabowo dengan ganjar potensi akan buat repot',\n",
       "  0.5345224838248488),\n",
       " ('dia pun serah isu sebut ke pihak niat pinang dan gibrannya sendiri',\n",
       "  0.1270001270001905),\n",
       " ('tanya pada pinang', 0.12309149097933272),\n",
       " ('dan tutup mungkin sama sekali untuk turun bagai cawapres kata djarot temu di jiexpo mayor jakarta usai tutup rakernas iv pdi-p minggu 1 10 2023 baca juga djarot anggap demokrat batal dukung ganjar bukan karena megawati belum temu sbydjarot nyata atas nyata ini bukan arti pdi-p tidak hormat putus partai politik lain',\n",
       "  0.0),\n",
       " ('akan tetapi pdi-p tetap hormat partai lain usung capres masing-masing',\n",
       "  0.0),\n",
       " ('tapi jelas pdi juang tekad wujud milu ini adalah bagai sarana atau wadah satu bangsa imbuh dia',\n",
       "  0.0),\n",
       " ('', 0.0),\n",
       " ('mau atau enggak', 0.0),\n",
       " ('kata mantan gubernur dki jakarta itu', 0.0),\n",
       " ('baca juga hasto aku pdi-p turut lirik gibran jadi cawapres ganjardiberitakan belum beberapa waktu belakang ini isu pasang ganjar dan prabowo muka',\n",
       "  0.0),\n",
       " ('ketua dpp pdi-p ahmad basarah kata peluang duet ganjar-prabowo masih buka kendati dua telah umum bagai bakal capres oleh koalisi beda',\n",
       "  0.0),\n",
       " ('sebab masing-masing dari mereka telah deklarasi jumlah partai politik',\n",
       "  0.0),\n",
       " ('kalau belum daftar ya mungkin', 0.0),\n",
       " ('kalau belum daftar ya ujar muzani saat temu di kawasan jakarta barat rabu 27 9 2023',\n",
       "  0.0)]"
      ]
     },
     "execution_count": 16,
     "metadata": {},
     "output_type": "execute_result"
    }
   ],
   "source": [
    "sentence_score_sorted = sorted(scores.items(), key=lambda x:x[1], reverse=True)\n",
    "sentence_score_sorted"
   ]
  },
  {
   "cell_type": "code",
   "execution_count": 17,
   "metadata": {},
   "outputs": [
    {
     "name": "stdout",
     "output_type": "stream",
     "text": [
      "=============================================================\n",
      "\n",
      "Artikel sebenarnya:\n",
      "\n"
     ]
    },
    {
     "data": {
      "text/html": [
       "<text style=color:black>JAKARTA, KOMPAS.com - Ketua DPP PDI-P Djarot Saiful Hidayat mengatakan bahwa partainya menutup kemungkinan peluang Ganjar Pranowo menjadi bakal calon wakil presiden (bacawapres) pada Pemilihan Presiden (Pilpres) 2024.Dia menerangkan, salah satu rekomendasi Rakernas IV PDI-P menyebutkan bahwa Ganjar Pranowo tetap bakal calon presiden (bacapres).\"Artinya apa, artinya tidak mungkin ya, sekali lagi, tidak mungkin.</text>"
      ],
      "text/plain": [
       "<IPython.core.display.HTML object>"
      ]
     },
     "metadata": {},
     "output_type": "display_data"
    },
    {
     "data": {
      "text/html": [
       "<text style=color:black>Dan menutup kemungkinan sama sekali, untuk diturunkan sebagai cawapres,\" kata Djarot ditemui di Jiexpo Kemayoran, Jakarta, usai penutupan Rakernas IV PDI-P, Minggu (1/10/2023).Baca juga: Djarot Anggap Demokrat Batal Dukung Ganjar bukan Karena Megawati Belum Bertemu SBYDjarot menyatakan, atas pernyataan ini, bukan berarti PDI-P tidak menghormati keputusan partai politik lain.</text>"
      ],
      "text/plain": [
       "<IPython.core.display.HTML object>"
      ]
     },
     "metadata": {},
     "output_type": "display_data"
    },
    {
     "data": {
      "text/html": [
       "<text style=color:black>Akan tetapi, PDI-P tetap menghormati partai lain yang mengusung capres masing-masing.\"</text>"
      ],
      "text/plain": [
       "<IPython.core.display.HTML object>"
      ]
     },
     "metadata": {},
     "output_type": "display_data"
    },
    {
     "data": {
      "text/html": [
       "<text style=color:black>Tapi yang jelas PDI Perjuangan, bertekad mewujudkan pemilu ini adalah sebagai sarana atau wadah pemersatu bangsa,\" imbuh dia.</text>"
      ],
      "text/plain": [
       "<IPython.core.display.HTML object>"
      ]
     },
     "metadata": {},
     "output_type": "display_data"
    },
    {
     "data": {
      "text/html": [
       "<text style=color:black>Baca juga: Rakernas IV PDI-P Terbitkan 8 Rekomendasi Terkait Pemenangan PemiluDi sisi lain, Djarot juga ditanya soal isu duet Prabowo Subianto dan Politikus PDI-P yang juga Wali Kota Solo Gibran Rakabuming Raka.</text>"
      ],
      "text/plain": [
       "<IPython.core.display.HTML object>"
      ]
     },
     "metadata": {},
     "output_type": "display_data"
    },
    {
     "data": {
      "text/html": [
       "<text style=color:green>Dia pun menyerahkan isu tersebut ke pihak yang berniat meminang dan Gibrannya sendiri.</text>"
      ],
      "text/plain": [
       "<IPython.core.display.HTML object>"
      ]
     },
     "metadata": {},
     "output_type": "display_data"
    },
    {
     "data": {
      "text/html": [
       "<text style=color:black>\"</text>"
      ],
      "text/plain": [
       "<IPython.core.display.HTML object>"
      ]
     },
     "metadata": {},
     "output_type": "display_data"
    },
    {
     "data": {
      "text/html": [
       "<text style=color:green>Kalau minang-minang begitu tanya pada beliau.</text>"
      ],
      "text/plain": [
       "<IPython.core.display.HTML object>"
      ]
     },
     "metadata": {},
     "output_type": "display_data"
    },
    {
     "data": {
      "text/html": [
       "<text style=color:green>Tanya pada Mas Gibran.</text>"
      ],
      "text/plain": [
       "<IPython.core.display.HTML object>"
      ]
     },
     "metadata": {},
     "output_type": "display_data"
    },
    {
     "data": {
      "text/html": [
       "<text style=color:black>Tanya pada yang dipinang.</text>"
      ],
      "text/plain": [
       "<IPython.core.display.HTML object>"
      ]
     },
     "metadata": {},
     "output_type": "display_data"
    },
    {
     "data": {
      "text/html": [
       "<text style=color:black>Tanya pada yang dipinang.</text>"
      ],
      "text/plain": [
       "<IPython.core.display.HTML object>"
      ]
     },
     "metadata": {},
     "output_type": "display_data"
    },
    {
     "data": {
      "text/html": [
       "<text style=color:black>Mau atau enggak?</text>"
      ],
      "text/plain": [
       "<IPython.core.display.HTML object>"
      ]
     },
     "metadata": {},
     "output_type": "display_data"
    },
    {
     "data": {
      "text/html": [
       "<text style=color:black>\" kata mantan Gubernur DKI Jakarta itu.</text>"
      ],
      "text/plain": [
       "<IPython.core.display.HTML object>"
      ]
     },
     "metadata": {},
     "output_type": "display_data"
    },
    {
     "data": {
      "text/html": [
       "<text style=color:black>Baca juga: Hasto Akui PDI-P Turut Lirik Gibran Jadi Cawapres GanjarDiberitakan sebelumnya, beberapa waktu belakangan ini, isu memasangkan Ganjar dan Prabowo mengemuka.</text>"
      ],
      "text/plain": [
       "<IPython.core.display.HTML object>"
      ]
     },
     "metadata": {},
     "output_type": "display_data"
    },
    {
     "data": {
      "text/html": [
       "<text style=color:black>Ketua DPP PDI-P Ahmad Basarah mengatakan, peluang duet Ganjar-Prabowo masih terbuka kendati keduanya telah diumumkan sebagai bakal capres oleh koalisi yang berbeda.</text>"
      ],
      "text/plain": [
       "<IPython.core.display.HTML object>"
      ]
     },
     "metadata": {},
     "output_type": "display_data"
    },
    {
     "data": {
      "text/html": [
       "<text style=color:black>Menurut Basarah, realisasi wacana tersebut bergantung pada lima pihak.\"Nah saya mengatakan di Kompas TV beberapa waktu lalu, saya punya asumsi, kemungkinan duet Ganjar dan Prabowo itu masih terbuka.</text>"
      ],
      "text/plain": [
       "<IPython.core.display.HTML object>"
      ]
     },
     "metadata": {},
     "output_type": "display_data"
    },
    {
     "data": {
      "text/html": [
       "<text style=color:green>Tergantung bagaimana sikap lima aktor di dalamnya,\" ujar Basarah dalam acara Satu Meja The Forum yang dilansir dari kanal YouTube Kompas TV pada Jumat (29/9/2023).Di sisi lain, Sekretaris Jenderal (Sekjen) Partai Gerindra Ahmad Muzani mengatakan, selama belum mendaftarkan diri ke KPU, segala kemungkinan bisa terjadi.</text>"
      ],
      "text/plain": [
       "<IPython.core.display.HTML object>"
      ]
     },
     "metadata": {},
     "output_type": "display_data"
    },
    {
     "data": {
      "text/html": [
       "<text style=color:green>Baca juga: Ditanya Peluang Duet dengan Ganjar, Prabowo Acungkan JempolMeski demikian, kata Muzani, memasangkan Prabowo dengan Ganjar berpotensi akan membuat repot.</text>"
      ],
      "text/plain": [
       "<IPython.core.display.HTML object>"
      ]
     },
     "metadata": {},
     "output_type": "display_data"
    },
    {
     "data": {
      "text/html": [
       "<text style=color:black>Sebab, masing-masing dari mereka telah dideklarasikan sejumlah partai politik.</text>"
      ],
      "text/plain": [
       "<IPython.core.display.HTML object>"
      ]
     },
     "metadata": {},
     "output_type": "display_data"
    },
    {
     "data": {
      "text/html": [
       "<text style=color:black>\"Kalau belum daftar, ya memungkinkan.</text>"
      ],
      "text/plain": [
       "<IPython.core.display.HTML object>"
      ]
     },
     "metadata": {},
     "output_type": "display_data"
    },
    {
     "data": {
      "text/html": [
       "<text style=color:black>Kalau belum daftar ya,\" ujar Muzani saat ditemui di kawasan Jakarta Barat, Rabu (27/9/2023).</text>"
      ],
      "text/plain": [
       "<IPython.core.display.HTML object>"
      ]
     },
     "metadata": {},
     "output_type": "display_data"
    }
   ],
   "source": [
    "print('=============================================================')\n",
    "print('\\nArtikel sebenarnya:\\n')\n",
    "\n",
    "for sentence in clean:\n",
    "    if sentence in summarySet:\n",
    "        print_color(((originalSentenceOf[sentence].lstrip(' '), 'green'),))\n",
    "    else:\n",
    "        print_color(((originalSentenceOf[sentence].lstrip(' '), 'black'),))\n"
   ]
  },
  {
   "cell_type": "code",
   "execution_count": null,
   "metadata": {},
   "outputs": [],
   "source": []
  }
 ],
 "metadata": {
  "kernelspec": {
   "display_name": "base",
   "language": "python",
   "name": "python3"
  },
  "language_info": {
   "codemirror_mode": {
    "name": "ipython",
    "version": 3
   },
   "file_extension": ".py",
   "mimetype": "text/x-python",
   "name": "python",
   "nbconvert_exporter": "python",
   "pygments_lexer": "ipython3",
   "version": "3.11.5"
  }
 },
 "nbformat": 4,
 "nbformat_minor": 2
}
