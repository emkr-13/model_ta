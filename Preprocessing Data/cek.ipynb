{
 "cells": [
  {
   "cell_type": "code",
   "execution_count": 4,
   "metadata": {},
   "outputs": [
    {
     "name": "stdout",
     "output_type": "stream",
     "text": [
      "Original dataset length: 51900\n",
      "Unique data length: 51896\n"
     ]
    }
   ],
   "source": [
    "import pandas as pd\n",
    "\n",
    "# Read the original dataset\n",
    "dataset = pd.read_csv(\"data_berita_all.csv\")\n",
    "dataset.head()\n",
    "# Group the dataset by the 'link_berita' column and aggregate other columns\n",
    "aggregated_data = dataset.groupby('link_berita').agg({\n",
    "    'title':'first',\n",
    "    'tanggal_berita': 'first',  \n",
    "    'content': 'first', \n",
    "    'sentimen': 'first', \n",
    "    'nama_berita': 'first'       \n",
    "}).reset_index()\n",
    "\n",
    "# Save the aggregated data to a CSV file\n",
    "aggregated_data.to_csv(\"unique_data_all.csv\", index=False)\n",
    "\n",
    "# Print the length of the original dataset and the length of unique values\n",
    "print(\"Original dataset length:\", len(dataset))\n",
    "print(\"Unique data length:\", len(aggregated_data))"
   ]
  },
  {
   "cell_type": "code",
   "execution_count": null,
   "metadata": {},
   "outputs": [],
   "source": []
  }
 ],
 "metadata": {
  "kernelspec": {
   "display_name": "env",
   "language": "python",
   "name": "python3"
  },
  "language_info": {
   "codemirror_mode": {
    "name": "ipython",
    "version": 3
   },
   "file_extension": ".py",
   "mimetype": "text/x-python",
   "name": "python",
   "nbconvert_exporter": "python",
   "pygments_lexer": "ipython3",
   "version": "3.11.5"
  }
 },
 "nbformat": 4,
 "nbformat_minor": 2
}
