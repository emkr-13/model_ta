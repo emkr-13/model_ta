{
 "cells": [
  {
   "cell_type": "code",
   "execution_count": 1,
   "metadata": {},
   "outputs": [
    {
     "name": "stderr",
     "output_type": "stream",
     "text": [
      "[nltk_data] Downloading package stopwords to /home/krisna/nltk_data...\n",
      "[nltk_data]   Package stopwords is already up-to-date!\n",
      "[nltk_data] Downloading package punkt to /home/krisna/nltk_data...\n",
      "[nltk_data]   Package punkt is already up-to-date!\n"
     ]
    },
    {
     "data": {
      "text/plain": [
       "True"
      ]
     },
     "execution_count": 1,
     "metadata": {},
     "output_type": "execute_result"
    }
   ],
   "source": [
    "import nltk\n",
    "nltk.download('stopwords')\n",
    "nltk.download('punkt')"
   ]
  },
  {
   "cell_type": "code",
   "execution_count": 2,
   "metadata": {},
   "outputs": [],
   "source": [
    "import pandas as pd\n",
    "import nltk\n",
    "from nltk.tokenize import word_tokenize\n",
    "from nltk.corpus import stopwords\n",
    "from Sastrawi.Stemmer.StemmerFactory import StemmerFactory\n",
    "import concurrent.futures\n",
    "\n",
    "# Inisialisasi stemmer dari Sastrawi\n",
    "factory = StemmerFactory()\n",
    "stemmer = factory.create_stemmer()"
   ]
  },
  {
   "cell_type": "code",
   "execution_count": 3,
   "metadata": {},
   "outputs": [
    {
     "name": "stderr",
     "output_type": "stream",
     "text": [
      "[nltk_data] Downloading package stopwords to /home/krisna/nltk_data...\n",
      "[nltk_data]   Package stopwords is already up-to-date!\n"
     ]
    },
    {
     "data": {
      "text/plain": [
       "True"
      ]
     },
     "execution_count": 3,
     "metadata": {},
     "output_type": "execute_result"
    }
   ],
   "source": [
    "nltk.download('stopwords')"
   ]
  },
  {
   "cell_type": "code",
   "execution_count": 4,
   "metadata": {},
   "outputs": [],
   "source": [
    "from nltk.corpus import stopwords\n",
    "stop_words = set(stopwords.words('indonesian'))"
   ]
  },
  {
   "cell_type": "code",
   "execution_count": 5,
   "metadata": {},
   "outputs": [],
   "source": [
    "# Fungsi untuk melakukan preprosesi pada satu baris teks\n",
    "def preprocess_text(text):\n",
    "    # Tokenisasi\n",
    "    tokens = word_tokenize(text)\n",
    "    \n",
    "    # Penghapusan stopwords\n",
    "    stop_words = set(stopwords.words('indonesian'))\n",
    "    filtered_tokens = [word for word in tokens if word.lower() not in stop_words]\n",
    "    \n",
    "    # Stemming\n",
    "    stemmed_tokens = [stemmer.stem(token) for token in filtered_tokens]\n",
    "    \n",
    "    # Gabungkan kembali token yang telah diproses menjadi teks\n",
    "    processed_text = ' '.join(stemmed_tokens)\n",
    "    \n",
    "    return processed_text"
   ]
  },
  {
   "cell_type": "code",
   "execution_count": 6,
   "metadata": {},
   "outputs": [],
   "source": [
    "def preprocess_texts(texts):\n",
    "    processed_texts = []\n",
    "    with concurrent.futures.ThreadPoolExecutor(max_workers=16) as executor:\n",
    "        results = executor.map(preprocess_text, texts)\n",
    "        for result in results:\n",
    "            processed_texts.append(result)\n",
    "    return processed_texts"
   ]
  },
  {
   "cell_type": "code",
   "execution_count": 7,
   "metadata": {},
   "outputs": [
    {
     "data": {
      "text/html": [
       "<div>\n",
       "<style scoped>\n",
       "    .dataframe tbody tr th:only-of-type {\n",
       "        vertical-align: middle;\n",
       "    }\n",
       "\n",
       "    .dataframe tbody tr th {\n",
       "        vertical-align: top;\n",
       "    }\n",
       "\n",
       "    .dataframe thead th {\n",
       "        text-align: right;\n",
       "    }\n",
       "</style>\n",
       "<table border=\"1\" class=\"dataframe\">\n",
       "  <thead>\n",
       "    <tr style=\"text-align: right;\">\n",
       "      <th></th>\n",
       "      <th>tanggal_berita</th>\n",
       "      <th>content</th>\n",
       "      <th>link_berita</th>\n",
       "      <th>nama_berita</th>\n",
       "    </tr>\n",
       "  </thead>\n",
       "  <tbody>\n",
       "    <tr>\n",
       "      <th>0</th>\n",
       "      <td>01-10-2023</td>\n",
       "      <td>Bakal calon presiden dari Koalisi Indonesia Ma...</td>\n",
       "      <td>https://www.cnnindonesia.com/nasional/20230930...</td>\n",
       "      <td>CNN News</td>\n",
       "    </tr>\n",
       "    <tr>\n",
       "      <th>1</th>\n",
       "      <td>01-10-2023</td>\n",
       "      <td>Kementerian Pendidikan, Kebudayaan, Riset, dan...</td>\n",
       "      <td>https://www.cnnindonesia.com/nasional/20231001...</td>\n",
       "      <td>CNN News</td>\n",
       "    </tr>\n",
       "    <tr>\n",
       "      <th>2</th>\n",
       "      <td>01-10-2023</td>\n",
       "      <td>Ketua Umum PDIP, Megawati Soekarnoputri mengak...</td>\n",
       "      <td>https://www.cnnindonesia.com/nasional/20231001...</td>\n",
       "      <td>CNN News</td>\n",
       "    </tr>\n",
       "    <tr>\n",
       "      <th>3</th>\n",
       "      <td>01-10-2023</td>\n",
       "      <td>Gempa berkekuatan Magnitudo (M) 5,1 terjadi di...</td>\n",
       "      <td>https://www.cnnindonesia.com/nasional/20231001...</td>\n",
       "      <td>CNN News</td>\n",
       "    </tr>\n",
       "    <tr>\n",
       "      <th>4</th>\n",
       "      <td>01-10-2023</td>\n",
       "      <td>Komisi Pemberantasan Korupsi (KPK) mengapresia...</td>\n",
       "      <td>https://www.cnnindonesia.com/nasional/20231001...</td>\n",
       "      <td>CNN News</td>\n",
       "    </tr>\n",
       "    <tr>\n",
       "      <th>5</th>\n",
       "      <td>01-10-2023</td>\n",
       "      <td>Seorang warga Surabaya, Ida Susanti (59), didu...</td>\n",
       "      <td>https://www.cnnindonesia.com/nasional/20230930...</td>\n",
       "      <td>CNN News</td>\n",
       "    </tr>\n",
       "    <tr>\n",
       "      <th>6</th>\n",
       "      <td>01-10-2023</td>\n",
       "      <td>Ketua Umum PDIP, Megawati Soekarnoputri sempat...</td>\n",
       "      <td>https://www.cnnindonesia.com/nasional/20231001...</td>\n",
       "      <td>CNN News</td>\n",
       "    </tr>\n",
       "    <tr>\n",
       "      <th>7</th>\n",
       "      <td>01-10-2023</td>\n",
       "      <td>Sekretaris Jenderal PDIP Hasto Kristiyanto buk...</td>\n",
       "      <td>https://www.cnnindonesia.com/nasional/20231001...</td>\n",
       "      <td>CNN News</td>\n",
       "    </tr>\n",
       "    <tr>\n",
       "      <th>8</th>\n",
       "      <td>01-10-2023</td>\n",
       "      <td>Bakal cawapres 2024 Muhaimin Iskandar alias Ca...</td>\n",
       "      <td>https://www.cnnindonesia.com/nasional/20231001...</td>\n",
       "      <td>CNN News</td>\n",
       "    </tr>\n",
       "    <tr>\n",
       "      <th>9</th>\n",
       "      <td>01-10-2023</td>\n",
       "      <td>Ketua DPP PKB Ahmad Iman Sukri mengklaim elekt...</td>\n",
       "      <td>https://www.cnnindonesia.com/nasional/20230929...</td>\n",
       "      <td>CNN News</td>\n",
       "    </tr>\n",
       "  </tbody>\n",
       "</table>\n",
       "</div>"
      ],
      "text/plain": [
       "  tanggal_berita                                            content  \\\n",
       "0     01-10-2023  Bakal calon presiden dari Koalisi Indonesia Ma...   \n",
       "1     01-10-2023  Kementerian Pendidikan, Kebudayaan, Riset, dan...   \n",
       "2     01-10-2023  Ketua Umum PDIP, Megawati Soekarnoputri mengak...   \n",
       "3     01-10-2023  Gempa berkekuatan Magnitudo (M) 5,1 terjadi di...   \n",
       "4     01-10-2023  Komisi Pemberantasan Korupsi (KPK) mengapresia...   \n",
       "5     01-10-2023  Seorang warga Surabaya, Ida Susanti (59), didu...   \n",
       "6     01-10-2023  Ketua Umum PDIP, Megawati Soekarnoputri sempat...   \n",
       "7     01-10-2023  Sekretaris Jenderal PDIP Hasto Kristiyanto buk...   \n",
       "8     01-10-2023  Bakal cawapres 2024 Muhaimin Iskandar alias Ca...   \n",
       "9     01-10-2023  Ketua DPP PKB Ahmad Iman Sukri mengklaim elekt...   \n",
       "\n",
       "                                         link_berita nama_berita  \n",
       "0  https://www.cnnindonesia.com/nasional/20230930...    CNN News  \n",
       "1  https://www.cnnindonesia.com/nasional/20231001...    CNN News  \n",
       "2  https://www.cnnindonesia.com/nasional/20231001...    CNN News  \n",
       "3  https://www.cnnindonesia.com/nasional/20231001...    CNN News  \n",
       "4  https://www.cnnindonesia.com/nasional/20231001...    CNN News  \n",
       "5  https://www.cnnindonesia.com/nasional/20230930...    CNN News  \n",
       "6  https://www.cnnindonesia.com/nasional/20231001...    CNN News  \n",
       "7  https://www.cnnindonesia.com/nasional/20231001...    CNN News  \n",
       "8  https://www.cnnindonesia.com/nasional/20231001...    CNN News  \n",
       "9  https://www.cnnindonesia.com/nasional/20230929...    CNN News  "
      ]
     },
     "execution_count": 7,
     "metadata": {},
     "output_type": "execute_result"
    }
   ],
   "source": [
    "dataset = pd.read_csv(\"data_content_all_berita.csv\")\n",
    "dataset.head(10)"
   ]
  },
  {
   "cell_type": "code",
   "execution_count": 8,
   "metadata": {},
   "outputs": [],
   "source": [
    "processed_texts = preprocess_texts(dataset['content'])"
   ]
  },
  {
   "cell_type": "code",
   "execution_count": null,
   "metadata": {},
   "outputs": [],
   "source": [
    "processed_df = pd.DataFrame({\n",
    "    'Tanggal Berita': dataset['tanggal_berita'],\n",
    "    'Link Berita': dataset['link_berita'],\n",
    "    'Nama Berita': dataset['nama_berita'],\n",
    "    'Processed Text': processed_texts\n",
    "})"
   ]
  },
  {
   "cell_type": "code",
   "execution_count": null,
   "metadata": {},
   "outputs": [],
   "source": [
    "processed_df.to_csv(\"processed_data.csv\", index=False)"
   ]
  }
 ],
 "metadata": {
  "kernelspec": {
   "display_name": "env",
   "language": "python",
   "name": "python3"
  },
  "language_info": {
   "codemirror_mode": {
    "name": "ipython",
    "version": 3
   },
   "file_extension": ".py",
   "mimetype": "text/x-python",
   "name": "python",
   "nbconvert_exporter": "python",
   "pygments_lexer": "ipython3",
   "version": "3.11.5"
  }
 },
 "nbformat": 4,
 "nbformat_minor": 2
}
