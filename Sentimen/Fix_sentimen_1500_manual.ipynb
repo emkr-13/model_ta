{
 "cells": [
  {
   "cell_type": "code",
   "execution_count": 30,
   "metadata": {},
   "outputs": [],
   "source": [
    "import pandas as pd\n",
    "from sklearn.model_selection import train_test_split\n",
    "from sklearn.feature_extraction.text import TfidfVectorizer\n",
    "from sklearn.preprocessing import LabelEncoder\n",
    "from scipy.sparse import hstack"
   ]
  },
  {
   "cell_type": "code",
   "execution_count": 31,
   "metadata": {},
   "outputs": [],
   "source": [
    "def map_sentiment(sentiment):\n",
    "    if sentiment == 1:\n",
    "        return 'positif'\n",
    "    elif sentiment == 0:\n",
    "        return 'netral'\n",
    "    else:\n",
    "        return 'negatif'"
   ]
  },
  {
   "cell_type": "code",
   "execution_count": 32,
   "metadata": {},
   "outputs": [],
   "source": [
    "def prepare_datasets(corpus, labels, test_data_proportion=0.3, random_state=42):\n",
    "    train_X, test_X, train_Y, test_Y = train_test_split(corpus, labels,\n",
    "                                                        test_size=test_data_proportion,\n",
    "                                                        random_state=random_state)\n",
    "    return train_X, test_X, train_Y, test_Y"
   ]
  },
  {
   "cell_type": "code",
   "execution_count": 33,
   "metadata": {},
   "outputs": [],
   "source": [
    "def tfidf_extractor(corpus, ngram_range=(1,2)):\n",
    "    vectorizer = TfidfVectorizer(min_df=1,\n",
    "                                norm='l2',\n",
    "                                smooth_idf=True,\n",
    "                                use_idf=True,\n",
    "                                ngram_range=ngram_range)\n",
    "    features = vectorizer.fit_transform(corpus)\n",
    "    return vectorizer, features"
   ]
  },
  {
   "cell_type": "code",
   "execution_count": 34,
   "metadata": {},
   "outputs": [
    {
     "data": {
      "text/html": [
       "<div>\n",
       "<style scoped>\n",
       "    .dataframe tbody tr th:only-of-type {\n",
       "        vertical-align: middle;\n",
       "    }\n",
       "\n",
       "    .dataframe tbody tr th {\n",
       "        vertical-align: top;\n",
       "    }\n",
       "\n",
       "    .dataframe thead th {\n",
       "        text-align: right;\n",
       "    }\n",
       "</style>\n",
       "<table border=\"1\" class=\"dataframe\">\n",
       "  <thead>\n",
       "    <tr style=\"text-align: right;\">\n",
       "      <th></th>\n",
       "      <th>content</th>\n",
       "      <th>sentimen</th>\n",
       "    </tr>\n",
       "  </thead>\n",
       "  <tbody>\n",
       "    <tr>\n",
       "      <th>0</th>\n",
       "      <td>kumaha barudak well yuk ramaikan pesta anak no...</td>\n",
       "      <td>positif</td>\n",
       "    </tr>\n",
       "    <tr>\n",
       "      <th>1</th>\n",
       "      <td>anies baswedan peringkat ketiga hasil survei a...</td>\n",
       "      <td>positif</td>\n",
       "    </tr>\n",
       "    <tr>\n",
       "      <th>2</th>\n",
       "      <td>anies baswedan muhaimin iskandar menyambangi k...</td>\n",
       "      <td>positif</td>\n",
       "    </tr>\n",
       "    <tr>\n",
       "      <th>3</th>\n",
       "      <td>cawapres koalisi perubahan muhaimin iskandar c...</td>\n",
       "      <td>positif</td>\n",
       "    </tr>\n",
       "    <tr>\n",
       "      <th>4</th>\n",
       "      <td>capres koalisi pdip ganjar pranowo khawatir su...</td>\n",
       "      <td>positif</td>\n",
       "    </tr>\n",
       "    <tr>\n",
       "      <th>5</th>\n",
       "      <td>capres ganjar pranowo mengaku khawatir preside...</td>\n",
       "      <td>positif</td>\n",
       "    </tr>\n",
       "    <tr>\n",
       "      <th>6</th>\n",
       "      <td>capres koalisi perubahan anies baswedan presid...</td>\n",
       "      <td>positif</td>\n",
       "    </tr>\n",
       "    <tr>\n",
       "      <th>7</th>\n",
       "      <td>capres koalisi perubahan anies baswedan mengak...</td>\n",
       "      <td>positif</td>\n",
       "    </tr>\n",
       "    <tr>\n",
       "      <th>8</th>\n",
       "      <td>cawapres koalisi indonesia maju kim gibran rak...</td>\n",
       "      <td>positif</td>\n",
       "    </tr>\n",
       "    <tr>\n",
       "      <th>9</th>\n",
       "      <td>capres koalisi perubahan anies baswedan menarg...</td>\n",
       "      <td>positif</td>\n",
       "    </tr>\n",
       "  </tbody>\n",
       "</table>\n",
       "</div>"
      ],
      "text/plain": [
       "                                             content sentimen\n",
       "0  kumaha barudak well yuk ramaikan pesta anak no...  positif\n",
       "1  anies baswedan peringkat ketiga hasil survei a...  positif\n",
       "2  anies baswedan muhaimin iskandar menyambangi k...  positif\n",
       "3  cawapres koalisi perubahan muhaimin iskandar c...  positif\n",
       "4  capres koalisi pdip ganjar pranowo khawatir su...  positif\n",
       "5  capres ganjar pranowo mengaku khawatir preside...  positif\n",
       "6  capres koalisi perubahan anies baswedan presid...  positif\n",
       "7  capres koalisi perubahan anies baswedan mengak...  positif\n",
       "8  cawapres koalisi indonesia maju kim gibran rak...  positif\n",
       "9  capres koalisi perubahan anies baswedan menarg...  positif"
      ]
     },
     "execution_count": 34,
     "metadata": {},
     "output_type": "execute_result"
    }
   ],
   "source": [
    "df = pd.read_csv('sentimen_pemilu_manual_1500.csv')\n",
    "df['sentimen'] = df['sentimen'].map(map_sentiment)\n",
    "df.head(10)"
   ]
  },
  {
   "cell_type": "code",
   "execution_count": 35,
   "metadata": {},
   "outputs": [],
   "source": [
    "# Split data\n",
    "x_train, x_test, y_train, y_test = prepare_datasets(df['content'], df['sentimen'], test_data_proportion=0.3)"
   ]
  },
  {
   "cell_type": "code",
   "execution_count": 36,
   "metadata": {},
   "outputs": [],
   "source": [
    "# Convert text labels to numerical labels\n",
    "label_encoder = LabelEncoder()\n",
    "y_train_encoded = label_encoder.fit_transform(y_train)\n",
    "y_test_encoded = label_encoder.transform(y_test)\n",
    "\n",
    "# Ensure the lengths match after splitting\n",
    "y_train_encoded = y_train_encoded[:len(x_train)]\n",
    "y_test_encoded = y_test_encoded[:len(x_test)]"
   ]
  },
  {
   "cell_type": "code",
   "execution_count": 37,
   "metadata": {},
   "outputs": [],
   "source": [
    "# TF-IDF Vectorization\n",
    "tfidf_vectorizer, tfidf_train_features = tfidf_extractor(x_train)\n",
    "tfidf_test_features = tfidf_vectorizer.transform(x_test)"
   ]
  },
  {
   "cell_type": "code",
   "execution_count": 38,
   "metadata": {},
   "outputs": [],
   "source": [
    "# Bag of Words (BoW) features\n",
    "count_vectorizer, count_train_features = tfidf_extractor(x_train, ngram_range=(1, 1))  # Unigram features\n",
    "count_test_features = count_vectorizer.transform(x_test)"
   ]
  },
  {
   "cell_type": "code",
   "execution_count": 39,
   "metadata": {},
   "outputs": [],
   "source": [
    "# Combine TF-IDF and BoW features\n",
    "combined_train_features = hstack([tfidf_train_features, count_train_features])\n",
    "combined_test_features = hstack([tfidf_test_features, count_test_features])"
   ]
  },
  {
   "cell_type": "markdown",
   "metadata": {},
   "source": [
    "### Metode TF-IDF"
   ]
  },
  {
   "cell_type": "markdown",
   "metadata": {},
   "source": [
    "Naiye Bayes"
   ]
  },
  {
   "cell_type": "code",
   "execution_count": 40,
   "metadata": {},
   "outputs": [],
   "source": [
    "from sklearn.naive_bayes import MultinomialNB\n",
    "from sklearn.metrics import accuracy_score, f1_score"
   ]
  },
  {
   "cell_type": "code",
   "execution_count": 41,
   "metadata": {},
   "outputs": [],
   "source": [
    "# Define function to train and evaluate Naive Bayes classifier\n",
    "def train_and_evaluate(classifier, train_features, train_labels, test_features, test_labels):\n",
    "    # Train the classifier\n",
    "    classifier.fit(train_features, train_labels)\n",
    "    \n",
    "    # Predictions\n",
    "    predictions = classifier.predict(test_features)\n",
    "    \n",
    "    # Calculate accuracy\n",
    "    accuracy = accuracy_score(test_labels, predictions)\n",
    "    \n",
    "    # Calculate F1 score\n",
    "    f1 = f1_score(test_labels, predictions, average='weighted')\n",
    "    \n",
    "    return accuracy, f1"
   ]
  },
  {
   "cell_type": "code",
   "execution_count": 42,
   "metadata": {},
   "outputs": [
    {
     "name": "stdout",
     "output_type": "stream",
     "text": [
      "TF-IDF Vectorization Accuracy: 64.44%\n",
      "TF-IDF Vectorization F1 Score: 64.03%\n"
     ]
    }
   ],
   "source": [
    "model_naiye_parameter_td_idf = MultinomialNB(alpha= 0.1,fit_prior=False)\n",
    "# Train and evaluate on TF-IDF Vectorization\n",
    "tfidf_accuracy, tfidf_f1 = train_and_evaluate(model_naiye_parameter_td_idf , tfidf_train_features, y_train_encoded, tfidf_test_features, y_test_encoded)\n",
    "# Print results\n",
    "print(\"TF-IDF Vectorization Accuracy: {:.2f}%\".format(tfidf_accuracy * 100))\n",
    "print(\"TF-IDF Vectorization F1 Score: {:.2f}%\".format(tfidf_f1 * 100))"
   ]
  },
  {
   "cell_type": "markdown",
   "metadata": {},
   "source": [
    "SVM"
   ]
  },
  {
   "cell_type": "code",
   "execution_count": 43,
   "metadata": {},
   "outputs": [],
   "source": [
    "from sklearn.svm import SVC"
   ]
  },
  {
   "cell_type": "code",
   "execution_count": 44,
   "metadata": {},
   "outputs": [
    {
     "name": "stdout",
     "output_type": "stream",
     "text": [
      "TF-IDF Vectorization Accuracy: 72.67%\n",
      "TF-IDF Vectorization F1 Score: 72.76%\n"
     ]
    }
   ],
   "source": [
    "# Initialize SVM\n",
    "model_svm_parameter_tf_id =  SVC(C=10, gamma=0.1, kernel='sigmoid')\n",
    "\n",
    "# Train and evaluate on TF-IDF Vectorization\n",
    "tfidf_accuracy, tfidf_f1 = train_and_evaluate(model_svm_parameter_tf_id , tfidf_train_features, y_train_encoded, tfidf_test_features, y_test_encoded)\n",
    "# Print results\n",
    "print(\"TF-IDF Vectorization Accuracy: {:.2f}%\".format(tfidf_accuracy * 100))\n",
    "print(\"TF-IDF Vectorization F1 Score: {:.2f}%\".format(tfidf_f1 * 100))"
   ]
  },
  {
   "cell_type": "code",
   "execution_count": 45,
   "metadata": {},
   "outputs": [],
   "source": [
    "# from sklearn.model_selection import GridSearchCV\n",
    "# from sklearn.svm import SVC\n",
    "# from sklearn.metrics import accuracy_score, f1_score\n",
    "\n",
    "# # Define the parameter grid\n",
    "# param_grid = {\n",
    "#     'C': [0.1, 1, 10, 100],\n",
    "#     'gamma': [1, 0.1, 0.01, 0.001],\n",
    "#     'kernel': ['rbf', 'linear', 'sigmoid']\n",
    "# }\n",
    "\n",
    "# # Initialize the SVM model\n",
    "# svm_model = SVC()\n",
    "\n",
    "# # Set up the grid search with cross-validation\n",
    "# grid_search = GridSearchCV(svm_model, param_grid, cv=5, scoring='accuracy')\n",
    "\n",
    "# # Fit the model to the training data\n",
    "# grid_search.fit(tfidf_train_features, y_train_encoded)\n",
    "\n",
    "# # Get the best parameters\n",
    "# best_params = grid_search.best_params_\n",
    "# print(\"Best parameters found: \", best_params)\n",
    "\n",
    "# # Train the best model on the entire training data\n",
    "# best_model = grid_search.best_estimator_\n",
    "\n",
    "# # Evaluate the best model on the test data\n",
    "# y_pred = best_model.predict(tfidf_test_features)\n",
    "# tfidf_accuracy = accuracy_score(y_test_encoded, y_pred)\n",
    "# tfidf_f1 = f1_score(y_test_encoded, y_pred, average='weighted')\n",
    "\n",
    "# # Print results\n",
    "# print(\"TF-IDF Vectorization Accuracy: {:.2f}%\".format(tfidf_accuracy * 100))\n",
    "# print(\"TF-IDF Vectorization F1 Score: {:.2f}%\".format(tfidf_f1 * 100))\n"
   ]
  },
  {
   "cell_type": "markdown",
   "metadata": {},
   "source": [
    "Linear Regission"
   ]
  },
  {
   "cell_type": "code",
   "execution_count": 46,
   "metadata": {},
   "outputs": [],
   "source": [
    "from sklearn.linear_model import LogisticRegression\n"
   ]
  },
  {
   "cell_type": "code",
   "execution_count": 49,
   "metadata": {},
   "outputs": [
    {
     "name": "stdout",
     "output_type": "stream",
     "text": [
      "TF-IDF Vectorization Accuracy: 70.89%\n",
      "TF-IDF Vectorization F1 Score: 70.95%\n"
     ]
    }
   ],
   "source": [
    "# Initialize Naive Bayes classifier\n",
    "model_lr_tanpa_parameter_tf_idf = LogisticRegression(random_state=42,max_iter=1000)\n",
    "\n",
    "# Train and evaluate on TF-IDF Vectorization\n",
    "tfidf_accuracy, tfidf_f1 = train_and_evaluate(model_lr_tanpa_parameter_tf_idf , tfidf_train_features, y_train_encoded, tfidf_test_features, y_test_encoded)\n",
    "# Print results\n",
    "print(\"TF-IDF Vectorization Accuracy: {:.2f}%\".format(tfidf_accuracy * 100))\n",
    "print(\"TF-IDF Vectorization F1 Score: {:.2f}%\".format(tfidf_f1 * 100))"
   ]
  },
  {
   "cell_type": "markdown",
   "metadata": {},
   "source": [
    "Random Forest"
   ]
  },
  {
   "cell_type": "code",
   "execution_count": 50,
   "metadata": {},
   "outputs": [],
   "source": [
    "from sklearn.ensemble import RandomForestClassifier"
   ]
  },
  {
   "cell_type": "code",
   "execution_count": 51,
   "metadata": {},
   "outputs": [
    {
     "name": "stdout",
     "output_type": "stream",
     "text": [
      "TF-IDF Vectorization Accuracy: 67.11%\n",
      "TF-IDF Vectorization F1 Score: 67.11%\n"
     ]
    }
   ],
   "source": [
    "# Initialize SVM\n",
    "model_rfc_parameter =  RandomForestClassifier(min_samples_split=10,min_samples_leaf=2,n_estimators=150, random_state=42)\n",
    "\n",
    "# Train and evaluate on TF-IDF Vectorization\n",
    "tfidf_accuracy, tfidf_f1 = train_and_evaluate(model_rfc_parameter , tfidf_train_features, y_train_encoded, tfidf_test_features, y_test_encoded)\n",
    "\n",
    "# Print results\n",
    "print(\"TF-IDF Vectorization Accuracy: {:.2f}%\".format(tfidf_accuracy * 100))\n",
    "print(\"TF-IDF Vectorization F1 Score: {:.2f}%\".format(tfidf_f1 * 100))\n"
   ]
  },
  {
   "cell_type": "markdown",
   "metadata": {},
   "source": [
    "### Metode BoW"
   ]
  },
  {
   "cell_type": "markdown",
   "metadata": {},
   "source": [
    "Naiye Bayes"
   ]
  },
  {
   "cell_type": "code",
   "execution_count": 52,
   "metadata": {},
   "outputs": [
    {
     "name": "stdout",
     "output_type": "stream",
     "text": [
      "Bag of Words (BoW) Accuracy: 61.33%\n",
      "Bag of Words (BoW) F1 Score: 60.81%\n"
     ]
    }
   ],
   "source": [
    "# Initialize Naive Bayes classifier\n",
    "model_naiye_parameter_bow = MultinomialNB(alpha= 0.1,fit_prior=True)\n",
    "\n",
    "# Train and evaluate on Bag of Words (BoW) features\n",
    "bow_accuracy, bow_f1 = train_and_evaluate(model_naiye_parameter_bow , count_train_features, y_train_encoded, count_test_features, y_test_encoded)\n",
    "\n",
    "print(\"Bag of Words (BoW) Accuracy: {:.2f}%\".format(bow_accuracy * 100))\n",
    "print(\"Bag of Words (BoW) F1 Score: {:.2f}%\".format(bow_f1 * 100))"
   ]
  },
  {
   "cell_type": "markdown",
   "metadata": {},
   "source": [
    "SVM"
   ]
  },
  {
   "cell_type": "code",
   "execution_count": 53,
   "metadata": {},
   "outputs": [
    {
     "name": "stdout",
     "output_type": "stream",
     "text": [
      "Bag of Words (BoW) Accuracy: 71.78%\n",
      "Bag of Words (BoW) F1 Score: 71.83%\n"
     ]
    }
   ],
   "source": [
    "# Initialize SVM\n",
    "model_svm_parameter_bow =  SVC(C=10, gamma=0.1, kernel='sigmoid')\n",
    "\n",
    "\n",
    "# Train and evaluate on Bag of Words (BoW) features\n",
    "bow_accuracy, bow_f1 = train_and_evaluate(model_svm_parameter_bow , count_train_features, y_train_encoded, count_test_features, y_test_encoded)\n",
    "\n",
    "\n",
    "\n",
    "print(\"Bag of Words (BoW) Accuracy: {:.2f}%\".format(bow_accuracy * 100))\n",
    "print(\"Bag of Words (BoW) F1 Score: {:.2f}%\".format(bow_f1 * 100))"
   ]
  },
  {
   "cell_type": "markdown",
   "metadata": {},
   "source": [
    "Linear Regission"
   ]
  },
  {
   "cell_type": "code",
   "execution_count": 54,
   "metadata": {},
   "outputs": [
    {
     "name": "stdout",
     "output_type": "stream",
     "text": [
      "Bag of Words (BoW) Accuracy: 71.33%\n",
      "Bag of Words (BoW) F1 Score: 71.36%\n"
     ]
    }
   ],
   "source": [
    "# Initialize Naive Bayes classifier\n",
    "model_lr_parameter_bow = LogisticRegression(C=1,penalty=\"l2\",random_state=42,max_iter=1000)\n",
    "\n",
    "\n",
    "\n",
    "# Train and evaluate on Bag of Words (BoW) features\n",
    "bow_accuracy, bow_f1 = train_and_evaluate(model_lr_parameter_bow , count_train_features, y_train_encoded, count_test_features, y_test_encoded)\n",
    "\n",
    "print(\"Bag of Words (BoW) Accuracy: {:.2f}%\".format(bow_accuracy * 100))\n",
    "print(\"Bag of Words (BoW) F1 Score: {:.2f}%\".format(bow_f1 * 100))"
   ]
  },
  {
   "cell_type": "markdown",
   "metadata": {},
   "source": [
    "Random Forest"
   ]
  },
  {
   "cell_type": "code",
   "execution_count": 55,
   "metadata": {},
   "outputs": [
    {
     "name": "stdout",
     "output_type": "stream",
     "text": [
      "Bag of Words (BoW) Accuracy: 69.11%\n",
      "Bag of Words (BoW) F1 Score: 69.14%\n"
     ]
    }
   ],
   "source": [
    "# Initialize SVM\n",
    "model_rfc_parameter_bow =  RandomForestClassifier(min_samples_split=10,min_samples_leaf=2,n_estimators=150, random_state=42)\n",
    "\n",
    "# Train and evaluate on Bag of Words (BoW) features\n",
    "bow_accuracy, bow_f1 = train_and_evaluate(model_rfc_parameter_bow , count_train_features, y_train_encoded, count_test_features, y_test_encoded)\n",
    "\n",
    "print(\"Bag of Words (BoW) Accuracy: {:.2f}%\".format(bow_accuracy * 100))\n",
    "print(\"Bag of Words (BoW) F1 Score: {:.2f}%\".format(bow_f1 * 100))\n"
   ]
  },
  {
   "cell_type": "markdown",
   "metadata": {},
   "source": [
    "### Metode Combined"
   ]
  },
  {
   "cell_type": "markdown",
   "metadata": {},
   "source": [
    "Naiye Bayes"
   ]
  },
  {
   "cell_type": "code",
   "execution_count": 58,
   "metadata": {},
   "outputs": [
    {
     "name": "stdout",
     "output_type": "stream",
     "text": [
      "Combined TF-IDF and BoW Accuracy: 63.78%\n",
      "Combined TF-IDF and BoW F1 Score: 63.11%\n"
     ]
    }
   ],
   "source": [
    "# Initialize Naive Bayes classifier\n",
    "model_naiye_parameter_combined = MultinomialNB(alpha= 0.1,fit_prior=True)\n",
    "\n",
    "\n",
    "\n",
    "# Train and evaluate on Combined TF-IDF and BoW features\n",
    "combined_accuracy, combined_f1 = train_and_evaluate(model_naiye_parameter_combined , combined_train_features, y_train_encoded, combined_test_features, y_test_encoded)\n",
    "\n",
    "print(\"Combined TF-IDF and BoW Accuracy: {:.2f}%\".format(combined_accuracy * 100))\n",
    "print(\"Combined TF-IDF and BoW F1 Score: {:.2f}%\".format(combined_f1 * 100))"
   ]
  },
  {
   "cell_type": "markdown",
   "metadata": {},
   "source": [
    "SVM"
   ]
  },
  {
   "cell_type": "code",
   "execution_count": 59,
   "metadata": {},
   "outputs": [
    {
     "name": "stdout",
     "output_type": "stream",
     "text": [
      "Combined TF-IDF and BoW Accuracy: 73.11%\n",
      "Combined TF-IDF and BoW F1 Score: 73.15%\n"
     ]
    }
   ],
   "source": [
    "# Initialize SVM\n",
    "model_svm_parameter_combined =  SVC(C=10, gamma=0.1, kernel='sigmoid')\n",
    "\n",
    "\n",
    "\n",
    "# Train and evaluate on Combined TF-IDF and BoW features\n",
    "combined_accuracy, combined_f1 = train_and_evaluate(model_svm_parameter_combined , combined_train_features, y_train_encoded, combined_test_features, y_test_encoded)\n",
    "\n",
    "\n",
    "print(\"Combined TF-IDF and BoW Accuracy: {:.2f}%\".format(combined_accuracy * 100))\n",
    "print(\"Combined TF-IDF and BoW F1 Score: {:.2f}%\".format(combined_f1 * 100))"
   ]
  },
  {
   "cell_type": "markdown",
   "metadata": {},
   "source": [
    "Linear Regission"
   ]
  },
  {
   "cell_type": "code",
   "execution_count": null,
   "metadata": {},
   "outputs": [],
   "source": []
  },
  {
   "cell_type": "markdown",
   "metadata": {},
   "source": [
    "Random Forest"
   ]
  }
 ],
 "metadata": {
  "kernelspec": {
   "display_name": "env",
   "language": "python",
   "name": "python3"
  },
  "language_info": {
   "codemirror_mode": {
    "name": "ipython",
    "version": 3
   },
   "file_extension": ".py",
   "mimetype": "text/x-python",
   "name": "python",
   "nbconvert_exporter": "python",
   "pygments_lexer": "ipython3",
   "version": "3.11.5"
  }
 },
 "nbformat": 4,
 "nbformat_minor": 2
}
