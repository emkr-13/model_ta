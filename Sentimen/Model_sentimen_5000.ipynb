{
 "cells": [
  {
   "cell_type": "markdown",
   "metadata": {},
   "source": [
    "### Persiapaan "
   ]
  },
  {
   "cell_type": "code",
   "execution_count": 1,
   "metadata": {},
   "outputs": [],
   "source": [
    "import pandas as pd\n",
    "from sklearn.model_selection import train_test_split\n",
    "from sklearn.feature_extraction.text import TfidfVectorizer\n",
    "from sklearn.preprocessing import LabelEncoder"
   ]
  },
  {
   "cell_type": "code",
   "execution_count": 2,
   "metadata": {},
   "outputs": [],
   "source": [
    "def map_sentiment(sentiment):\n",
    "    if sentiment == 1:\n",
    "        return 'positif'\n",
    "    elif sentiment == 0:\n",
    "        return 'netral'\n",
    "    else:\n",
    "        return 'negatif'"
   ]
  },
  {
   "cell_type": "code",
   "execution_count": 3,
   "metadata": {},
   "outputs": [],
   "source": [
    "def prepare_datasets(corpus, labels, test_data_proportion=0.3, random_state=42):\n",
    "    train_X, test_X, train_Y, test_Y = train_test_split(corpus, labels,\n",
    "                                                        test_size=test_data_proportion,\n",
    "                                                        random_state=random_state)\n",
    "    return train_X, test_X, train_Y, test_Y"
   ]
  },
  {
   "cell_type": "code",
   "execution_count": 4,
   "metadata": {},
   "outputs": [],
   "source": [
    "def tfidf_extractor(corpus, ngram_range=(1,2)):\n",
    "    vectorizer = TfidfVectorizer(min_df=1,\n",
    "                                norm='l2',\n",
    "                                smooth_idf=True,\n",
    "                                use_idf=True,\n",
    "                                ngram_range=ngram_range)\n",
    "    features = vectorizer.fit_transform(corpus)\n",
    "    return vectorizer, features"
   ]
  },
  {
   "cell_type": "code",
   "execution_count": 5,
   "metadata": {},
   "outputs": [
    {
     "data": {
      "text/html": [
       "<div>\n",
       "<style scoped>\n",
       "    .dataframe tbody tr th:only-of-type {\n",
       "        vertical-align: middle;\n",
       "    }\n",
       "\n",
       "    .dataframe tbody tr th {\n",
       "        vertical-align: top;\n",
       "    }\n",
       "\n",
       "    .dataframe thead th {\n",
       "        text-align: right;\n",
       "    }\n",
       "</style>\n",
       "<table border=\"1\" class=\"dataframe\">\n",
       "  <thead>\n",
       "    <tr style=\"text-align: right;\">\n",
       "      <th></th>\n",
       "      <th>content</th>\n",
       "      <th>sentimen</th>\n",
       "    </tr>\n",
       "  </thead>\n",
       "  <tbody>\n",
       "    <tr>\n",
       "      <th>0</th>\n",
       "      <td>capres nomor urut 1 anies baswedan merespons t...</td>\n",
       "      <td>Negative</td>\n",
       "    </tr>\n",
       "    <tr>\n",
       "      <th>1</th>\n",
       "      <td>calon wakil presiden nomor urut 1 muhaimin isk...</td>\n",
       "      <td>Negative</td>\n",
       "    </tr>\n",
       "    <tr>\n",
       "      <th>2</th>\n",
       "      <td>pemotor tewas tertimpa pohon melintas jalan je...</td>\n",
       "      <td>Negative</td>\n",
       "    </tr>\n",
       "    <tr>\n",
       "      <th>3</th>\n",
       "      <td>muhammad zinedine alam putra calon presiden no...</td>\n",
       "      <td>Negative</td>\n",
       "    </tr>\n",
       "    <tr>\n",
       "      <th>4</th>\n",
       "      <td>calon presiden capres nomor urut 1 anies baswe...</td>\n",
       "      <td>Negative</td>\n",
       "    </tr>\n",
       "    <tr>\n",
       "      <th>5</th>\n",
       "      <td>aksi pria pandeglang banten membagikan uang mo...</td>\n",
       "      <td>Negative</td>\n",
       "    </tr>\n",
       "    <tr>\n",
       "      <th>6</th>\n",
       "      <td>terdakwa pembunuhan berencana wowon erawan sol...</td>\n",
       "      <td>Negative</td>\n",
       "    </tr>\n",
       "    <tr>\n",
       "      <th>7</th>\n",
       "      <td>ayah berinisial mn 53 memperkosa anak kandungn...</td>\n",
       "      <td>Negative</td>\n",
       "    </tr>\n",
       "    <tr>\n",
       "      <th>8</th>\n",
       "      <td>unit mobil pikap mengangkut barang elektronik ...</td>\n",
       "      <td>Negative</td>\n",
       "    </tr>\n",
       "    <tr>\n",
       "      <th>9</th>\n",
       "      <td>komisi nasional perlindungan anak komnas pa fa...</td>\n",
       "      <td>Negative</td>\n",
       "    </tr>\n",
       "  </tbody>\n",
       "</table>\n",
       "</div>"
      ],
      "text/plain": [
       "                                             content  sentimen\n",
       "0  capres nomor urut 1 anies baswedan merespons t...  Negative\n",
       "1  calon wakil presiden nomor urut 1 muhaimin isk...  Negative\n",
       "2  pemotor tewas tertimpa pohon melintas jalan je...  Negative\n",
       "3  muhammad zinedine alam putra calon presiden no...  Negative\n",
       "4  calon presiden capres nomor urut 1 anies baswe...  Negative\n",
       "5  aksi pria pandeglang banten membagikan uang mo...  Negative\n",
       "6  terdakwa pembunuhan berencana wowon erawan sol...  Negative\n",
       "7  ayah berinisial mn 53 memperkosa anak kandungn...  Negative\n",
       "8  unit mobil pikap mengangkut barang elektronik ...  Negative\n",
       "9  komisi nasional perlindungan anak komnas pa fa...  Negative"
      ]
     },
     "execution_count": 5,
     "metadata": {},
     "output_type": "execute_result"
    }
   ],
   "source": [
    "df = pd.read_csv('sentiment_5000.csv')\n",
    "# df['sentimen'] = df['sentimen'].map(map_sentiment)\n",
    "df.head(10)"
   ]
  },
  {
   "cell_type": "code",
   "execution_count": 6,
   "metadata": {},
   "outputs": [],
   "source": [
    "# Split data\n",
    "x_train, x_test, y_train, y_test = prepare_datasets(df['content'], df['sentimen'], test_data_proportion=0.3)"
   ]
  },
  {
   "cell_type": "code",
   "execution_count": 7,
   "metadata": {},
   "outputs": [],
   "source": [
    "# Convert text labels to numerical labels\n",
    "label_encoder = LabelEncoder()\n",
    "y_train_encoded = label_encoder.fit_transform(y_train)\n",
    "y_test_encoded = label_encoder.transform(y_test)\n",
    "\n",
    "# Ensure the lengths match after splitting\n",
    "y_train_encoded = y_train_encoded[:len(x_train)]\n",
    "y_test_encoded = y_test_encoded[:len(x_test)]"
   ]
  },
  {
   "cell_type": "code",
   "execution_count": 8,
   "metadata": {},
   "outputs": [],
   "source": [
    "# TF-IDF Vectorization\n",
    "tfidf_vectorizer, tfidf_train_features = tfidf_extractor(x_train)\n",
    "tfidf_test_features = tfidf_vectorizer.transform(x_test)"
   ]
  },
  {
   "cell_type": "code",
   "execution_count": 9,
   "metadata": {},
   "outputs": [
    {
     "name": "stdout",
     "output_type": "stream",
     "text": [
      "Shape of tfidf_train_features: (3916, 292265)\n",
      "Length of y_train_encoded: 3916\n"
     ]
    }
   ],
   "source": [
    "print(\"Shape of tfidf_train_features:\", tfidf_train_features.shape)\n",
    "print(\"Length of y_train_encoded:\", len(y_train_encoded))"
   ]
  },
  {
   "cell_type": "code",
   "execution_count": 10,
   "metadata": {},
   "outputs": [
    {
     "name": "stdout",
     "output_type": "stream",
     "text": [
      "Shape of tfidf_test_features: (1679, 292265)\n",
      "Length of y_test_encoded: 1679\n"
     ]
    }
   ],
   "source": [
    "print(\"Shape of tfidf_test_features:\", tfidf_test_features.shape)\n",
    "print(\"Length of y_test_encoded:\", len(y_test_encoded))"
   ]
  },
  {
   "cell_type": "markdown",
   "metadata": {},
   "source": [
    "### Model Naiye Bayes"
   ]
  },
  {
   "cell_type": "code",
   "execution_count": 11,
   "metadata": {},
   "outputs": [
    {
     "name": "stdout",
     "output_type": "stream",
     "text": [
      "Prediksi akurasi dari model: 67.78%\n",
      "\n",
      "Classification Report:\n",
      "              precision    recall  f1-score   support\n",
      "\n",
      "           0       0.76      0.56      0.65       604\n",
      "           1       0.69      0.55      0.61       544\n",
      "           2       0.62      0.94      0.75       531\n",
      "\n",
      "    accuracy                           0.68      1679\n",
      "   macro avg       0.69      0.68      0.67      1679\n",
      "weighted avg       0.70      0.68      0.67      1679\n",
      "\n"
     ]
    },
    {
     "data": {
      "image/png": "[encoded data removed]",
      "text/plain": [
       "<Figure size 800x600 with 2 Axes>"
      ]
     },
     "metadata": {},
     "output_type": "display_data"
    }
   ],
   "source": [
    "from sklearn.naive_bayes import MultinomialNB\n",
    "from sklearn.metrics import accuracy_score, classification_report, confusion_matrix\n",
    "import seaborn as sns\n",
    "import matplotlib.pyplot as plt\n",
    "\n",
    "# Membuat dan melatih model Naive Bayes\n",
    "naive_bayes_model = MultinomialNB()\n",
    "naive_bayes_model.fit(tfidf_train_features, y_train_encoded)\n",
    "\n",
    "# Memprediksi label untuk data uji\n",
    "y_pred = naive_bayes_model.predict(tfidf_test_features)\n",
    "\n",
    "# Menghitung akurasi prediksi\n",
    "accuracy = accuracy_score(y_test_encoded, y_pred)\n",
    "print(\"Prediksi akurasi dari model: {:.2f}%\".format(accuracy * 100))\n",
    "\n",
    "# Classification report\n",
    "print(\"\\nClassification Report:\")\n",
    "print(classification_report(y_test_encoded, y_pred))\n",
    "\n",
    "# Confusion matrix\n",
    "cm = confusion_matrix(y_test_encoded, y_pred)\n",
    "plt.figure(figsize=(8, 6))\n",
    "sns.heatmap(cm, annot=True, cmap=\"Blues\", fmt=\"d\", xticklabels=label_encoder.classes_, yticklabels=label_encoder.classes_)\n",
    "plt.xlabel(\"Predicted labels\")\n",
    "plt.ylabel(\"True labels\")\n",
    "plt.title(\"Confusion Matrix\")\n",
    "plt.show()\n"
   ]
  },
  {
   "cell_type": "markdown",
   "metadata": {},
   "source": [
    "Tuning Model "
   ]
  },
  {
   "cell_type": "code",
   "execution_count": 12,
   "metadata": {},
   "outputs": [
    {
     "name": "stdout",
     "output_type": "stream",
     "text": [
      "Best parameters from GridSearchCV: {'alpha': 0.1, 'fit_prior': False}\n"
     ]
    }
   ],
   "source": [
    "from sklearn.model_selection import GridSearchCV, RandomizedSearchCV\n",
    "from scipy.stats import uniform\n",
    "\n",
    "# Parameter grid untuk GridSearchCV\n",
    "param_grid = {\n",
    "    'alpha': [0.1, 0.5, 1.0, 2.0],\n",
    "    'fit_prior': [True, False]\n",
    "}\n",
    "\n",
    "# GridSearchCV\n",
    "grid_search = GridSearchCV(MultinomialNB(), param_grid, cv=5)\n",
    "grid_search.fit(tfidf_train_features, y_train_encoded)\n",
    "\n",
    "print(\"Best parameters from GridSearchCV:\", grid_search.best_params_)\n",
    "\n",
    "\n"
   ]
  },
  {
   "cell_type": "code",
   "execution_count": 13,
   "metadata": {},
   "outputs": [
    {
     "name": "stdout",
     "output_type": "stream",
     "text": [
      "Best parameters from RandomizedSearchCV: {'alpha': 0.10155753168202866, 'fit_prior': False}\n"
     ]
    }
   ],
   "source": [
    "# RandomizedSearchCV\n",
    "param_dist = {\n",
    "    'alpha': uniform(0.1, 2.0),\n",
    "    'fit_prior': [True, False]\n",
    "}\n",
    "\n",
    "random_search = RandomizedSearchCV(MultinomialNB(), param_dist, cv=5, n_iter=10, random_state=42)\n",
    "random_search.fit(tfidf_train_features, y_train_encoded)\n",
    "\n",
    "print(\"Best parameters from RandomizedSearchCV:\", random_search.best_params_)\n"
   ]
  },
  {
   "cell_type": "code",
   "execution_count": 14,
   "metadata": {},
   "outputs": [
    {
     "name": "stdout",
     "output_type": "stream",
     "text": [
      "\n",
      "Prediksi akurasi dari model terbaik (GridSearchCV): 71.35%\n",
      "Prediksi akurasi dari model terbaik (RandomizedSearchCV): 71.35%\n"
     ]
    }
   ],
   "source": [
    "# Evaluasi model terbaik dari GridSearchCV\n",
    "best_model_grid = grid_search.best_estimator_\n",
    "y_pred_grid = best_model_grid.predict(tfidf_test_features)\n",
    "accuracy_grid = accuracy_score(y_test_encoded, y_pred_grid)\n",
    "print(\"\\nPrediksi akurasi dari model terbaik (GridSearchCV): {:.2f}%\".format(accuracy_grid * 100))\n",
    "\n",
    "# Evaluasi model terbaik dari RandomizedSearchCV\n",
    "best_model_random = random_search.best_estimator_\n",
    "y_pred_random = best_model_random.predict(tfidf_test_features)\n",
    "accuracy_random = accuracy_score(y_test_encoded, y_pred_random)\n",
    "print(\"Prediksi akurasi dari model terbaik (RandomizedSearchCV): {:.2f}%\".format(accuracy_random * 100))\n"
   ]
  },
  {
   "cell_type": "markdown",
   "metadata": {},
   "source": [
    "### Model SVM"
   ]
  },
  {
   "cell_type": "code",
   "execution_count": 15,
   "metadata": {},
   "outputs": [
    {
     "name": "stdout",
     "output_type": "stream",
     "text": [
      "Prediksi akurasi dari model SVM: 76.95%\n",
      "\n",
      "Classification Report SVM:\n",
      "              precision    recall  f1-score   support\n",
      "\n",
      "           0       0.79      0.73      0.76       604\n",
      "           1       0.73      0.70      0.71       544\n",
      "           2       0.78      0.89      0.83       531\n",
      "\n",
      "    accuracy                           0.77      1679\n",
      "   macro avg       0.77      0.77      0.77      1679\n",
      "weighted avg       0.77      0.77      0.77      1679\n",
      "\n"
     ]
    },
    {
     "data": {
      "image/png": "[encoded data removed]",
      "text/plain": [
       "<Figure size 800x600 with 2 Axes>"
      ]
     },
     "metadata": {},
     "output_type": "display_data"
    }
   ],
   "source": [
    "from sklearn.svm import SVC\n",
    "\n",
    "# Membuat dan melatih model SVM\n",
    "svm_model = SVC(kernel='linear', random_state=42)\n",
    "svm_model.fit(tfidf_train_features, y_train_encoded)\n",
    "\n",
    "# Memprediksi label untuk data uji\n",
    "y_pred_svm = svm_model.predict(tfidf_test_features)\n",
    "\n",
    "# Menghitung akurasi prediksi\n",
    "accuracy_svm = accuracy_score(y_test_encoded, y_pred_svm)\n",
    "print(\"Prediksi akurasi dari model SVM: {:.2f}%\".format(accuracy_svm * 100))\n",
    "\n",
    "# Classification report\n",
    "print(\"\\nClassification Report SVM:\")\n",
    "print(classification_report(y_test_encoded, y_pred_svm))\n",
    "\n",
    "# Confusion matrix\n",
    "cm_svm = confusion_matrix(y_test_encoded, y_pred_svm)\n",
    "plt.figure(figsize=(8, 6))\n",
    "sns.heatmap(cm_svm, annot=True, cmap=\"Blues\", fmt=\"d\", xticklabels=label_encoder.classes_, yticklabels=label_encoder.classes_)\n",
    "plt.xlabel(\"Predicted labels\")\n",
    "plt.ylabel(\"True labels\")\n",
    "plt.title(\"Confusion Matrix SVM\")\n",
    "plt.show()\n"
   ]
  },
  {
   "cell_type": "code",
   "execution_count": 16,
   "metadata": {},
   "outputs": [],
   "source": [
    "from sklearn.model_selection import GridSearchCV, RandomizedSearchCV\n",
    "from scipy.stats import uniform\n",
    "\n",
    "# Parameter grid untuk GridSearchCV\n",
    "param_grid_svm = {\n",
    "    'C': [0.1, 1, 10, 100],\n",
    "    'gamma': [1, 0.1, 0.01, 0.001],\n",
    "    'kernel': ['linear', 'rbf', 'poly', 'sigmoid']\n",
    "}\n",
    "\n",
    "# GridSearchCV\n",
    "grid_search_svm = GridSearchCV(SVC(), param_grid_svm, cv=5)\n",
    "grid_search_svm.fit(tfidf_train_features, y_train_encoded)\n",
    "\n",
    "print(\"Best parameters from GridSearchCV for SVM:\", grid_search_svm.best_params_)\n",
    "\n"
   ]
  },
  {
   "cell_type": "code",
   "execution_count": null,
   "metadata": {},
   "outputs": [
    {
     "name": "stdout",
     "output_type": "stream",
     "text": [
      "Best parameters from RandomizedSearchCV for SVM: {'C': 61.848150962771655, 'gamma': 0.306971843378972, 'kernel': 'rbf'}\n"
     ]
    }
   ],
   "source": [
    "# RandomizedSearchCV\n",
    "param_dist_svm = {\n",
    "    'C': uniform(0.1, 100),\n",
    "    'gamma': ['scale', 'auto'] + list(uniform(0.001, 1.0).rvs(10)),\n",
    "    'kernel': ['linear', 'rbf', 'poly', 'sigmoid']\n",
    "}\n",
    "\n",
    "random_search_svm = RandomizedSearchCV(SVC(), param_dist_svm, cv=5, n_iter=10, random_state=42)\n",
    "random_search_svm.fit(tfidf_train_features, y_train_encoded)\n",
    "\n",
    "print(\"Best parameters from RandomizedSearchCV for SVM:\", random_search_svm.best_params_)"
   ]
  },
  {
   "cell_type": "code",
   "execution_count": null,
   "metadata": {},
   "outputs": [
    {
     "name": "stdout",
     "output_type": "stream",
     "text": [
      "\n",
      "Prediksi akurasi dari model terbaik (GridSearchCV) SVM: 70.22%\n"
     ]
    },
    {
     "name": "stdout",
     "output_type": "stream",
     "text": [
      "Prediksi akurasi dari model terbaik (RandomizedSearchCV) SVM: 69.44%\n"
     ]
    }
   ],
   "source": [
    "# Evaluasi model terbaik dari GridSearchCV\n",
    "best_model_grid_svm = grid_search_svm.best_estimator_\n",
    "y_pred_grid_svm = best_model_grid_svm.predict(tfidf_test_features)\n",
    "accuracy_grid_svm = accuracy_score(y_test_encoded, y_pred_grid_svm)\n",
    "print(\"\\nPrediksi akurasi dari model terbaik (GridSearchCV) SVM: {:.2f}%\".format(accuracy_grid_svm * 100))\n",
    "\n",
    "# Evaluasi model terbaik dari RandomizedSearchCV\n",
    "best_model_random_svm = random_search_svm.best_estimator_\n",
    "y_pred_random_svm = best_model_random_svm.predict(tfidf_test_features)\n",
    "accuracy_random_svm = accuracy_score(y_test_encoded, y_pred_random_svm)\n",
    "print(\"Prediksi akurasi dari model terbaik (RandomizedSearchCV) SVM: {:.2f}%\".format(accuracy_random_svm * 100))\n"
   ]
  },
  {
   "cell_type": "markdown",
   "metadata": {},
   "source": [
    "### Model Ensemble Learning"
   ]
  },
  {
   "cell_type": "code",
   "execution_count": null,
   "metadata": {},
   "outputs": [],
   "source": [
    "# Mengambil model terbaik dari hasil tuning\n",
    "best_model_naive_bayes = best_model_grid\n",
    "best_model_svm = best_model_grid_svm\n"
   ]
  },
  {
   "cell_type": "code",
   "execution_count": null,
   "metadata": {},
   "outputs": [
    {
     "name": "stdout",
     "output_type": "stream",
     "text": [
      "Prediksi akurasi dari model Ensemble: 70.22%\n",
      "\n",
      "Classification Report Ensemble:\n",
      "              precision    recall  f1-score   support\n",
      "\n",
      "           0       0.68      0.76      0.72       296\n",
      "           1       0.70      0.57      0.63       291\n",
      "           2       0.72      0.76      0.74       313\n",
      "\n",
      "    accuracy                           0.70       900\n",
      "   macro avg       0.70      0.70      0.70       900\n",
      "weighted avg       0.70      0.70      0.70       900\n",
      "\n"
     ]
    },
    {
     "data": {
      "image/png": "[encoded data removed]",
      "text/plain": [
       "<Figure size 800x600 with 2 Axes>"
      ]
     },
     "metadata": {},
     "output_type": "display_data"
    }
   ],
   "source": [
    "from sklearn.ensemble import VotingClassifier\n",
    "\n",
    "# Membuat model ensemble\n",
    "ensemble_model = VotingClassifier(estimators=[\n",
    "    ('naive_bayes', best_model_naive_bayes),\n",
    "    ('svm', best_model_svm),\n",
    "], voting='hard')\n",
    "\n",
    "# Melatih model ensemble\n",
    "ensemble_model.fit(tfidf_train_features, y_train_encoded)\n",
    "\n",
    "# Memprediksi label untuk data uji\n",
    "y_pred_ensemble = ensemble_model.predict(tfidf_test_features)\n",
    "\n",
    "# Menghitung akurasi prediksi\n",
    "accuracy_ensemble = accuracy_score(y_test_encoded, y_pred_ensemble)\n",
    "print(\"Prediksi akurasi dari model Ensemble: {:.2f}%\".format(accuracy_ensemble * 100))\n",
    "\n",
    "# Classification report\n",
    "print(\"\\nClassification Report Ensemble:\")\n",
    "print(classification_report(y_test_encoded, y_pred_ensemble))\n",
    "\n",
    "# Confusion matrix\n",
    "cm_ensemble = confusion_matrix(y_test_encoded, y_pred_ensemble)\n",
    "plt.figure(figsize=(8, 6))\n",
    "sns.heatmap(cm_ensemble, annot=True, cmap=\"Blues\", fmt=\"d\", xticklabels=label_encoder.classes_, yticklabels=label_encoder.classes_)\n",
    "plt.xlabel(\"Predicted labels\")\n",
    "plt.ylabel(\"True labels\")\n",
    "plt.title(\"Confusion Matrix Ensemble\")\n",
    "plt.show()\n"
   ]
  }
 ],
 "metadata": {
  "kernelspec": {
   "display_name": "env",
   "language": "python",
   "name": "python3"
  },
  "language_info": {
   "codemirror_mode": {
    "name": "ipython",
    "version": 3
   },
   "file_extension": ".py",
   "mimetype": "text/x-python",
   "name": "python",
   "nbconvert_exporter": "python",
   "pygments_lexer": "ipython3",
   "version": "3.11.5"
  }
 },
 "nbformat": 4,
 "nbformat_minor": 2
}
