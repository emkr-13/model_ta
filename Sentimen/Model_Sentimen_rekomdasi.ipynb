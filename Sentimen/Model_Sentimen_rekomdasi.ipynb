{
 "cells": [
  {
   "cell_type": "markdown",
   "metadata": {},
   "source": [
    "# Model Rekomondasi"
   ]
  },
  {
   "cell_type": "markdown",
   "metadata": {},
   "source": [
    "### Persiapaan Data"
   ]
  },
  {
   "cell_type": "code",
   "execution_count": 1,
   "metadata": {},
   "outputs": [],
   "source": [
    "import pandas as pd\n",
    "from sklearn.model_selection import train_test_split\n",
    "from sklearn.feature_extraction.text import TfidfVectorizer, CountVectorizer\n",
    "from sklearn.preprocessing import LabelEncoder\n",
    "from scipy.sparse import hstack\n"
   ]
  },
  {
   "cell_type": "code",
   "execution_count": 2,
   "metadata": {},
   "outputs": [],
   "source": [
    "def prepare_datasets(corpus, labels, test_data_proportion=0.3, random_state=42):\n",
    "    train_X, test_X, train_Y, test_Y = train_test_split(corpus, labels,\n",
    "                                                        test_size=test_data_proportion,\n",
    "                                                        random_state=random_state)\n",
    "    return train_X, test_X, train_Y, test_Y\n",
    "    \n",
    "def tfidf_extractor(corpus, ngram_range=(1,2)):\n",
    "    vectorizer = TfidfVectorizer(min_df=1,\n",
    "                                norm='l2',\n",
    "                                smooth_idf=True,\n",
    "                                use_idf=True,\n",
    "                                ngram_range=ngram_range)\n",
    "    features = vectorizer.fit_transform(corpus)\n",
    "    return vectorizer, features\n",
    "\n",
    "def bow_extractor(corpus, ngram_range=(1,1)):\n",
    "    vectorizer = CountVectorizer(min_df=1, ngram_range=ngram_range)\n",
    "    features = vectorizer.fit_transform(corpus)\n",
    "    return vectorizer, features"
   ]
  },
  {
   "cell_type": "code",
   "execution_count": 3,
   "metadata": {},
   "outputs": [
    {
     "data": {
      "text/html": [
       "<div>\n",
       "<style scoped>\n",
       "    .dataframe tbody tr th:only-of-type {\n",
       "        vertical-align: middle;\n",
       "    }\n",
       "\n",
       "    .dataframe tbody tr th {\n",
       "        vertical-align: top;\n",
       "    }\n",
       "\n",
       "    .dataframe thead th {\n",
       "        text-align: right;\n",
       "    }\n",
       "</style>\n",
       "<table border=\"1\" class=\"dataframe\">\n",
       "  <thead>\n",
       "    <tr style=\"text-align: right;\">\n",
       "      <th></th>\n",
       "      <th>content</th>\n",
       "      <th>sentimen</th>\n",
       "    </tr>\n",
       "  </thead>\n",
       "  <tbody>\n",
       "    <tr>\n",
       "      <th>0</th>\n",
       "      <td>bogor keluarga fw 22 perempuan dibunuh pacarny...</td>\n",
       "      <td>negatif</td>\n",
       "    </tr>\n",
       "    <tr>\n",
       "      <th>1</th>\n",
       "      <td>khoiri 52 warga dusun blimbing desa parerejo k...</td>\n",
       "      <td>negatif</td>\n",
       "    </tr>\n",
       "    <tr>\n",
       "      <th>2</th>\n",
       "      <td>polisi menangkap andrea cw inggris chansler am...</td>\n",
       "      <td>negatif</td>\n",
       "    </tr>\n",
       "    <tr>\n",
       "      <th>3</th>\n",
       "      <td>wakil ketua umum pan yandri susanto capres ani...</td>\n",
       "      <td>negatif</td>\n",
       "    </tr>\n",
       "    <tr>\n",
       "      <th>4</th>\n",
       "      <td>pria medan satria kota bekasi terluka lehernya...</td>\n",
       "      <td>negatif</td>\n",
       "    </tr>\n",
       "    <tr>\n",
       "      <th>5</th>\n",
       "      <td>kpu ri menilai surat suara taipei taiwan surat...</td>\n",
       "      <td>negatif</td>\n",
       "    </tr>\n",
       "    <tr>\n",
       "      <th>6</th>\n",
       "      <td>jet jet tempur israel melancarkan serangan uda...</td>\n",
       "      <td>negatif</td>\n",
       "    </tr>\n",
       "    <tr>\n",
       "      <th>7</th>\n",
       "      <td>rumah milik mf 16 remaja diduga mencekik bocah...</td>\n",
       "      <td>negatif</td>\n",
       "    </tr>\n",
       "    <tr>\n",
       "      <th>8</th>\n",
       "      <td>calon presiden ganjar pranowo relawannya ikuta...</td>\n",
       "      <td>negatif</td>\n",
       "    </tr>\n",
       "    <tr>\n",
       "      <th>9</th>\n",
       "      <td>calon wakil presiden cawapres nomor urut 1 muh...</td>\n",
       "      <td>negatif</td>\n",
       "    </tr>\n",
       "  </tbody>\n",
       "</table>\n",
       "</div>"
      ],
      "text/plain": [
       "                                             content sentimen\n",
       "0  bogor keluarga fw 22 perempuan dibunuh pacarny...  negatif\n",
       "1  khoiri 52 warga dusun blimbing desa parerejo k...  negatif\n",
       "2  polisi menangkap andrea cw inggris chansler am...  negatif\n",
       "3  wakil ketua umum pan yandri susanto capres ani...  negatif\n",
       "4  pria medan satria kota bekasi terluka lehernya...  negatif\n",
       "5  kpu ri menilai surat suara taipei taiwan surat...  negatif\n",
       "6  jet jet tempur israel melancarkan serangan uda...  negatif\n",
       "7  rumah milik mf 16 remaja diduga mencekik bocah...  negatif\n",
       "8  calon presiden ganjar pranowo relawannya ikuta...  negatif\n",
       "9  calon wakil presiden cawapres nomor urut 1 muh...  negatif"
      ]
     },
     "execution_count": 3,
     "metadata": {},
     "output_type": "execute_result"
    }
   ],
   "source": [
    "df = pd.read_csv('sentiment_5400.csv')\n",
    "df.head(10)"
   ]
  },
  {
   "cell_type": "code",
   "execution_count": 4,
   "metadata": {},
   "outputs": [],
   "source": [
    "# Split data\n",
    "x_train, x_test, y_train, y_test = prepare_datasets(df['content'], df['sentimen'], test_data_proportion=0.3)\n"
   ]
  },
  {
   "cell_type": "code",
   "execution_count": 5,
   "metadata": {},
   "outputs": [],
   "source": [
    "# Convert text labels to numerical labels\n",
    "label_encoder = LabelEncoder()\n",
    "y_train_encoded = label_encoder.fit_transform(y_train)\n",
    "y_test_encoded = label_encoder.transform(y_test)\n",
    "\n",
    "# Ensure the lengths match after splitting\n",
    "y_train_encoded = y_train_encoded[:len(x_train)]\n",
    "y_test_encoded = y_test_encoded[:len(x_test)]\n"
   ]
  },
  {
   "cell_type": "code",
   "execution_count": 6,
   "metadata": {},
   "outputs": [],
   "source": [
    "# TF-IDF Vectorization\n",
    "tfidf_vectorizer, tfidf_train_features = tfidf_extractor(x_train)\n",
    "tfidf_test_features = tfidf_vectorizer.transform(x_test)\n",
    "\n",
    "# Bag of Words (BoW) features\n",
    "count_vectorizer, count_train_features = bow_extractor(x_train)\n",
    "count_test_features = count_vectorizer.transform(x_test)\n",
    "\n",
    "# Combine TF-IDF and BoW features\n",
    "combined_train_features = hstack([tfidf_train_features, count_train_features])\n",
    "combined_test_features = hstack([tfidf_test_features, count_test_features])"
   ]
  },
  {
   "cell_type": "code",
   "execution_count": 7,
   "metadata": {},
   "outputs": [
    {
     "name": "stdout",
     "output_type": "stream",
     "text": [
      "Jumlah fitur TF-IDF: 245316\n",
      "Jumlah fitur Bag of Words: 26266\n",
      "Jumlah fitur gabungan: 271582\n"
     ]
    }
   ],
   "source": [
    "# TF-IDF Features\n",
    "print(\"Jumlah fitur TF-IDF:\", tfidf_train_features.shape[1])\n",
    "\n",
    "# Bag of Words (BoW) Features\n",
    "print(\"Jumlah fitur Bag of Words:\", count_train_features.shape[1])\n",
    "\n",
    "# Combined Features\n",
    "print(\"Jumlah fitur gabungan:\", combined_train_features.shape[1])"
   ]
  },
  {
   "cell_type": "markdown",
   "metadata": {},
   "source": [
    "### Model Naiye Bayes"
   ]
  },
  {
   "cell_type": "code",
   "execution_count": 8,
   "metadata": {},
   "outputs": [],
   "source": [
    "from sklearn.metrics import accuracy_score, f1_score, classification_report, confusion_matrix\n",
    "from sklearn.naive_bayes import MultinomialNB\n",
    "from sklearn.model_selection import GridSearchCV\n",
    "import matplotlib.pyplot as plt\n",
    "import seaborn as sns"
   ]
  },
  {
   "cell_type": "code",
   "execution_count": 9,
   "metadata": {},
   "outputs": [],
   "source": [
    "# Define function to train and evaluate Naive Bayes classifier\n",
    "def train_and_evaluate(classifier, train_features, train_labels, test_features, test_labels):\n",
    "    # Train the classifier\n",
    "    classifier.fit(train_features, train_labels)\n",
    "    \n",
    "    # Predictions\n",
    "    predictions = classifier.predict(test_features)\n",
    "    \n",
    "    # Calculate accuracy\n",
    "    accuracy = accuracy_score(test_labels, predictions)\n",
    "    \n",
    "    # Calculate F1 score\n",
    "    f1 = f1_score(test_labels, predictions, average='weighted')\n",
    "    \n",
    "    # Classification report\n",
    "    report = classification_report(test_labels, predictions, target_names=label_encoder.classes_)\n",
    "    \n",
    "    # Confusion matrix\n",
    "    matrix = confusion_matrix(test_labels, predictions)\n",
    "    \n",
    "    return accuracy * 100, f1 * 100, report, matrix"
   ]
  },
  {
   "cell_type": "code",
   "execution_count": 10,
   "metadata": {},
   "outputs": [],
   "source": [
    "# Function to plot confusion matrix\n",
    "def plot_confusion_matrix(matrix, labels):\n",
    "    plt.figure(figsize=(8, 6))\n",
    "    sns.heatmap(matrix, annot=True, fmt=\"d\", cmap=\"Blues\", xticklabels=labels, yticklabels=labels)\n",
    "    plt.xlabel('Predicted Labels')\n",
    "    plt.ylabel('True Labels')\n",
    "    plt.title('Confusion Matrix')\n",
    "    plt.show()"
   ]
  },
  {
   "cell_type": "markdown",
   "metadata": {},
   "source": [
    "#### Tanpa Parameter"
   ]
  },
  {
   "cell_type": "code",
   "execution_count": 11,
   "metadata": {},
   "outputs": [],
   "source": [
    "# Initialize Naive Bayes classifier\n",
    "model_naiye_tanpa_parameter = MultinomialNB()\n",
    "\n",
    "# Train and evaluate on TF-IDF Vectorization\n",
    "tfidf_accuracy, tfidf_f1, tfidf_report, tfidf_matrix = train_and_evaluate(model_naiye_tanpa_parameter, tfidf_train_features, y_train_encoded, tfidf_test_features, y_test_encoded)\n",
    "\n",
    "# Train and evaluate on Bag of Words (BoW) features\n",
    "bow_accuracy, bow_f1, bow_report, bow_matrix = train_and_evaluate(model_naiye_tanpa_parameter, count_train_features, y_train_encoded, count_test_features, y_test_encoded)\n",
    "\n",
    "# Train and evaluate on Combined TF-IDF and BoW features\n",
    "combined_accuracy, combined_f1, combined_report, combined_matrix = train_and_evaluate(model_naiye_tanpa_parameter, combined_train_features, y_train_encoded, combined_test_features, y_test_encoded)"
   ]
  },
  {
   "cell_type": "code",
   "execution_count": 12,
   "metadata": {},
   "outputs": [
    {
     "name": "stdout",
     "output_type": "stream",
     "text": [
      "TF-IDF Vectorization:\n",
      "Accuracy: 77.96%\n",
      "F1 Score: 77.72%\n",
      "Classification Report:\n",
      "               precision    recall  f1-score   support\n",
      "\n",
      "     negatif       0.81      0.70      0.75       575\n",
      "      netral       0.82      0.72      0.77       508\n",
      "     positif       0.73      0.92      0.82       537\n",
      "\n",
      "    accuracy                           0.78      1620\n",
      "   macro avg       0.79      0.78      0.78      1620\n",
      "weighted avg       0.79      0.78      0.78      1620\n",
      "\n",
      "Confusion Matrix:\n",
      " [[401  58 116]\n",
      " [ 76 368  64]\n",
      " [ 21  22 494]]\n"
     ]
    }
   ],
   "source": [
    "print(\"TF-IDF Vectorization:\")\n",
    "print(\"Accuracy: {:.2f}%\".format(tfidf_accuracy))\n",
    "print(\"F1 Score: {:.2f}%\".format(tfidf_f1))\n",
    "print(\"Classification Report:\\n\", tfidf_report)\n",
    "print(\"Confusion Matrix:\\n\", tfidf_matrix)"
   ]
  },
  {
   "cell_type": "code",
   "execution_count": 13,
   "metadata": {},
   "outputs": [
    {
     "name": "stdout",
     "output_type": "stream",
     "text": [
      "\n",
      "Bag of Words (BoW) features:\n",
      "Accuracy: 78.27%\n",
      "F1 Score: 78.07%\n",
      "Classification Report:\n",
      "               precision    recall  f1-score   support\n",
      "\n",
      "     negatif       0.80      0.74      0.77       575\n",
      "      netral       0.85      0.69      0.76       508\n",
      "     positif       0.72      0.92      0.81       537\n",
      "\n",
      "    accuracy                           0.78      1620\n",
      "   macro avg       0.79      0.78      0.78      1620\n",
      "weighted avg       0.79      0.78      0.78      1620\n",
      "\n",
      "Confusion Matrix:\n",
      " [[427  42 106]\n",
      " [ 78 348  82]\n",
      " [ 26  18 493]]\n"
     ]
    }
   ],
   "source": [
    "print(\"\\nBag of Words (BoW) features:\")\n",
    "print(\"Accuracy: {:.2f}%\".format(bow_accuracy))\n",
    "print(\"F1 Score: {:.2f}%\".format(bow_f1))\n",
    "print(\"Classification Report:\\n\", bow_report)\n",
    "print(\"Confusion Matrix:\\n\", bow_matrix)"
   ]
  },
  {
   "cell_type": "code",
   "execution_count": 14,
   "metadata": {},
   "outputs": [
    {
     "name": "stdout",
     "output_type": "stream",
     "text": [
      "\n",
      "Combined TF-IDF and BoW features:\n",
      "Accuracy: 76.17%\n",
      "F1 Score: 75.68%\n",
      "Classification Report:\n",
      "               precision    recall  f1-score   support\n",
      "\n",
      "     negatif       0.79      0.75      0.77       575\n",
      "      netral       0.92      0.57      0.71       508\n",
      "     positif       0.67      0.95      0.79       537\n",
      "\n",
      "    accuracy                           0.76      1620\n",
      "   macro avg       0.79      0.76      0.76      1620\n",
      "weighted avg       0.79      0.76      0.76      1620\n",
      "\n",
      "Confusion Matrix:\n",
      " [[434  22 119]\n",
      " [ 89 291 128]\n",
      " [ 24   4 509]]\n"
     ]
    }
   ],
   "source": [
    "print(\"\\nCombined TF-IDF and BoW features:\")\n",
    "print(\"Accuracy: {:.2f}%\".format(combined_accuracy))\n",
    "print(\"F1 Score: {:.2f}%\".format(combined_f1))\n",
    "print(\"Classification Report:\\n\", combined_report)\n",
    "print(\"Confusion Matrix:\\n\", combined_matrix)"
   ]
  },
  {
   "cell_type": "code",
   "execution_count": 15,
   "metadata": {},
   "outputs": [
    {
     "data": {
      "image/png": "[encoded data removed]",
      "text/plain": [
       "<Figure size 800x600 with 2 Axes>"
      ]
     },
     "metadata": {},
     "output_type": "display_data"
    },
    {
     "data": {
      "image/png": "[encoded data removed]",
      "text/plain": [
       "<Figure size 800x600 with 2 Axes>"
      ]
     },
     "metadata": {},
     "output_type": "display_data"
    },
    {
     "data": {
      "image/png": "[encoded data removed]",
      "text/plain": [
       "<Figure size 800x600 with 2 Axes>"
      ]
     },
     "metadata": {},
     "output_type": "display_data"
    }
   ],
   "source": [
    "# Plot confusion matrix\n",
    "plot_confusion_matrix(tfidf_matrix, label_encoder.classes_)\n",
    "plot_confusion_matrix(bow_matrix, label_encoder.classes_)\n",
    "plot_confusion_matrix(combined_matrix, label_encoder.classes_)"
   ]
  },
  {
   "cell_type": "code",
   "execution_count": 22,
   "metadata": {},
   "outputs": [
    {
     "name": "stdout",
     "output_type": "stream",
     "text": [
      "Hasil Prediksi (dengan fitur kombinasi): ['positif']\n"
     ]
    }
   ],
   "source": [
    "test = ('Jeka Saragih On Fire Menatap Debut di UFC dengan menang secara telak')\n",
    "test_sentence_features = hstack([tfidf_vectorizer.transform([test]), count_vectorizer.transform([test])])\n",
    "test_result = model_naiye_tanpa_parameter.predict(test_sentence_features)\n",
    "# Konversi kembali label prediksi ke label teks\n",
    "predicted_label = label_encoder.inverse_transform(test_result)\n",
    "\n",
    "# Tampilkan hasil prediksi dalam bentuk kategori\n",
    "print(\"Hasil Prediksi (dengan fitur kombinasi):\", predicted_label)"
   ]
  },
  {
   "cell_type": "markdown",
   "metadata": {},
   "source": [
    "#### Tuning"
   ]
  },
  {
   "cell_type": "code",
   "execution_count": 26,
   "metadata": {},
   "outputs": [
    {
     "name": "stdout",
     "output_type": "stream",
     "text": [
      "Best Parameters: {'alpha': 0.1, 'fit_prior': True}\n",
      "Best Score: 0.7984126984126985\n",
      "Best Parameters: MultinomialNB(alpha=0.1)\n",
      "Accuracy (Best Model): 79.75308641975309\n",
      "F1 Score (Best Model): 79.59697593897329\n"
     ]
    }
   ],
   "source": [
    "# Tentukan parameter grid yang akan dieksplorasi\n",
    "param_grid = {\n",
    "    'alpha': [0.1, 0.5, 1.0, 2.0, 5.0],  # Parameter alpha untuk smoothing\n",
    "    'fit_prior': [True, False]            # Opsional, apakah akan mempelajari probabilitas prior atau tidak\n",
    "}\n",
    "\n",
    "# Buat objek GridSearchCV\n",
    "grid_search = GridSearchCV(model_naiye_tanpa_parameter, param_grid, cv=5, scoring='accuracy')\n",
    "\n",
    "# Lakukan fitting terhadap data pelatihan\n",
    "grid_search.fit(tfidf_train_features, y_train_encoded)\n",
    "\n",
    "# Dapatkan parameter terbaik dan skor terbaik\n",
    "best_params = grid_search.best_params_\n",
    "best_score = grid_search.best_score_\n",
    "\n",
    "print(\"Best Parameters:\", best_params)\n",
    "print(\"Best Score:\", best_score)\n",
    "\n",
    "# Evaluasi model dengan parameter terbaik\n",
    "best_model = grid_search.best_estimator_\n",
    "accuracy, f1, _, _ = train_and_evaluate(best_model, tfidf_train_features, y_train_encoded, tfidf_test_features, y_test_encoded)\n",
    "print(\"Best Parameters:\", best_model)\n",
    "print(\"Accuracy (Best Model):\", accuracy)\n",
    "print(\"F1 Score (Best Model):\", f1)"
   ]
  },
  {
   "cell_type": "markdown",
   "metadata": {},
   "source": [
    "#### Pakai Paramater"
   ]
  },
  {
   "cell_type": "code",
   "execution_count": null,
   "metadata": {},
   "outputs": [],
   "source": []
  },
  {
   "cell_type": "markdown",
   "metadata": {},
   "source": [
    "### Model SVM"
   ]
  },
  {
   "cell_type": "code",
   "execution_count": null,
   "metadata": {},
   "outputs": [],
   "source": []
  },
  {
   "cell_type": "markdown",
   "metadata": {},
   "source": [
    "### Model Logistic Regression"
   ]
  },
  {
   "cell_type": "code",
   "execution_count": null,
   "metadata": {},
   "outputs": [],
   "source": []
  },
  {
   "cell_type": "markdown",
   "metadata": {},
   "source": [
    "### Model Random Forest"
   ]
  },
  {
   "cell_type": "code",
   "execution_count": null,
   "metadata": {},
   "outputs": [],
   "source": []
  },
  {
   "cell_type": "markdown",
   "metadata": {},
   "source": [
    "### Model Ensemble Learning"
   ]
  },
  {
   "cell_type": "code",
   "execution_count": null,
   "metadata": {},
   "outputs": [],
   "source": []
  }
 ],
 "metadata": {
  "kernelspec": {
   "display_name": "env",
   "language": "python",
   "name": "python3"
  },
  "language_info": {
   "codemirror_mode": {
    "name": "ipython",
    "version": 3
   },
   "file_extension": ".py",
   "mimetype": "text/x-python",
   "name": "python",
   "nbconvert_exporter": "python",
   "pygments_lexer": "ipython3",
   "version": "3.11.5"
  }
 },
 "nbformat": 4,
 "nbformat_minor": 2
}
