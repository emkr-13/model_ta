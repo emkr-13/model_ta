{
 "cells": [
  {
   "cell_type": "markdown",
   "metadata": {},
   "source": [
    "### Model 1 Naiye Baeyes"
   ]
  },
  {
   "cell_type": "code",
   "execution_count": 1,
   "metadata": {},
   "outputs": [],
   "source": [
    "import pandas as pd"
   ]
  },
  {
   "cell_type": "code",
   "execution_count": 2,
   "metadata": {},
   "outputs": [],
   "source": [
    "df=pd.read_csv('pre_title_steaming.csv')\n",
    "# df=pd.read_csv('pre_title.csv')"
   ]
  },
  {
   "cell_type": "code",
   "execution_count": 3,
   "metadata": {},
   "outputs": [
    {
     "data": {
      "text/html": [
       "<div>\n",
       "<style scoped>\n",
       "    .dataframe tbody tr th:only-of-type {\n",
       "        vertical-align: middle;\n",
       "    }\n",
       "\n",
       "    .dataframe tbody tr th {\n",
       "        vertical-align: top;\n",
       "    }\n",
       "\n",
       "    .dataframe thead th {\n",
       "        text-align: right;\n",
       "    }\n",
       "</style>\n",
       "<table border=\"1\" class=\"dataframe\">\n",
       "  <thead>\n",
       "    <tr style=\"text-align: right;\">\n",
       "      <th></th>\n",
       "      <th>title</th>\n",
       "      <th>url_berita</th>\n",
       "      <th>sentimen</th>\n",
       "    </tr>\n",
       "  </thead>\n",
       "  <tbody>\n",
       "    <tr>\n",
       "      <th>0</th>\n",
       "      <td>strategi sleman dorong ekonomi pakai batik int...</td>\n",
       "      <td>https://20.detik.com/blak-blakan/20231204-2312...</td>\n",
       "      <td>1</td>\n",
       "    </tr>\n",
       "    <tr>\n",
       "      <th>1</th>\n",
       "      <td>erick thohir ajak muda tak mager indonesia leb...</td>\n",
       "      <td>https://20.detik.com/demi-indonesia/20231027-2...</td>\n",
       "      <td>1</td>\n",
       "    </tr>\n",
       "    <tr>\n",
       "      <th>2</th>\n",
       "      <td>pan x jakcloth pesta anak nongkrong sambang ba...</td>\n",
       "      <td>https://20.detik.com/advertorial/20231109-2311...</td>\n",
       "      <td>1</td>\n",
       "    </tr>\n",
       "    <tr>\n",
       "      <th>3</th>\n",
       "      <td>iringiringan awal presiden joe biden tabrak mobil</td>\n",
       "      <td>https://20.detik.com/detikjabar/20231218-23121...</td>\n",
       "      <td>1</td>\n",
       "    </tr>\n",
       "    <tr>\n",
       "      <th>4</th>\n",
       "      <td>greysia polii ajak anak muda terus lang raih p...</td>\n",
       "      <td>https://20.detik.com/demi-indonesia/20231027-2...</td>\n",
       "      <td>1</td>\n",
       "    </tr>\n",
       "    <tr>\n",
       "      <th>5</th>\n",
       "      <td>kapolri bicara arti sumpah pemuda indonesia</td>\n",
       "      <td>https://20.detik.com/demi-indonesia/20231027-2...</td>\n",
       "      <td>1</td>\n",
       "    </tr>\n",
       "    <tr>\n",
       "      <th>6</th>\n",
       "      <td>temu habib rizieq cak imin bantah bahas dukung</td>\n",
       "      <td>https://20.detik.com/detikupdate/20231001-2310...</td>\n",
       "      <td>1</td>\n",
       "    </tr>\n",
       "    <tr>\n",
       "      <th>7</th>\n",
       "      <td>kades bandung mundur dukung amin anies salut</td>\n",
       "      <td>https://20.detik.com/detikupdate/20231001-2310...</td>\n",
       "      <td>1</td>\n",
       "    </tr>\n",
       "    <tr>\n",
       "      <th>8</th>\n",
       "      <td>pdip sebut ganjar mulia tani nelayan jadi pres...</td>\n",
       "      <td>https://20.detik.com/detikupdate/20231001-2310...</td>\n",
       "      <td>1</td>\n",
       "    </tr>\n",
       "    <tr>\n",
       "      <th>9</th>\n",
       "      <td>anies temu alumni itb bahas metode ilmiah ambi...</td>\n",
       "      <td>https://20.detik.com/detikupdate/20231001-2310...</td>\n",
       "      <td>1</td>\n",
       "    </tr>\n",
       "  </tbody>\n",
       "</table>\n",
       "</div>"
      ],
      "text/plain": [
       "                                               title  \\\n",
       "0  strategi sleman dorong ekonomi pakai batik int...   \n",
       "1  erick thohir ajak muda tak mager indonesia leb...   \n",
       "2  pan x jakcloth pesta anak nongkrong sambang ba...   \n",
       "3  iringiringan awal presiden joe biden tabrak mobil   \n",
       "4  greysia polii ajak anak muda terus lang raih p...   \n",
       "5        kapolri bicara arti sumpah pemuda indonesia   \n",
       "6     temu habib rizieq cak imin bantah bahas dukung   \n",
       "7       kades bandung mundur dukung amin anies salut   \n",
       "8  pdip sebut ganjar mulia tani nelayan jadi pres...   \n",
       "9  anies temu alumni itb bahas metode ilmiah ambi...   \n",
       "\n",
       "                                          url_berita  sentimen  \n",
       "0  https://20.detik.com/blak-blakan/20231204-2312...         1  \n",
       "1  https://20.detik.com/demi-indonesia/20231027-2...         1  \n",
       "2  https://20.detik.com/advertorial/20231109-2311...         1  \n",
       "3  https://20.detik.com/detikjabar/20231218-23121...         1  \n",
       "4  https://20.detik.com/demi-indonesia/20231027-2...         1  \n",
       "5  https://20.detik.com/demi-indonesia/20231027-2...         1  \n",
       "6  https://20.detik.com/detikupdate/20231001-2310...         1  \n",
       "7  https://20.detik.com/detikupdate/20231001-2310...         1  \n",
       "8  https://20.detik.com/detikupdate/20231001-2310...         1  \n",
       "9  https://20.detik.com/detikupdate/20231001-2310...         1  "
      ]
     },
     "execution_count": 3,
     "metadata": {},
     "output_type": "execute_result"
    }
   ],
   "source": [
    "df.head(10)"
   ]
  },
  {
   "cell_type": "code",
   "execution_count": 4,
   "metadata": {},
   "outputs": [],
   "source": [
    "from sklearn.model_selection import train_test_split\n",
    "from sklearn.feature_extraction.text import TfidfVectorizer\n",
    "from sklearn.naive_bayes import MultinomialNB\n",
    "from sklearn.metrics import accuracy_score"
   ]
  },
  {
   "cell_type": "code",
   "execution_count": 5,
   "metadata": {},
   "outputs": [],
   "source": [
    "# Ubah nilai sentimen\n",
    "def map_sentiment(sentiment):\n",
    "    if sentiment == 1:\n",
    "        return 'positif'\n",
    "    elif sentiment == 0:\n",
    "        return 'netral'\n",
    "    else:\n",
    "        return 'negatif'\n",
    "\n",
    "# df = pd.read_csv('pre_title_steaming.csv')\n",
    "# df = pd.read_csv('pre_title.csv')\n",
    "df['sentimen'] = df['sentimen'].map(map_sentiment)"
   ]
  },
  {
   "cell_type": "code",
   "execution_count": 6,
   "metadata": {},
   "outputs": [],
   "source": [
    "# Membagi data menjadi fitur dan label\n",
    "X = df['title']\n",
    "y = df['sentimen']"
   ]
  },
  {
   "cell_type": "code",
   "execution_count": 7,
   "metadata": {},
   "outputs": [
    {
     "data": {
      "text/plain": [
       "0        strategi sleman dorong ekonomi pakai batik int...\n",
       "1        erick thohir ajak muda tak mager indonesia leb...\n",
       "2        pan x jakcloth pesta anak nongkrong sambang ba...\n",
       "3        iringiringan awal presiden joe biden tabrak mobil\n",
       "4        greysia polii ajak anak muda terus lang raih p...\n",
       "                               ...                        \n",
       "14995    ganjar duka hamka haq tinggal dunia beliau ora...\n",
       "14996    ziarah makam syiah kuala aceh cak imin sambut ...\n",
       "14997    gunromli bicara ganjar luka diri obat ade arma...\n",
       "14998    baswalu dki panggil semua pihak kait gibran ba...\n",
       "14999    bahas formatpanelis debat kpu rapat tutup bare...\n",
       "Name: title, Length: 15000, dtype: object"
      ]
     },
     "execution_count": 7,
     "metadata": {},
     "output_type": "execute_result"
    }
   ],
   "source": [
    "X"
   ]
  },
  {
   "cell_type": "code",
   "execution_count": 8,
   "metadata": {},
   "outputs": [
    {
     "data": {
      "text/plain": [
       "0        positif\n",
       "1        positif\n",
       "2        positif\n",
       "3        positif\n",
       "4        positif\n",
       "          ...   \n",
       "14995     netral\n",
       "14996     netral\n",
       "14997     netral\n",
       "14998     netral\n",
       "14999     netral\n",
       "Name: sentimen, Length: 15000, dtype: object"
      ]
     },
     "execution_count": 8,
     "metadata": {},
     "output_type": "execute_result"
    }
   ],
   "source": [
    "y"
   ]
  },
  {
   "cell_type": "code",
   "execution_count": 9,
   "metadata": {},
   "outputs": [],
   "source": [
    "def prepare_datasets(corpus, labels, test_data_proportion=0.3):\n",
    "    train_X, test_X, train_Y, test_Y = train_test_split(corpus, labels,\n",
    "    test_size=0.33,random_state=42)\n",
    "    return train_X, test_X, train_Y, test_Y\n",
    "\n",
    "norm_train_corpus, norm_test_corpus, train_labels, test_labels = prepare_datasets(X,y,test_data_proportion=0.3)"
   ]
  },
  {
   "cell_type": "code",
   "execution_count": 10,
   "metadata": {},
   "outputs": [
    {
     "data": {
      "text/plain": [
       "655               faktafakta ledak tungku smelter morowali\n",
       "12044    dengar keluh pupuk langka gresik cak imin pada...\n",
       "14844    bw puji misi daulat air anies sangat dasar sek...\n",
       "13985    beforeafter jalan lampung tengah dulu bak kuba...\n",
       "7974     331 rumah warga bogor banjir imbas hujan 20 an...\n",
       "8612     derita panjang gaza gegara israel tiada henti ...\n",
       "6883      geger bakteri shigella serang tentara israel apa\n",
       "2199                      nomor urut 1 anies selalu hikmah\n",
       "2960     bawaslu minta anggota tak gentar awas netralit...\n",
       "4640                    who kaget rs indonesia gaza serang\n",
       "Name: title, dtype: object"
      ]
     },
     "execution_count": 10,
     "metadata": {},
     "output_type": "execute_result"
    }
   ],
   "source": [
    "norm_train_corpus[0:10]"
   ]
  },
  {
   "cell_type": "code",
   "execution_count": 11,
   "metadata": {},
   "outputs": [
    {
     "data": {
      "text/plain": [
       "11499    deret anak presiden terjun politik gibran ahy ...\n",
       "6475     ganjar komentar soal transisi energi begini re...\n",
       "13167    yasonna aku tak tahu mana wamenkumham status s...\n",
       "862      faktafakta tembak pria bekas korban tewas luka...\n",
       "5970     duga orang bantu tahan lapas tangerang kabur a...\n",
       "6706     dicurhati bbm langka lama kampanye ganjar haru...\n",
       "3017     datang lokasi debat cawapres young lex gua bar...\n",
       "3781     wamenlu bantu palestina bentuk solidaritas ind...\n",
       "3898     doa palestina rizki sadig ajak warga jatim bac...\n",
       "2250     depan mahasiswa stanford jokowi cerita ri puny...\n",
       "Name: title, dtype: object"
      ]
     },
     "execution_count": 11,
     "metadata": {},
     "output_type": "execute_result"
    }
   ],
   "source": [
    "norm_test_corpus[0:10]"
   ]
  },
  {
   "cell_type": "code",
   "execution_count": 12,
   "metadata": {},
   "outputs": [],
   "source": [
    "#Fungsi untuk mengekstraksi feature menggunakan TF-IDF Model\n",
    "def tfidf_transformer(bow_matrix):\n",
    "    transformer = TfidfTransformer(norm='l2',\n",
    "                                    smooth_idf=True,\n",
    "                                    use_idf=True)\n",
    "    tfidf_matrix = transformer.fit_transform(bow_matrix)\n",
    "    return transformer, tfidf_matrix\n",
    "def tfidf_extractor(corpus, ngram_range=(1,1)):\n",
    "    vectorizer = TfidfVectorizer(min_df=1,\n",
    "                                norm='l2',\n",
    "                                smooth_idf=True,\n",
    "                                use_idf=True,\n",
    "                                ngram_range=ngram_range)\n",
    "    features = vectorizer.fit_transform(corpus)\n",
    "    return vectorizer, features"
   ]
  },
  {
   "cell_type": "code",
   "execution_count": 13,
   "metadata": {},
   "outputs": [],
   "source": [
    "#mengunakan model TF-IDF untuk mengekstraksi feature\n",
    "tfidf_vectorizer, tfidf_train_features = tfidf_extractor(norm_train_corpus)\n",
    "tfidf_test_features = tfidf_vectorizer.transform(norm_test_corpus)"
   ]
  },
  {
   "cell_type": "code",
   "execution_count": 14,
   "metadata": {},
   "outputs": [],
   "source": [
    "from sklearn.linear_model import SGDClassifier\n",
    "train_features=tfidf_train_features\n",
    "train_labels=train_labels\n",
    "test_features=tfidf_test_features\n",
    "test_labels=test_labels"
   ]
  },
  {
   "cell_type": "code",
   "execution_count": 15,
   "metadata": {},
   "outputs": [],
   "source": [
    "df_train = pd.DataFrame()\n",
    "df_train['norm_train'] = norm_train_corpus\n",
    "df_train['train_labels'] = train_labels\n",
    "df_test = pd.DataFrame()\n",
    "df_test['norm_test'] = norm_test_corpus\n",
    "df_test['test_labels'] = test_labels"
   ]
  },
  {
   "cell_type": "code",
   "execution_count": 16,
   "metadata": {},
   "outputs": [
    {
     "data": {
      "text/html": [
       "<div>\n",
       "<style scoped>\n",
       "    .dataframe tbody tr th:only-of-type {\n",
       "        vertical-align: middle;\n",
       "    }\n",
       "\n",
       "    .dataframe tbody tr th {\n",
       "        vertical-align: top;\n",
       "    }\n",
       "\n",
       "    .dataframe thead th {\n",
       "        text-align: right;\n",
       "    }\n",
       "</style>\n",
       "<table border=\"1\" class=\"dataframe\">\n",
       "  <thead>\n",
       "    <tr style=\"text-align: right;\">\n",
       "      <th></th>\n",
       "      <th>norm_train</th>\n",
       "      <th>train_labels</th>\n",
       "    </tr>\n",
       "  </thead>\n",
       "  <tbody>\n",
       "    <tr>\n",
       "      <th>655</th>\n",
       "      <td>faktafakta ledak tungku smelter morowali</td>\n",
       "      <td>positif</td>\n",
       "    </tr>\n",
       "    <tr>\n",
       "      <th>12044</th>\n",
       "      <td>dengar keluh pupuk langka gresik cak imin pada...</td>\n",
       "      <td>netral</td>\n",
       "    </tr>\n",
       "    <tr>\n",
       "      <th>14844</th>\n",
       "      <td>bw puji misi daulat air anies sangat dasar sek...</td>\n",
       "      <td>netral</td>\n",
       "    </tr>\n",
       "    <tr>\n",
       "      <th>13985</th>\n",
       "      <td>beforeafter jalan lampung tengah dulu bak kuba...</td>\n",
       "      <td>netral</td>\n",
       "    </tr>\n",
       "    <tr>\n",
       "      <th>7974</th>\n",
       "      <td>331 rumah warga bogor banjir imbas hujan 20 an...</td>\n",
       "      <td>negatif</td>\n",
       "    </tr>\n",
       "  </tbody>\n",
       "</table>\n",
       "</div>"
      ],
      "text/plain": [
       "                                              norm_train train_labels\n",
       "655             faktafakta ledak tungku smelter morowali      positif\n",
       "12044  dengar keluh pupuk langka gresik cak imin pada...       netral\n",
       "14844  bw puji misi daulat air anies sangat dasar sek...       netral\n",
       "13985  beforeafter jalan lampung tengah dulu bak kuba...       netral\n",
       "7974   331 rumah warga bogor banjir imbas hujan 20 an...      negatif"
      ]
     },
     "execution_count": 16,
     "metadata": {},
     "output_type": "execute_result"
    }
   ],
   "source": [
    "df_train.head()"
   ]
  },
  {
   "cell_type": "code",
   "execution_count": 17,
   "metadata": {},
   "outputs": [
    {
     "data": {
      "text/html": [
       "<div>\n",
       "<style scoped>\n",
       "    .dataframe tbody tr th:only-of-type {\n",
       "        vertical-align: middle;\n",
       "    }\n",
       "\n",
       "    .dataframe tbody tr th {\n",
       "        vertical-align: top;\n",
       "    }\n",
       "\n",
       "    .dataframe thead th {\n",
       "        text-align: right;\n",
       "    }\n",
       "</style>\n",
       "<table border=\"1\" class=\"dataframe\">\n",
       "  <thead>\n",
       "    <tr style=\"text-align: right;\">\n",
       "      <th></th>\n",
       "      <th>norm_test</th>\n",
       "      <th>test_labels</th>\n",
       "    </tr>\n",
       "  </thead>\n",
       "  <tbody>\n",
       "    <tr>\n",
       "      <th>11499</th>\n",
       "      <td>deret anak presiden terjun politik gibran ahy ...</td>\n",
       "      <td>netral</td>\n",
       "    </tr>\n",
       "    <tr>\n",
       "      <th>6475</th>\n",
       "      <td>ganjar komentar soal transisi energi begini re...</td>\n",
       "      <td>negatif</td>\n",
       "    </tr>\n",
       "    <tr>\n",
       "      <th>13167</th>\n",
       "      <td>yasonna aku tak tahu mana wamenkumham status s...</td>\n",
       "      <td>netral</td>\n",
       "    </tr>\n",
       "    <tr>\n",
       "      <th>862</th>\n",
       "      <td>faktafakta tembak pria bekas korban tewas luka...</td>\n",
       "      <td>positif</td>\n",
       "    </tr>\n",
       "    <tr>\n",
       "      <th>5970</th>\n",
       "      <td>duga orang bantu tahan lapas tangerang kabur a...</td>\n",
       "      <td>negatif</td>\n",
       "    </tr>\n",
       "  </tbody>\n",
       "</table>\n",
       "</div>"
      ],
      "text/plain": [
       "                                               norm_test test_labels\n",
       "11499  deret anak presiden terjun politik gibran ahy ...      netral\n",
       "6475   ganjar komentar soal transisi energi begini re...     negatif\n",
       "13167  yasonna aku tak tahu mana wamenkumham status s...      netral\n",
       "862    faktafakta tembak pria bekas korban tewas luka...     positif\n",
       "5970   duga orang bantu tahan lapas tangerang kabur a...     negatif"
      ]
     },
     "execution_count": 17,
     "metadata": {},
     "output_type": "execute_result"
    }
   ],
   "source": [
    "df_test.head()"
   ]
  },
  {
   "cell_type": "code",
   "execution_count": 18,
   "metadata": {},
   "outputs": [
    {
     "data": {
      "text/plain": [
       "<1x8933 sparse matrix of type '<class 'numpy.float64'>'\n",
       "\twith 5 stored elements in Compressed Sparse Row format>"
      ]
     },
     "execution_count": 18,
     "metadata": {},
     "output_type": "execute_result"
    }
   ],
   "source": [
    "train_features[0:1]"
   ]
  },
  {
   "cell_type": "code",
   "execution_count": 19,
   "metadata": {},
   "outputs": [
    {
     "data": {
      "text/plain": [
       "655    positif\n",
       "Name: sentimen, dtype: object"
      ]
     },
     "execution_count": 19,
     "metadata": {},
     "output_type": "execute_result"
    }
   ],
   "source": [
    "train_labels[0:1]"
   ]
  },
  {
   "cell_type": "code",
   "execution_count": 20,
   "metadata": {},
   "outputs": [],
   "source": [
    "from sklearn.svm import LinearSVC\n",
    "from sklearn.naive_bayes import MultinomialNB"
   ]
  },
  {
   "cell_type": "code",
   "execution_count": 21,
   "metadata": {},
   "outputs": [],
   "source": [
    "clf = SGDClassifier(loss='hinge', max_iter=100)\n",
    "#clf = LinearSVC(penalty='l2', loss='squared_hinge', max_iter=100)\n",
    "#clf = MultinomialNB()"
   ]
  },
  {
   "cell_type": "code",
   "execution_count": 22,
   "metadata": {},
   "outputs": [
    {
     "name": "stdout",
     "output_type": "stream",
     "text": [
      "Label test: \n",
      "11499     netral\n",
      "6475     negatif\n",
      "13167     netral\n",
      "862      positif\n",
      "5970     negatif\n",
      "6706     negatif\n",
      "3017     positif\n",
      "3781     positif\n",
      "3898     positif\n",
      "2250     positif\n",
      "Name: sentimen, dtype: object\n",
      "Prediction test: \n",
      "['netral' 'negatif' 'netral' 'positif' 'netral' 'netral' 'netral' 'netral'\n",
      " 'positif' 'netral']\n"
     ]
    }
   ],
   "source": [
    "clf.fit(train_features, train_labels)\n",
    "predictions = clf.predict(test_features)\n",
    "print(\"Label test: \\n\" + format(test_labels[:10]))\n",
    "print(\"Prediction test: \\n\"+ format(predictions[:10]))"
   ]
  },
  {
   "cell_type": "code",
   "execution_count": 23,
   "metadata": {},
   "outputs": [
    {
     "name": "stdout",
     "output_type": "stream",
     "text": [
      "Accuration: 0.6703030303030303\n"
     ]
    }
   ],
   "source": [
    "print(\"Accuration: \"+format(clf.score(test_features,test_labels)))"
   ]
  },
  {
   "cell_type": "code",
   "execution_count": 24,
   "metadata": {},
   "outputs": [],
   "source": [
    "import numpy as np\n",
    "from sklearn import metrics"
   ]
  },
  {
   "cell_type": "code",
   "execution_count": 25,
   "metadata": {},
   "outputs": [
    {
     "name": "stdout",
     "output_type": "stream",
     "text": [
      "Accuracy:  0.67\n",
      "Precision:  0.67\n",
      "Recall:  0.67\n",
      "F1 Score:  0.67\n"
     ]
    }
   ],
   "source": [
    "def get_metrics(true_labels, predicted_labels):\n",
    "    print('Accuracy: ', np.round(metrics.accuracy_score(true_labels,\n",
    "                                                        predicted_labels),2))\n",
    "    print('Precision: ', np.round(metrics.precision_score(true_labels,\n",
    "                                                        predicted_labels,\n",
    "                                                        average='weighted'),2))\n",
    "    print('Recall: ', np.round(metrics.recall_score(true_labels,\n",
    "                                                        predicted_labels,\n",
    "                                                        average='weighted'),2))\n",
    "    print('F1 Score: ', np.round(metrics.f1_score(true_labels,\n",
    "                                                        predicted_labels,\n",
    "                                                        average='weighted'),2))\n",
    "# mengevaluasi performa prediksi menggunakan model\n",
    "get_metrics(true_labels=test_labels,predicted_labels=predictions)"
   ]
  },
  {
   "cell_type": "code",
   "execution_count": 26,
   "metadata": {},
   "outputs": [],
   "source": [
    "test = ('Jeka Saragih On Fire Menatap Debut di UFC')"
   ]
  },
  {
   "cell_type": "code",
   "execution_count": 27,
   "metadata": {},
   "outputs": [
    {
     "data": {
      "text/plain": [
       "(1, 8933)"
      ]
     },
     "execution_count": 27,
     "metadata": {},
     "output_type": "execute_result"
    }
   ],
   "source": [
    "line = tfidf_vectorizer.transform([test])\n",
    "line.shape"
   ]
  },
  {
   "cell_type": "code",
   "execution_count": 28,
   "metadata": {},
   "outputs": [
    {
     "data": {
      "text/plain": [
       "<1x8933 sparse matrix of type '<class 'numpy.float64'>'\n",
       "\twith 2 stored elements in Compressed Sparse Row format>"
      ]
     },
     "execution_count": 28,
     "metadata": {},
     "output_type": "execute_result"
    }
   ],
   "source": [
    "line"
   ]
  },
  {
   "cell_type": "code",
   "execution_count": 29,
   "metadata": {},
   "outputs": [],
   "source": [
    "test = clf.predict(line)"
   ]
  },
  {
   "cell_type": "code",
   "execution_count": 30,
   "metadata": {},
   "outputs": [
    {
     "data": {
      "text/plain": [
       "array(['negatif'], dtype='<U7')"
      ]
     },
     "execution_count": 30,
     "metadata": {},
     "output_type": "execute_result"
    }
   ],
   "source": [
    "test"
   ]
  }
 ],
 "metadata": {
  "kernelspec": {
   "display_name": "env",
   "language": "python",
   "name": "python3"
  },
  "language_info": {
   "codemirror_mode": {
    "name": "ipython",
    "version": 3
   },
   "file_extension": ".py",
   "mimetype": "text/x-python",
   "name": "python",
   "nbconvert_exporter": "python",
   "pygments_lexer": "ipython3",
   "version": "3.11.5"
  }
 },
 "nbformat": 4,
 "nbformat_minor": 2
}
