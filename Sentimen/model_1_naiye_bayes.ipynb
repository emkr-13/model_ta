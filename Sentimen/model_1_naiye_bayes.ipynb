{
 "cells": [
  {
   "cell_type": "markdown",
   "metadata": {},
   "source": [
    "### Model 1 Naiye Baeyes"
   ]
  },
  {
   "cell_type": "code",
   "execution_count": 1,
   "metadata": {},
   "outputs": [],
   "source": [
    "import pandas as pd"
   ]
  },
  {
   "cell_type": "code",
   "execution_count": 2,
   "metadata": {},
   "outputs": [],
   "source": [
    "# df=pd.read_csv('pre_title_steaming.csv')\n",
    "df=pd.read_csv('pre_title.csv')"
   ]
  },
  {
   "cell_type": "code",
   "execution_count": 3,
   "metadata": {},
   "outputs": [
    {
     "data": {
      "text/html": [
       "<div>\n",
       "<style scoped>\n",
       "    .dataframe tbody tr th:only-of-type {\n",
       "        vertical-align: middle;\n",
       "    }\n",
       "\n",
       "    .dataframe tbody tr th {\n",
       "        vertical-align: top;\n",
       "    }\n",
       "\n",
       "    .dataframe thead th {\n",
       "        text-align: right;\n",
       "    }\n",
       "</style>\n",
       "<table border=\"1\" class=\"dataframe\">\n",
       "  <thead>\n",
       "    <tr style=\"text-align: right;\">\n",
       "      <th></th>\n",
       "      <th>title</th>\n",
       "      <th>url_berita</th>\n",
       "      <th>sentimen</th>\n",
       "    </tr>\n",
       "  </thead>\n",
       "  <tbody>\n",
       "    <tr>\n",
       "      <th>0</th>\n",
       "      <td>strategi sleman dorong ekonomi pakai batik int...</td>\n",
       "      <td>https://20.detik.com/blak-blakan/20231204-2312...</td>\n",
       "      <td>1</td>\n",
       "    </tr>\n",
       "    <tr>\n",
       "      <th>1</th>\n",
       "      <td>greysia polii ajak anak muda terus melangkah r...</td>\n",
       "      <td>https://20.detik.com/demi-indonesia/20231027-2...</td>\n",
       "      <td>1</td>\n",
       "    </tr>\n",
       "    <tr>\n",
       "      <th>2</th>\n",
       "      <td>pan x jakcloth pesta anak nongkrong sambangi b...</td>\n",
       "      <td>https://20.detik.com/advertorial/20231109-2311...</td>\n",
       "      <td>1</td>\n",
       "    </tr>\n",
       "    <tr>\n",
       "      <th>3</th>\n",
       "      <td>arahan megawati rakernas iv pdip turun rakyatm...</td>\n",
       "      <td>https://20.detik.com/detikupdate/20231001-2310...</td>\n",
       "      <td>1</td>\n",
       "    </tr>\n",
       "    <tr>\n",
       "      <th>4</th>\n",
       "      <td>erick thohir ajak muda tak mager indonesia leb...</td>\n",
       "      <td>https://20.detik.com/demi-indonesia/20231027-2...</td>\n",
       "      <td>1</td>\n",
       "    </tr>\n",
       "    <tr>\n",
       "      <th>5</th>\n",
       "      <td>pdip sebut ganjar muliakan petani nelayan jadi...</td>\n",
       "      <td>https://20.detik.com/detikupdate/20231001-2310...</td>\n",
       "      <td>1</td>\n",
       "    </tr>\n",
       "    <tr>\n",
       "      <th>6</th>\n",
       "      <td>bertemu habib rizieq cak imin bantah bahas duk...</td>\n",
       "      <td>https://20.detik.com/detikupdate/20231001-2310...</td>\n",
       "      <td>1</td>\n",
       "    </tr>\n",
       "    <tr>\n",
       "      <th>7</th>\n",
       "      <td>kades bandung mundur dukung amin anies salut</td>\n",
       "      <td>https://20.detik.com/detikupdate/20231001-2310...</td>\n",
       "      <td>1</td>\n",
       "    </tr>\n",
       "    <tr>\n",
       "      <th>8</th>\n",
       "      <td>gestur prabowo ditanya soal kans berduet ganjar</td>\n",
       "      <td>https://20.detik.com/detikupdate/20231001-2310...</td>\n",
       "      <td>1</td>\n",
       "    </tr>\n",
       "    <tr>\n",
       "      <th>9</th>\n",
       "      <td>anies bertemu alumni itb bahas metode ilmiah m...</td>\n",
       "      <td>https://20.detik.com/detikupdate/20231001-2310...</td>\n",
       "      <td>1</td>\n",
       "    </tr>\n",
       "  </tbody>\n",
       "</table>\n",
       "</div>"
      ],
      "text/plain": [
       "                                               title  \\\n",
       "0  strategi sleman dorong ekonomi pakai batik int...   \n",
       "1  greysia polii ajak anak muda terus melangkah r...   \n",
       "2  pan x jakcloth pesta anak nongkrong sambangi b...   \n",
       "3  arahan megawati rakernas iv pdip turun rakyatm...   \n",
       "4  erick thohir ajak muda tak mager indonesia leb...   \n",
       "5  pdip sebut ganjar muliakan petani nelayan jadi...   \n",
       "6  bertemu habib rizieq cak imin bantah bahas duk...   \n",
       "7       kades bandung mundur dukung amin anies salut   \n",
       "8    gestur prabowo ditanya soal kans berduet ganjar   \n",
       "9  anies bertemu alumni itb bahas metode ilmiah m...   \n",
       "\n",
       "                                          url_berita  sentimen  \n",
       "0  https://20.detik.com/blak-blakan/20231204-2312...         1  \n",
       "1  https://20.detik.com/demi-indonesia/20231027-2...         1  \n",
       "2  https://20.detik.com/advertorial/20231109-2311...         1  \n",
       "3  https://20.detik.com/detikupdate/20231001-2310...         1  \n",
       "4  https://20.detik.com/demi-indonesia/20231027-2...         1  \n",
       "5  https://20.detik.com/detikupdate/20231001-2310...         1  \n",
       "6  https://20.detik.com/detikupdate/20231001-2310...         1  \n",
       "7  https://20.detik.com/detikupdate/20231001-2310...         1  \n",
       "8  https://20.detik.com/detikupdate/20231001-2310...         1  \n",
       "9  https://20.detik.com/detikupdate/20231001-2310...         1  "
      ]
     },
     "execution_count": 3,
     "metadata": {},
     "output_type": "execute_result"
    }
   ],
   "source": [
    "df.head(10)"
   ]
  },
  {
   "cell_type": "code",
   "execution_count": 4,
   "metadata": {},
   "outputs": [],
   "source": [
    "from sklearn.model_selection import train_test_split\n",
    "from sklearn.feature_extraction.text import TfidfVectorizer\n",
    "from sklearn.naive_bayes import MultinomialNB\n",
    "from sklearn.metrics import accuracy_score"
   ]
  },
  {
   "cell_type": "code",
   "execution_count": 5,
   "metadata": {},
   "outputs": [],
   "source": [
    "# Ubah nilai sentimen\n",
    "def map_sentiment(sentiment):\n",
    "    if sentiment == 1:\n",
    "        return 'positif'\n",
    "    elif sentiment == 0:\n",
    "        return 'netral'\n",
    "    else:\n",
    "        return 'negatif'\n",
    "\n",
    "# df = pd.read_csv('pre_title_steaming.csv')\n",
    "# df = pd.read_csv('pre_title.csv')\n",
    "df['sentimen'] = df['sentimen'].map(map_sentiment)"
   ]
  },
  {
   "cell_type": "code",
   "execution_count": 6,
   "metadata": {},
   "outputs": [],
   "source": [
    "# Membagi data menjadi fitur dan label\n",
    "X = df['title']\n",
    "y = df['sentimen']"
   ]
  },
  {
   "cell_type": "code",
   "execution_count": 7,
   "metadata": {},
   "outputs": [
    {
     "data": {
      "text/plain": [
       "0        strategi sleman dorong ekonomi pakai batik int...\n",
       "1        greysia polii ajak anak muda terus melangkah r...\n",
       "2        pan x jakcloth pesta anak nongkrong sambangi b...\n",
       "3        arahan megawati rakernas iv pdip turun rakyatm...\n",
       "4        erick thohir ajak muda tak mager indonesia leb...\n",
       "                               ...                        \n",
       "14995    bagaimana cara cek tps pemilu 2024 simak infor...\n",
       "14996    dinkes dki siap fasilitasi pemeriksaan kesehat...\n",
       "14997    dilantik ksad jenderal maruli ungkap pesan jok...\n",
       "14998    china imbau warganya segera tinggalkan perbata...\n",
       "14999    zita anjani silap lidah manusiawi gibran sebut...\n",
       "Name: title, Length: 15000, dtype: object"
      ]
     },
     "execution_count": 7,
     "metadata": {},
     "output_type": "execute_result"
    }
   ],
   "source": [
    "X"
   ]
  },
  {
   "cell_type": "code",
   "execution_count": 8,
   "metadata": {},
   "outputs": [
    {
     "data": {
      "text/plain": [
       "0        positif\n",
       "1        positif\n",
       "2        positif\n",
       "3        positif\n",
       "4        positif\n",
       "          ...   \n",
       "14995     netral\n",
       "14996     netral\n",
       "14997     netral\n",
       "14998     netral\n",
       "14999     netral\n",
       "Name: sentimen, Length: 15000, dtype: object"
      ]
     },
     "execution_count": 8,
     "metadata": {},
     "output_type": "execute_result"
    }
   ],
   "source": [
    "y"
   ]
  },
  {
   "cell_type": "code",
   "execution_count": 9,
   "metadata": {},
   "outputs": [],
   "source": [
    "def prepare_datasets(corpus, labels, test_data_proportion=0.3):\n",
    "    train_X, test_X, train_Y, test_Y = train_test_split(corpus, labels,\n",
    "    test_size=0.33,random_state=42)\n",
    "    return train_X, test_X, train_Y, test_Y\n",
    "\n",
    "norm_train_corpus, norm_test_corpus, train_labels, test_labels = prepare_datasets(X,y,test_data_proportion=0.3)"
   ]
  },
  {
   "cell_type": "code",
   "execution_count": 10,
   "metadata": {},
   "outputs": [
    {
     "data": {
      "text/plain": [
       "655      bawaslu terima laporan logistik pemilu tak dik...\n",
       "12044    anggap banyak tekanan tpn ganjarmahfud sebut p...\n",
       "14844    warga solo gugat mk minta gubernur u40 bisa ny...\n",
       "13985           gempa m 20 guncang wonosobo berpusat darat\n",
       "7974     alex marwata ungkap laporan korupsi kementan d...\n",
       "8612     10000 orang tewas sekjen pbb gaza jadi kuburan...\n",
       "6883     bagibagi susu sosialisasi program prabowogibra...\n",
       "2199     aniesmuhaimin nomor urut 1 cak imin tandatanda...\n",
       "2960     bawaslu imbau anggota lapor diintimidasi awasi...\n",
       "4640                  7 fakta gencatan senjata 4 hari gaza\n",
       "Name: title, dtype: object"
      ]
     },
     "execution_count": 10,
     "metadata": {},
     "output_type": "execute_result"
    }
   ],
   "source": [
    "norm_train_corpus[0:10]"
   ]
  },
  {
   "cell_type": "code",
   "execution_count": 11,
   "metadata": {},
   "outputs": [
    {
     "data": {
      "text/plain": [
       "11499    deretan anak presiden terjun politik gibran ah...\n",
       "6475     firli tak hadiri panggilan polda metro hari ta...\n",
       "13167           angkaangka korupsi apd pandemi bikin ngeri\n",
       "862      fakta penemuan kerangka manusia berserakan per...\n",
       "5970          firli bahuri hadiri sidang praperadilan hari\n",
       "6706     kritik ruu dkj anies demokrasi harusnya maju b...\n",
       "3017     anies selesaikan pejabat punya konflik kepenti...\n",
       "3781     dirbinmas pmj dilarang politisasi tempat ibada...\n",
       "3898     bupati bogor jadikan sasak panjang desa wisata...\n",
       "2250     ott kpk tetapkan kajari bondowoso puji triasmo...\n",
       "Name: title, dtype: object"
      ]
     },
     "execution_count": 11,
     "metadata": {},
     "output_type": "execute_result"
    }
   ],
   "source": [
    "norm_test_corpus[0:10]"
   ]
  },
  {
   "cell_type": "code",
   "execution_count": 12,
   "metadata": {},
   "outputs": [],
   "source": [
    "#Fungsi untuk mengekstraksi feature menggunakan TF-IDF Model\n",
    "def tfidf_transformer(bow_matrix):\n",
    "    transformer = TfidfTransformer(norm='l2',\n",
    "                                    smooth_idf=True,\n",
    "                                    use_idf=True)\n",
    "    tfidf_matrix = transformer.fit_transform(bow_matrix)\n",
    "    return transformer, tfidf_matrix\n",
    "def tfidf_extractor(corpus, ngram_range=(1,1)):\n",
    "    vectorizer = TfidfVectorizer(min_df=1,\n",
    "                                norm='l2',\n",
    "                                smooth_idf=True,\n",
    "                                use_idf=True,\n",
    "                                ngram_range=ngram_range)\n",
    "    features = vectorizer.fit_transform(corpus)\n",
    "    return vectorizer, features"
   ]
  },
  {
   "cell_type": "code",
   "execution_count": 13,
   "metadata": {},
   "outputs": [],
   "source": [
    "#mengunakan model TF-IDF untuk mengekstraksi feature\n",
    "tfidf_vectorizer, tfidf_train_features = tfidf_extractor(norm_train_corpus)\n",
    "tfidf_test_features = tfidf_vectorizer.transform(norm_test_corpus)"
   ]
  },
  {
   "cell_type": "code",
   "execution_count": 14,
   "metadata": {},
   "outputs": [],
   "source": [
    "from sklearn.linear_model import SGDClassifier\n",
    "train_features=tfidf_train_features\n",
    "train_labels=train_labels\n",
    "test_features=tfidf_test_features\n",
    "test_labels=test_labels"
   ]
  },
  {
   "cell_type": "code",
   "execution_count": 15,
   "metadata": {},
   "outputs": [],
   "source": [
    "df_train = pd.DataFrame()\n",
    "df_train['norm_train'] = norm_train_corpus\n",
    "df_train['train_labels'] = train_labels\n",
    "df_test = pd.DataFrame()\n",
    "df_test['norm_test'] = norm_test_corpus\n",
    "df_test['test_labels'] = test_labels"
   ]
  },
  {
   "cell_type": "code",
   "execution_count": 16,
   "metadata": {},
   "outputs": [
    {
     "data": {
      "text/html": [
       "<div>\n",
       "<style scoped>\n",
       "    .dataframe tbody tr th:only-of-type {\n",
       "        vertical-align: middle;\n",
       "    }\n",
       "\n",
       "    .dataframe tbody tr th {\n",
       "        vertical-align: top;\n",
       "    }\n",
       "\n",
       "    .dataframe thead th {\n",
       "        text-align: right;\n",
       "    }\n",
       "</style>\n",
       "<table border=\"1\" class=\"dataframe\">\n",
       "  <thead>\n",
       "    <tr style=\"text-align: right;\">\n",
       "      <th></th>\n",
       "      <th>norm_train</th>\n",
       "      <th>train_labels</th>\n",
       "    </tr>\n",
       "  </thead>\n",
       "  <tbody>\n",
       "    <tr>\n",
       "      <th>655</th>\n",
       "      <td>bawaslu terima laporan logistik pemilu tak dik...</td>\n",
       "      <td>positif</td>\n",
       "    </tr>\n",
       "    <tr>\n",
       "      <th>12044</th>\n",
       "      <td>anggap banyak tekanan tpn ganjarmahfud sebut p...</td>\n",
       "      <td>netral</td>\n",
       "    </tr>\n",
       "    <tr>\n",
       "      <th>14844</th>\n",
       "      <td>warga solo gugat mk minta gubernur u40 bisa ny...</td>\n",
       "      <td>netral</td>\n",
       "    </tr>\n",
       "    <tr>\n",
       "      <th>13985</th>\n",
       "      <td>gempa m 20 guncang wonosobo berpusat darat</td>\n",
       "      <td>netral</td>\n",
       "    </tr>\n",
       "    <tr>\n",
       "      <th>7974</th>\n",
       "      <td>alex marwata ungkap laporan korupsi kementan d...</td>\n",
       "      <td>negatif</td>\n",
       "    </tr>\n",
       "  </tbody>\n",
       "</table>\n",
       "</div>"
      ],
      "text/plain": [
       "                                              norm_train train_labels\n",
       "655    bawaslu terima laporan logistik pemilu tak dik...      positif\n",
       "12044  anggap banyak tekanan tpn ganjarmahfud sebut p...       netral\n",
       "14844  warga solo gugat mk minta gubernur u40 bisa ny...       netral\n",
       "13985         gempa m 20 guncang wonosobo berpusat darat       netral\n",
       "7974   alex marwata ungkap laporan korupsi kementan d...      negatif"
      ]
     },
     "execution_count": 16,
     "metadata": {},
     "output_type": "execute_result"
    }
   ],
   "source": [
    "df_train.head()"
   ]
  },
  {
   "cell_type": "code",
   "execution_count": 17,
   "metadata": {},
   "outputs": [
    {
     "data": {
      "text/html": [
       "<div>\n",
       "<style scoped>\n",
       "    .dataframe tbody tr th:only-of-type {\n",
       "        vertical-align: middle;\n",
       "    }\n",
       "\n",
       "    .dataframe tbody tr th {\n",
       "        vertical-align: top;\n",
       "    }\n",
       "\n",
       "    .dataframe thead th {\n",
       "        text-align: right;\n",
       "    }\n",
       "</style>\n",
       "<table border=\"1\" class=\"dataframe\">\n",
       "  <thead>\n",
       "    <tr style=\"text-align: right;\">\n",
       "      <th></th>\n",
       "      <th>norm_test</th>\n",
       "      <th>test_labels</th>\n",
       "    </tr>\n",
       "  </thead>\n",
       "  <tbody>\n",
       "    <tr>\n",
       "      <th>11499</th>\n",
       "      <td>deretan anak presiden terjun politik gibran ah...</td>\n",
       "      <td>netral</td>\n",
       "    </tr>\n",
       "    <tr>\n",
       "      <th>6475</th>\n",
       "      <td>firli tak hadiri panggilan polda metro hari ta...</td>\n",
       "      <td>negatif</td>\n",
       "    </tr>\n",
       "    <tr>\n",
       "      <th>13167</th>\n",
       "      <td>angkaangka korupsi apd pandemi bikin ngeri</td>\n",
       "      <td>netral</td>\n",
       "    </tr>\n",
       "    <tr>\n",
       "      <th>862</th>\n",
       "      <td>fakta penemuan kerangka manusia berserakan per...</td>\n",
       "      <td>positif</td>\n",
       "    </tr>\n",
       "    <tr>\n",
       "      <th>5970</th>\n",
       "      <td>firli bahuri hadiri sidang praperadilan hari</td>\n",
       "      <td>negatif</td>\n",
       "    </tr>\n",
       "  </tbody>\n",
       "</table>\n",
       "</div>"
      ],
      "text/plain": [
       "                                               norm_test test_labels\n",
       "11499  deretan anak presiden terjun politik gibran ah...      netral\n",
       "6475   firli tak hadiri panggilan polda metro hari ta...     negatif\n",
       "13167         angkaangka korupsi apd pandemi bikin ngeri      netral\n",
       "862    fakta penemuan kerangka manusia berserakan per...     positif\n",
       "5970        firli bahuri hadiri sidang praperadilan hari     negatif"
      ]
     },
     "execution_count": 17,
     "metadata": {},
     "output_type": "execute_result"
    }
   ],
   "source": [
    "df_test.head()"
   ]
  },
  {
   "cell_type": "code",
   "execution_count": 18,
   "metadata": {},
   "outputs": [
    {
     "data": {
      "text/plain": [
       "<1x11986 sparse matrix of type '<class 'numpy.float64'>'\n",
       "\twith 10 stored elements in Compressed Sparse Row format>"
      ]
     },
     "execution_count": 18,
     "metadata": {},
     "output_type": "execute_result"
    }
   ],
   "source": [
    "train_features[0:1]"
   ]
  },
  {
   "cell_type": "code",
   "execution_count": 19,
   "metadata": {},
   "outputs": [
    {
     "data": {
      "text/plain": [
       "655    positif\n",
       "Name: sentimen, dtype: object"
      ]
     },
     "execution_count": 19,
     "metadata": {},
     "output_type": "execute_result"
    }
   ],
   "source": [
    "train_labels[0:1]"
   ]
  },
  {
   "cell_type": "code",
   "execution_count": 20,
   "metadata": {},
   "outputs": [],
   "source": [
    "from sklearn.svm import LinearSVC\n",
    "from sklearn.naive_bayes import MultinomialNB"
   ]
  },
  {
   "cell_type": "code",
   "execution_count": 21,
   "metadata": {},
   "outputs": [],
   "source": [
    "# clf = SGDClassifier(loss='hinge', max_iter=100)\n",
    "# clf = LinearSVC(penalty='l2', loss='squared_hinge', max_iter=100)\n",
    "clf = MultinomialNB()"
   ]
  },
  {
   "cell_type": "code",
   "execution_count": 22,
   "metadata": {},
   "outputs": [
    {
     "name": "stdout",
     "output_type": "stream",
     "text": [
      "Label test: \n",
      "11499     netral\n",
      "6475     negatif\n",
      "13167     netral\n",
      "862      positif\n",
      "5970     negatif\n",
      "6706     negatif\n",
      "3017     positif\n",
      "3781     positif\n",
      "3898     positif\n",
      "2250     positif\n",
      "Name: sentimen, dtype: object\n",
      "Prediction test: \n",
      "['positif' 'negatif' 'negatif' 'netral' 'negatif' 'negatif' 'positif'\n",
      " 'positif' 'negatif' 'negatif']\n"
     ]
    }
   ],
   "source": [
    "clf.fit(train_features, train_labels)\n",
    "predictions = clf.predict(test_features)\n",
    "print(\"Label test: \\n\" + format(test_labels[:10]))\n",
    "print(\"Prediction test: \\n\"+ format(predictions[:10]))"
   ]
  },
  {
   "cell_type": "code",
   "execution_count": 23,
   "metadata": {},
   "outputs": [
    {
     "name": "stdout",
     "output_type": "stream",
     "text": [
      "Accuration: 0.6537373737373737\n"
     ]
    }
   ],
   "source": [
    "print(\"Accuration: \"+format(clf.score(test_features,test_labels)))"
   ]
  },
  {
   "cell_type": "code",
   "execution_count": 24,
   "metadata": {},
   "outputs": [],
   "source": [
    "import numpy as np\n",
    "from sklearn import metrics"
   ]
  },
  {
   "cell_type": "code",
   "execution_count": 25,
   "metadata": {},
   "outputs": [
    {
     "name": "stdout",
     "output_type": "stream",
     "text": [
      "Accuracy:  0.65\n",
      "Precision:  0.65\n",
      "Recall:  0.65\n",
      "F1 Score:  0.65\n"
     ]
    }
   ],
   "source": [
    "def get_metrics(true_labels, predicted_labels):\n",
    "    print('Accuracy: ', np.round(metrics.accuracy_score(true_labels,\n",
    "                                                        predicted_labels),2))\n",
    "    print('Precision: ', np.round(metrics.precision_score(true_labels,\n",
    "                                                        predicted_labels,\n",
    "                                                        average='weighted'),2))\n",
    "    print('Recall: ', np.round(metrics.recall_score(true_labels,\n",
    "                                                        predicted_labels,\n",
    "                                                        average='weighted'),2))\n",
    "    print('F1 Score: ', np.round(metrics.f1_score(true_labels,\n",
    "                                                        predicted_labels,\n",
    "                                                        average='weighted'),2))\n",
    "# mengevaluasi performa prediksi menggunakan model\n",
    "get_metrics(true_labels=test_labels,predicted_labels=predictions)"
   ]
  },
  {
   "cell_type": "code",
   "execution_count": 26,
   "metadata": {},
   "outputs": [
    {
     "name": "stdout",
     "output_type": "stream",
     "text": [
      "Hasil Prediksi: ['negatif']\n"
     ]
    }
   ],
   "source": [
    "test = ('Jeka Saragih On Fire Menatap Debut di UFC')\n",
    "line = tfidf_vectorizer.transform([test])\n",
    "line.shape\n",
    "test_result = clf.predict(line)\n",
    "print(\"Hasil Prediksi:\", test_result) \n"
   ]
  }
 ],
 "metadata": {
  "kernelspec": {
   "display_name": "env",
   "language": "python",
   "name": "python3"
  },
  "language_info": {
   "codemirror_mode": {
    "name": "ipython",
    "version": 3
   },
   "file_extension": ".py",
   "mimetype": "text/x-python",
   "name": "python",
   "nbconvert_exporter": "python",
   "pygments_lexer": "ipython3",
   "version": "3.11.5"
  }
 },
 "nbformat": 4,
 "nbformat_minor": 2
}
