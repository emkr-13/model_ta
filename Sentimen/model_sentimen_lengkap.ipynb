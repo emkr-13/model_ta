{
 "cells": [
  {
   "cell_type": "markdown",
   "metadata": {},
   "source": [
    "### Model Sentimen"
   ]
  },
  {
   "cell_type": "code",
   "execution_count": 1,
   "metadata": {},
   "outputs": [],
   "source": [
    "import pandas as pd\n",
    "from sklearn.model_selection import train_test_split\n",
    "from sklearn.feature_extraction.text import TfidfVectorizer\n",
    "from sklearn.linear_model import SGDClassifier\n",
    "from sklearn.metrics import classification_report, accuracy_score\n",
    "from sklearn.preprocessing import LabelEncoder\n",
    "import matplotlib.pyplot as plt\n",
    "import numpy as np"
   ]
  },
  {
   "cell_type": "code",
   "execution_count": 2,
   "metadata": {},
   "outputs": [],
   "source": [
    "def map_sentiment(sentiment):\n",
    "    if sentiment == 1:\n",
    "        return 'positif'\n",
    "    elif sentiment == 0:\n",
    "        return 'netral'\n",
    "    else:\n",
    "        return 'negatif'"
   ]
  },
  {
   "cell_type": "code",
   "execution_count": 3,
   "metadata": {},
   "outputs": [],
   "source": [
    "def prepare_datasets(corpus, labels, test_data_proportion=0.3, random_state=42):\n",
    "    train_X, test_X, train_Y, test_Y = train_test_split(corpus, labels,\n",
    "                                                        test_size=test_data_proportion,\n",
    "                                                        random_state=random_state)\n",
    "    return train_X, test_X, train_Y, test_Y"
   ]
  },
  {
   "cell_type": "code",
   "execution_count": 4,
   "metadata": {},
   "outputs": [],
   "source": [
    "def tfidf_extractor(corpus, ngram_range=(1,2)):\n",
    "    vectorizer = TfidfVectorizer(min_df=1,\n",
    "                                norm='l2',\n",
    "                                smooth_idf=True,\n",
    "                                use_idf=True,\n",
    "                                ngram_range=ngram_range)\n",
    "    features = vectorizer.fit_transform(corpus)\n",
    "    return vectorizer, features"
   ]
  },
  {
   "cell_type": "code",
   "execution_count": 5,
   "metadata": {},
   "outputs": [
    {
     "data": {
      "text/html": [
       "<div>\n",
       "<style scoped>\n",
       "    .dataframe tbody tr th:only-of-type {\n",
       "        vertical-align: middle;\n",
       "    }\n",
       "\n",
       "    .dataframe tbody tr th {\n",
       "        vertical-align: top;\n",
       "    }\n",
       "\n",
       "    .dataframe thead th {\n",
       "        text-align: right;\n",
       "    }\n",
       "</style>\n",
       "<table border=\"1\" class=\"dataframe\">\n",
       "  <thead>\n",
       "    <tr style=\"text-align: right;\">\n",
       "      <th></th>\n",
       "      <th>title</th>\n",
       "      <th>url_berita</th>\n",
       "      <th>sentimen</th>\n",
       "    </tr>\n",
       "  </thead>\n",
       "  <tbody>\n",
       "    <tr>\n",
       "      <th>0</th>\n",
       "      <td>strategi sleman dorong ekonomi pakai batik int...</td>\n",
       "      <td>https://20.detik.com/blak-blakan/20231204-2312...</td>\n",
       "      <td>positif</td>\n",
       "    </tr>\n",
       "    <tr>\n",
       "      <th>1</th>\n",
       "      <td>greysia polii ajak anak muda terus melangkah r...</td>\n",
       "      <td>https://20.detik.com/demi-indonesia/20231027-2...</td>\n",
       "      <td>positif</td>\n",
       "    </tr>\n",
       "    <tr>\n",
       "      <th>2</th>\n",
       "      <td>pan x jakcloth pesta anak nongkrong sambangi b...</td>\n",
       "      <td>https://20.detik.com/advertorial/20231109-2311...</td>\n",
       "      <td>positif</td>\n",
       "    </tr>\n",
       "    <tr>\n",
       "      <th>3</th>\n",
       "      <td>arahan megawati rakernas iv pdip turun rakyatm...</td>\n",
       "      <td>https://20.detik.com/detikupdate/20231001-2310...</td>\n",
       "      <td>positif</td>\n",
       "    </tr>\n",
       "    <tr>\n",
       "      <th>4</th>\n",
       "      <td>erick thohir ajak muda tak mager indonesia leb...</td>\n",
       "      <td>https://20.detik.com/demi-indonesia/20231027-2...</td>\n",
       "      <td>positif</td>\n",
       "    </tr>\n",
       "    <tr>\n",
       "      <th>5</th>\n",
       "      <td>pdip sebut ganjar muliakan petani nelayan jadi...</td>\n",
       "      <td>https://20.detik.com/detikupdate/20231001-2310...</td>\n",
       "      <td>positif</td>\n",
       "    </tr>\n",
       "    <tr>\n",
       "      <th>6</th>\n",
       "      <td>bertemu habib rizieq cak imin bantah bahas duk...</td>\n",
       "      <td>https://20.detik.com/detikupdate/20231001-2310...</td>\n",
       "      <td>positif</td>\n",
       "    </tr>\n",
       "    <tr>\n",
       "      <th>7</th>\n",
       "      <td>kades bandung mundur dukung amin anies salut</td>\n",
       "      <td>https://20.detik.com/detikupdate/20231001-2310...</td>\n",
       "      <td>positif</td>\n",
       "    </tr>\n",
       "    <tr>\n",
       "      <th>8</th>\n",
       "      <td>gestur prabowo ditanya soal kans berduet ganjar</td>\n",
       "      <td>https://20.detik.com/detikupdate/20231001-2310...</td>\n",
       "      <td>positif</td>\n",
       "    </tr>\n",
       "    <tr>\n",
       "      <th>9</th>\n",
       "      <td>anies bertemu alumni itb bahas metode ilmiah m...</td>\n",
       "      <td>https://20.detik.com/detikupdate/20231001-2310...</td>\n",
       "      <td>positif</td>\n",
       "    </tr>\n",
       "  </tbody>\n",
       "</table>\n",
       "</div>"
      ],
      "text/plain": [
       "                                               title  \\\n",
       "0  strategi sleman dorong ekonomi pakai batik int...   \n",
       "1  greysia polii ajak anak muda terus melangkah r...   \n",
       "2  pan x jakcloth pesta anak nongkrong sambangi b...   \n",
       "3  arahan megawati rakernas iv pdip turun rakyatm...   \n",
       "4  erick thohir ajak muda tak mager indonesia leb...   \n",
       "5  pdip sebut ganjar muliakan petani nelayan jadi...   \n",
       "6  bertemu habib rizieq cak imin bantah bahas duk...   \n",
       "7       kades bandung mundur dukung amin anies salut   \n",
       "8    gestur prabowo ditanya soal kans berduet ganjar   \n",
       "9  anies bertemu alumni itb bahas metode ilmiah m...   \n",
       "\n",
       "                                          url_berita sentimen  \n",
       "0  https://20.detik.com/blak-blakan/20231204-2312...  positif  \n",
       "1  https://20.detik.com/demi-indonesia/20231027-2...  positif  \n",
       "2  https://20.detik.com/advertorial/20231109-2311...  positif  \n",
       "3  https://20.detik.com/detikupdate/20231001-2310...  positif  \n",
       "4  https://20.detik.com/demi-indonesia/20231027-2...  positif  \n",
       "5  https://20.detik.com/detikupdate/20231001-2310...  positif  \n",
       "6  https://20.detik.com/detikupdate/20231001-2310...  positif  \n",
       "7  https://20.detik.com/detikupdate/20231001-2310...  positif  \n",
       "8  https://20.detik.com/detikupdate/20231001-2310...  positif  \n",
       "9  https://20.detik.com/detikupdate/20231001-2310...  positif  "
      ]
     },
     "execution_count": 5,
     "metadata": {},
     "output_type": "execute_result"
    }
   ],
   "source": [
    "df = pd.read_csv('pre_title.csv')\n",
    "df['sentimen'] = df['sentimen'].map(map_sentiment)\n",
    "df.head(10)"
   ]
  },
  {
   "cell_type": "code",
   "execution_count": 6,
   "metadata": {},
   "outputs": [],
   "source": [
    "# Split data\n",
    "x_train, x_test, y_train, y_test = prepare_datasets(df['title'], df['sentimen'], test_data_proportion=0.3)"
   ]
  },
  {
   "cell_type": "code",
   "execution_count": null,
   "metadata": {},
   "outputs": [],
   "source": []
  }
 ],
 "metadata": {
  "kernelspec": {
   "display_name": "env",
   "language": "python",
   "name": "python3"
  },
  "language_info": {
   "codemirror_mode": {
    "name": "ipython",
    "version": 3
   },
   "file_extension": ".py",
   "mimetype": "text/x-python",
   "name": "python",
   "nbconvert_exporter": "python",
   "pygments_lexer": "ipython3",
   "version": "3.11.5"
  }
 },
 "nbformat": 4,
 "nbformat_minor": 2
}
