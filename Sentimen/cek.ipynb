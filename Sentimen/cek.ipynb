{
 "cells": [
  {
   "cell_type": "code",
   "execution_count": 1,
   "metadata": {},
   "outputs": [
    {
     "data": {
      "text/html": [
       "<div>\n",
       "<style scoped>\n",
       "    .dataframe tbody tr th:only-of-type {\n",
       "        vertical-align: middle;\n",
       "    }\n",
       "\n",
       "    .dataframe tbody tr th {\n",
       "        vertical-align: top;\n",
       "    }\n",
       "\n",
       "    .dataframe thead th {\n",
       "        text-align: right;\n",
       "    }\n",
       "</style>\n",
       "<table border=\"1\" class=\"dataframe\">\n",
       "  <thead>\n",
       "    <tr style=\"text-align: right;\">\n",
       "      <th></th>\n",
       "      <th>content</th>\n",
       "      <th>sentimen</th>\n",
       "      <th>url_berita</th>\n",
       "    </tr>\n",
       "  </thead>\n",
       "  <tbody>\n",
       "    <tr>\n",
       "      <th>0</th>\n",
       "      <td>presiden joko widodo memimpin upacara peringat...</td>\n",
       "      <td>0</td>\n",
       "      <td>https://20.detik.com/detikupdate/20231001-2310...</td>\n",
       "    </tr>\n",
       "    <tr>\n",
       "      <th>1</th>\n",
       "      <td>kpk mengungkap oknum menghilangkan barang bukt...</td>\n",
       "      <td>0</td>\n",
       "      <td>https://20.detik.com/detikupdate/20231001-2310...</td>\n",
       "    </tr>\n",
       "    <tr>\n",
       "      <th>2</th>\n",
       "      <td>remaja palestina umur 14 tahun ditembak mati p...</td>\n",
       "      <td>0</td>\n",
       "      <td>https://20.detik.com/detikupdate/20230831-2308...</td>\n",
       "    </tr>\n",
       "    <tr>\n",
       "      <th>3</th>\n",
       "      <td>presiden joko widodo memimpin upacara peringat...</td>\n",
       "      <td>0</td>\n",
       "      <td>https://20.detik.com/detikupdate/20231001-2310...</td>\n",
       "    </tr>\n",
       "    <tr>\n",
       "      <th>4</th>\n",
       "      <td>20detik merangkum kejadian heboh menarik sepek...</td>\n",
       "      <td>0</td>\n",
       "      <td>https://20.detik.com/detikupdate/20231001-2310...</td>\n",
       "    </tr>\n",
       "  </tbody>\n",
       "</table>\n",
       "</div>"
      ],
      "text/plain": [
       "                                             content  sentimen  \\\n",
       "0  presiden joko widodo memimpin upacara peringat...         0   \n",
       "1  kpk mengungkap oknum menghilangkan barang bukt...         0   \n",
       "2  remaja palestina umur 14 tahun ditembak mati p...         0   \n",
       "3  presiden joko widodo memimpin upacara peringat...         0   \n",
       "4  20detik merangkum kejadian heboh menarik sepek...         0   \n",
       "\n",
       "                                          url_berita  \n",
       "0  https://20.detik.com/detikupdate/20231001-2310...  \n",
       "1  https://20.detik.com/detikupdate/20231001-2310...  \n",
       "2  https://20.detik.com/detikupdate/20230831-2308...  \n",
       "3  https://20.detik.com/detikupdate/20231001-2310...  \n",
       "4  https://20.detik.com/detikupdate/20231001-2310...  "
      ]
     },
     "execution_count": 1,
     "metadata": {},
     "output_type": "execute_result"
    }
   ],
   "source": [
    "import pandas as pd\n",
    "\n",
    "cek=pd.read_csv('pre_content.csv')\n",
    "cek.head()"
   ]
  },
  {
   "cell_type": "code",
   "execution_count": null,
   "metadata": {},
   "outputs": [],
   "source": []
  }
 ],
 "metadata": {
  "kernelspec": {
   "display_name": "env",
   "language": "python",
   "name": "python3"
  },
  "language_info": {
   "codemirror_mode": {
    "name": "ipython",
    "version": 3
   },
   "file_extension": ".py",
   "mimetype": "text/x-python",
   "name": "python",
   "nbconvert_exporter": "python",
   "pygments_lexer": "ipython3",
   "version": "3.11.5"
  }
 },
 "nbformat": 4,
 "nbformat_minor": 2
}
