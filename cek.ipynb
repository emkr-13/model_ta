{
 "cells": [
  {
   "cell_type": "code",
   "execution_count": 1,
   "metadata": {},
   "outputs": [
    {
     "data": {
      "text/html": [
       "<div>\n",
       "<style scoped>\n",
       "    .dataframe tbody tr th:only-of-type {\n",
       "        vertical-align: middle;\n",
       "    }\n",
       "\n",
       "    .dataframe tbody tr th {\n",
       "        vertical-align: top;\n",
       "    }\n",
       "\n",
       "    .dataframe thead th {\n",
       "        text-align: right;\n",
       "    }\n",
       "</style>\n",
       "<table border=\"1\" class=\"dataframe\">\n",
       "  <thead>\n",
       "    <tr style=\"text-align: right;\">\n",
       "      <th></th>\n",
       "      <th>annotation_id</th>\n",
       "      <th>annotator</th>\n",
       "      <th>content</th>\n",
       "      <th>created_at</th>\n",
       "      <th>id</th>\n",
       "      <th>lead_time</th>\n",
       "      <th>link_berita</th>\n",
       "      <th>nama_berita</th>\n",
       "      <th>sentiment</th>\n",
       "      <th>tanggal_berita</th>\n",
       "      <th>title</th>\n",
       "      <th>updated_at</th>\n",
       "    </tr>\n",
       "  </thead>\n",
       "  <tbody>\n",
       "    <tr>\n",
       "      <th>0</th>\n",
       "      <td>3</td>\n",
       "      <td>1</td>\n",
       "      <td>Kumaha barudak? Well!Yuk ramaikan Pesta Anak N...</td>\n",
       "      <td>2024-03-22T02:29:28.095843Z</td>\n",
       "      <td>1</td>\n",
       "      <td>45.971</td>\n",
       "      <td>https://20.detik.com/advertorial/20231109-2311...</td>\n",
       "      <td>Detik News</td>\n",
       "      <td>Neutral</td>\n",
       "      <td>10-11-2023</td>\n",
       "      <td>PAN x JakCloth! Pesta Anak Nongkrong Sambangi ...</td>\n",
       "      <td>2024-03-22T02:29:37.860861Z</td>\n",
       "    </tr>\n",
       "  </tbody>\n",
       "</table>\n",
       "</div>"
      ],
      "text/plain": [
       "   annotation_id  annotator  \\\n",
       "0              3          1   \n",
       "\n",
       "                                             content  \\\n",
       "0  Kumaha barudak? Well!Yuk ramaikan Pesta Anak N...   \n",
       "\n",
       "                    created_at  id  lead_time  \\\n",
       "0  2024-03-22T02:29:28.095843Z   1     45.971   \n",
       "\n",
       "                                         link_berita nama_berita sentiment  \\\n",
       "0  https://20.detik.com/advertorial/20231109-2311...  Detik News   Neutral   \n",
       "\n",
       "  tanggal_berita                                              title  \\\n",
       "0     10-11-2023  PAN x JakCloth! Pesta Anak Nongkrong Sambangi ...   \n",
       "\n",
       "                    updated_at  \n",
       "0  2024-03-22T02:29:37.860861Z  "
      ]
     },
     "execution_count": 1,
     "metadata": {},
     "output_type": "execute_result"
    }
   ],
   "source": [
    "import pandas as pd\n",
    "\n",
    "pd.read_csv('')"
   ]
  },
  {
   "cell_type": "code",
   "execution_count": null,
   "metadata": {},
   "outputs": [],
   "source": []
  }
 ],
 "metadata": {
  "kernelspec": {
   "display_name": "env",
   "language": "python",
   "name": "python3"
  },
  "language_info": {
   "codemirror_mode": {
    "name": "ipython",
    "version": 3
   },
   "file_extension": ".py",
   "mimetype": "text/x-python",
   "name": "python",
   "nbconvert_exporter": "python",
   "pygments_lexer": "ipython3",
   "version": "3.11.5"
  }
 },
 "nbformat": 4,
 "nbformat_minor": 2
}
