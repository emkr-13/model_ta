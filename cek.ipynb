{
 "cells": [
  {
   "cell_type": "code",
   "execution_count": 1,
   "metadata": {},
   "outputs": [],
   "source": [
    "import pandas as pd"
   ]
  },
  {
   "cell_type": "code",
   "execution_count": 2,
   "metadata": {},
   "outputs": [],
   "source": [
    "df=pd.read_csv('pre_content.csv')"
   ]
  },
  {
   "cell_type": "code",
   "execution_count": 3,
   "metadata": {},
   "outputs": [
    {
     "data": {
      "text/html": [
       "<div>\n",
       "<style scoped>\n",
       "    .dataframe tbody tr th:only-of-type {\n",
       "        vertical-align: middle;\n",
       "    }\n",
       "\n",
       "    .dataframe tbody tr th {\n",
       "        vertical-align: top;\n",
       "    }\n",
       "\n",
       "    .dataframe thead th {\n",
       "        text-align: right;\n",
       "    }\n",
       "</style>\n",
       "<table border=\"1\" class=\"dataframe\">\n",
       "  <thead>\n",
       "    <tr style=\"text-align: right;\">\n",
       "      <th></th>\n",
       "      <th>url_berita</th>\n",
       "      <th>nama_berita</th>\n",
       "      <th>tanggal_berita</th>\n",
       "      <th>processed_text</th>\n",
       "    </tr>\n",
       "  </thead>\n",
       "  <tbody>\n",
       "    <tr>\n",
       "      <th>0</th>\n",
       "      <td>https://20.detik.com/detikupdate/20231001-2310...</td>\n",
       "      <td>Detik News</td>\n",
       "      <td>01-10-2023</td>\n",
       "      <td>20detik rangkum jadi heboh tarik pek   ya  sim...</td>\n",
       "    </tr>\n",
       "    <tr>\n",
       "      <th>1</th>\n",
       "      <td>https://20.detik.com/detikjabar/20231218-23121...</td>\n",
       "      <td>Detik News</td>\n",
       "      <td>18-12-2023</td>\n",
       "      <td>iring mobil suv pasu awal presiden as joe bide...</td>\n",
       "    </tr>\n",
       "    <tr>\n",
       "      <th>2</th>\n",
       "      <td>https://20.detik.com/detikupdate/20230831-2308...</td>\n",
       "      <td>Detik News</td>\n",
       "      <td>09-10-2023</td>\n",
       "      <td>remaja palestina umur 14 tembak mati polisi is...</td>\n",
       "    </tr>\n",
       "    <tr>\n",
       "      <th>3</th>\n",
       "      <td>https://20.detik.com/demi-indonesia/20231027-2...</td>\n",
       "      <td>Detik News</td>\n",
       "      <td>27-10-2023</td>\n",
       "      <td>menteri bumn  erick thohir bicara bangsa indon...</td>\n",
       "    </tr>\n",
       "    <tr>\n",
       "      <th>4</th>\n",
       "      <td>https://20.detik.com/detikupdate/20231001-2310...</td>\n",
       "      <td>Detik News</td>\n",
       "      <td>01-10-2023</td>\n",
       "      <td>presiden joko widodo pimpin upacara ingat sakt...</td>\n",
       "    </tr>\n",
       "  </tbody>\n",
       "</table>\n",
       "</div>"
      ],
      "text/plain": [
       "                                          url_berita nama_berita  \\\n",
       "0  https://20.detik.com/detikupdate/20231001-2310...  Detik News   \n",
       "1  https://20.detik.com/detikjabar/20231218-23121...  Detik News   \n",
       "2  https://20.detik.com/detikupdate/20230831-2308...  Detik News   \n",
       "3  https://20.detik.com/demi-indonesia/20231027-2...  Detik News   \n",
       "4  https://20.detik.com/detikupdate/20231001-2310...  Detik News   \n",
       "\n",
       "  tanggal_berita                                     processed_text  \n",
       "0     01-10-2023  20detik rangkum jadi heboh tarik pek   ya  sim...  \n",
       "1     18-12-2023  iring mobil suv pasu awal presiden as joe bide...  \n",
       "2     09-10-2023  remaja palestina umur 14 tembak mati polisi is...  \n",
       "3     27-10-2023  menteri bumn  erick thohir bicara bangsa indon...  \n",
       "4     01-10-2023  presiden joko widodo pimpin upacara ingat sakt...  "
      ]
     },
     "execution_count": 3,
     "metadata": {},
     "output_type": "execute_result"
    }
   ],
   "source": [
    "df.head()"
   ]
  },
  {
   "cell_type": "code",
   "execution_count": null,
   "metadata": {},
   "outputs": [],
   "source": []
  }
 ],
 "metadata": {
  "kernelspec": {
   "display_name": "env",
   "language": "python",
   "name": "python3"
  },
  "language_info": {
   "codemirror_mode": {
    "name": "ipython",
    "version": 3
   },
   "file_extension": ".py",
   "mimetype": "text/x-python",
   "name": "python",
   "nbconvert_exporter": "python",
   "pygments_lexer": "ipython3",
   "version": "3.11.5"
  }
 },
 "nbformat": 4,
 "nbformat_minor": 2
}
