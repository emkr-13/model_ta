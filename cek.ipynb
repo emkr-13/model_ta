{
 "cells": [
  {
   "cell_type": "markdown",
   "metadata": {},
   "source": [
    "### Pengecekaan "
   ]
  },
  {
   "cell_type": "code",
   "execution_count": 1,
   "metadata": {},
   "outputs": [],
   "source": [
    "import pandas as pd\n",
    "import concurrent.futures\n",
    "import time\n",
    "import re\n",
    "\n",
    "from nltk.tokenize import word_tokenize\n",
    "from Sastrawi.StopWordRemover.StopWordRemoverFactory import StopWordRemoverFactory\n",
    "from Sastrawi.Stemmer.StemmerFactory import StemmerFactory\n",
    "from nltk.stem import PorterStemmer\n",
    "\n",
    "# Initialize Sastrawi stopword remover\n",
    "stopword_factory = StopWordRemoverFactory()\n",
    "stopword_remover = stopword_factory.create_stop_word_remover()\n",
    "\n",
    "# Initialize Sastrawi stemmer\n",
    "stemmer_factory = StemmerFactory()\n",
    "stemmer = stemmer_factory.create_stemmer()\n",
    "\n",
    "# Porter\n",
    "porter_stemmer = PorterStemmer()"
   ]
  },
  {
   "cell_type": "markdown",
   "metadata": {},
   "source": [
    "cleaning"
   ]
  },
  {
   "cell_type": "code",
   "execution_count": 2,
   "metadata": {},
   "outputs": [
    {
     "name": "stdout",
     "output_type": "stream",
     "text": [
      "[' Panglima TNI Laksamana Yudo Margono buka suara soal sosok KSAD baru Jenderal TNI Agus Subiyanto yang disodorkan Presiden RI untuk dites DPR sebagai calon penggantinya Yudo yang akan pensiun itu meyakini kemampuan Agus seandainya resmi memimpin TNI sebagai pengganti dirinya kelak Pak Agus Subiyanto baik  Saya yakin beliau mampu untuk memimpin TNI  tentunya nanti bersinergi dengan Polri dan juga bisa bersama sama kepala staf yang lain untuk membawa TNI yang lebih baik  lebih profesional  modern  tangguh  kata Yudo di Sesko TNI  Bandung  Kamis  2 11 Yudo menuturkan saat dirinya dilantik  ada beberapa agenda kegiatan besar TNI yang telah disusunnya sebagai panglima  Salah satunya adalah mengawal proses berjalan Pemilu 2024  Itu  kata dia  akan menjadi pijakan juga bagi panglima pengganti dirinya Dalam perencanaan kegiatan sudah ada semuanya  yang kita susun di tahun 2023 ini dan nantinya 2024 apa saja  tentunya Pemilu  berikutnya dalam operasi latihan  operasi juga tetap sekarang yang ada  latihan juga kita rancang di tahun 2024 nanti  kata Yudo yang akan memasuki masa pensiun pada akhir November 2023 ini DPR telah menerima Surat Presiden  Surpres  dari Jokowi untuk menguji kepatutan dan kelayakan  fit and proper test  Agus Subiyanto sebagai calon Panglima TNI  Komisi I DPR pun telah menjadwalkan uji kepatutan dan kelayakan itu bakal digelar pada 14 November mendatang Yudo sendiri  saat disinggung langkah selanjutnya setelah melepas jabatan dan purnawirawan  mengaku ingin memfokuskan diri bertani Sudah saya jawab  bertani  Bertani kan banyak  ada bertani padi  kebun  banyak  Bertani lah pokoknya   Tempat bertaninya  Rahasia  ujar Yudo ', '    Gubernur Jawa Timur  Jatim  Khofifah Indar Parawansa mengaku bangga dengan capaian indeks pembangunan manusia  IPM  Jatim yang terus membaik hingga akhir 2023 Badan Pusat Statistik  BPS  menyebutkan  IPM Jatim mencapai 74 65 per 1 Desember 2023  atau meningkat 3 15 persen selama periode 2019 2023 Capaian IPM Jatim 2023 tersebut di atas rata rata nasional sebesar 74 39 serta provinsi besar lain di Pulau Jawa  yaitu Jawa Barat 74 24 dan Jawa Tengah sebesar 73 39 Khofifah pun optimistis Jatim akan mampu mewujudkan target sasaran visi Indonesia Emas sesuai Rencana Pembangunan Jangka Menengah Nasional  RPJMN  2025 2045 Dengan capaian IPM Jatim ini  kami semakin optimis Jatim akan mampu mewujudkan Indonesia Emas 2045  terangnya di Gedung Negara Grahadi Surabaya  Senin  4 12 2023 Baca juga  Pakar UB Dorong Pemprov Jatim Jadi Pionir Penerapan Kurikulum KebencanaanTerkait capaian itu  Khofifah mengatakan  Pemerintah Provinsi  Pemprov  Jatim menyiapkan strategi pembangunan untuk mendukung peningkatan IPM Dia mencontohkan  pihaknya menjalankan strategi kesetaraan vokasional berupa program Kejar Paket A  B  dan C Vokasi  penyediaan Pendidikan Gratis dan Berkualitas  Tis Tas  hingga Bantuan Operasional Sekolah Daerah untuk Madrasah Diniah  Bosda Madin Khofifah mengatakan  strategi ini tidak hanya meningkatkan rata rata lama sekolah  tetapi juga keterampilan bagi peserta kejar paket dengan menambahkan muatan vokasional Dengan begitu  mereka siap secara skill untuk bekerja dan berusaha yang berdampak pula pada meningkatnya daya beli  ujarnya dalam siaran pers Mantan Menteri Sosial  Mensos  itu mengatakan  upaya Pemprov Jatim meningkatkan prestasi akademik dan non akademik di bidang pendidikan juga membanggakan Baca juga  Pakar UB Dorong Pemprov Jatim Jadi Pionir Penerapan Kurikulum KebencanaanHal itu terlihat dari capaian sebagai juara umum tiga tahun berturut turut Olimpiade Sains Nasional  OSN  periode tahun 2020 2022 dan Juara Umum Lomba Kompetensi Siswa  LKS  SMK tingkat Nasional 2023 Jatim juga menjadi provinsi dengan jumlah mahasiswa terbanyak yang diterima Seleksi Nasional Masuk Perguruan Tinggi Negeri  SNMPTN  dan Seleksi Bersama Masuk Perguruan Tinggi Negeri  SBMPTN  selama empat tahun berturut turut  yaitu pada 2020 2023 Pemprov Jatim juga memiliki strategi peningkatan IPM atau Human Development Index  HDI  terkait umur harapan hidup  UHH  dan kesehatan Beberapa strategi tersebut  seperti Pondok Kesehatan Desa  Ponkesdes  Puskesmas Rawat Inap Standar  Taman Posyandu  Pendampingan Bumil Risti  Pencegahan Stunting bagi Ibu Hamil  hingga Tantistas  Kesehatan Gratis dan berkualitas Strategi Pemprov Jatim lainnya adalah peningkatan IPM untuk standar hidup layak Baca juga  Khofifah Sebut UMK Jatim 2024 Adil bagi Pekerja dan Pengusaha ', ' Ketua DPP PKB Ahmad Iman Sukri mengklaim elektabilitas Ketua Umum PKB Muhaimin Iskandar  Cak Imin  sebagai bakal calon wakil presiden unggul dari Gubernur Jawa Timur Khofifah Indar Parawansa dan Menko Polhukam Mahfud MD di wilayah Jawa Timur Ia mengatakan survei itu dilakukan secara internal oleh PKB melalui lembaga Polmark sekitar lima bulan yang lalu Kita lakukan survei seluruh Indonesia  responden 70 ribu  Nah  hasil survei di Jatim cawapres tertinggi itu Cak Imin  Itu Polmark  Kurang lebih 12 14 persen  Saya lupa  Baru Khofifah  ada Mahfud  dan lain lain  kata Iman dalam podcast What The Fact  Politics CNN Indonesia yang tayang pada Jumat  29 9 Selain di Jatim  Iman mengidentifikasi pasangan Anies Baswedan dan Cak Imin akan unggul di Jakarta  Sumatera  beberapa wilayah Kalimantan  hingga di Sulawesi Ia meyakini Ketua Umum NasDem Surya Paloh dan Anies memilih Cak Imin sebagai cawapres Anies dengan pertimbangan rasional Karena itu berdasarkan data survei juga  kata dia Iman juga optimistis referensi politik warga Nahdlatul Ulama  NU  di Jatim akan mengerucut ke PKB  Ia mengklaim selama ini konstituen PKB merupakan warga NU Karena itu  ia pun yakin konsolidasi pasangan Anies Cak Imin makin menggumpal di Jatim untuk meraih kemenangan di Pilpres 2024  Ia mengungkapkan nantinya Anies dan Cak Imin makin sering keliling di Jawa Timur untuk sosialisasi Meski sekarang survei kecil  tapi kita tak berkecil hati  kata Iman Nanti kita buat acara di Sidoarjo  Kita konsolidasi dan panaskan mesin  tambahnya Selain itu  Iman menghargai para bakal calon presiden lainnya kini berencana menggandeng tokoh dari NU sebagai cawapres  Menurut dia  kondisi ini membuat semangat pertarungan pilpres menjadi bergairah dan lebih seru Cak Imin itu jadi cawapres dari kalangan NU itu hidup lagi kartunya  Kalau Cak Imin tak deklarasi ke Anies  kartu Mahfud dan Khofifah belum tentu hidup lagi kan  Tetap kita yakin pertarungan akan seru  kata dia ']\n"
     ]
    }
   ],
   "source": [
    "teks1='\"Panglima TNI Laksamana Yudo Margono buka suara soal sosok KSAD baru Jenderal TNI Agus Subiyanto yang disodorkan Presiden RI untuk dites DPR sebagai calon penggantinya.Yudo yang akan pensiun itu meyakini kemampuan Agus seandainya resmi memimpin TNI sebagai pengganti dirinya kelak.\"\"Pak Agus Subiyanto baik. Saya yakin beliau mampu untuk memimpin TNI, tentunya nanti bersinergi dengan Polri dan juga bisa bersama sama kepala staf yang lain untuk membawa TNI yang lebih baik, lebih profesional, modern, tangguh,\"\" kata Yudo di Sesko TNI, Bandung, Kamis (2/11).Yudo menuturkan saat dirinya dilantik, ada beberapa agenda kegiatan besar TNI yang telah disusunnya sebagai panglima. Salah satunya adalah mengawal proses berjalan Pemilu 2024. Itu, kata dia, akan menjadi pijakan juga bagi panglima pengganti dirinya.ADVERTISEMENT\"\"Dalam perencanaan kegiatan sudah ada semuanya, yang kita susun di tahun 2023 ini dan nantinya 2024 apa saja, tentunya Pemilu, berikutnya dalam operasi latihan, operasi juga tetap sekarang yang ada, latihan juga kita rancang di tahun 2024 nanti,\"\" kata Yudo yang akan memasuki masa pensiun pada akhir November 2023 ini.DPR telah menerima Surat Presiden (Surpres) dari Jokowi untuk menguji kepatutan dan kelayakan (fit and proper test) Agus Subiyanto sebagai calon Panglima TNI. Komisi I DPR pun telah menjadwalkan uji kepatutan dan kelayakan itu bakal digelar pada 14 November mendatang.Yudo sendiri, saat disinggung langkah selanjutnya setelah melepas jabatan dan purnawirawan, mengaku ingin memfokuskan diri bertani.\"\"Sudah saya jawab, bertani. Bertani kan banyak, ada bertani padi, kebun, banyak. Bertani lah pokoknya. (Tempat bertaninya) Rahasia,\"\" ujar Yudo.\"'\n",
    "teks2='\"KOMPAS.com - Gubernur Jawa Timur (Jatim) Khofifah Indar Parawansa mengaku bangga dengan capaian indeks pembangunan manusia (IPM) Jatim yang terus membaik hingga akhir 2023.Badan Pusat Statistik (BPS) menyebutkan, IPM Jatim mencapai 74,65 per 1 Desember 2023, atau meningkat 3,15 persen selama periode 2019-2023.Capaian IPM Jatim 2023 tersebut di atas rata-rata nasional sebesar 74,39 serta provinsi besar lain di Pulau Jawa, yaitu Jawa Barat 74,24 dan Jawa Tengah sebesar 73,39.Khofifah pun optimistis Jatim akan mampu mewujudkan target sasaran visi Indonesia Emas sesuai Rencana Pembangunan Jangka Menengah Nasional (RPJMN) 2025-2045.\"\"Dengan capaian IPM Jatim ini, kami semakin optimis Jatim akan mampu mewujudkan Indonesia Emas 2045,\"\" terangnya di Gedung Negara Grahadi Surabaya, Senin (4/12/2023).Baca juga: Pakar UB Dorong Pemprov Jatim Jadi Pionir Penerapan Kurikulum KebencanaanTerkait capaian itu, Khofifah mengatakan, Pemerintah Provinsi (Pemprov) Jatim menyiapkan strategi pembangunan untuk mendukung peningkatan IPM.Dia mencontohkan, pihaknya menjalankan strategi kesetaraan vokasional berupa program Kejar Paket A, B, dan C Vokasi, penyediaan Pendidikan Gratis dan Berkualitas (Tis-Tas), hingga Bantuan Operasional Sekolah Daerah untuk Madrasah Diniah (Bosda Madin).Khofifah mengatakan, strategi ini tidak hanya meningkatkan rata-rata lama sekolah, tetapi juga keterampilan bagi peserta kejar paket dengan menambahkan muatan vokasional.?Dengan begitu, mereka siap secara skill untuk bekerja dan berusaha yang berdampak pula pada meningkatnya daya beli,\"\" ujarnya dalam siaran pers.Mantan Menteri Sosial (Mensos) itu mengatakan, upaya Pemprov Jatim meningkatkan prestasi akademik dan non akademik di bidang pendidikan juga membanggakan.Baca juga: Pakar UB Dorong Pemprov Jatim Jadi Pionir Penerapan Kurikulum KebencanaanHal itu terlihat dari capaian sebagai juara umum tiga tahun berturut-turut Olimpiade Sains Nasional (OSN) periode tahun 2020?2022 dan Juara Umum Lomba Kompetensi Siswa (LKS) SMK tingkat Nasional 2023.Jatim juga menjadi provinsi dengan jumlah mahasiswa terbanyak yang diterima Seleksi Nasional Masuk Perguruan Tinggi Negeri (SNMPTN) dan Seleksi Bersama Masuk Perguruan Tinggi Negeri (SBMPTN) selama empat tahun berturut-turut, yaitu pada 2020-2023.Pemprov Jatim juga memiliki strategi peningkatan IPM atau Human Development Index (HDI) terkait umur harapan hidup (UHH) dan kesehatan.Beberapa strategi tersebut, seperti Pondok Kesehatan Desa (Ponkesdes), Puskesmas Rawat Inap Standar, Taman Posyandu, Pendampingan Bumil Risti, Pencegahan Stunting bagi Ibu Hamil, hingga Tantistas (Kesehatan Gratis dan berkualitas).Strategi Pemprov Jatim lainnya adalah peningkatan IPM untuk standar hidup layak.Baca juga: Khofifah Sebut UMK Jatim 2024 Adil bagi Pekerja dan Pengusaha\"'\n",
    "teks3='\"Ketua DPP PKB Ahmad Iman Sukri mengklaim elektabilitas Ketua Umum PKB Muhaimin Iskandar (Cak Imin) sebagai bakal calon wakil presiden unggul dari Gubernur Jawa Timur Khofifah Indar Parawansa dan Menko Polhukam Mahfud MD di wilayah Jawa Timur.Ia mengatakan survei itu dilakukan secara internal oleh PKB melalui lembaga Polmark sekitar lima bulan yang lalu.\"\"Kita lakukan survei seluruh Indonesia, responden 70 ribu. Nah, hasil survei di Jatim cawapres tertinggi itu Cak Imin. Itu Polmark. Kurang lebih 12-14 persen. Saya lupa. Baru Khofifah, ada Mahfud, dan lain-lain,\"\" kata Iman dalam podcast What The Fact! Politics CNN Indonesia yang tayang pada Jumat (29/9).Selain di Jatim, Iman mengidentifikasi pasangan Anies Baswedan dan Cak Imin akan unggul di Jakarta, Sumatera, beberapa wilayah Kalimantan, hingga di Sulawesi.ADVERTISEMENTIa meyakini Ketua Umum NasDem Surya Paloh dan Anies memilih Cak Imin sebagai cawapres Anies dengan pertimbangan rasional.\"\"Karena itu berdasarkan data survei juga,\"\" kata dia.Iman juga optimistis referensi politik warga Nahdlatul Ulama (NU) di Jatim akan mengerucut ke PKB. Ia mengklaim selama ini konstituen PKB merupakan warga NU.Karena itu, ia pun yakin konsolidasi pasangan Anies-Cak Imin makin menggumpal di Jatim untuk meraih kemenangan di Pilpres 2024. Ia mengungkapkan nantinya Anies dan Cak Imin makin sering keliling di Jawa Timur untuk sosialisasi.\"\"Meski sekarang survei kecil, tapi kita tak berkecil hati,\"\" kata Iman.\"\"Nanti kita buat acara di Sidoarjo. Kita konsolidasi dan panaskan mesin,\"\" tambahnya.Selain itu, Iman menghargai para bakal calon presiden lainnya kini berencana menggandeng tokoh dari NU sebagai cawapres. Menurut dia, kondisi ini membuat semangat pertarungan pilpres menjadi bergairah dan lebih seru.\"\"Cak Imin itu jadi cawapres dari kalangan NU itu hidup lagi kartunya. Kalau Cak Imin tak deklarasi ke Anies, kartu Mahfud dan Khofifah belum tentu hidup lagi kan. Tetap kita yakin pertarungan akan seru,\"\" kata dia.\"'\n",
    "\n",
    "teks_array = []\n",
    "\n",
    "content_cleaned = re.sub(r'ADVERTISEMENT', '', teks1)\n",
    "content_cleaned = re.sub(r'KOMPAS.com', '', content_cleaned)\n",
    "content_cleaned = re.sub(r'[^a-zA-Z0-9\\s]+', ' ', content_cleaned)\n",
    "teks_array.append(content_cleaned)\n",
    "\n",
    "content_cleaned = re.sub(r'ADVERTISEMENT', '', teks2)\n",
    "content_cleaned = re.sub(r'KOMPAS.com', '', content_cleaned)\n",
    "content_cleaned = re.sub(r'[^a-zA-Z0-9\\s]+', ' ', content_cleaned)\n",
    "teks_array.append(content_cleaned)\n",
    "\n",
    "content_cleaned = re.sub(r'ADVERTISEMENT', '', teks3)\n",
    "content_cleaned = re.sub(r'KOMPAS.com', '', content_cleaned)\n",
    "content_cleaned = re.sub(r'[^a-zA-Z0-9\\s]+', ' ', content_cleaned)\n",
    "teks_array.append(content_cleaned)\n",
    "\n",
    "print(teks_array)"
   ]
  },
  {
   "cell_type": "code",
   "execution_count": 3,
   "metadata": {},
   "outputs": [
    {
     "name": "stdout",
     "output_type": "stream",
     "text": [
      "[' panglima tni laksamana yudo margono buka suara soal sosok ksad baru jenderal tni agus subiyanto yang disodorkan presiden ri untuk dites dpr sebagai calon penggantinya yudo yang akan pensiun itu meyakini kemampuan agus seandainya resmi memimpin tni sebagai pengganti dirinya kelak pak agus subiyanto baik  saya yakin beliau mampu untuk memimpin tni  tentunya nanti bersinergi dengan polri dan juga bisa bersama sama kepala staf yang lain untuk membawa tni yang lebih baik  lebih profesional  modern  tangguh  kata yudo di sesko tni  bandung  kamis  2 11 yudo menuturkan saat dirinya dilantik  ada beberapa agenda kegiatan besar tni yang telah disusunnya sebagai panglima  salah satunya adalah mengawal proses berjalan pemilu 2024  itu  kata dia  akan menjadi pijakan juga bagi panglima pengganti dirinya dalam perencanaan kegiatan sudah ada semuanya  yang kita susun di tahun 2023 ini dan nantinya 2024 apa saja  tentunya pemilu  berikutnya dalam operasi latihan  operasi juga tetap sekarang yang ada  latihan juga kita rancang di tahun 2024 nanti  kata yudo yang akan memasuki masa pensiun pada akhir november 2023 ini dpr telah menerima surat presiden  surpres  dari jokowi untuk menguji kepatutan dan kelayakan  fit and proper test  agus subiyanto sebagai calon panglima tni  komisi i dpr pun telah menjadwalkan uji kepatutan dan kelayakan itu bakal digelar pada 14 november mendatang yudo sendiri  saat disinggung langkah selanjutnya setelah melepas jabatan dan purnawirawan  mengaku ingin memfokuskan diri bertani sudah saya jawab  bertani  bertani kan banyak  ada bertani padi  kebun  banyak  bertani lah pokoknya   tempat bertaninya  rahasia  ujar yudo ', '    gubernur jawa timur  jatim  khofifah indar parawansa mengaku bangga dengan capaian indeks pembangunan manusia  ipm  jatim yang terus membaik hingga akhir 2023 badan pusat statistik  bps  menyebutkan  ipm jatim mencapai 74 65 per 1 desember 2023  atau meningkat 3 15 persen selama periode 2019 2023 capaian ipm jatim 2023 tersebut di atas rata rata nasional sebesar 74 39 serta provinsi besar lain di pulau jawa  yaitu jawa barat 74 24 dan jawa tengah sebesar 73 39 khofifah pun optimistis jatim akan mampu mewujudkan target sasaran visi indonesia emas sesuai rencana pembangunan jangka menengah nasional  rpjmn  2025 2045 dengan capaian ipm jatim ini  kami semakin optimis jatim akan mampu mewujudkan indonesia emas 2045  terangnya di gedung negara grahadi surabaya  senin  4 12 2023 baca juga  pakar ub dorong pemprov jatim jadi pionir penerapan kurikulum kebencanaanterkait capaian itu  khofifah mengatakan  pemerintah provinsi  pemprov  jatim menyiapkan strategi pembangunan untuk mendukung peningkatan ipm dia mencontohkan  pihaknya menjalankan strategi kesetaraan vokasional berupa program kejar paket a  b  dan c vokasi  penyediaan pendidikan gratis dan berkualitas  tis tas  hingga bantuan operasional sekolah daerah untuk madrasah diniah  bosda madin khofifah mengatakan  strategi ini tidak hanya meningkatkan rata rata lama sekolah  tetapi juga keterampilan bagi peserta kejar paket dengan menambahkan muatan vokasional dengan begitu  mereka siap secara skill untuk bekerja dan berusaha yang berdampak pula pada meningkatnya daya beli  ujarnya dalam siaran pers mantan menteri sosial  mensos  itu mengatakan  upaya pemprov jatim meningkatkan prestasi akademik dan non akademik di bidang pendidikan juga membanggakan baca juga  pakar ub dorong pemprov jatim jadi pionir penerapan kurikulum kebencanaanhal itu terlihat dari capaian sebagai juara umum tiga tahun berturut turut olimpiade sains nasional  osn  periode tahun 2020 2022 dan juara umum lomba kompetensi siswa  lks  smk tingkat nasional 2023 jatim juga menjadi provinsi dengan jumlah mahasiswa terbanyak yang diterima seleksi nasional masuk perguruan tinggi negeri  snmptn  dan seleksi bersama masuk perguruan tinggi negeri  sbmptn  selama empat tahun berturut turut  yaitu pada 2020 2023 pemprov jatim juga memiliki strategi peningkatan ipm atau human development index  hdi  terkait umur harapan hidup  uhh  dan kesehatan beberapa strategi tersebut  seperti pondok kesehatan desa  ponkesdes  puskesmas rawat inap standar  taman posyandu  pendampingan bumil risti  pencegahan stunting bagi ibu hamil  hingga tantistas  kesehatan gratis dan berkualitas strategi pemprov jatim lainnya adalah peningkatan ipm untuk standar hidup layak baca juga  khofifah sebut umk jatim 2024 adil bagi pekerja dan pengusaha ', ' ketua dpp pkb ahmad iman sukri mengklaim elektabilitas ketua umum pkb muhaimin iskandar  cak imin  sebagai bakal calon wakil presiden unggul dari gubernur jawa timur khofifah indar parawansa dan menko polhukam mahfud md di wilayah jawa timur ia mengatakan survei itu dilakukan secara internal oleh pkb melalui lembaga polmark sekitar lima bulan yang lalu kita lakukan survei seluruh indonesia  responden 70 ribu  nah  hasil survei di jatim cawapres tertinggi itu cak imin  itu polmark  kurang lebih 12 14 persen  saya lupa  baru khofifah  ada mahfud  dan lain lain  kata iman dalam podcast what the fact  politics cnn indonesia yang tayang pada jumat  29 9 selain di jatim  iman mengidentifikasi pasangan anies baswedan dan cak imin akan unggul di jakarta  sumatera  beberapa wilayah kalimantan  hingga di sulawesi ia meyakini ketua umum nasdem surya paloh dan anies memilih cak imin sebagai cawapres anies dengan pertimbangan rasional karena itu berdasarkan data survei juga  kata dia iman juga optimistis referensi politik warga nahdlatul ulama  nu  di jatim akan mengerucut ke pkb  ia mengklaim selama ini konstituen pkb merupakan warga nu karena itu  ia pun yakin konsolidasi pasangan anies cak imin makin menggumpal di jatim untuk meraih kemenangan di pilpres 2024  ia mengungkapkan nantinya anies dan cak imin makin sering keliling di jawa timur untuk sosialisasi meski sekarang survei kecil  tapi kita tak berkecil hati  kata iman nanti kita buat acara di sidoarjo  kita konsolidasi dan panaskan mesin  tambahnya selain itu  iman menghargai para bakal calon presiden lainnya kini berencana menggandeng tokoh dari nu sebagai cawapres  menurut dia  kondisi ini membuat semangat pertarungan pilpres menjadi bergairah dan lebih seru cak imin itu jadi cawapres dari kalangan nu itu hidup lagi kartunya  kalau cak imin tak deklarasi ke anies  kartu mahfud dan khofifah belum tentu hidup lagi kan  tetap kita yakin pertarungan akan seru  kata dia ']\n"
     ]
    }
   ],
   "source": [
    "teks_array_lowercase = []\n",
    "\n",
    "for teks in teks_array:\n",
    "    teks_lowercase = teks.lower()\n",
    "    teks_array_lowercase.append(teks_lowercase)\n",
    "\n",
    "print(teks_array_lowercase)"
   ]
  },
  {
   "cell_type": "code",
   "execution_count": 4,
   "metadata": {},
   "outputs": [
    {
     "name": "stdout",
     "output_type": "stream",
     "text": [
      "[' panglima tni laksamana yudo margono buka suara sosok ksad jenderal tni agus subiyanto disodorkan presiden ri dites dpr calon penggantinya yudo pensiun kemampuan agus seandainya resmi memimpin tni pengganti kelak agus subiyanto  beliau memimpin tni  bersinergi polri kepala staf membawa tni  profesional  modern  tangguh  yudo sesko tni  bandung  kamis  2 11 yudo dilantik  agenda kegiatan tni disusunnya panglima  salah satunya mengawal proses berjalan pemilu 2024    pijakan panglima pengganti perencanaan kegiatan  susun tahun 2023 2024  pemilu  operasi latihan  operasi  latihan rancang tahun 2024  yudo memasuki pensiun november 2023 dpr menerima surat presiden  surpres  jokowi menguji kepatutan kelayakan  fit and proper test  agus subiyanto calon panglima tni  komisi dpr menjadwalkan uji kepatutan kelayakan digelar 14 november yudo  disinggung langkah melepas jabatan purnawirawan  mengaku memfokuskan bertani  bertani  bertani  bertani padi  kebun   bertani pokoknya   bertaninya  rahasia  yudo ', '    gubernur jawa timur  jatim  khofifah indar parawansa mengaku bangga capaian indeks pembangunan manusia  ipm  jatim membaik 2023 badan pusat statistik  bps   ipm jatim mencapai 74 65 1 desember 2023  meningkat 3 15 persen periode 2019 2023 capaian ipm jatim 2023 rata rata nasional 74 39 provinsi pulau jawa  jawa barat 74 24 jawa tengah 73 39 khofifah optimistis jatim mewujudkan target sasaran visi indonesia emas sesuai rencana pembangunan jangka menengah nasional  rpjmn  2025 2045 capaian ipm jatim  optimis jatim mewujudkan indonesia emas 2045  terangnya gedung negara grahadi surabaya  senin  4 12 2023 baca  pakar ub dorong pemprov jatim pionir penerapan kurikulum kebencanaanterkait capaian  khofifah  pemerintah provinsi  pemprov  jatim strategi pembangunan mendukung peningkatan ipm mencontohkan  menjalankan strategi kesetaraan vokasional program kejar paket   vokasi  penyediaan pendidikan gratis berkualitas  tis tas  bantuan operasional sekolah daerah madrasah diniah  bosda madin khofifah  strategi meningkatkan rata rata sekolah  keterampilan peserta kejar paket muatan vokasional  skill berusaha berdampak meningkatnya daya beli  siaran pers mantan menteri sosial  mensos   upaya pemprov jatim meningkatkan prestasi akademik non akademik bidang pendidikan membanggakan baca  pakar ub dorong pemprov jatim pionir penerapan kurikulum kebencanaanhal capaian juara umum tahun olimpiade sains nasional  osn  periode tahun 2020 2022 juara umum lomba kompetensi siswa  lks  smk tingkat nasional 2023 jatim provinsi mahasiswa diterima seleksi nasional perguruan tinggi negeri  snmptn  seleksi perguruan tinggi negeri  sbmptn  tahun  2020 2023 pemprov jatim memiliki strategi peningkatan ipm human development index  hdi  terkait umur harapan hidup  uhh  kesehatan strategi  pondok kesehatan desa  ponkesdes  puskesmas rawat inap standar  taman posyandu  pendampingan bumil risti  pencegahan stunting hamil  tantistas  kesehatan gratis berkualitas strategi pemprov jatim peningkatan ipm standar hidup layak baca  khofifah umk jatim 2024 adil pekerja pengusaha ', ' ketua dpp pkb ahmad iman sukri mengklaim elektabilitas ketua umum pkb muhaimin iskandar  cak imin  calon wakil presiden unggul gubernur jawa timur khofifah indar parawansa menko polhukam mahfud md wilayah jawa timur survei internal pkb lembaga polmark lakukan survei indonesia  responden 70 ribu   hasil survei jatim cawapres tertinggi cak imin  polmark  12 14 persen  lupa  khofifah  mahfud   iman podcast what the fact  politics cnn indonesia tayang jumat  29 9 jatim  iman mengidentifikasi pasangan anies baswedan cak imin unggul jakarta  sumatera  wilayah kalimantan  sulawesi ketua umum nasdem surya paloh anies memilih cak imin cawapres anies pertimbangan rasional berdasarkan data survei  iman optimistis referensi politik warga nahdlatul ulama  nu  jatim mengerucut pkb  mengklaim konstituen pkb warga nu  konsolidasi pasangan anies cak imin menggumpal jatim meraih kemenangan pilpres 2024  anies cak imin keliling jawa timur sosialisasi survei  berkecil hati  iman acara sidoarjo  konsolidasi panaskan mesin   iman menghargai calon presiden berencana menggandeng tokoh nu cawapres   kondisi semangat pertarungan pilpres bergairah seru cak imin cawapres kalangan nu hidup kartunya  cak imin deklarasi anies  kartu mahfud khofifah hidup  pertarungan seru  ']\n"
     ]
    }
   ],
   "source": [
    "teks_word=[]\n",
    "for teks in teks_array_lowercase:\n",
    "    teks_to = stopword_remover.remove(teks)\n",
    "    teks_word.append(teks_to)\n",
    "    \n",
    "print(teks_word)"
   ]
  },
  {
   "cell_type": "code",
   "execution_count": 5,
   "metadata": {},
   "outputs": [
    {
     "name": "stdout",
     "output_type": "stream",
     "text": [
      "[['panglima', 'tni', 'laksamana', 'yudo', 'margono', 'buka', 'suara', 'sosok', 'ksad', 'jenderal', 'tni', 'agus', 'subiyanto', 'disodorkan', 'presiden', 'ri', 'dites', 'dpr', 'calon', 'penggantinya', 'yudo', 'pensiun', 'kemampuan', 'agus', 'seandainya', 'resmi', 'memimpin', 'tni', 'pengganti', 'kelak', 'agus', 'subiyanto', 'beliau', 'memimpin', 'tni', 'bersinergi', 'polri', 'kepala', 'staf', 'membawa', 'tni', 'profesional', 'modern', 'tangguh', 'yudo', 'sesko', 'tni', 'bandung', 'kamis', '2', '11', 'yudo', 'dilantik', 'agenda', 'kegiatan', 'tni', 'disusunnya', 'panglima', 'salah', 'satunya', 'mengawal', 'proses', 'berjalan', 'pemilu', '2024', 'pijakan', 'panglima', 'pengganti', 'perencanaan', 'kegiatan', 'susun', 'tahun', '2023', '2024', 'pemilu', 'operasi', 'latihan', 'operasi', 'latihan', 'rancang', 'tahun', '2024', 'yudo', 'memasuki', 'pensiun', 'november', '2023', 'dpr', 'menerima', 'surat', 'presiden', 'surpres', 'jokowi', 'menguji', 'kepatutan', 'kelayakan', 'fit', 'and', 'proper', 'test', 'agus', 'subiyanto', 'calon', 'panglima', 'tni', 'komisi', 'dpr', 'menjadwalkan', 'uji', 'kepatutan', 'kelayakan', 'digelar', '14', 'november', 'yudo', 'disinggung', 'langkah', 'melepas', 'jabatan', 'purnawirawan', 'mengaku', 'memfokuskan', 'bertani', 'bertani', 'bertani', 'bertani', 'padi', 'kebun', 'bertani', 'pokoknya', 'bertaninya', 'rahasia', 'yudo'], ['gubernur', 'jawa', 'timur', 'jatim', 'khofifah', 'indar', 'parawansa', 'mengaku', 'bangga', 'capaian', 'indeks', 'pembangunan', 'manusia', 'ipm', 'jatim', 'membaik', '2023', 'badan', 'pusat', 'statistik', 'bps', 'ipm', 'jatim', 'mencapai', '74', '65', '1', 'desember', '2023', 'meningkat', '3', '15', 'persen', 'periode', '2019', '2023', 'capaian', 'ipm', 'jatim', '2023', 'rata', 'rata', 'nasional', '74', '39', 'provinsi', 'pulau', 'jawa', 'jawa', 'barat', '74', '24', 'jawa', 'tengah', '73', '39', 'khofifah', 'optimistis', 'jatim', 'mewujudkan', 'target', 'sasaran', 'visi', 'indonesia', 'emas', 'sesuai', 'rencana', 'pembangunan', 'jangka', 'menengah', 'nasional', 'rpjmn', '2025', '2045', 'capaian', 'ipm', 'jatim', 'optimis', 'jatim', 'mewujudkan', 'indonesia', 'emas', '2045', 'terangnya', 'gedung', 'negara', 'grahadi', 'surabaya', 'senin', '4', '12', '2023', 'baca', 'pakar', 'ub', 'dorong', 'pemprov', 'jatim', 'pionir', 'penerapan', 'kurikulum', 'kebencanaanterkait', 'capaian', 'khofifah', 'pemerintah', 'provinsi', 'pemprov', 'jatim', 'strategi', 'pembangunan', 'mendukung', 'peningkatan', 'ipm', 'mencontohkan', 'menjalankan', 'strategi', 'kesetaraan', 'vokasional', 'program', 'kejar', 'paket', 'vokasi', 'penyediaan', 'pendidikan', 'gratis', 'berkualitas', 'tis', 'tas', 'bantuan', 'operasional', 'sekolah', 'daerah', 'madrasah', 'diniah', 'bosda', 'madin', 'khofifah', 'strategi', 'meningkatkan', 'rata', 'rata', 'sekolah', 'keterampilan', 'peserta', 'kejar', 'paket', 'muatan', 'vokasional', 'skill', 'berusaha', 'berdampak', 'meningkatnya', 'daya', 'beli', 'siaran', 'pers', 'mantan', 'menteri', 'sosial', 'mensos', 'upaya', 'pemprov', 'jatim', 'meningkatkan', 'prestasi', 'akademik', 'non', 'akademik', 'bidang', 'pendidikan', 'membanggakan', 'baca', 'pakar', 'ub', 'dorong', 'pemprov', 'jatim', 'pionir', 'penerapan', 'kurikulum', 'kebencanaanhal', 'capaian', 'juara', 'umum', 'tahun', 'olimpiade', 'sains', 'nasional', 'osn', 'periode', 'tahun', '2020', '2022', 'juara', 'umum', 'lomba', 'kompetensi', 'siswa', 'lks', 'smk', 'tingkat', 'nasional', '2023', 'jatim', 'provinsi', 'mahasiswa', 'diterima', 'seleksi', 'nasional', 'perguruan', 'tinggi', 'negeri', 'snmptn', 'seleksi', 'perguruan', 'tinggi', 'negeri', 'sbmptn', 'tahun', '2020', '2023', 'pemprov', 'jatim', 'memiliki', 'strategi', 'peningkatan', 'ipm', 'human', 'development', 'index', 'hdi', 'terkait', 'umur', 'harapan', 'hidup', 'uhh', 'kesehatan', 'strategi', 'pondok', 'kesehatan', 'desa', 'ponkesdes', 'puskesmas', 'rawat', 'inap', 'standar', 'taman', 'posyandu', 'pendampingan', 'bumil', 'risti', 'pencegahan', 'stunting', 'hamil', 'tantistas', 'kesehatan', 'gratis', 'berkualitas', 'strategi', 'pemprov', 'jatim', 'peningkatan', 'ipm', 'standar', 'hidup', 'layak', 'baca', 'khofifah', 'umk', 'jatim', '2024', 'adil', 'pekerja', 'pengusaha'], ['ketua', 'dpp', 'pkb', 'ahmad', 'iman', 'sukri', 'mengklaim', 'elektabilitas', 'ketua', 'umum', 'pkb', 'muhaimin', 'iskandar', 'cak', 'imin', 'calon', 'wakil', 'presiden', 'unggul', 'gubernur', 'jawa', 'timur', 'khofifah', 'indar', 'parawansa', 'menko', 'polhukam', 'mahfud', 'md', 'wilayah', 'jawa', 'timur', 'survei', 'internal', 'pkb', 'lembaga', 'polmark', 'lakukan', 'survei', 'indonesia', 'responden', '70', 'ribu', 'hasil', 'survei', 'jatim', 'cawapres', 'tertinggi', 'cak', 'imin', 'polmark', '12', '14', 'persen', 'lupa', 'khofifah', 'mahfud', 'iman', 'podcast', 'what', 'the', 'fact', 'politics', 'cnn', 'indonesia', 'tayang', 'jumat', '29', '9', 'jatim', 'iman', 'mengidentifikasi', 'pasangan', 'anies', 'baswedan', 'cak', 'imin', 'unggul', 'jakarta', 'sumatera', 'wilayah', 'kalimantan', 'sulawesi', 'ketua', 'umum', 'nasdem', 'surya', 'paloh', 'anies', 'memilih', 'cak', 'imin', 'cawapres', 'anies', 'pertimbangan', 'rasional', 'berdasarkan', 'data', 'survei', 'iman', 'optimistis', 'referensi', 'politik', 'warga', 'nahdlatul', 'ulama', 'nu', 'jatim', 'mengerucut', 'pkb', 'mengklaim', 'konstituen', 'pkb', 'warga', 'nu', 'konsolidasi', 'pasangan', 'anies', 'cak', 'imin', 'menggumpal', 'jatim', 'meraih', 'kemenangan', 'pilpres', '2024', 'anies', 'cak', 'imin', 'keliling', 'jawa', 'timur', 'sosialisasi', 'survei', 'berkecil', 'hati', 'iman', 'acara', 'sidoarjo', 'konsolidasi', 'panaskan', 'mesin', 'iman', 'menghargai', 'calon', 'presiden', 'berencana', 'menggandeng', 'tokoh', 'nu', 'cawapres', 'kondisi', 'semangat', 'pertarungan', 'pilpres', 'bergairah', 'seru', 'cak', 'imin', 'cawapres', 'kalangan', 'nu', 'hidup', 'kartunya', 'cak', 'imin', 'deklarasi', 'anies', 'kartu', 'mahfud', 'khofifah', 'hidup', 'pertarungan', 'seru']]\n"
     ]
    }
   ],
   "source": [
    "teks_tokenize=[]\n",
    "for teks in teks_word:\n",
    "    teks_to = word_tokenize(teks)\n",
    "    teks_tokenize.append(teks_to)\n",
    "    \n",
    "print(teks_tokenize)"
   ]
  },
  {
   "cell_type": "code",
   "execution_count": null,
   "metadata": {},
   "outputs": [],
   "source": []
  }
 ],
 "metadata": {
  "kernelspec": {
   "display_name": "env",
   "language": "python",
   "name": "python3"
  },
  "language_info": {
   "codemirror_mode": {
    "name": "ipython",
    "version": 3
   },
   "file_extension": ".py",
   "mimetype": "text/x-python",
   "name": "python",
   "nbconvert_exporter": "python",
   "pygments_lexer": "ipython3",
   "version": "3.11.5"
  }
 },
 "nbformat": 4,
 "nbformat_minor": 2
}
