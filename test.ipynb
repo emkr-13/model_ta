{
 "cells": [
  {
   "cell_type": "code",
   "execution_count": 1,
   "metadata": {},
   "outputs": [],
   "source": [
    "import pandas as pd"
   ]
  },
  {
   "cell_type": "code",
   "execution_count": 2,
   "metadata": {},
   "outputs": [
    {
     "data": {
      "text/html": [
       "<div>\n",
       "<style scoped>\n",
       "    .dataframe tbody tr th:only-of-type {\n",
       "        vertical-align: middle;\n",
       "    }\n",
       "\n",
       "    .dataframe tbody tr th {\n",
       "        vertical-align: top;\n",
       "    }\n",
       "\n",
       "    .dataframe thead th {\n",
       "        text-align: right;\n",
       "    }\n",
       "</style>\n",
       "<table border=\"1\" class=\"dataframe\">\n",
       "  <thead>\n",
       "    <tr style=\"text-align: right;\">\n",
       "      <th></th>\n",
       "      <th>title</th>\n",
       "      <th>content</th>\n",
       "      <th>tanggal_berita</th>\n",
       "      <th>content_clean</th>\n",
       "      <th>link_berita</th>\n",
       "      <th>asal_berita</th>\n",
       "      <th>sentimen</th>\n",
       "    </tr>\n",
       "  </thead>\n",
       "  <tbody>\n",
       "    <tr>\n",
       "      <th>0</th>\n",
       "      <td>Survei: PPP, Perindo, dan PSI Tak Lolos Parlemen</td>\n",
       "      <td>Hasil survei Indikator Politik Indonesia menya...</td>\n",
       "      <td>2023-10-01</td>\n",
       "      <td>hasil survei indikator politik indonesia ppp p...</td>\n",
       "      <td>https://www.cnnindonesia.com/nasional/20231001...</td>\n",
       "      <td>CNN News</td>\n",
       "      <td>positif</td>\n",
       "    </tr>\n",
       "    <tr>\n",
       "      <th>1</th>\n",
       "      <td>Megawati: Membangun Indonesia Tak Bisa Hanya d...</td>\n",
       "      <td>Ketua Umum PDIP, Megawati Soekarnoputri menyeb...</td>\n",
       "      <td>2023-10-01</td>\n",
       "      <td>ketua umum pdip megawati soekarnoputri menyebu...</td>\n",
       "      <td>https://www.cnnindonesia.com/nasional/20231001...</td>\n",
       "      <td>CNN News</td>\n",
       "      <td>positif</td>\n",
       "    </tr>\n",
       "    <tr>\n",
       "      <th>2</th>\n",
       "      <td>KPK Soal MA Cabut Aturan Koruptor Nyaleg: Biar...</td>\n",
       "      <td>Komisi Pemberantasan Korupsi (KPK) mengapresia...</td>\n",
       "      <td>2023-10-01</td>\n",
       "      <td>komisi pemberantasan korupsi kpk mengapresiasi...</td>\n",
       "      <td>https://www.cnnindonesia.com/nasional/20231001...</td>\n",
       "      <td>CNN News</td>\n",
       "      <td>negatif</td>\n",
       "    </tr>\n",
       "    <tr>\n",
       "      <th>3</th>\n",
       "      <td>Indikator: Ganjar dan Erick Thohir Capres-Cawa...</td>\n",
       "      <td>Hasil survei Indikator Politik Indonesia menun...</td>\n",
       "      <td>2023-10-01</td>\n",
       "      <td>hasil survei indikator politik indonesia ganja...</td>\n",
       "      <td>https://www.cnnindonesia.com/nasional/20231001...</td>\n",
       "      <td>CNN News</td>\n",
       "      <td>positif</td>\n",
       "    </tr>\n",
       "    <tr>\n",
       "      <th>4</th>\n",
       "      <td>Hasto Respons Usulan Guntur Sukarno Sebut Joko...</td>\n",
       "      <td>Sekretaris Jenderal PDIP Hasto Kristiyanto buk...</td>\n",
       "      <td>2023-10-01</td>\n",
       "      <td>sekretaris jenderal pdip hasto kristiyanto buk...</td>\n",
       "      <td>https://www.cnnindonesia.com/nasional/20231001...</td>\n",
       "      <td>CNN News</td>\n",
       "      <td>positif</td>\n",
       "    </tr>\n",
       "  </tbody>\n",
       "</table>\n",
       "</div>"
      ],
      "text/plain": [
       "                                               title  \\\n",
       "0   Survei: PPP, Perindo, dan PSI Tak Lolos Parlemen   \n",
       "1  Megawati: Membangun Indonesia Tak Bisa Hanya d...   \n",
       "2  KPK Soal MA Cabut Aturan Koruptor Nyaleg: Biar...   \n",
       "3  Indikator: Ganjar dan Erick Thohir Capres-Cawa...   \n",
       "4  Hasto Respons Usulan Guntur Sukarno Sebut Joko...   \n",
       "\n",
       "                                             content tanggal_berita  \\\n",
       "0  Hasil survei Indikator Politik Indonesia menya...     2023-10-01   \n",
       "1  Ketua Umum PDIP, Megawati Soekarnoputri menyeb...     2023-10-01   \n",
       "2  Komisi Pemberantasan Korupsi (KPK) mengapresia...     2023-10-01   \n",
       "3  Hasil survei Indikator Politik Indonesia menun...     2023-10-01   \n",
       "4  Sekretaris Jenderal PDIP Hasto Kristiyanto buk...     2023-10-01   \n",
       "\n",
       "                                       content_clean  \\\n",
       "0  hasil survei indikator politik indonesia ppp p...   \n",
       "1  ketua umum pdip megawati soekarnoputri menyebu...   \n",
       "2  komisi pemberantasan korupsi kpk mengapresiasi...   \n",
       "3  hasil survei indikator politik indonesia ganja...   \n",
       "4  sekretaris jenderal pdip hasto kristiyanto buk...   \n",
       "\n",
       "                                         link_berita asal_berita sentimen  \n",
       "0  https://www.cnnindonesia.com/nasional/20231001...    CNN News  positif  \n",
       "1  https://www.cnnindonesia.com/nasional/20231001...    CNN News  positif  \n",
       "2  https://www.cnnindonesia.com/nasional/20231001...    CNN News  negatif  \n",
       "3  https://www.cnnindonesia.com/nasional/20231001...    CNN News  positif  \n",
       "4  https://www.cnnindonesia.com/nasional/20231001...    CNN News  positif  "
      ]
     },
     "execution_count": 2,
     "metadata": {},
     "output_type": "execute_result"
    }
   ],
   "source": [
    "data = pd.read_csv('online_news_45000_baru.csv')\n",
    "data.head(5)"
   ]
  },
  {
   "cell_type": "code",
   "execution_count": 3,
   "metadata": {},
   "outputs": [
    {
     "name": "stdout",
     "output_type": "stream",
     "text": [
      "sentimen\n",
      "positif    17109\n",
      "negatif    17035\n",
      "netral     11469\n",
      "Name: count, dtype: int64\n"
     ]
    }
   ],
   "source": [
    "# Menghitung jumlah kemunculan setiap label sentimen\n",
    "sentiment_counts = data['sentimen'].value_counts()\n",
    "\n",
    "# Menampilkan jumlah kemunculan setiap label sentimen\n",
    "print(sentiment_counts)"
   ]
  },
  {
   "cell_type": "code",
   "execution_count": 4,
   "metadata": {},
   "outputs": [],
   "source": [
    "# sampled_data = data.groupby('sentiment').apply(lambda x: x.sample(n=5000, random_state=42) if x.name == 'positif' else x.sample(n=5000 if x.name == 'negatif' else 5000, random_state=42))\n",
    "\n",
    "# # Menggabungkan sampel-sampel menjadi DataFrame baru\n",
    "# new_data = pd.DataFrame({'content': sampled_data['content_clean'], 'sentimen': sampled_data['sentiment']})\n",
    "\n",
    "# # Menyimpan DataFrame baru ke dalam file CSV\n",
    "# new_data.to_csv('sentimen_15000.csv', index=False)\n",
    "\n",
    "# # Menampilkan jumlah kemunculan setiap label sentimen dalam DataFrame baru\n",
    "# print(new_data['sentimen'].value_counts())"
   ]
  },
  {
   "cell_type": "code",
   "execution_count": 5,
   "metadata": {},
   "outputs": [],
   "source": [
    "# from transformers import pipeline"
   ]
  },
  {
   "cell_type": "code",
   "execution_count": 6,
   "metadata": {},
   "outputs": [],
   "source": [
    "# # Use a pipeline as a high-level helper\n",
    "# # from transformers import pipeline\n",
    "\n",
    "# pipe = pipeline(\"summarization\", model=\"cahya/t5-base-indonesian-summarization-cased\")"
   ]
  },
  {
   "cell_type": "code",
   "execution_count": 7,
   "metadata": {},
   "outputs": [],
   "source": [
    "# from transformers import T5Tokenizer, T5ForConditionalGeneration\n",
    "\n",
    "# tokenizer = T5Tokenizer.from_pretrained(\"cahya/t5-base-indonesian-summarization-cased\")\n",
    "# model = T5ForConditionalGeneration.from_pretrained(\"cahya/t5-base-indonesian-summarization-cased\")\n",
    "\n",
    "# # \n",
    "# ARTICLE_TO_SUMMARIZE = \"Capres nomor urut 1 Anies Baswedan merespons tuntutan buruh yang meminta Upah Minimum Provinsi (UMP) naik 15%. Dia bercerita tentang apa yang dilakukannya saat menjadi Gubernur Jakarta.\"\"Gini, saya sampaikan ketika kami memimpin di Jakarta kenaikan UMP contohnya pada tahun 2021-2022, kami memilih menggunakan rumus yang prinsipnya keadilan,\"\" kata Anies di Jakarta Utara, Kamis (30/11/2023).Anies yang merupakan mantan Gubernur Jakarta ini mewanti-wanti jangan sampai kenaikan upah buruh tidak mencerminkan keadilan. Sebab nantinya, ketimpangan bisa muncul dari ketidakadilan.\"\"Jadi rumus itu yang kami gunakan, jangan sampai kenaikan upah buruh tidak mencerminkan rasa keadilan. Kalau tidak mencerminkan rasa keadilan, maka akan menghasilkan ketimpangan, dan ketimpangan artinya instabilitas segalanya timpang tidak akan stabil,\"\" ujarnya.Dia mengibaratkan hal tersebut seperti sebuah meja dan kursi. Apabila kaki meja atau kursi ada yang timpang, maka akan jatuh.\"\"Kalau timpang gimana jadi? Miring jatuh, jangan ada ketimpangan,\"\" ungkapnya.Hari ini para buruh mengadakan aksi mogok nasional. Presiden KSPI yang juga Presiden Partai Buruh Said Iqbal sebelumnya mengatakan aksi mogok kerja ini serentak dilakukan di seluruh kawasan industri di Indonesia, menuntut kenaikan UMP 15%. Khusus untuk di Jakarta, Said Iqbal juga meminta, agar Jakarta melakukan revisi kenaikan nilai UMP dari 3,6% mendekati 15%.\"\"Tidak masuk akal DKI naik upah sebesar 3,6% sementara di daerah sekitarnya jauh melebihi dari 3,6%. Seperti di Kota Bekasi 14,02%, Kabupaten Bekasi 13,99%, Kota Depok 12,99%, dan lainnya, sehingga UMP DKI tidak boleh lebih rendah dari Jabodetabek,\"\" kata Said Iqbal dalam siaran pers mengenai mogok nasional.\"\n",
    "\n",
    "# # generate summary\n",
    "# input_ids = tokenizer.encode(ARTICLE_TO_SUMMARIZE, return_tensors='pt')\n",
    "# summary_ids = model.generate(input_ids,\n",
    "#             min_length=20,\n",
    "#             max_length=80,\n",
    "#             num_beams=10,\n",
    "#             repetition_penalty=2.5,\n",
    "#             length_penalty=1.0,\n",
    "#             early_stopping=True,\n",
    "#             no_repeat_ngram_size=2,\n",
    "#             use_cache=True,\n",
    "#             do_sample = True,\n",
    "#             temperature = 0.8,\n",
    "#             top_k = 50,\n",
    "#             top_p = 0.95)\n",
    "\n",
    "# summary_text = tokenizer.decode(summary_ids[0], skip_special_tokens=True)\n",
    "# print(summary_text)\n"
   ]
  },
  {
   "cell_type": "code",
   "execution_count": 8,
   "metadata": {},
   "outputs": [],
   "source": [
    "# from transformers import BertTokenizer, EncoderDecoderModel\n",
    "\n",
    "# tokenizer = BertTokenizer.from_pretrained(\"cahya/bert2gpt-indonesian-summarization\")\n",
    "# tokenizer.bos_token = tokenizer.cls_token\n",
    "# tokenizer.eos_token = tokenizer.sep_token\n",
    "# model = EncoderDecoderModel.from_pretrained(\"cahya/bert2gpt-indonesian-summarization\")\n",
    "\n",
    "# # \n",
    "# ARTICLE_TO_SUMMARIZE = \"Capres nomor urut 1 Anies Baswedan merespons tuntutan buruh yang meminta Upah Minimum Provinsi (UMP) naik 15%. Dia bercerita tentang apa yang dilakukannya saat menjadi Gubernur Jakarta.\"\"Gini, saya sampaikan ketika kami memimpin di Jakarta kenaikan UMP contohnya pada tahun 2021-2022, kami memilih menggunakan rumus yang prinsipnya keadilan,\"\" kata Anies di Jakarta Utara, Kamis (30/11/2023).Anies yang merupakan mantan Gubernur Jakarta ini mewanti-wanti jangan sampai kenaikan upah buruh tidak mencerminkan keadilan. Sebab nantinya, ketimpangan bisa muncul dari ketidakadilan.\"\"Jadi rumus itu yang kami gunakan, jangan sampai kenaikan upah buruh tidak mencerminkan rasa keadilan. Kalau tidak mencerminkan rasa keadilan, maka akan menghasilkan ketimpangan, dan ketimpangan artinya instabilitas segalanya timpang tidak akan stabil,\"\" ujarnya.Dia mengibaratkan hal tersebut seperti sebuah meja dan kursi. Apabila kaki meja atau kursi ada yang timpang, maka akan jatuh.\"\"Kalau timpang gimana jadi? Miring jatuh, jangan ada ketimpangan,\"\" ungkapnya.Hari ini para buruh mengadakan aksi mogok nasional. Presiden KSPI yang juga Presiden Partai Buruh Said Iqbal sebelumnya mengatakan aksi mogok kerja ini serentak dilakukan di seluruh kawasan industri di Indonesia, menuntut kenaikan UMP 15%. Khusus untuk di Jakarta, Said Iqbal juga meminta, agar Jakarta melakukan revisi kenaikan nilai UMP dari 3,6% mendekati 15%.\"\"Tidak masuk akal DKI naik upah sebesar 3,6% sementara di daerah sekitarnya jauh melebihi dari 3,6%. Seperti di Kota Bekasi 14,02%, Kabupaten Bekasi 13,99%, Kota Depok 12,99%, dan lainnya, sehingga UMP DKI tidak boleh lebih rendah dari Jabodetabek,\"\" kata Said Iqbal dalam siaran pers mengenai mogok nasional.\"\n",
    "\n",
    "# # generate summary\n",
    "# input_ids = tokenizer.encode(ARTICLE_TO_SUMMARIZE, return_tensors='pt')\n",
    "# summary_ids = model.generate(input_ids,\n",
    "#             min_length=20,\n",
    "#             max_length=80, \n",
    "#             num_beams=10,\n",
    "#             repetition_penalty=2.5, \n",
    "#             length_penalty=1.0, \n",
    "#             early_stopping=True,\n",
    "#             no_repeat_ngram_size=2,\n",
    "#             use_cache=True,\n",
    "#             do_sample = True,\n",
    "#             temperature = 0.8,\n",
    "#             top_k = 50,\n",
    "#             top_p = 0.95)\n",
    "\n",
    "# summary_text = tokenizer.decode(summary_ids[0], skip_special_tokens=True)\n",
    "# print(summary_text)\n"
   ]
  }
 ],
 "metadata": {
  "kernelspec": {
   "display_name": "env",
   "language": "python",
   "name": "python3"
  },
  "language_info": {
   "codemirror_mode": {
    "name": "ipython",
    "version": 3
   },
   "file_extension": ".py",
   "mimetype": "text/x-python",
   "name": "python",
   "nbconvert_exporter": "python",
   "pygments_lexer": "ipython3",
   "version": "3.11.5"
  }
 },
 "nbformat": 4,
 "nbformat_minor": 2
}
