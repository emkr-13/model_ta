{
 "cells": [
  {
   "cell_type": "code",
   "execution_count": 1,
   "metadata": {},
   "outputs": [],
   "source": [
    "import pandas as pd"
   ]
  },
  {
   "cell_type": "code",
   "execution_count": 2,
   "metadata": {},
   "outputs": [
    {
     "data": {
      "text/html": [
       "<div>\n",
       "<style scoped>\n",
       "    .dataframe tbody tr th:only-of-type {\n",
       "        vertical-align: middle;\n",
       "    }\n",
       "\n",
       "    .dataframe tbody tr th {\n",
       "        vertical-align: top;\n",
       "    }\n",
       "\n",
       "    .dataframe thead th {\n",
       "        text-align: right;\n",
       "    }\n",
       "</style>\n",
       "<table border=\"1\" class=\"dataframe\">\n",
       "  <thead>\n",
       "    <tr style=\"text-align: right;\">\n",
       "      <th></th>\n",
       "      <th>title</th>\n",
       "      <th>content</th>\n",
       "      <th>tanggal_berita</th>\n",
       "      <th>content_clean</th>\n",
       "      <th>link_berita</th>\n",
       "      <th>asal_berita</th>\n",
       "      <th>sentimen</th>\n",
       "    </tr>\n",
       "  </thead>\n",
       "  <tbody>\n",
       "    <tr>\n",
       "      <th>0</th>\n",
       "      <td>PAN x JakCloth! Pesta Anak Nongkrong Sambangi ...</td>\n",
       "      <td>Kumaha barudak? Well!Yuk ramaikan Pesta Anak N...</td>\n",
       "      <td>10-11-2023</td>\n",
       "      <td>kumaha barudak well yuk ramaikan pesta anak no...</td>\n",
       "      <td>https://20.detik.com/advertorial/20231109-2311...</td>\n",
       "      <td>Detik News</td>\n",
       "      <td>netral</td>\n",
       "    </tr>\n",
       "    <tr>\n",
       "      <th>1</th>\n",
       "      <td>Strategi Sleman Dorong Ekonomi Pakai Batik dan...</td>\n",
       "      <td>Kustini Sri Purnomo memiliki strategi jitu unt...</td>\n",
       "      <td>04-12-2023</td>\n",
       "      <td>kustini sri purnomo memiliki strategi jitu men...</td>\n",
       "      <td>https://20.detik.com/blak-blakan/20231204-2312...</td>\n",
       "      <td>Detik News</td>\n",
       "      <td>netral</td>\n",
       "    </tr>\n",
       "    <tr>\n",
       "      <th>2</th>\n",
       "      <td>Greysia Polii Ajak Anak Muda Terus Melangkah R...</td>\n",
       "      <td>Peraih Emas Olimpiade Tokyo, Greysia Polii bic...</td>\n",
       "      <td>27-10-2023</td>\n",
       "      <td>peraih emas olimpiade tokyo greysia polii bica...</td>\n",
       "      <td>https://20.detik.com/demi-indonesia/20231027-2...</td>\n",
       "      <td>Detik News</td>\n",
       "      <td>netral</td>\n",
       "    </tr>\n",
       "    <tr>\n",
       "      <th>3</th>\n",
       "      <td>Kapolri Bicara Arti Sumpah Pemuda di #DemiIndo...</td>\n",
       "      <td>Kapolri Jenderal Lisyto Sigit Prabowo bicara a...</td>\n",
       "      <td>27-10-2023</td>\n",
       "      <td>kapolri jenderal lisyto sigit prabowo bicara s...</td>\n",
       "      <td>https://20.detik.com/demi-indonesia/20231027-2...</td>\n",
       "      <td>Detik News</td>\n",
       "      <td>positif</td>\n",
       "    </tr>\n",
       "    <tr>\n",
       "      <th>4</th>\n",
       "      <td>Erick Thohir Ajak Muda untuk Tak Mager Demi In...</td>\n",
       "      <td>Menteri BUMN, Erick Thohir bicara bangsa Indon...</td>\n",
       "      <td>27-10-2023</td>\n",
       "      <td>menteri bumn erick thohir bicara bangsa indone...</td>\n",
       "      <td>https://20.detik.com/demi-indonesia/20231027-2...</td>\n",
       "      <td>Detik News</td>\n",
       "      <td>positif</td>\n",
       "    </tr>\n",
       "  </tbody>\n",
       "</table>\n",
       "</div>"
      ],
      "text/plain": [
       "                                               title  \\\n",
       "0  PAN x JakCloth! Pesta Anak Nongkrong Sambangi ...   \n",
       "1  Strategi Sleman Dorong Ekonomi Pakai Batik dan...   \n",
       "2  Greysia Polii Ajak Anak Muda Terus Melangkah R...   \n",
       "3  Kapolri Bicara Arti Sumpah Pemuda di #DemiIndo...   \n",
       "4  Erick Thohir Ajak Muda untuk Tak Mager Demi In...   \n",
       "\n",
       "                                             content tanggal_berita  \\\n",
       "0  Kumaha barudak? Well!Yuk ramaikan Pesta Anak N...     10-11-2023   \n",
       "1  Kustini Sri Purnomo memiliki strategi jitu unt...     04-12-2023   \n",
       "2  Peraih Emas Olimpiade Tokyo, Greysia Polii bic...     27-10-2023   \n",
       "3  Kapolri Jenderal Lisyto Sigit Prabowo bicara a...     27-10-2023   \n",
       "4  Menteri BUMN, Erick Thohir bicara bangsa Indon...     27-10-2023   \n",
       "\n",
       "                                       content_clean  \\\n",
       "0  kumaha barudak well yuk ramaikan pesta anak no...   \n",
       "1  kustini sri purnomo memiliki strategi jitu men...   \n",
       "2  peraih emas olimpiade tokyo greysia polii bica...   \n",
       "3  kapolri jenderal lisyto sigit prabowo bicara s...   \n",
       "4  menteri bumn erick thohir bicara bangsa indone...   \n",
       "\n",
       "                                         link_berita asal_berita sentimen  \n",
       "0  https://20.detik.com/advertorial/20231109-2311...  Detik News   netral  \n",
       "1  https://20.detik.com/blak-blakan/20231204-2312...  Detik News   netral  \n",
       "2  https://20.detik.com/demi-indonesia/20231027-2...  Detik News   netral  \n",
       "3  https://20.detik.com/demi-indonesia/20231027-2...  Detik News  positif  \n",
       "4  https://20.detik.com/demi-indonesia/20231027-2...  Detik News  positif  "
      ]
     },
     "execution_count": 2,
     "metadata": {},
     "output_type": "execute_result"
    }
   ],
   "source": [
    "data = pd.read_csv('online_news_50000_baru.csv')\n",
    "data.head(5)"
   ]
  },
  {
   "cell_type": "code",
   "execution_count": 3,
   "metadata": {},
   "outputs": [
    {
     "name": "stdout",
     "output_type": "stream",
     "text": [
      "sentimen\n",
      "negatif    21397\n",
      "positif    18280\n",
      "netral     11690\n",
      "Name: count, dtype: int64\n"
     ]
    }
   ],
   "source": [
    "# Menghitung jumlah kemunculan setiap label sentimen\n",
    "sentiment_counts = data['sentimen'].value_counts()\n",
    "\n",
    "# Menampilkan jumlah kemunculan setiap label sentimen\n",
    "print(sentiment_counts)"
   ]
  },
  {
   "cell_type": "code",
   "execution_count": 4,
   "metadata": {},
   "outputs": [],
   "source": [
    "# sampled_data = data.groupby('sentiment').apply(lambda x: x.sample(n=5000, random_state=42) if x.name == 'positif' else x.sample(n=5000 if x.name == 'negatif' else 5000, random_state=42))\n",
    "\n",
    "# # Menggabungkan sampel-sampel menjadi DataFrame baru\n",
    "# new_data = pd.DataFrame({'content': sampled_data['content_clean'], 'sentimen': sampled_data['sentiment']})\n",
    "\n",
    "# # Menyimpan DataFrame baru ke dalam file CSV\n",
    "# new_data.to_csv('sentimen_15000.csv', index=False)\n",
    "\n",
    "# # Menampilkan jumlah kemunculan setiap label sentimen dalam DataFrame baru\n",
    "# print(new_data['sentimen'].value_counts())"
   ]
  },
  {
   "cell_type": "code",
   "execution_count": 5,
   "metadata": {},
   "outputs": [],
   "source": [
    "# from transformers import pipeline"
   ]
  },
  {
   "cell_type": "code",
   "execution_count": 6,
   "metadata": {},
   "outputs": [],
   "source": [
    "# # Use a pipeline as a high-level helper\n",
    "# # from transformers import pipeline\n",
    "\n",
    "# pipe = pipeline(\"summarization\", model=\"cahya/t5-base-indonesian-summarization-cased\")"
   ]
  },
  {
   "cell_type": "code",
   "execution_count": 7,
   "metadata": {},
   "outputs": [],
   "source": [
    "# from transformers import T5Tokenizer, T5ForConditionalGeneration\n",
    "\n",
    "# tokenizer = T5Tokenizer.from_pretrained(\"cahya/t5-base-indonesian-summarization-cased\")\n",
    "# model = T5ForConditionalGeneration.from_pretrained(\"cahya/t5-base-indonesian-summarization-cased\")\n",
    "\n",
    "# # \n",
    "# ARTICLE_TO_SUMMARIZE = \"Capres nomor urut 1 Anies Baswedan merespons tuntutan buruh yang meminta Upah Minimum Provinsi (UMP) naik 15%. Dia bercerita tentang apa yang dilakukannya saat menjadi Gubernur Jakarta.\"\"Gini, saya sampaikan ketika kami memimpin di Jakarta kenaikan UMP contohnya pada tahun 2021-2022, kami memilih menggunakan rumus yang prinsipnya keadilan,\"\" kata Anies di Jakarta Utara, Kamis (30/11/2023).Anies yang merupakan mantan Gubernur Jakarta ini mewanti-wanti jangan sampai kenaikan upah buruh tidak mencerminkan keadilan. Sebab nantinya, ketimpangan bisa muncul dari ketidakadilan.\"\"Jadi rumus itu yang kami gunakan, jangan sampai kenaikan upah buruh tidak mencerminkan rasa keadilan. Kalau tidak mencerminkan rasa keadilan, maka akan menghasilkan ketimpangan, dan ketimpangan artinya instabilitas segalanya timpang tidak akan stabil,\"\" ujarnya.Dia mengibaratkan hal tersebut seperti sebuah meja dan kursi. Apabila kaki meja atau kursi ada yang timpang, maka akan jatuh.\"\"Kalau timpang gimana jadi? Miring jatuh, jangan ada ketimpangan,\"\" ungkapnya.Hari ini para buruh mengadakan aksi mogok nasional. Presiden KSPI yang juga Presiden Partai Buruh Said Iqbal sebelumnya mengatakan aksi mogok kerja ini serentak dilakukan di seluruh kawasan industri di Indonesia, menuntut kenaikan UMP 15%. Khusus untuk di Jakarta, Said Iqbal juga meminta, agar Jakarta melakukan revisi kenaikan nilai UMP dari 3,6% mendekati 15%.\"\"Tidak masuk akal DKI naik upah sebesar 3,6% sementara di daerah sekitarnya jauh melebihi dari 3,6%. Seperti di Kota Bekasi 14,02%, Kabupaten Bekasi 13,99%, Kota Depok 12,99%, dan lainnya, sehingga UMP DKI tidak boleh lebih rendah dari Jabodetabek,\"\" kata Said Iqbal dalam siaran pers mengenai mogok nasional.\"\n",
    "\n",
    "# # generate summary\n",
    "# input_ids = tokenizer.encode(ARTICLE_TO_SUMMARIZE, return_tensors='pt')\n",
    "# summary_ids = model.generate(input_ids,\n",
    "#             min_length=20,\n",
    "#             max_length=80,\n",
    "#             num_beams=10,\n",
    "#             repetition_penalty=2.5,\n",
    "#             length_penalty=1.0,\n",
    "#             early_stopping=True,\n",
    "#             no_repeat_ngram_size=2,\n",
    "#             use_cache=True,\n",
    "#             do_sample = True,\n",
    "#             temperature = 0.8,\n",
    "#             top_k = 50,\n",
    "#             top_p = 0.95)\n",
    "\n",
    "# summary_text = tokenizer.decode(summary_ids[0], skip_special_tokens=True)\n",
    "# print(summary_text)\n"
   ]
  },
  {
   "cell_type": "code",
   "execution_count": 8,
   "metadata": {},
   "outputs": [],
   "source": [
    "# from transformers import BertTokenizer, EncoderDecoderModel\n",
    "\n",
    "# tokenizer = BertTokenizer.from_pretrained(\"cahya/bert2gpt-indonesian-summarization\")\n",
    "# tokenizer.bos_token = tokenizer.cls_token\n",
    "# tokenizer.eos_token = tokenizer.sep_token\n",
    "# model = EncoderDecoderModel.from_pretrained(\"cahya/bert2gpt-indonesian-summarization\")\n",
    "\n",
    "# # \n",
    "# ARTICLE_TO_SUMMARIZE = \"Capres nomor urut 1 Anies Baswedan merespons tuntutan buruh yang meminta Upah Minimum Provinsi (UMP) naik 15%. Dia bercerita tentang apa yang dilakukannya saat menjadi Gubernur Jakarta.\"\"Gini, saya sampaikan ketika kami memimpin di Jakarta kenaikan UMP contohnya pada tahun 2021-2022, kami memilih menggunakan rumus yang prinsipnya keadilan,\"\" kata Anies di Jakarta Utara, Kamis (30/11/2023).Anies yang merupakan mantan Gubernur Jakarta ini mewanti-wanti jangan sampai kenaikan upah buruh tidak mencerminkan keadilan. Sebab nantinya, ketimpangan bisa muncul dari ketidakadilan.\"\"Jadi rumus itu yang kami gunakan, jangan sampai kenaikan upah buruh tidak mencerminkan rasa keadilan. Kalau tidak mencerminkan rasa keadilan, maka akan menghasilkan ketimpangan, dan ketimpangan artinya instabilitas segalanya timpang tidak akan stabil,\"\" ujarnya.Dia mengibaratkan hal tersebut seperti sebuah meja dan kursi. Apabila kaki meja atau kursi ada yang timpang, maka akan jatuh.\"\"Kalau timpang gimana jadi? Miring jatuh, jangan ada ketimpangan,\"\" ungkapnya.Hari ini para buruh mengadakan aksi mogok nasional. Presiden KSPI yang juga Presiden Partai Buruh Said Iqbal sebelumnya mengatakan aksi mogok kerja ini serentak dilakukan di seluruh kawasan industri di Indonesia, menuntut kenaikan UMP 15%. Khusus untuk di Jakarta, Said Iqbal juga meminta, agar Jakarta melakukan revisi kenaikan nilai UMP dari 3,6% mendekati 15%.\"\"Tidak masuk akal DKI naik upah sebesar 3,6% sementara di daerah sekitarnya jauh melebihi dari 3,6%. Seperti di Kota Bekasi 14,02%, Kabupaten Bekasi 13,99%, Kota Depok 12,99%, dan lainnya, sehingga UMP DKI tidak boleh lebih rendah dari Jabodetabek,\"\" kata Said Iqbal dalam siaran pers mengenai mogok nasional.\"\n",
    "\n",
    "# # generate summary\n",
    "# input_ids = tokenizer.encode(ARTICLE_TO_SUMMARIZE, return_tensors='pt')\n",
    "# summary_ids = model.generate(input_ids,\n",
    "#             min_length=20,\n",
    "#             max_length=80, \n",
    "#             num_beams=10,\n",
    "#             repetition_penalty=2.5, \n",
    "#             length_penalty=1.0, \n",
    "#             early_stopping=True,\n",
    "#             no_repeat_ngram_size=2,\n",
    "#             use_cache=True,\n",
    "#             do_sample = True,\n",
    "#             temperature = 0.8,\n",
    "#             top_k = 50,\n",
    "#             top_p = 0.95)\n",
    "\n",
    "# summary_text = tokenizer.decode(summary_ids[0], skip_special_tokens=True)\n",
    "# print(summary_text)\n"
   ]
  }
 ],
 "metadata": {
  "kernelspec": {
   "display_name": "env",
   "language": "python",
   "name": "python3"
  },
  "language_info": {
   "codemirror_mode": {
    "name": "ipython",
    "version": 3
   },
   "file_extension": ".py",
   "mimetype": "text/x-python",
   "name": "python",
   "nbconvert_exporter": "python",
   "pygments_lexer": "ipython3",
   "version": "3.11.5"
  }
 },
 "nbformat": 4,
 "nbformat_minor": 2
}
