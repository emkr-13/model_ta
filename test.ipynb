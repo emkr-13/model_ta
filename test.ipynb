{
 "cells": [
  {
   "cell_type": "code",
   "execution_count": 1,
   "metadata": {},
   "outputs": [],
   "source": [
    "import pandas as pd\n"
   ]
  },
  {
   "cell_type": "code",
   "execution_count": 2,
   "metadata": {},
   "outputs": [
    {
     "name": "stderr",
     "output_type": "stream",
     "text": [
      "2024-04-18 16:58:04.043696: I tensorflow/core/platform/cpu_feature_guard.cc:210] This TensorFlow binary is optimized to use available CPU instructions in performance-critical operations.\n",
      "To enable the following instructions: AVX2 FMA, in other operations, rebuild TensorFlow with the appropriate compiler flags.\n",
      "2024-04-18 16:58:05.217526: W tensorflow/compiler/tf2tensorrt/utils/py_utils.cc:38] TF-TRT Warning: Could not find TensorRT\n"
     ]
    }
   ],
   "source": [
    "from transformers import pipeline"
   ]
  },
  {
   "cell_type": "code",
   "execution_count": 3,
   "metadata": {},
   "outputs": [],
   "source": [
    "# # Use a pipeline as a high-level helper\n",
    "# # from transformers import pipeline\n",
    "\n",
    "# pipe = pipeline(\"summarization\", model=\"cahya/t5-base-indonesian-summarization-cased\")"
   ]
  },
  {
   "cell_type": "code",
   "execution_count": 4,
   "metadata": {},
   "outputs": [],
   "source": [
    "# from transformers import T5Tokenizer, T5ForConditionalGeneration\n",
    "\n",
    "# tokenizer = T5Tokenizer.from_pretrained(\"cahya/t5-base-indonesian-summarization-cased\")\n",
    "# model = T5ForConditionalGeneration.from_pretrained(\"cahya/t5-base-indonesian-summarization-cased\")\n",
    "\n",
    "# # \n",
    "# ARTICLE_TO_SUMMARIZE = \"Capres nomor urut 1 Anies Baswedan merespons tuntutan buruh yang meminta Upah Minimum Provinsi (UMP) naik 15%. Dia bercerita tentang apa yang dilakukannya saat menjadi Gubernur Jakarta.\"\"Gini, saya sampaikan ketika kami memimpin di Jakarta kenaikan UMP contohnya pada tahun 2021-2022, kami memilih menggunakan rumus yang prinsipnya keadilan,\"\" kata Anies di Jakarta Utara, Kamis (30/11/2023).Anies yang merupakan mantan Gubernur Jakarta ini mewanti-wanti jangan sampai kenaikan upah buruh tidak mencerminkan keadilan. Sebab nantinya, ketimpangan bisa muncul dari ketidakadilan.\"\"Jadi rumus itu yang kami gunakan, jangan sampai kenaikan upah buruh tidak mencerminkan rasa keadilan. Kalau tidak mencerminkan rasa keadilan, maka akan menghasilkan ketimpangan, dan ketimpangan artinya instabilitas segalanya timpang tidak akan stabil,\"\" ujarnya.Dia mengibaratkan hal tersebut seperti sebuah meja dan kursi. Apabila kaki meja atau kursi ada yang timpang, maka akan jatuh.\"\"Kalau timpang gimana jadi? Miring jatuh, jangan ada ketimpangan,\"\" ungkapnya.Hari ini para buruh mengadakan aksi mogok nasional. Presiden KSPI yang juga Presiden Partai Buruh Said Iqbal sebelumnya mengatakan aksi mogok kerja ini serentak dilakukan di seluruh kawasan industri di Indonesia, menuntut kenaikan UMP 15%. Khusus untuk di Jakarta, Said Iqbal juga meminta, agar Jakarta melakukan revisi kenaikan nilai UMP dari 3,6% mendekati 15%.\"\"Tidak masuk akal DKI naik upah sebesar 3,6% sementara di daerah sekitarnya jauh melebihi dari 3,6%. Seperti di Kota Bekasi 14,02%, Kabupaten Bekasi 13,99%, Kota Depok 12,99%, dan lainnya, sehingga UMP DKI tidak boleh lebih rendah dari Jabodetabek,\"\" kata Said Iqbal dalam siaran pers mengenai mogok nasional.\"\n",
    "\n",
    "# # generate summary\n",
    "# input_ids = tokenizer.encode(ARTICLE_TO_SUMMARIZE, return_tensors='pt')\n",
    "# summary_ids = model.generate(input_ids,\n",
    "#             min_length=20,\n",
    "#             max_length=80,\n",
    "#             num_beams=10,\n",
    "#             repetition_penalty=2.5,\n",
    "#             length_penalty=1.0,\n",
    "#             early_stopping=True,\n",
    "#             no_repeat_ngram_size=2,\n",
    "#             use_cache=True,\n",
    "#             do_sample = True,\n",
    "#             temperature = 0.8,\n",
    "#             top_k = 50,\n",
    "#             top_p = 0.95)\n",
    "\n",
    "# summary_text = tokenizer.decode(summary_ids[0], skip_special_tokens=True)\n",
    "# print(summary_text)\n"
   ]
  },
  {
   "cell_type": "code",
   "execution_count": 5,
   "metadata": {},
   "outputs": [
    {
     "name": "stdout",
     "output_type": "stream",
     "text": [
      "capres nomor urut 1 gubernur dki jakarta fauzi bowi mewanti - wanti jangan sampai kenaikan upah buruh tidak mencerminkan keadilan. dia mengibaratkan hal tersebut seperti sebuah meja dan kursi.\n"
     ]
    }
   ],
   "source": [
    "from transformers import BertTokenizer, EncoderDecoderModel\n",
    "\n",
    "tokenizer = BertTokenizer.from_pretrained(\"cahya/bert2gpt-indonesian-summarization\")\n",
    "tokenizer.bos_token = tokenizer.cls_token\n",
    "tokenizer.eos_token = tokenizer.sep_token\n",
    "model = EncoderDecoderModel.from_pretrained(\"cahya/bert2gpt-indonesian-summarization\")\n",
    "\n",
    "# \n",
    "ARTICLE_TO_SUMMARIZE = \"Capres nomor urut 1 Anies Baswedan merespons tuntutan buruh yang meminta Upah Minimum Provinsi (UMP) naik 15%. Dia bercerita tentang apa yang dilakukannya saat menjadi Gubernur Jakarta.\"\"Gini, saya sampaikan ketika kami memimpin di Jakarta kenaikan UMP contohnya pada tahun 2021-2022, kami memilih menggunakan rumus yang prinsipnya keadilan,\"\" kata Anies di Jakarta Utara, Kamis (30/11/2023).Anies yang merupakan mantan Gubernur Jakarta ini mewanti-wanti jangan sampai kenaikan upah buruh tidak mencerminkan keadilan. Sebab nantinya, ketimpangan bisa muncul dari ketidakadilan.\"\"Jadi rumus itu yang kami gunakan, jangan sampai kenaikan upah buruh tidak mencerminkan rasa keadilan. Kalau tidak mencerminkan rasa keadilan, maka akan menghasilkan ketimpangan, dan ketimpangan artinya instabilitas segalanya timpang tidak akan stabil,\"\" ujarnya.Dia mengibaratkan hal tersebut seperti sebuah meja dan kursi. Apabila kaki meja atau kursi ada yang timpang, maka akan jatuh.\"\"Kalau timpang gimana jadi? Miring jatuh, jangan ada ketimpangan,\"\" ungkapnya.Hari ini para buruh mengadakan aksi mogok nasional. Presiden KSPI yang juga Presiden Partai Buruh Said Iqbal sebelumnya mengatakan aksi mogok kerja ini serentak dilakukan di seluruh kawasan industri di Indonesia, menuntut kenaikan UMP 15%. Khusus untuk di Jakarta, Said Iqbal juga meminta, agar Jakarta melakukan revisi kenaikan nilai UMP dari 3,6% mendekati 15%.\"\"Tidak masuk akal DKI naik upah sebesar 3,6% sementara di daerah sekitarnya jauh melebihi dari 3,6%. Seperti di Kota Bekasi 14,02%, Kabupaten Bekasi 13,99%, Kota Depok 12,99%, dan lainnya, sehingga UMP DKI tidak boleh lebih rendah dari Jabodetabek,\"\" kata Said Iqbal dalam siaran pers mengenai mogok nasional.\"\n",
    "\n",
    "# generate summary\n",
    "input_ids = tokenizer.encode(ARTICLE_TO_SUMMARIZE, return_tensors='pt')\n",
    "summary_ids = model.generate(input_ids,\n",
    "            min_length=20,\n",
    "            max_length=80, \n",
    "            num_beams=10,\n",
    "            repetition_penalty=2.5, \n",
    "            length_penalty=1.0, \n",
    "            early_stopping=True,\n",
    "            no_repeat_ngram_size=2,\n",
    "            use_cache=True,\n",
    "            do_sample = True,\n",
    "            temperature = 0.8,\n",
    "            top_k = 50,\n",
    "            top_p = 0.95)\n",
    "\n",
    "summary_text = tokenizer.decode(summary_ids[0], skip_special_tokens=True)\n",
    "print(summary_text)\n"
   ]
  }
 ],
 "metadata": {
  "kernelspec": {
   "display_name": "env",
   "language": "python",
   "name": "python3"
  },
  "language_info": {
   "codemirror_mode": {
    "name": "ipython",
    "version": 3
   },
   "file_extension": ".py",
   "mimetype": "text/x-python",
   "name": "python",
   "nbconvert_exporter": "python",
   "pygments_lexer": "ipython3",
   "version": "3.11.5"
  }
 },
 "nbformat": 4,
 "nbformat_minor": 2
}
