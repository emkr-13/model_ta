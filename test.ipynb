{
 "cells": [
  {
   "cell_type": "code",
   "execution_count": 1,
   "metadata": {},
   "outputs": [],
   "source": [
    "import pandas as pd\n"
   ]
  },
  {
   "cell_type": "code",
   "execution_count": 2,
   "metadata": {},
   "outputs": [
    {
     "data": {
      "text/html": [
       "<div>\n",
       "<style scoped>\n",
       "    .dataframe tbody tr th:only-of-type {\n",
       "        vertical-align: middle;\n",
       "    }\n",
       "\n",
       "    .dataframe tbody tr th {\n",
       "        vertical-align: top;\n",
       "    }\n",
       "\n",
       "    .dataframe thead th {\n",
       "        text-align: right;\n",
       "    }\n",
       "</style>\n",
       "<table border=\"1\" class=\"dataframe\">\n",
       "  <thead>\n",
       "    <tr style=\"text-align: right;\">\n",
       "      <th></th>\n",
       "      <th>title</th>\n",
       "      <th>content</th>\n",
       "      <th>news_published_at</th>\n",
       "      <th>content_clean</th>\n",
       "      <th>url</th>\n",
       "      <th>asal_berita</th>\n",
       "    </tr>\n",
       "  </thead>\n",
       "  <tbody>\n",
       "    <tr>\n",
       "      <th>0</th>\n",
       "      <td>Bagaimana 36 Bayi Prematur Bertahan Hidup di R...</td>\n",
       "      <td>\"Ada 36 bayi prematur yang selamat. Semestinya...</td>\n",
       "      <td>2023-11-18</td>\n",
       "      <td>36 bayi prematur selamat semestinya 39 bayi ke...</td>\n",
       "      <td>https://news.detik.com/bbc-world/d-7044173/bag...</td>\n",
       "      <td>Detik News</td>\n",
       "    </tr>\n",
       "    <tr>\n",
       "      <th>1</th>\n",
       "      <td>Perjuangan Ibu Buruh Tani dengan Kaki Tak Semp...</td>\n",
       "      <td>\"Alhamdulillah. Habis bagaimana ya tuntutan hi...</td>\n",
       "      <td>2023-10-03</td>\n",
       "      <td>alhamdulillah habis tuntutan hidup tuntutan me...</td>\n",
       "      <td>https://news.detik.com/berita/d-6962397/perjua...</td>\n",
       "      <td>Detik News</td>\n",
       "    </tr>\n",
       "    <tr>\n",
       "      <th>2</th>\n",
       "      <td>Capres Mental Tempe, Nuklir dan Mimpi Swasemba...</td>\n",
       "      <td>\"Anda dari Indonesia?'\"Betul.\"\"Makan tempe?\"\"S...</td>\n",
       "      <td>2023-12-27</td>\n",
       "      <td>indonesia makan tempe suka kaitan tempe nuklir...</td>\n",
       "      <td>https://www.cnnindonesia.com/nasional/20231221...</td>\n",
       "      <td>CNN News</td>\n",
       "    </tr>\n",
       "    <tr>\n",
       "      <th>3</th>\n",
       "      <td>Tokyo Film Festival 2023: Wim Wenders, Sushi, ...</td>\n",
       "      <td>\"Beberapa waktu lalu, saya bermimpi. Saya berm...</td>\n",
       "      <td>2023-10-29</td>\n",
       "      <td>waktu bermimpi bermimpi film jepang bermimpi m...</td>\n",
       "      <td>https://news.detik.com/kolom/d-7005719/tokyo-f...</td>\n",
       "      <td>Detik News</td>\n",
       "    </tr>\n",
       "    <tr>\n",
       "      <th>4</th>\n",
       "      <td>Membayar Utang Kota pada Anak</td>\n",
       "      <td>\"Dorong anak Anda untuk memiliki kaki yang ber...</td>\n",
       "      <td>2023-11-10</td>\n",
       "      <td>dorong anak memiliki kaki berlumpur berumput b...</td>\n",
       "      <td>https://news.detik.com/kolom/d-7029564/membaya...</td>\n",
       "      <td>Detik News</td>\n",
       "    </tr>\n",
       "  </tbody>\n",
       "</table>\n",
       "</div>"
      ],
      "text/plain": [
       "                                               title  \\\n",
       "0  Bagaimana 36 Bayi Prematur Bertahan Hidup di R...   \n",
       "1  Perjuangan Ibu Buruh Tani dengan Kaki Tak Semp...   \n",
       "2  Capres Mental Tempe, Nuklir dan Mimpi Swasemba...   \n",
       "3  Tokyo Film Festival 2023: Wim Wenders, Sushi, ...   \n",
       "4                      Membayar Utang Kota pada Anak   \n",
       "\n",
       "                                             content news_published_at  \\\n",
       "0  \"Ada 36 bayi prematur yang selamat. Semestinya...        2023-11-18   \n",
       "1  \"Alhamdulillah. Habis bagaimana ya tuntutan hi...        2023-10-03   \n",
       "2  \"Anda dari Indonesia?'\"Betul.\"\"Makan tempe?\"\"S...        2023-12-27   \n",
       "3  \"Beberapa waktu lalu, saya bermimpi. Saya berm...        2023-10-29   \n",
       "4  \"Dorong anak Anda untuk memiliki kaki yang ber...        2023-11-10   \n",
       "\n",
       "                                       content_clean  \\\n",
       "0  36 bayi prematur selamat semestinya 39 bayi ke...   \n",
       "1  alhamdulillah habis tuntutan hidup tuntutan me...   \n",
       "2  indonesia makan tempe suka kaitan tempe nuklir...   \n",
       "3  waktu bermimpi bermimpi film jepang bermimpi m...   \n",
       "4  dorong anak memiliki kaki berlumpur berumput b...   \n",
       "\n",
       "                                                 url asal_berita  \n",
       "0  https://news.detik.com/bbc-world/d-7044173/bag...  Detik News  \n",
       "1  https://news.detik.com/berita/d-6962397/perjua...  Detik News  \n",
       "2  https://www.cnnindonesia.com/nasional/20231221...    CNN News  \n",
       "3  https://news.detik.com/kolom/d-7005719/tokyo-f...  Detik News  \n",
       "4  https://news.detik.com/kolom/d-7029564/membaya...  Detik News  "
      ]
     },
     "execution_count": 2,
     "metadata": {},
     "output_type": "execute_result"
    }
   ],
   "source": [
    "data = pd.read_csv('online_news_all_clean.csv')\n",
    "data.head(5)"
   ]
  },
  {
   "cell_type": "code",
   "execution_count": 2,
   "metadata": {},
   "outputs": [
    {
     "name": "stderr",
     "output_type": "stream",
     "text": [
      "2024-04-18 16:58:04.043696: I tensorflow/core/platform/cpu_feature_guard.cc:210] This TensorFlow binary is optimized to use available CPU instructions in performance-critical operations.\n",
      "To enable the following instructions: AVX2 FMA, in other operations, rebuild TensorFlow with the appropriate compiler flags.\n",
      "2024-04-18 16:58:05.217526: W tensorflow/compiler/tf2tensorrt/utils/py_utils.cc:38] TF-TRT Warning: Could not find TensorRT\n"
     ]
    }
   ],
   "source": [
    "# from transformers import pipeline"
   ]
  },
  {
   "cell_type": "code",
   "execution_count": 3,
   "metadata": {},
   "outputs": [],
   "source": [
    "# # Use a pipeline as a high-level helper\n",
    "# # from transformers import pipeline\n",
    "\n",
    "# pipe = pipeline(\"summarization\", model=\"cahya/t5-base-indonesian-summarization-cased\")"
   ]
  },
  {
   "cell_type": "code",
   "execution_count": 4,
   "metadata": {},
   "outputs": [],
   "source": [
    "# from transformers import T5Tokenizer, T5ForConditionalGeneration\n",
    "\n",
    "# tokenizer = T5Tokenizer.from_pretrained(\"cahya/t5-base-indonesian-summarization-cased\")\n",
    "# model = T5ForConditionalGeneration.from_pretrained(\"cahya/t5-base-indonesian-summarization-cased\")\n",
    "\n",
    "# # \n",
    "# ARTICLE_TO_SUMMARIZE = \"Capres nomor urut 1 Anies Baswedan merespons tuntutan buruh yang meminta Upah Minimum Provinsi (UMP) naik 15%. Dia bercerita tentang apa yang dilakukannya saat menjadi Gubernur Jakarta.\"\"Gini, saya sampaikan ketika kami memimpin di Jakarta kenaikan UMP contohnya pada tahun 2021-2022, kami memilih menggunakan rumus yang prinsipnya keadilan,\"\" kata Anies di Jakarta Utara, Kamis (30/11/2023).Anies yang merupakan mantan Gubernur Jakarta ini mewanti-wanti jangan sampai kenaikan upah buruh tidak mencerminkan keadilan. Sebab nantinya, ketimpangan bisa muncul dari ketidakadilan.\"\"Jadi rumus itu yang kami gunakan, jangan sampai kenaikan upah buruh tidak mencerminkan rasa keadilan. Kalau tidak mencerminkan rasa keadilan, maka akan menghasilkan ketimpangan, dan ketimpangan artinya instabilitas segalanya timpang tidak akan stabil,\"\" ujarnya.Dia mengibaratkan hal tersebut seperti sebuah meja dan kursi. Apabila kaki meja atau kursi ada yang timpang, maka akan jatuh.\"\"Kalau timpang gimana jadi? Miring jatuh, jangan ada ketimpangan,\"\" ungkapnya.Hari ini para buruh mengadakan aksi mogok nasional. Presiden KSPI yang juga Presiden Partai Buruh Said Iqbal sebelumnya mengatakan aksi mogok kerja ini serentak dilakukan di seluruh kawasan industri di Indonesia, menuntut kenaikan UMP 15%. Khusus untuk di Jakarta, Said Iqbal juga meminta, agar Jakarta melakukan revisi kenaikan nilai UMP dari 3,6% mendekati 15%.\"\"Tidak masuk akal DKI naik upah sebesar 3,6% sementara di daerah sekitarnya jauh melebihi dari 3,6%. Seperti di Kota Bekasi 14,02%, Kabupaten Bekasi 13,99%, Kota Depok 12,99%, dan lainnya, sehingga UMP DKI tidak boleh lebih rendah dari Jabodetabek,\"\" kata Said Iqbal dalam siaran pers mengenai mogok nasional.\"\n",
    "\n",
    "# # generate summary\n",
    "# input_ids = tokenizer.encode(ARTICLE_TO_SUMMARIZE, return_tensors='pt')\n",
    "# summary_ids = model.generate(input_ids,\n",
    "#             min_length=20,\n",
    "#             max_length=80,\n",
    "#             num_beams=10,\n",
    "#             repetition_penalty=2.5,\n",
    "#             length_penalty=1.0,\n",
    "#             early_stopping=True,\n",
    "#             no_repeat_ngram_size=2,\n",
    "#             use_cache=True,\n",
    "#             do_sample = True,\n",
    "#             temperature = 0.8,\n",
    "#             top_k = 50,\n",
    "#             top_p = 0.95)\n",
    "\n",
    "# summary_text = tokenizer.decode(summary_ids[0], skip_special_tokens=True)\n",
    "# print(summary_text)\n"
   ]
  },
  {
   "cell_type": "code",
   "execution_count": 5,
   "metadata": {},
   "outputs": [
    {
     "name": "stdout",
     "output_type": "stream",
     "text": [
      "capres nomor urut 1 gubernur dki jakarta fauzi bowi mewanti - wanti jangan sampai kenaikan upah buruh tidak mencerminkan keadilan. dia mengibaratkan hal tersebut seperti sebuah meja dan kursi.\n"
     ]
    }
   ],
   "source": [
    "# from transformers import BertTokenizer, EncoderDecoderModel\n",
    "\n",
    "# tokenizer = BertTokenizer.from_pretrained(\"cahya/bert2gpt-indonesian-summarization\")\n",
    "# tokenizer.bos_token = tokenizer.cls_token\n",
    "# tokenizer.eos_token = tokenizer.sep_token\n",
    "# model = EncoderDecoderModel.from_pretrained(\"cahya/bert2gpt-indonesian-summarization\")\n",
    "\n",
    "# # \n",
    "# ARTICLE_TO_SUMMARIZE = \"Capres nomor urut 1 Anies Baswedan merespons tuntutan buruh yang meminta Upah Minimum Provinsi (UMP) naik 15%. Dia bercerita tentang apa yang dilakukannya saat menjadi Gubernur Jakarta.\"\"Gini, saya sampaikan ketika kami memimpin di Jakarta kenaikan UMP contohnya pada tahun 2021-2022, kami memilih menggunakan rumus yang prinsipnya keadilan,\"\" kata Anies di Jakarta Utara, Kamis (30/11/2023).Anies yang merupakan mantan Gubernur Jakarta ini mewanti-wanti jangan sampai kenaikan upah buruh tidak mencerminkan keadilan. Sebab nantinya, ketimpangan bisa muncul dari ketidakadilan.\"\"Jadi rumus itu yang kami gunakan, jangan sampai kenaikan upah buruh tidak mencerminkan rasa keadilan. Kalau tidak mencerminkan rasa keadilan, maka akan menghasilkan ketimpangan, dan ketimpangan artinya instabilitas segalanya timpang tidak akan stabil,\"\" ujarnya.Dia mengibaratkan hal tersebut seperti sebuah meja dan kursi. Apabila kaki meja atau kursi ada yang timpang, maka akan jatuh.\"\"Kalau timpang gimana jadi? Miring jatuh, jangan ada ketimpangan,\"\" ungkapnya.Hari ini para buruh mengadakan aksi mogok nasional. Presiden KSPI yang juga Presiden Partai Buruh Said Iqbal sebelumnya mengatakan aksi mogok kerja ini serentak dilakukan di seluruh kawasan industri di Indonesia, menuntut kenaikan UMP 15%. Khusus untuk di Jakarta, Said Iqbal juga meminta, agar Jakarta melakukan revisi kenaikan nilai UMP dari 3,6% mendekati 15%.\"\"Tidak masuk akal DKI naik upah sebesar 3,6% sementara di daerah sekitarnya jauh melebihi dari 3,6%. Seperti di Kota Bekasi 14,02%, Kabupaten Bekasi 13,99%, Kota Depok 12,99%, dan lainnya, sehingga UMP DKI tidak boleh lebih rendah dari Jabodetabek,\"\" kata Said Iqbal dalam siaran pers mengenai mogok nasional.\"\n",
    "\n",
    "# # generate summary\n",
    "# input_ids = tokenizer.encode(ARTICLE_TO_SUMMARIZE, return_tensors='pt')\n",
    "# summary_ids = model.generate(input_ids,\n",
    "#             min_length=20,\n",
    "#             max_length=80, \n",
    "#             num_beams=10,\n",
    "#             repetition_penalty=2.5, \n",
    "#             length_penalty=1.0, \n",
    "#             early_stopping=True,\n",
    "#             no_repeat_ngram_size=2,\n",
    "#             use_cache=True,\n",
    "#             do_sample = True,\n",
    "#             temperature = 0.8,\n",
    "#             top_k = 50,\n",
    "#             top_p = 0.95)\n",
    "\n",
    "# summary_text = tokenizer.decode(summary_ids[0], skip_special_tokens=True)\n",
    "# print(summary_text)\n"
   ]
  }
 ],
 "metadata": {
  "kernelspec": {
   "display_name": "env",
   "language": "python",
   "name": "python3"
  },
  "language_info": {
   "codemirror_mode": {
    "name": "ipython",
    "version": 3
   },
   "file_extension": ".py",
   "mimetype": "text/x-python",
   "name": "python",
   "nbconvert_exporter": "python",
   "pygments_lexer": "ipython3",
   "version": "3.11.5"
  }
 },
 "nbformat": 4,
 "nbformat_minor": 2
}
