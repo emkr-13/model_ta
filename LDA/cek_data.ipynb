{
 "cells": [
  {
   "cell_type": "code",
   "execution_count": 1,
   "metadata": {},
   "outputs": [],
   "source": [
    "import pandas as pd\n",
    "\n",
    "# Read the CSV file into a DataFrame\n",
    "df = pd.read_csv('pre_content_kompas.csv')\n",
    "\n",
    "# Convert 'tanggal_berita' column to datetime format\n",
    "df['tanggal_berita'] = pd.to_datetime(df['tanggal_berita'], format='%d-%m-%Y')\n",
    "\n",
    "# Group by month and aggregate data\n",
    "groups = df.groupby(df['tanggal_berita'].dt.strftime('%Y-%m'))\n",
    "\n",
    "# Export each group to CSV\n",
    "for month, group_df in groups:\n",
    "    # Create a filename for the CSV\n",
    "    filename = f'grouped_news_kompas_{month}.csv'\n",
    "    # Export the group to CSV\n",
    "    group_df.to_csv(filename, index=False)\n"
   ]
  },
  {
   "cell_type": "code",
   "execution_count": null,
   "metadata": {},
   "outputs": [],
   "source": []
  }
 ],
 "metadata": {
  "kernelspec": {
   "display_name": "env",
   "language": "python",
   "name": "python3"
  },
  "language_info": {
   "codemirror_mode": {
    "name": "ipython",
    "version": 3
   },
   "file_extension": ".py",
   "mimetype": "text/x-python",
   "name": "python",
   "nbconvert_exporter": "python",
   "pygments_lexer": "ipython3",
   "version": "3.11.5"
  }
 },
 "nbformat": 4,
 "nbformat_minor": 2
}
